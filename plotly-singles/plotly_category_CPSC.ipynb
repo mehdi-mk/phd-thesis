{
 "cells": [
  {
   "cell_type": "code",
   "execution_count": 11,
   "id": "504be422",
   "metadata": {},
   "outputs": [
    {
     "data": {
      "application/vnd.plotly.v1+json": {
       "config": {
        "plotlyServerURL": "https://plot.ly"
       },
       "data": [
        {
         "hovertemplate": "SourceOrgs=AMAZON<br>Week=%{x}<br>TotalBytes=%{y}<extra></extra>",
         "legendgroup": "AMAZON",
         "line": {
          "color": "#212E3C",
          "dash": "solid",
          "width": 6
         },
         "marker": {
          "size": 16,
          "symbol": "circle"
         },
         "mode": "markers+lines",
         "name": "AMAZON",
         "orientation": "v",
         "showlegend": true,
         "type": "scatter",
         "x": [
          "Feb 2020",
          "Apr 2020",
          "Sept 2020",
          "Sept 2021"
         ],
         "xaxis": "x",
         "y": [
          137147853580,
          17347820290,
          35358164669,
          31170831169
         ],
         "yaxis": "y"
        },
        {
         "hovertemplate": "SourceOrgs=GOOGLE<br>Week=%{x}<br>TotalBytes=%{y}<extra></extra>",
         "legendgroup": "GOOGLE",
         "line": {
          "color": "#109618",
          "dash": "dot",
          "width": 6
         },
         "marker": {
          "size": 16,
          "symbol": "diamond"
         },
         "mode": "markers+lines",
         "name": "GOOGLE",
         "orientation": "v",
         "showlegend": true,
         "type": "scatter",
         "x": [
          "Feb 2020",
          "Apr 2020",
          "Sept 2020",
          "Sept 2021"
         ],
         "xaxis": "x",
         "y": [
          35458737902,
          16578765717,
          31487978209,
          15426879610
         ],
         "yaxis": "y"
        },
        {
         "hovertemplate": "SourceOrgs=SHAW<br>Week=%{x}<br>TotalBytes=%{y}<extra></extra>",
         "legendgroup": "SHAW",
         "line": {
          "color": "#613659",
          "dash": "dash",
          "width": 6
         },
         "marker": {
          "size": 16,
          "symbol": "square"
         },
         "mode": "markers+lines",
         "name": "SHAW",
         "orientation": "v",
         "showlegend": true,
         "type": "scatter",
         "x": [
          "Feb 2020",
          "Apr 2020",
          "Sept 2020",
          "Sept 2021"
         ],
         "xaxis": "x",
         "y": [
          25626432673,
          82976063357,
          460976228474,
          62758142130
         ],
         "yaxis": "y"
        },
        {
         "hovertemplate": "SourceOrgs=MICROSOFT<br>Week=%{x}<br>TotalBytes=%{y}<extra></extra>",
         "legendgroup": "MICROSOFT",
         "line": {
          "color": "#990099",
          "dash": "longdash",
          "width": 6
         },
         "marker": {
          "size": 16,
          "symbol": "x"
         },
         "mode": "markers+lines",
         "name": "MICROSOFT",
         "orientation": "v",
         "showlegend": true,
         "type": "scatter",
         "x": [
          "Feb 2020",
          "Sept 2021"
         ],
         "xaxis": "x",
         "y": [
          8645729503,
          10418434860
         ],
         "yaxis": "y"
        },
        {
         "hovertemplate": "SourceOrgs=TELUS<br>Week=%{x}<br>TotalBytes=%{y}<extra></extra>",
         "legendgroup": "TELUS",
         "line": {
          "color": "#db1f48",
          "dash": "dashdot",
          "width": 6
         },
         "marker": {
          "size": 16,
          "symbol": "cross"
         },
         "mode": "markers+lines",
         "name": "TELUS",
         "orientation": "v",
         "showlegend": true,
         "type": "scatter",
         "x": [
          "Feb 2020",
          "Apr 2020",
          "Sept 2020",
          "Sept 2021"
         ],
         "xaxis": "x",
         "y": [
          7967238379,
          21636500837,
          29442848807,
          78212192838
         ],
         "yaxis": "y"
        },
        {
         "hovertemplate": "SourceOrgs=COMCAST-7922<br>Week=%{x}<br>TotalBytes=%{y}<extra></extra>",
         "legendgroup": "COMCAST-7922",
         "line": {
          "color": "#FF6692",
          "dash": "longdashdot",
          "width": 6
         },
         "marker": {
          "size": 16,
          "symbol": "circle"
         },
         "mode": "markers+lines",
         "name": "COMCAST-7922",
         "orientation": "v",
         "showlegend": true,
         "type": "scatter",
         "x": [
          "Feb 2020",
          "Apr 2020",
          "Sept 2020"
         ],
         "xaxis": "x",
         "y": [
          7739563410,
          19565430100,
          17647154527
         ],
         "yaxis": "y"
        },
        {
         "hovertemplate": "SourceOrgs=UWATERLOO<br>Week=%{x}<br>TotalBytes=%{y}<extra></extra>",
         "legendgroup": "UWATERLOO",
         "line": {
          "color": "#B6E880",
          "dash": "solid",
          "width": 6
         },
         "marker": {
          "size": 16,
          "symbol": "diamond"
         },
         "mode": "markers+lines",
         "name": "UWATERLOO",
         "orientation": "v",
         "showlegend": true,
         "type": "scatter",
         "x": [
          "Feb 2020",
          "Apr 2020",
          "Sept 2020"
         ],
         "xaxis": "x",
         "y": [
          6964095176,
          21254543369,
          12219289242
         ],
         "yaxis": "y"
        },
        {
         "hovertemplate": "SourceOrgs=YANDEXLLC<br>Week=%{x}<br>TotalBytes=%{y}<extra></extra>",
         "legendgroup": "YANDEXLLC",
         "line": {
          "color": "#fad02c",
          "dash": "dot",
          "width": 6
         },
         "marker": {
          "size": 16,
          "symbol": "square"
         },
         "mode": "markers+lines",
         "name": "YANDEXLLC",
         "orientation": "v",
         "showlegend": true,
         "type": "scatter",
         "x": [
          "Feb 2020",
          "Sept 2021"
         ],
         "xaxis": "x",
         "y": [
          6221742751,
          11240009448
         ],
         "yaxis": "y"
        },
        {
         "hovertemplate": "SourceOrgs=DIGITALOCEAN-ASN<br>Week=%{x}<br>TotalBytes=%{y}<extra></extra>",
         "legendgroup": "DIGITALOCEAN-ASN",
         "line": {
          "color": "#FF97FF",
          "dash": "dash",
          "width": 6
         },
         "marker": {
          "size": 16,
          "symbol": "x"
         },
         "mode": "markers+lines",
         "name": "DIGITALOCEAN-ASN",
         "orientation": "v",
         "showlegend": true,
         "type": "scatter",
         "x": [
          "Feb 2020"
         ],
         "xaxis": "x",
         "y": [
          5239375799
         ],
         "yaxis": "y"
        },
        {
         "hovertemplate": "SourceOrgs=Fastweb<br>Week=%{x}<br>TotalBytes=%{y}<extra></extra>",
         "legendgroup": "Fastweb",
         "line": {
          "color": "#FECB52",
          "dash": "longdash",
          "width": 6
         },
         "marker": {
          "size": 16,
          "symbol": "cross"
         },
         "mode": "markers+lines",
         "name": "Fastweb",
         "orientation": "v",
         "showlegend": true,
         "type": "scatter",
         "x": [
          "Feb 2020"
         ],
         "xaxis": "x",
         "y": [
          5105473801
         ],
         "yaxis": "y"
        },
        {
         "hovertemplate": "SourceOrgs=VodafoneIndiaLtd.<br>Week=%{x}<br>TotalBytes=%{y}<extra></extra>",
         "legendgroup": "VodafoneIndiaLtd.",
         "line": {
          "color": "#636efa",
          "dash": "dashdot",
          "width": 6
         },
         "marker": {
          "size": 16,
          "symbol": "circle"
         },
         "mode": "markers+lines",
         "name": "VodafoneIndiaLtd.",
         "orientation": "v",
         "showlegend": true,
         "type": "scatter",
         "x": [
          "Apr 2020"
         ],
         "xaxis": "x",
         "y": [
          56921673492
         ],
         "yaxis": "y"
        },
        {
         "hovertemplate": "SourceOrgs=JioInfocomm<br>Week=%{x}<br>TotalBytes=%{y}<extra></extra>",
         "legendgroup": "JioInfocomm",
         "line": {
          "color": "#EF553B",
          "dash": "longdashdot",
          "width": 6
         },
         "marker": {
          "size": 16,
          "symbol": "diamond"
         },
         "mode": "markers+lines",
         "name": "JioInfocomm",
         "orientation": "v",
         "showlegend": true,
         "type": "scatter",
         "x": [
          "Apr 2020"
         ],
         "xaxis": "x",
         "y": [
          52277138903
         ],
         "yaxis": "y"
        },
        {
         "hovertemplate": "SourceOrgs=FRONTIER-FRTR<br>Week=%{x}<br>TotalBytes=%{y}<extra></extra>",
         "legendgroup": "FRONTIER-FRTR",
         "line": {
          "color": "#00cc96",
          "dash": "solid",
          "width": 6
         },
         "marker": {
          "size": 16,
          "symbol": "square"
         },
         "mode": "markers+lines",
         "name": "FRONTIER-FRTR",
         "orientation": "v",
         "showlegend": true,
         "type": "scatter",
         "x": [
          "Apr 2020"
         ],
         "xaxis": "x",
         "y": [
          51355021415
         ],
         "yaxis": "y"
        },
        {
         "hovertemplate": "SourceOrgs=REDHAT-0<br>Week=%{x}<br>TotalBytes=%{y}<extra></extra>",
         "legendgroup": "REDHAT-0",
         "line": {
          "color": "#ab63fa",
          "dash": "dot",
          "width": 6
         },
         "marker": {
          "size": 16,
          "symbol": "x"
         },
         "mode": "markers+lines",
         "name": "REDHAT-0",
         "orientation": "v",
         "showlegend": true,
         "type": "scatter",
         "x": [
          "Apr 2020"
         ],
         "xaxis": "x",
         "y": [
          17223264359
         ],
         "yaxis": "y"
        },
        {
         "hovertemplate": "SourceOrgs=WOW<br>Week=%{x}<br>TotalBytes=%{y}<extra></extra>",
         "legendgroup": "WOW",
         "line": {
          "color": "#FFA15A",
          "dash": "dash",
          "width": 6
         },
         "marker": {
          "size": 16,
          "symbol": "cross"
         },
         "mode": "markers+lines",
         "name": "WOW",
         "orientation": "v",
         "showlegend": true,
         "type": "scatter",
         "x": [
          "Sept 2020"
         ],
         "xaxis": "x",
         "y": [
          23085277338
         ],
         "yaxis": "y"
        },
        {
         "hovertemplate": "SourceOrgs=HUAWEICLOUDS<br>Week=%{x}<br>TotalBytes=%{y}<extra></extra>",
         "legendgroup": "HUAWEICLOUDS",
         "line": {
          "color": "#19d3f3",
          "dash": "longdash",
          "width": 6
         },
         "marker": {
          "size": 16,
          "symbol": "circle"
         },
         "mode": "markers+lines",
         "name": "HUAWEICLOUDS",
         "orientation": "v",
         "showlegend": true,
         "type": "scatter",
         "x": [
          "Sept 2020",
          "Sept 2021"
         ],
         "xaxis": "x",
         "y": [
          22511161003,
          9153082246
         ],
         "yaxis": "y"
        },
        {
         "hovertemplate": "SourceOrgs=YahooJapanCo<br>Week=%{x}<br>TotalBytes=%{y}<extra></extra>",
         "legendgroup": "YahooJapanCo",
         "line": {
          "color": "#FF6692",
          "dash": "dashdot",
          "width": 6
         },
         "marker": {
          "size": 16,
          "symbol": "diamond"
         },
         "mode": "markers+lines",
         "name": "YahooJapanCo",
         "orientation": "v",
         "showlegend": true,
         "type": "scatter",
         "x": [
          "Sept 2020"
         ],
         "xaxis": "x",
         "y": [
          12956527447
         ],
         "yaxis": "y"
        },
        {
         "hovertemplate": "SourceOrgs=HetznerOnlineGmbH<br>Week=%{x}<br>TotalBytes=%{y}<extra></extra>",
         "legendgroup": "HetznerOnlineGmbH",
         "line": {
          "color": "#B6E880",
          "dash": "longdashdot",
          "width": 6
         },
         "marker": {
          "size": 16,
          "symbol": "square"
         },
         "mode": "markers+lines",
         "name": "HetznerOnlineGmbH",
         "orientation": "v",
         "showlegend": true,
         "type": "scatter",
         "x": [
          "Sept 2020"
         ],
         "xaxis": "x",
         "y": [
          10689064055
         ],
         "yaxis": "y"
        },
        {
         "hovertemplate": "SourceOrgs=LESNET<br>Week=%{x}<br>TotalBytes=%{y}<extra></extra>",
         "legendgroup": "LESNET",
         "line": {
          "color": "#FF97FF",
          "dash": "solid",
          "width": 6
         },
         "marker": {
          "size": 16,
          "symbol": "x"
         },
         "mode": "markers+lines",
         "name": "LESNET",
         "orientation": "v",
         "showlegend": true,
         "type": "scatter",
         "x": [
          "Sept 2021"
         ],
         "xaxis": "x",
         "y": [
          157531371585
         ],
         "yaxis": "y"
        },
        {
         "hovertemplate": "SourceOrgs=IndianISER<br>Week=%{x}<br>TotalBytes=%{y}<extra></extra>",
         "legendgroup": "IndianISER",
         "line": {
          "color": "#FECB52",
          "dash": "dot",
          "width": 6
         },
         "marker": {
          "size": 16,
          "symbol": "cross"
         },
         "mode": "markers+lines",
         "name": "IndianISER",
         "orientation": "v",
         "showlegend": true,
         "type": "scatter",
         "x": [
          "Sept 2021"
         ],
         "xaxis": "x",
         "y": [
          21100476375
         ],
         "yaxis": "y"
        },
        {
         "hovertemplate": "SourceOrgs=OVHSAS<br>Week=%{x}<br>TotalBytes=%{y}<extra></extra>",
         "legendgroup": "OVHSAS",
         "line": {
          "color": "#636efa",
          "dash": "dash",
          "width": 6
         },
         "marker": {
          "size": 16,
          "symbol": "circle"
         },
         "mode": "markers+lines",
         "name": "OVHSAS",
         "orientation": "v",
         "showlegend": true,
         "type": "scatter",
         "x": [
          "Sept 2021"
         ],
         "xaxis": "x",
         "y": [
          17312790431
         ],
         "yaxis": "y"
        }
       ],
       "layout": {
        "font": {
         "size": 24
        },
        "height": 800,
        "legend": {
         "font": {
          "size": 20
         },
         "itemwidth": 60,
         "title": {
          "text": "SourceOrgs"
         },
         "tracegroupgap": 0
        },
        "margin": {
         "t": 60
        },
        "plot_bgcolor": "white",
        "template": {
         "data": {
          "bar": [
           {
            "error_x": {
             "color": "#2a3f5f"
            },
            "error_y": {
             "color": "#2a3f5f"
            },
            "marker": {
             "line": {
              "color": "#E5ECF6",
              "width": 0.5
             },
             "pattern": {
              "fillmode": "overlay",
              "size": 10,
              "solidity": 0.2
             }
            },
            "type": "bar"
           }
          ],
          "barpolar": [
           {
            "marker": {
             "line": {
              "color": "#E5ECF6",
              "width": 0.5
             },
             "pattern": {
              "fillmode": "overlay",
              "size": 10,
              "solidity": 0.2
             }
            },
            "type": "barpolar"
           }
          ],
          "carpet": [
           {
            "aaxis": {
             "endlinecolor": "#2a3f5f",
             "gridcolor": "white",
             "linecolor": "white",
             "minorgridcolor": "white",
             "startlinecolor": "#2a3f5f"
            },
            "baxis": {
             "endlinecolor": "#2a3f5f",
             "gridcolor": "white",
             "linecolor": "white",
             "minorgridcolor": "white",
             "startlinecolor": "#2a3f5f"
            },
            "type": "carpet"
           }
          ],
          "choropleth": [
           {
            "colorbar": {
             "outlinewidth": 0,
             "ticks": ""
            },
            "type": "choropleth"
           }
          ],
          "contour": [
           {
            "colorbar": {
             "outlinewidth": 0,
             "ticks": ""
            },
            "colorscale": [
             [
              0,
              "#0d0887"
             ],
             [
              0.1111111111111111,
              "#46039f"
             ],
             [
              0.2222222222222222,
              "#7201a8"
             ],
             [
              0.3333333333333333,
              "#9c179e"
             ],
             [
              0.4444444444444444,
              "#bd3786"
             ],
             [
              0.5555555555555556,
              "#d8576b"
             ],
             [
              0.6666666666666666,
              "#ed7953"
             ],
             [
              0.7777777777777778,
              "#fb9f3a"
             ],
             [
              0.8888888888888888,
              "#fdca26"
             ],
             [
              1,
              "#f0f921"
             ]
            ],
            "type": "contour"
           }
          ],
          "contourcarpet": [
           {
            "colorbar": {
             "outlinewidth": 0,
             "ticks": ""
            },
            "type": "contourcarpet"
           }
          ],
          "heatmap": [
           {
            "colorbar": {
             "outlinewidth": 0,
             "ticks": ""
            },
            "colorscale": [
             [
              0,
              "#0d0887"
             ],
             [
              0.1111111111111111,
              "#46039f"
             ],
             [
              0.2222222222222222,
              "#7201a8"
             ],
             [
              0.3333333333333333,
              "#9c179e"
             ],
             [
              0.4444444444444444,
              "#bd3786"
             ],
             [
              0.5555555555555556,
              "#d8576b"
             ],
             [
              0.6666666666666666,
              "#ed7953"
             ],
             [
              0.7777777777777778,
              "#fb9f3a"
             ],
             [
              0.8888888888888888,
              "#fdca26"
             ],
             [
              1,
              "#f0f921"
             ]
            ],
            "type": "heatmap"
           }
          ],
          "heatmapgl": [
           {
            "colorbar": {
             "outlinewidth": 0,
             "ticks": ""
            },
            "colorscale": [
             [
              0,
              "#0d0887"
             ],
             [
              0.1111111111111111,
              "#46039f"
             ],
             [
              0.2222222222222222,
              "#7201a8"
             ],
             [
              0.3333333333333333,
              "#9c179e"
             ],
             [
              0.4444444444444444,
              "#bd3786"
             ],
             [
              0.5555555555555556,
              "#d8576b"
             ],
             [
              0.6666666666666666,
              "#ed7953"
             ],
             [
              0.7777777777777778,
              "#fb9f3a"
             ],
             [
              0.8888888888888888,
              "#fdca26"
             ],
             [
              1,
              "#f0f921"
             ]
            ],
            "type": "heatmapgl"
           }
          ],
          "histogram": [
           {
            "marker": {
             "pattern": {
              "fillmode": "overlay",
              "size": 10,
              "solidity": 0.2
             }
            },
            "type": "histogram"
           }
          ],
          "histogram2d": [
           {
            "colorbar": {
             "outlinewidth": 0,
             "ticks": ""
            },
            "colorscale": [
             [
              0,
              "#0d0887"
             ],
             [
              0.1111111111111111,
              "#46039f"
             ],
             [
              0.2222222222222222,
              "#7201a8"
             ],
             [
              0.3333333333333333,
              "#9c179e"
             ],
             [
              0.4444444444444444,
              "#bd3786"
             ],
             [
              0.5555555555555556,
              "#d8576b"
             ],
             [
              0.6666666666666666,
              "#ed7953"
             ],
             [
              0.7777777777777778,
              "#fb9f3a"
             ],
             [
              0.8888888888888888,
              "#fdca26"
             ],
             [
              1,
              "#f0f921"
             ]
            ],
            "type": "histogram2d"
           }
          ],
          "histogram2dcontour": [
           {
            "colorbar": {
             "outlinewidth": 0,
             "ticks": ""
            },
            "colorscale": [
             [
              0,
              "#0d0887"
             ],
             [
              0.1111111111111111,
              "#46039f"
             ],
             [
              0.2222222222222222,
              "#7201a8"
             ],
             [
              0.3333333333333333,
              "#9c179e"
             ],
             [
              0.4444444444444444,
              "#bd3786"
             ],
             [
              0.5555555555555556,
              "#d8576b"
             ],
             [
              0.6666666666666666,
              "#ed7953"
             ],
             [
              0.7777777777777778,
              "#fb9f3a"
             ],
             [
              0.8888888888888888,
              "#fdca26"
             ],
             [
              1,
              "#f0f921"
             ]
            ],
            "type": "histogram2dcontour"
           }
          ],
          "mesh3d": [
           {
            "colorbar": {
             "outlinewidth": 0,
             "ticks": ""
            },
            "type": "mesh3d"
           }
          ],
          "parcoords": [
           {
            "line": {
             "colorbar": {
              "outlinewidth": 0,
              "ticks": ""
             }
            },
            "type": "parcoords"
           }
          ],
          "pie": [
           {
            "automargin": true,
            "type": "pie"
           }
          ],
          "scatter": [
           {
            "fillpattern": {
             "fillmode": "overlay",
             "size": 10,
             "solidity": 0.2
            },
            "type": "scatter"
           }
          ],
          "scatter3d": [
           {
            "line": {
             "colorbar": {
              "outlinewidth": 0,
              "ticks": ""
             }
            },
            "marker": {
             "colorbar": {
              "outlinewidth": 0,
              "ticks": ""
             }
            },
            "type": "scatter3d"
           }
          ],
          "scattercarpet": [
           {
            "marker": {
             "colorbar": {
              "outlinewidth": 0,
              "ticks": ""
             }
            },
            "type": "scattercarpet"
           }
          ],
          "scattergeo": [
           {
            "marker": {
             "colorbar": {
              "outlinewidth": 0,
              "ticks": ""
             }
            },
            "type": "scattergeo"
           }
          ],
          "scattergl": [
           {
            "marker": {
             "colorbar": {
              "outlinewidth": 0,
              "ticks": ""
             }
            },
            "type": "scattergl"
           }
          ],
          "scattermapbox": [
           {
            "marker": {
             "colorbar": {
              "outlinewidth": 0,
              "ticks": ""
             }
            },
            "type": "scattermapbox"
           }
          ],
          "scatterpolar": [
           {
            "marker": {
             "colorbar": {
              "outlinewidth": 0,
              "ticks": ""
             }
            },
            "type": "scatterpolar"
           }
          ],
          "scatterpolargl": [
           {
            "marker": {
             "colorbar": {
              "outlinewidth": 0,
              "ticks": ""
             }
            },
            "type": "scatterpolargl"
           }
          ],
          "scatterternary": [
           {
            "marker": {
             "colorbar": {
              "outlinewidth": 0,
              "ticks": ""
             }
            },
            "type": "scatterternary"
           }
          ],
          "surface": [
           {
            "colorbar": {
             "outlinewidth": 0,
             "ticks": ""
            },
            "colorscale": [
             [
              0,
              "#0d0887"
             ],
             [
              0.1111111111111111,
              "#46039f"
             ],
             [
              0.2222222222222222,
              "#7201a8"
             ],
             [
              0.3333333333333333,
              "#9c179e"
             ],
             [
              0.4444444444444444,
              "#bd3786"
             ],
             [
              0.5555555555555556,
              "#d8576b"
             ],
             [
              0.6666666666666666,
              "#ed7953"
             ],
             [
              0.7777777777777778,
              "#fb9f3a"
             ],
             [
              0.8888888888888888,
              "#fdca26"
             ],
             [
              1,
              "#f0f921"
             ]
            ],
            "type": "surface"
           }
          ],
          "table": [
           {
            "cells": {
             "fill": {
              "color": "#EBF0F8"
             },
             "line": {
              "color": "white"
             }
            },
            "header": {
             "fill": {
              "color": "#C8D4E3"
             },
             "line": {
              "color": "white"
             }
            },
            "type": "table"
           }
          ]
         },
         "layout": {
          "annotationdefaults": {
           "arrowcolor": "#2a3f5f",
           "arrowhead": 0,
           "arrowwidth": 1
          },
          "autotypenumbers": "strict",
          "coloraxis": {
           "colorbar": {
            "outlinewidth": 0,
            "ticks": ""
           }
          },
          "colorscale": {
           "diverging": [
            [
             0,
             "#8e0152"
            ],
            [
             0.1,
             "#c51b7d"
            ],
            [
             0.2,
             "#de77ae"
            ],
            [
             0.3,
             "#f1b6da"
            ],
            [
             0.4,
             "#fde0ef"
            ],
            [
             0.5,
             "#f7f7f7"
            ],
            [
             0.6,
             "#e6f5d0"
            ],
            [
             0.7,
             "#b8e186"
            ],
            [
             0.8,
             "#7fbc41"
            ],
            [
             0.9,
             "#4d9221"
            ],
            [
             1,
             "#276419"
            ]
           ],
           "sequential": [
            [
             0,
             "#0d0887"
            ],
            [
             0.1111111111111111,
             "#46039f"
            ],
            [
             0.2222222222222222,
             "#7201a8"
            ],
            [
             0.3333333333333333,
             "#9c179e"
            ],
            [
             0.4444444444444444,
             "#bd3786"
            ],
            [
             0.5555555555555556,
             "#d8576b"
            ],
            [
             0.6666666666666666,
             "#ed7953"
            ],
            [
             0.7777777777777778,
             "#fb9f3a"
            ],
            [
             0.8888888888888888,
             "#fdca26"
            ],
            [
             1,
             "#f0f921"
            ]
           ],
           "sequentialminus": [
            [
             0,
             "#0d0887"
            ],
            [
             0.1111111111111111,
             "#46039f"
            ],
            [
             0.2222222222222222,
             "#7201a8"
            ],
            [
             0.3333333333333333,
             "#9c179e"
            ],
            [
             0.4444444444444444,
             "#bd3786"
            ],
            [
             0.5555555555555556,
             "#d8576b"
            ],
            [
             0.6666666666666666,
             "#ed7953"
            ],
            [
             0.7777777777777778,
             "#fb9f3a"
            ],
            [
             0.8888888888888888,
             "#fdca26"
            ],
            [
             1,
             "#f0f921"
            ]
           ]
          },
          "colorway": [
           "#636efa",
           "#EF553B",
           "#00cc96",
           "#ab63fa",
           "#FFA15A",
           "#19d3f3",
           "#FF6692",
           "#B6E880",
           "#FF97FF",
           "#FECB52"
          ],
          "font": {
           "color": "#2a3f5f"
          },
          "geo": {
           "bgcolor": "white",
           "lakecolor": "white",
           "landcolor": "#E5ECF6",
           "showlakes": true,
           "showland": true,
           "subunitcolor": "white"
          },
          "hoverlabel": {
           "align": "left"
          },
          "hovermode": "closest",
          "mapbox": {
           "style": "light"
          },
          "paper_bgcolor": "white",
          "plot_bgcolor": "#E5ECF6",
          "polar": {
           "angularaxis": {
            "gridcolor": "white",
            "linecolor": "white",
            "ticks": ""
           },
           "bgcolor": "#E5ECF6",
           "radialaxis": {
            "gridcolor": "white",
            "linecolor": "white",
            "ticks": ""
           }
          },
          "scene": {
           "xaxis": {
            "backgroundcolor": "#E5ECF6",
            "gridcolor": "white",
            "gridwidth": 2,
            "linecolor": "white",
            "showbackground": true,
            "ticks": "",
            "zerolinecolor": "white"
           },
           "yaxis": {
            "backgroundcolor": "#E5ECF6",
            "gridcolor": "white",
            "gridwidth": 2,
            "linecolor": "white",
            "showbackground": true,
            "ticks": "",
            "zerolinecolor": "white"
           },
           "zaxis": {
            "backgroundcolor": "#E5ECF6",
            "gridcolor": "white",
            "gridwidth": 2,
            "linecolor": "white",
            "showbackground": true,
            "ticks": "",
            "zerolinecolor": "white"
           }
          },
          "shapedefaults": {
           "line": {
            "color": "#2a3f5f"
           }
          },
          "ternary": {
           "aaxis": {
            "gridcolor": "white",
            "linecolor": "white",
            "ticks": ""
           },
           "baxis": {
            "gridcolor": "white",
            "linecolor": "white",
            "ticks": ""
           },
           "bgcolor": "#E5ECF6",
           "caxis": {
            "gridcolor": "white",
            "linecolor": "white",
            "ticks": ""
           }
          },
          "title": {
           "x": 0.05
          },
          "xaxis": {
           "automargin": true,
           "gridcolor": "white",
           "linecolor": "white",
           "ticks": "",
           "title": {
            "standoff": 15
           },
           "zerolinecolor": "white",
           "zerolinewidth": 2
          },
          "yaxis": {
           "automargin": true,
           "gridcolor": "white",
           "linecolor": "white",
           "ticks": "",
           "title": {
            "standoff": 15
           },
           "zerolinecolor": "white",
           "zerolinewidth": 2
          }
         }
        },
        "xaxis": {
         "anchor": "y",
         "domain": [
          0,
          1
         ],
         "gridcolor": "LightGray",
         "gridwidth": 1,
         "showgrid": true,
         "title": {
          "text": "Week"
         }
        },
        "yaxis": {
         "anchor": "x",
         "domain": [
          0,
          1
         ],
         "gridcolor": "LightGray",
         "gridwidth": 1,
         "showgrid": true,
         "ticktext": [
          "4 GB",
          "6 GB",
          "8 GB",
          "10 GB",
          "20 GB",
          "40 GB",
          "60 GB",
          "80 GB",
          "100 GB",
          "200 GB",
          "400 GB"
         ],
         "tickvals": [
          4294967296,
          6442450944,
          8589934592,
          10737418240,
          21474836480,
          42949672960,
          64424509440,
          85899345920,
          107374182400,
          214748364800,
          429496729600
         ],
         "title": {
          "text": "TotalBytes"
         },
         "type": "log"
        }
       }
      },
      "text/html": [
       "<div>                            <div id=\"f99dad40-d3be-4fa8-95d3-13c5e6bad242\" class=\"plotly-graph-div\" style=\"height:800px; width:100%;\"></div>            <script type=\"text/javascript\">                require([\"plotly\"], function(Plotly) {                    window.PLOTLYENV=window.PLOTLYENV || {};                                    if (document.getElementById(\"f99dad40-d3be-4fa8-95d3-13c5e6bad242\")) {                    Plotly.newPlot(                        \"f99dad40-d3be-4fa8-95d3-13c5e6bad242\",                        [{\"hovertemplate\":\"SourceOrgs=AMAZON<br>Week=%{x}<br>TotalBytes=%{y}<extra></extra>\",\"legendgroup\":\"AMAZON\",\"line\":{\"color\":\"#212E3C\",\"dash\":\"solid\",\"width\":6},\"marker\":{\"symbol\":\"circle\",\"size\":16},\"mode\":\"markers+lines\",\"name\":\"AMAZON\",\"orientation\":\"v\",\"showlegend\":true,\"x\":[\"Feb 2020\",\"Apr 2020\",\"Sept 2020\",\"Sept 2021\"],\"xaxis\":\"x\",\"y\":[137147853580,17347820290,35358164669,31170831169],\"yaxis\":\"y\",\"type\":\"scatter\"},{\"hovertemplate\":\"SourceOrgs=GOOGLE<br>Week=%{x}<br>TotalBytes=%{y}<extra></extra>\",\"legendgroup\":\"GOOGLE\",\"line\":{\"color\":\"#109618\",\"dash\":\"dot\",\"width\":6},\"marker\":{\"symbol\":\"diamond\",\"size\":16},\"mode\":\"markers+lines\",\"name\":\"GOOGLE\",\"orientation\":\"v\",\"showlegend\":true,\"x\":[\"Feb 2020\",\"Apr 2020\",\"Sept 2020\",\"Sept 2021\"],\"xaxis\":\"x\",\"y\":[35458737902,16578765717,31487978209,15426879610],\"yaxis\":\"y\",\"type\":\"scatter\"},{\"hovertemplate\":\"SourceOrgs=SHAW<br>Week=%{x}<br>TotalBytes=%{y}<extra></extra>\",\"legendgroup\":\"SHAW\",\"line\":{\"color\":\"#613659\",\"dash\":\"dash\",\"width\":6},\"marker\":{\"symbol\":\"square\",\"size\":16},\"mode\":\"markers+lines\",\"name\":\"SHAW\",\"orientation\":\"v\",\"showlegend\":true,\"x\":[\"Feb 2020\",\"Apr 2020\",\"Sept 2020\",\"Sept 2021\"],\"xaxis\":\"x\",\"y\":[25626432673,82976063357,460976228474,62758142130],\"yaxis\":\"y\",\"type\":\"scatter\"},{\"hovertemplate\":\"SourceOrgs=MICROSOFT<br>Week=%{x}<br>TotalBytes=%{y}<extra></extra>\",\"legendgroup\":\"MICROSOFT\",\"line\":{\"color\":\"#990099\",\"dash\":\"longdash\",\"width\":6},\"marker\":{\"symbol\":\"x\",\"size\":16},\"mode\":\"markers+lines\",\"name\":\"MICROSOFT\",\"orientation\":\"v\",\"showlegend\":true,\"x\":[\"Feb 2020\",\"Sept 2021\"],\"xaxis\":\"x\",\"y\":[8645729503,10418434860],\"yaxis\":\"y\",\"type\":\"scatter\"},{\"hovertemplate\":\"SourceOrgs=TELUS<br>Week=%{x}<br>TotalBytes=%{y}<extra></extra>\",\"legendgroup\":\"TELUS\",\"line\":{\"color\":\"#db1f48\",\"dash\":\"dashdot\",\"width\":6},\"marker\":{\"symbol\":\"cross\",\"size\":16},\"mode\":\"markers+lines\",\"name\":\"TELUS\",\"orientation\":\"v\",\"showlegend\":true,\"x\":[\"Feb 2020\",\"Apr 2020\",\"Sept 2020\",\"Sept 2021\"],\"xaxis\":\"x\",\"y\":[7967238379,21636500837,29442848807,78212192838],\"yaxis\":\"y\",\"type\":\"scatter\"},{\"hovertemplate\":\"SourceOrgs=COMCAST-7922<br>Week=%{x}<br>TotalBytes=%{y}<extra></extra>\",\"legendgroup\":\"COMCAST-7922\",\"line\":{\"color\":\"#FF6692\",\"dash\":\"longdashdot\",\"width\":6},\"marker\":{\"symbol\":\"circle\",\"size\":16},\"mode\":\"markers+lines\",\"name\":\"COMCAST-7922\",\"orientation\":\"v\",\"showlegend\":true,\"x\":[\"Feb 2020\",\"Apr 2020\",\"Sept 2020\"],\"xaxis\":\"x\",\"y\":[7739563410,19565430100,17647154527],\"yaxis\":\"y\",\"type\":\"scatter\"},{\"hovertemplate\":\"SourceOrgs=UWATERLOO<br>Week=%{x}<br>TotalBytes=%{y}<extra></extra>\",\"legendgroup\":\"UWATERLOO\",\"line\":{\"color\":\"#B6E880\",\"dash\":\"solid\",\"width\":6},\"marker\":{\"symbol\":\"diamond\",\"size\":16},\"mode\":\"markers+lines\",\"name\":\"UWATERLOO\",\"orientation\":\"v\",\"showlegend\":true,\"x\":[\"Feb 2020\",\"Apr 2020\",\"Sept 2020\"],\"xaxis\":\"x\",\"y\":[6964095176,21254543369,12219289242],\"yaxis\":\"y\",\"type\":\"scatter\"},{\"hovertemplate\":\"SourceOrgs=YANDEXLLC<br>Week=%{x}<br>TotalBytes=%{y}<extra></extra>\",\"legendgroup\":\"YANDEXLLC\",\"line\":{\"color\":\"#fad02c\",\"dash\":\"dot\",\"width\":6},\"marker\":{\"symbol\":\"square\",\"size\":16},\"mode\":\"markers+lines\",\"name\":\"YANDEXLLC\",\"orientation\":\"v\",\"showlegend\":true,\"x\":[\"Feb 2020\",\"Sept 2021\"],\"xaxis\":\"x\",\"y\":[6221742751,11240009448],\"yaxis\":\"y\",\"type\":\"scatter\"},{\"hovertemplate\":\"SourceOrgs=DIGITALOCEAN-ASN<br>Week=%{x}<br>TotalBytes=%{y}<extra></extra>\",\"legendgroup\":\"DIGITALOCEAN-ASN\",\"line\":{\"color\":\"#FF97FF\",\"dash\":\"dash\",\"width\":6},\"marker\":{\"symbol\":\"x\",\"size\":16},\"mode\":\"markers+lines\",\"name\":\"DIGITALOCEAN-ASN\",\"orientation\":\"v\",\"showlegend\":true,\"x\":[\"Feb 2020\"],\"xaxis\":\"x\",\"y\":[5239375799],\"yaxis\":\"y\",\"type\":\"scatter\"},{\"hovertemplate\":\"SourceOrgs=Fastweb<br>Week=%{x}<br>TotalBytes=%{y}<extra></extra>\",\"legendgroup\":\"Fastweb\",\"line\":{\"color\":\"#FECB52\",\"dash\":\"longdash\",\"width\":6},\"marker\":{\"symbol\":\"cross\",\"size\":16},\"mode\":\"markers+lines\",\"name\":\"Fastweb\",\"orientation\":\"v\",\"showlegend\":true,\"x\":[\"Feb 2020\"],\"xaxis\":\"x\",\"y\":[5105473801],\"yaxis\":\"y\",\"type\":\"scatter\"},{\"hovertemplate\":\"SourceOrgs=VodafoneIndiaLtd.<br>Week=%{x}<br>TotalBytes=%{y}<extra></extra>\",\"legendgroup\":\"VodafoneIndiaLtd.\",\"line\":{\"color\":\"#636efa\",\"dash\":\"dashdot\",\"width\":6},\"marker\":{\"symbol\":\"circle\",\"size\":16},\"mode\":\"markers+lines\",\"name\":\"VodafoneIndiaLtd.\",\"orientation\":\"v\",\"showlegend\":true,\"x\":[\"Apr 2020\"],\"xaxis\":\"x\",\"y\":[56921673492],\"yaxis\":\"y\",\"type\":\"scatter\"},{\"hovertemplate\":\"SourceOrgs=JioInfocomm<br>Week=%{x}<br>TotalBytes=%{y}<extra></extra>\",\"legendgroup\":\"JioInfocomm\",\"line\":{\"color\":\"#EF553B\",\"dash\":\"longdashdot\",\"width\":6},\"marker\":{\"symbol\":\"diamond\",\"size\":16},\"mode\":\"markers+lines\",\"name\":\"JioInfocomm\",\"orientation\":\"v\",\"showlegend\":true,\"x\":[\"Apr 2020\"],\"xaxis\":\"x\",\"y\":[52277138903],\"yaxis\":\"y\",\"type\":\"scatter\"},{\"hovertemplate\":\"SourceOrgs=FRONTIER-FRTR<br>Week=%{x}<br>TotalBytes=%{y}<extra></extra>\",\"legendgroup\":\"FRONTIER-FRTR\",\"line\":{\"color\":\"#00cc96\",\"dash\":\"solid\",\"width\":6},\"marker\":{\"symbol\":\"square\",\"size\":16},\"mode\":\"markers+lines\",\"name\":\"FRONTIER-FRTR\",\"orientation\":\"v\",\"showlegend\":true,\"x\":[\"Apr 2020\"],\"xaxis\":\"x\",\"y\":[51355021415],\"yaxis\":\"y\",\"type\":\"scatter\"},{\"hovertemplate\":\"SourceOrgs=REDHAT-0<br>Week=%{x}<br>TotalBytes=%{y}<extra></extra>\",\"legendgroup\":\"REDHAT-0\",\"line\":{\"color\":\"#ab63fa\",\"dash\":\"dot\",\"width\":6},\"marker\":{\"symbol\":\"x\",\"size\":16},\"mode\":\"markers+lines\",\"name\":\"REDHAT-0\",\"orientation\":\"v\",\"showlegend\":true,\"x\":[\"Apr 2020\"],\"xaxis\":\"x\",\"y\":[17223264359],\"yaxis\":\"y\",\"type\":\"scatter\"},{\"hovertemplate\":\"SourceOrgs=WOW<br>Week=%{x}<br>TotalBytes=%{y}<extra></extra>\",\"legendgroup\":\"WOW\",\"line\":{\"color\":\"#FFA15A\",\"dash\":\"dash\",\"width\":6},\"marker\":{\"symbol\":\"cross\",\"size\":16},\"mode\":\"markers+lines\",\"name\":\"WOW\",\"orientation\":\"v\",\"showlegend\":true,\"x\":[\"Sept 2020\"],\"xaxis\":\"x\",\"y\":[23085277338],\"yaxis\":\"y\",\"type\":\"scatter\"},{\"hovertemplate\":\"SourceOrgs=HUAWEICLOUDS<br>Week=%{x}<br>TotalBytes=%{y}<extra></extra>\",\"legendgroup\":\"HUAWEICLOUDS\",\"line\":{\"color\":\"#19d3f3\",\"dash\":\"longdash\",\"width\":6},\"marker\":{\"symbol\":\"circle\",\"size\":16},\"mode\":\"markers+lines\",\"name\":\"HUAWEICLOUDS\",\"orientation\":\"v\",\"showlegend\":true,\"x\":[\"Sept 2020\",\"Sept 2021\"],\"xaxis\":\"x\",\"y\":[22511161003,9153082246],\"yaxis\":\"y\",\"type\":\"scatter\"},{\"hovertemplate\":\"SourceOrgs=YahooJapanCo<br>Week=%{x}<br>TotalBytes=%{y}<extra></extra>\",\"legendgroup\":\"YahooJapanCo\",\"line\":{\"color\":\"#FF6692\",\"dash\":\"dashdot\",\"width\":6},\"marker\":{\"symbol\":\"diamond\",\"size\":16},\"mode\":\"markers+lines\",\"name\":\"YahooJapanCo\",\"orientation\":\"v\",\"showlegend\":true,\"x\":[\"Sept 2020\"],\"xaxis\":\"x\",\"y\":[12956527447],\"yaxis\":\"y\",\"type\":\"scatter\"},{\"hovertemplate\":\"SourceOrgs=HetznerOnlineGmbH<br>Week=%{x}<br>TotalBytes=%{y}<extra></extra>\",\"legendgroup\":\"HetznerOnlineGmbH\",\"line\":{\"color\":\"#B6E880\",\"dash\":\"longdashdot\",\"width\":6},\"marker\":{\"symbol\":\"square\",\"size\":16},\"mode\":\"markers+lines\",\"name\":\"HetznerOnlineGmbH\",\"orientation\":\"v\",\"showlegend\":true,\"x\":[\"Sept 2020\"],\"xaxis\":\"x\",\"y\":[10689064055],\"yaxis\":\"y\",\"type\":\"scatter\"},{\"hovertemplate\":\"SourceOrgs=LESNET<br>Week=%{x}<br>TotalBytes=%{y}<extra></extra>\",\"legendgroup\":\"LESNET\",\"line\":{\"color\":\"#FF97FF\",\"dash\":\"solid\",\"width\":6},\"marker\":{\"symbol\":\"x\",\"size\":16},\"mode\":\"markers+lines\",\"name\":\"LESNET\",\"orientation\":\"v\",\"showlegend\":true,\"x\":[\"Sept 2021\"],\"xaxis\":\"x\",\"y\":[157531371585],\"yaxis\":\"y\",\"type\":\"scatter\"},{\"hovertemplate\":\"SourceOrgs=IndianISER<br>Week=%{x}<br>TotalBytes=%{y}<extra></extra>\",\"legendgroup\":\"IndianISER\",\"line\":{\"color\":\"#FECB52\",\"dash\":\"dot\",\"width\":6},\"marker\":{\"symbol\":\"cross\",\"size\":16},\"mode\":\"markers+lines\",\"name\":\"IndianISER\",\"orientation\":\"v\",\"showlegend\":true,\"x\":[\"Sept 2021\"],\"xaxis\":\"x\",\"y\":[21100476375],\"yaxis\":\"y\",\"type\":\"scatter\"},{\"hovertemplate\":\"SourceOrgs=OVHSAS<br>Week=%{x}<br>TotalBytes=%{y}<extra></extra>\",\"legendgroup\":\"OVHSAS\",\"line\":{\"color\":\"#636efa\",\"dash\":\"dash\",\"width\":6},\"marker\":{\"symbol\":\"circle\",\"size\":16},\"mode\":\"markers+lines\",\"name\":\"OVHSAS\",\"orientation\":\"v\",\"showlegend\":true,\"x\":[\"Sept 2021\"],\"xaxis\":\"x\",\"y\":[17312790431],\"yaxis\":\"y\",\"type\":\"scatter\"}],                        {\"template\":{\"data\":{\"histogram2dcontour\":[{\"type\":\"histogram2dcontour\",\"colorbar\":{\"outlinewidth\":0,\"ticks\":\"\"},\"colorscale\":[[0.0,\"#0d0887\"],[0.1111111111111111,\"#46039f\"],[0.2222222222222222,\"#7201a8\"],[0.3333333333333333,\"#9c179e\"],[0.4444444444444444,\"#bd3786\"],[0.5555555555555556,\"#d8576b\"],[0.6666666666666666,\"#ed7953\"],[0.7777777777777778,\"#fb9f3a\"],[0.8888888888888888,\"#fdca26\"],[1.0,\"#f0f921\"]]}],\"choropleth\":[{\"type\":\"choropleth\",\"colorbar\":{\"outlinewidth\":0,\"ticks\":\"\"}}],\"histogram2d\":[{\"type\":\"histogram2d\",\"colorbar\":{\"outlinewidth\":0,\"ticks\":\"\"},\"colorscale\":[[0.0,\"#0d0887\"],[0.1111111111111111,\"#46039f\"],[0.2222222222222222,\"#7201a8\"],[0.3333333333333333,\"#9c179e\"],[0.4444444444444444,\"#bd3786\"],[0.5555555555555556,\"#d8576b\"],[0.6666666666666666,\"#ed7953\"],[0.7777777777777778,\"#fb9f3a\"],[0.8888888888888888,\"#fdca26\"],[1.0,\"#f0f921\"]]}],\"heatmap\":[{\"type\":\"heatmap\",\"colorbar\":{\"outlinewidth\":0,\"ticks\":\"\"},\"colorscale\":[[0.0,\"#0d0887\"],[0.1111111111111111,\"#46039f\"],[0.2222222222222222,\"#7201a8\"],[0.3333333333333333,\"#9c179e\"],[0.4444444444444444,\"#bd3786\"],[0.5555555555555556,\"#d8576b\"],[0.6666666666666666,\"#ed7953\"],[0.7777777777777778,\"#fb9f3a\"],[0.8888888888888888,\"#fdca26\"],[1.0,\"#f0f921\"]]}],\"heatmapgl\":[{\"type\":\"heatmapgl\",\"colorbar\":{\"outlinewidth\":0,\"ticks\":\"\"},\"colorscale\":[[0.0,\"#0d0887\"],[0.1111111111111111,\"#46039f\"],[0.2222222222222222,\"#7201a8\"],[0.3333333333333333,\"#9c179e\"],[0.4444444444444444,\"#bd3786\"],[0.5555555555555556,\"#d8576b\"],[0.6666666666666666,\"#ed7953\"],[0.7777777777777778,\"#fb9f3a\"],[0.8888888888888888,\"#fdca26\"],[1.0,\"#f0f921\"]]}],\"contourcarpet\":[{\"type\":\"contourcarpet\",\"colorbar\":{\"outlinewidth\":0,\"ticks\":\"\"}}],\"contour\":[{\"type\":\"contour\",\"colorbar\":{\"outlinewidth\":0,\"ticks\":\"\"},\"colorscale\":[[0.0,\"#0d0887\"],[0.1111111111111111,\"#46039f\"],[0.2222222222222222,\"#7201a8\"],[0.3333333333333333,\"#9c179e\"],[0.4444444444444444,\"#bd3786\"],[0.5555555555555556,\"#d8576b\"],[0.6666666666666666,\"#ed7953\"],[0.7777777777777778,\"#fb9f3a\"],[0.8888888888888888,\"#fdca26\"],[1.0,\"#f0f921\"]]}],\"surface\":[{\"type\":\"surface\",\"colorbar\":{\"outlinewidth\":0,\"ticks\":\"\"},\"colorscale\":[[0.0,\"#0d0887\"],[0.1111111111111111,\"#46039f\"],[0.2222222222222222,\"#7201a8\"],[0.3333333333333333,\"#9c179e\"],[0.4444444444444444,\"#bd3786\"],[0.5555555555555556,\"#d8576b\"],[0.6666666666666666,\"#ed7953\"],[0.7777777777777778,\"#fb9f3a\"],[0.8888888888888888,\"#fdca26\"],[1.0,\"#f0f921\"]]}],\"mesh3d\":[{\"type\":\"mesh3d\",\"colorbar\":{\"outlinewidth\":0,\"ticks\":\"\"}}],\"scatter\":[{\"fillpattern\":{\"fillmode\":\"overlay\",\"size\":10,\"solidity\":0.2},\"type\":\"scatter\"}],\"parcoords\":[{\"type\":\"parcoords\",\"line\":{\"colorbar\":{\"outlinewidth\":0,\"ticks\":\"\"}}}],\"scatterpolargl\":[{\"type\":\"scatterpolargl\",\"marker\":{\"colorbar\":{\"outlinewidth\":0,\"ticks\":\"\"}}}],\"bar\":[{\"error_x\":{\"color\":\"#2a3f5f\"},\"error_y\":{\"color\":\"#2a3f5f\"},\"marker\":{\"line\":{\"color\":\"#E5ECF6\",\"width\":0.5},\"pattern\":{\"fillmode\":\"overlay\",\"size\":10,\"solidity\":0.2}},\"type\":\"bar\"}],\"scattergeo\":[{\"type\":\"scattergeo\",\"marker\":{\"colorbar\":{\"outlinewidth\":0,\"ticks\":\"\"}}}],\"scatterpolar\":[{\"type\":\"scatterpolar\",\"marker\":{\"colorbar\":{\"outlinewidth\":0,\"ticks\":\"\"}}}],\"histogram\":[{\"marker\":{\"pattern\":{\"fillmode\":\"overlay\",\"size\":10,\"solidity\":0.2}},\"type\":\"histogram\"}],\"scattergl\":[{\"type\":\"scattergl\",\"marker\":{\"colorbar\":{\"outlinewidth\":0,\"ticks\":\"\"}}}],\"scatter3d\":[{\"type\":\"scatter3d\",\"line\":{\"colorbar\":{\"outlinewidth\":0,\"ticks\":\"\"}},\"marker\":{\"colorbar\":{\"outlinewidth\":0,\"ticks\":\"\"}}}],\"scattermapbox\":[{\"type\":\"scattermapbox\",\"marker\":{\"colorbar\":{\"outlinewidth\":0,\"ticks\":\"\"}}}],\"scatterternary\":[{\"type\":\"scatterternary\",\"marker\":{\"colorbar\":{\"outlinewidth\":0,\"ticks\":\"\"}}}],\"scattercarpet\":[{\"type\":\"scattercarpet\",\"marker\":{\"colorbar\":{\"outlinewidth\":0,\"ticks\":\"\"}}}],\"carpet\":[{\"aaxis\":{\"endlinecolor\":\"#2a3f5f\",\"gridcolor\":\"white\",\"linecolor\":\"white\",\"minorgridcolor\":\"white\",\"startlinecolor\":\"#2a3f5f\"},\"baxis\":{\"endlinecolor\":\"#2a3f5f\",\"gridcolor\":\"white\",\"linecolor\":\"white\",\"minorgridcolor\":\"white\",\"startlinecolor\":\"#2a3f5f\"},\"type\":\"carpet\"}],\"table\":[{\"cells\":{\"fill\":{\"color\":\"#EBF0F8\"},\"line\":{\"color\":\"white\"}},\"header\":{\"fill\":{\"color\":\"#C8D4E3\"},\"line\":{\"color\":\"white\"}},\"type\":\"table\"}],\"barpolar\":[{\"marker\":{\"line\":{\"color\":\"#E5ECF6\",\"width\":0.5},\"pattern\":{\"fillmode\":\"overlay\",\"size\":10,\"solidity\":0.2}},\"type\":\"barpolar\"}],\"pie\":[{\"automargin\":true,\"type\":\"pie\"}]},\"layout\":{\"autotypenumbers\":\"strict\",\"colorway\":[\"#636efa\",\"#EF553B\",\"#00cc96\",\"#ab63fa\",\"#FFA15A\",\"#19d3f3\",\"#FF6692\",\"#B6E880\",\"#FF97FF\",\"#FECB52\"],\"font\":{\"color\":\"#2a3f5f\"},\"hovermode\":\"closest\",\"hoverlabel\":{\"align\":\"left\"},\"paper_bgcolor\":\"white\",\"plot_bgcolor\":\"#E5ECF6\",\"polar\":{\"bgcolor\":\"#E5ECF6\",\"angularaxis\":{\"gridcolor\":\"white\",\"linecolor\":\"white\",\"ticks\":\"\"},\"radialaxis\":{\"gridcolor\":\"white\",\"linecolor\":\"white\",\"ticks\":\"\"}},\"ternary\":{\"bgcolor\":\"#E5ECF6\",\"aaxis\":{\"gridcolor\":\"white\",\"linecolor\":\"white\",\"ticks\":\"\"},\"baxis\":{\"gridcolor\":\"white\",\"linecolor\":\"white\",\"ticks\":\"\"},\"caxis\":{\"gridcolor\":\"white\",\"linecolor\":\"white\",\"ticks\":\"\"}},\"coloraxis\":{\"colorbar\":{\"outlinewidth\":0,\"ticks\":\"\"}},\"colorscale\":{\"sequential\":[[0.0,\"#0d0887\"],[0.1111111111111111,\"#46039f\"],[0.2222222222222222,\"#7201a8\"],[0.3333333333333333,\"#9c179e\"],[0.4444444444444444,\"#bd3786\"],[0.5555555555555556,\"#d8576b\"],[0.6666666666666666,\"#ed7953\"],[0.7777777777777778,\"#fb9f3a\"],[0.8888888888888888,\"#fdca26\"],[1.0,\"#f0f921\"]],\"sequentialminus\":[[0.0,\"#0d0887\"],[0.1111111111111111,\"#46039f\"],[0.2222222222222222,\"#7201a8\"],[0.3333333333333333,\"#9c179e\"],[0.4444444444444444,\"#bd3786\"],[0.5555555555555556,\"#d8576b\"],[0.6666666666666666,\"#ed7953\"],[0.7777777777777778,\"#fb9f3a\"],[0.8888888888888888,\"#fdca26\"],[1.0,\"#f0f921\"]],\"diverging\":[[0,\"#8e0152\"],[0.1,\"#c51b7d\"],[0.2,\"#de77ae\"],[0.3,\"#f1b6da\"],[0.4,\"#fde0ef\"],[0.5,\"#f7f7f7\"],[0.6,\"#e6f5d0\"],[0.7,\"#b8e186\"],[0.8,\"#7fbc41\"],[0.9,\"#4d9221\"],[1,\"#276419\"]]},\"xaxis\":{\"gridcolor\":\"white\",\"linecolor\":\"white\",\"ticks\":\"\",\"title\":{\"standoff\":15},\"zerolinecolor\":\"white\",\"automargin\":true,\"zerolinewidth\":2},\"yaxis\":{\"gridcolor\":\"white\",\"linecolor\":\"white\",\"ticks\":\"\",\"title\":{\"standoff\":15},\"zerolinecolor\":\"white\",\"automargin\":true,\"zerolinewidth\":2},\"scene\":{\"xaxis\":{\"backgroundcolor\":\"#E5ECF6\",\"gridcolor\":\"white\",\"linecolor\":\"white\",\"showbackground\":true,\"ticks\":\"\",\"zerolinecolor\":\"white\",\"gridwidth\":2},\"yaxis\":{\"backgroundcolor\":\"#E5ECF6\",\"gridcolor\":\"white\",\"linecolor\":\"white\",\"showbackground\":true,\"ticks\":\"\",\"zerolinecolor\":\"white\",\"gridwidth\":2},\"zaxis\":{\"backgroundcolor\":\"#E5ECF6\",\"gridcolor\":\"white\",\"linecolor\":\"white\",\"showbackground\":true,\"ticks\":\"\",\"zerolinecolor\":\"white\",\"gridwidth\":2}},\"shapedefaults\":{\"line\":{\"color\":\"#2a3f5f\"}},\"annotationdefaults\":{\"arrowcolor\":\"#2a3f5f\",\"arrowhead\":0,\"arrowwidth\":1},\"geo\":{\"bgcolor\":\"white\",\"landcolor\":\"#E5ECF6\",\"subunitcolor\":\"white\",\"showland\":true,\"showlakes\":true,\"lakecolor\":\"white\"},\"title\":{\"x\":0.05},\"mapbox\":{\"style\":\"light\"}}},\"xaxis\":{\"anchor\":\"y\",\"domain\":[0.0,1.0],\"title\":{\"text\":\"Week\"},\"showgrid\":true,\"gridwidth\":1,\"gridcolor\":\"LightGray\"},\"yaxis\":{\"anchor\":\"x\",\"domain\":[0.0,1.0],\"title\":{\"text\":\"TotalBytes\"},\"type\":\"log\",\"showgrid\":true,\"gridwidth\":1,\"gridcolor\":\"LightGray\",\"tickvals\":[4294967296,6442450944,8589934592,10737418240,21474836480,42949672960,64424509440,85899345920,107374182400,214748364800,429496729600],\"ticktext\":[\"4 GB\",\"6 GB\",\"8 GB\",\"10 GB\",\"20 GB\",\"40 GB\",\"60 GB\",\"80 GB\",\"100 GB\",\"200 GB\",\"400 GB\"]},\"legend\":{\"title\":{\"text\":\"SourceOrgs\"},\"tracegroupgap\":0,\"font\":{\"size\":20},\"itemwidth\":60},\"margin\":{\"t\":60},\"height\":800,\"font\":{\"size\":24},\"plot_bgcolor\":\"white\"},                        {\"responsive\": true}                    ).then(function(){\n",
       "                            \n",
       "var gd = document.getElementById('f99dad40-d3be-4fa8-95d3-13c5e6bad242');\n",
       "var x = new MutationObserver(function (mutations, observer) {{\n",
       "        var display = window.getComputedStyle(gd).display;\n",
       "        if (!display || display === 'none') {{\n",
       "            console.log([gd, 'removed!']);\n",
       "            Plotly.purge(gd);\n",
       "            observer.disconnect();\n",
       "        }}\n",
       "}});\n",
       "\n",
       "// Listen for the removal of the full notebook cells\n",
       "var notebookContainer = gd.closest('#notebook-container');\n",
       "if (notebookContainer) {{\n",
       "    x.observe(notebookContainer, {childList: true});\n",
       "}}\n",
       "\n",
       "// Listen for the clearing of the current output cell\n",
       "var outputEl = gd.closest('.output');\n",
       "if (outputEl) {{\n",
       "    x.observe(outputEl, {childList: true});\n",
       "}}\n",
       "\n",
       "                        })                };                });            </script>        </div>"
      ]
     },
     "metadata": {},
     "output_type": "display_data"
    }
   ],
   "source": [
    "import plotly.express as px\n",
    "import pandas as pd\n",
    "\n",
    "df_orgs_in = pd.read_csv('/Volumes/GoogleDrive/My Drive/Thesis/Plotly/category_CPSC_in_sources.csv')\n",
    "\n",
    "fig_orgs_in_bytes = px.line(df_orgs_in, x='Week', y='TotalBytes', log_y=True, color='SourceOrgs',\n",
    "                            markers=True, line_dash='SourceOrgs', symbol='SourceOrgs', height=800,\n",
    "                            color_discrete_map={'APPLE': '#7f7f7f', 'NETFLIX': '#dc3912', 'AKAMAI': '#ff9900',\n",
    "                                                'CANARIE': '#fb00d1', 'FACEBOOK': '#3366cc', 'GOOGLE': '#109618',\n",
    "                                                'AMAZON': '#212E3C', 'FASTLY': '#8c564b', 'LEVEL3': '#17becf',\n",
    "                                                'MICROSOFT': '#990099', 'EDGECAST': '#316395',\n",
    "                                                'VALVE-CORPORATION': '#bcbd22', 'TELUS': '#db1f48',\n",
    "                                                'SHAW': '#613659', 'BACOM': '#01949a', 'ROGERS': '#81b622',\n",
    "                                                'Chinanet': '#d3b1c2', 'AHS': '#eeb5eb', 'YANDEXLLC': '#fad02c',\n",
    "                                                'NLM-GW': '#055c9d', 'JiscServicesLimited': '#870a30',\n",
    "                                                'BROADINSTITUTE-AS': '#e57f84', 'OoredooQ.S.C.': '#90adc6',\n",
    "                                                'RelianceJioInfocommLimited': '#a16ae8', 'O-NET': '#ffa384',\n",
    "                                                'Vetenskapsradet/SUNET': '#74bdcb', 'VELOCITYNET-01': '#3d5b59',\n",
    "                                                'CHINAUNICOMChina169Backbone': '#ff4500', 'CIPHERKEY': '#b7ac44',\n",
    "                                                'TEKSAVVY': '#52688f', 'BARR-XPLR-ASN': '#d4f1f4',\n",
    "                                                'PRIMUS-AS6407': '#b9b7bd', 'CIKTELECOM-CABLE': '#fb4570',\n",
    "                                                'TWC-11426-CAROLINAS': '#7cf3a0', 'PEGTECHINC': '#f9eac2',\n",
    "                                                'UniversityofQueensland': '#bfd7ed'})\n",
    "fig_orgs_in_bytes.update_layout(plot_bgcolor='white', font_size=24, legend_font_size=20, legend_itemwidth=60)\n",
    "fig_orgs_in_bytes.update_xaxes(showgrid=True, gridwidth=1, gridcolor='LightGray')\n",
    "fig_orgs_in_bytes.update_yaxes(showgrid=True, gridwidth=1, gridcolor='LightGray',\n",
    "                               tickvals=[4294967296, 6442450944, 8589934592, 10737418240, \n",
    "                                         21474836480, 42949672960, 64424509440, 85899345920, 107374182400, \n",
    "                                         214748364800, 429496729600],\n",
    "                               ticktext=[\"4 GB\", \"6 GB\", \"8 GB\", \"10 GB\", \n",
    "                                         \"20 GB\", \"40 GB\", \"60 GB\", \"80 GB\", \"100 GB\", \n",
    "                                         \"200 GB\", \"400 GB\"])\n",
    "fig_orgs_in_bytes.update_traces(line_width=6, marker_size=16)\n",
    "\n",
    "\n",
    "fig_orgs_in_bytes.show()"
   ]
  },
  {
   "cell_type": "code",
   "execution_count": null,
   "id": "08481a03",
   "metadata": {},
   "outputs": [],
   "source": []
  }
 ],
 "metadata": {
  "kernelspec": {
   "display_name": "Python 3 (ipykernel)",
   "language": "python",
   "name": "python3"
  },
  "language_info": {
   "codemirror_mode": {
    "name": "ipython",
    "version": 3
   },
   "file_extension": ".py",
   "mimetype": "text/x-python",
   "name": "python",
   "nbconvert_exporter": "python",
   "pygments_lexer": "ipython3",
   "version": "3.9.7"
  }
 },
 "nbformat": 4,
 "nbformat_minor": 5
}
