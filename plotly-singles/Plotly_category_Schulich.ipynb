{
 "cells": [
  {
   "cell_type": "code",
   "execution_count": 7,
   "id": "504be422",
   "metadata": {},
   "outputs": [
    {
     "data": {
      "application/vnd.plotly.v1+json": {
       "config": {
        "plotlyServerURL": "https://plot.ly"
       },
       "data": [
        {
         "hovertemplate": "TargetOrgs=MICROSOFT<br>Week=%{x}<br>SourceIPs=%{y}<extra></extra>",
         "legendgroup": "MICROSOFT",
         "line": {
          "color": "#990099",
          "dash": "solid",
          "width": 8
         },
         "marker": {
          "size": 18,
          "symbol": "circle"
         },
         "mode": "markers+lines",
         "name": "MICROSOFT",
         "orientation": "v",
         "showlegend": true,
         "type": "scatter",
         "x": [
          "Feb 2020"
         ],
         "xaxis": "x",
         "y": [
          373
         ],
         "yaxis": "y"
        },
        {
         "hovertemplate": "TargetOrgs=NETFLIX<br>Week=%{x}<br>SourceIPs=%{y}<extra></extra>",
         "legendgroup": "NETFLIX",
         "line": {
          "color": "#dc3912",
          "dash": "dot",
          "width": 8
         },
         "marker": {
          "size": 18,
          "symbol": "diamond"
         },
         "mode": "markers+lines",
         "name": "NETFLIX",
         "orientation": "v",
         "showlegend": true,
         "type": "scatter",
         "x": [
          "Feb 2020",
          "Apr 2020",
          "Sept 2020",
          "Sept 2021"
         ],
         "xaxis": "x",
         "y": [
          94,
          35,
          43,
          63
         ],
         "yaxis": "y"
        },
        {
         "hovertemplate": "TargetOrgs=AKAMAI<br>Week=%{x}<br>SourceIPs=%{y}<extra></extra>",
         "legendgroup": "AKAMAI",
         "line": {
          "color": "#ff9900",
          "dash": "dash",
          "width": 8
         },
         "marker": {
          "size": 18,
          "symbol": "square"
         },
         "mode": "markers+lines",
         "name": "AKAMAI",
         "orientation": "v",
         "showlegend": true,
         "type": "scatter",
         "x": [
          "Feb 2020",
          "Apr 2020",
          "Sept 2020",
          "Sept 2021"
         ],
         "xaxis": "x",
         "y": [
          385,
          278,
          258,
          226
         ],
         "yaxis": "y"
        },
        {
         "hovertemplate": "TargetOrgs=GOOGLE<br>Week=%{x}<br>SourceIPs=%{y}<extra></extra>",
         "legendgroup": "GOOGLE",
         "line": {
          "color": "#109618",
          "dash": "longdash",
          "width": 8
         },
         "marker": {
          "size": 18,
          "symbol": "x"
         },
         "mode": "markers+lines",
         "name": "GOOGLE",
         "orientation": "v",
         "showlegend": true,
         "type": "scatter",
         "x": [
          "Feb 2020",
          "Apr 2020",
          "Sept 2020",
          "Sept 2021"
         ],
         "xaxis": "x",
         "y": [
          352,
          200,
          223,
          217
         ],
         "yaxis": "y"
        },
        {
         "hovertemplate": "TargetOrgs=CANARIE<br>Week=%{x}<br>SourceIPs=%{y}<extra></extra>",
         "legendgroup": "CANARIE",
         "line": {
          "color": "#fb00d1",
          "dash": "dashdot",
          "width": 8
         },
         "marker": {
          "size": 18,
          "symbol": "cross"
         },
         "mode": "markers+lines",
         "name": "CANARIE",
         "orientation": "v",
         "showlegend": true,
         "type": "scatter",
         "x": [
          "Feb 2020",
          "Apr 2020",
          "Sept 2020",
          "Sept 2021"
         ],
         "xaxis": "x",
         "y": [
          280,
          109,
          166,
          147
         ],
         "yaxis": "y"
        },
        {
         "hovertemplate": "TargetOrgs=APPLE<br>Week=%{x}<br>SourceIPs=%{y}<extra></extra>",
         "legendgroup": "APPLE",
         "line": {
          "color": "#7f7f7f",
          "dash": "longdashdot",
          "width": 8
         },
         "marker": {
          "size": 18,
          "symbol": "circle"
         },
         "mode": "markers+lines",
         "name": "APPLE",
         "orientation": "v",
         "showlegend": true,
         "type": "scatter",
         "x": [
          "Feb 2020",
          "Apr 2020",
          "Sept 2020",
          "Sept 2021"
         ],
         "xaxis": "x",
         "y": [
          165,
          87,
          132,
          140
         ],
         "yaxis": "y"
        },
        {
         "hovertemplate": "TargetOrgs=FACEBOOK<br>Week=%{x}<br>SourceIPs=%{y}<extra></extra>",
         "legendgroup": "FACEBOOK",
         "line": {
          "color": "#3366cc",
          "dash": "solid",
          "width": 8
         },
         "marker": {
          "size": 18,
          "symbol": "diamond"
         },
         "mode": "markers+lines",
         "name": "FACEBOOK",
         "orientation": "v",
         "showlegend": true,
         "type": "scatter",
         "x": [
          "Feb 2020",
          "Sept 2020",
          "Sept 2021"
         ],
         "xaxis": "x",
         "y": [
          275,
          163,
          182
         ],
         "yaxis": "y"
        },
        {
         "hovertemplate": "TargetOrgs=ASN-GIGENET<br>Week=%{x}<br>SourceIPs=%{y}<extra></extra>",
         "legendgroup": "ASN-GIGENET",
         "line": {
          "color": "#00cc96",
          "dash": "dot",
          "width": 8
         },
         "marker": {
          "size": 18,
          "symbol": "square"
         },
         "mode": "markers+lines",
         "name": "ASN-GIGENET",
         "orientation": "v",
         "showlegend": true,
         "type": "scatter",
         "x": [
          "Feb 2020"
         ],
         "xaxis": "x",
         "y": [
          4
         ],
         "yaxis": "y"
        },
        {
         "hovertemplate": "TargetOrgs=EDGECAST<br>Week=%{x}<br>SourceIPs=%{y}<extra></extra>",
         "legendgroup": "EDGECAST",
         "line": {
          "color": "#316395",
          "dash": "dash",
          "width": 8
         },
         "marker": {
          "size": 18,
          "symbol": "x"
         },
         "mode": "markers+lines",
         "name": "EDGECAST",
         "orientation": "v",
         "showlegend": true,
         "type": "scatter",
         "x": [
          "Feb 2020",
          "Apr 2020"
         ],
         "xaxis": "x",
         "y": [
          351,
          202
         ],
         "yaxis": "y"
        },
        {
         "hovertemplate": "TargetOrgs=AMAZON<br>Week=%{x}<br>SourceIPs=%{y}<extra></extra>",
         "legendgroup": "AMAZON",
         "line": {
          "color": "#212E3C",
          "dash": "longdash",
          "width": 8
         },
         "marker": {
          "size": 18,
          "symbol": "cross"
         },
         "mode": "markers+lines",
         "name": "AMAZON",
         "orientation": "v",
         "showlegend": true,
         "type": "scatter",
         "x": [
          "Feb 2020",
          "Sept 2020",
          "Sept 2021"
         ],
         "xaxis": "x",
         "y": [
          345,
          247,
          219
         ],
         "yaxis": "y"
        },
        {
         "hovertemplate": "TargetOrgs=DROPBOX<br>Week=%{x}<br>SourceIPs=%{y}<extra></extra>",
         "legendgroup": "DROPBOX",
         "line": {
          "color": "#ab63fa",
          "dash": "dashdot",
          "width": 8
         },
         "marker": {
          "size": 18,
          "symbol": "circle"
         },
         "mode": "markers+lines",
         "name": "DROPBOX",
         "orientation": "v",
         "showlegend": true,
         "type": "scatter",
         "x": [
          "Apr 2020",
          "Sept 2020",
          "Sept 2021"
         ],
         "xaxis": "x",
         "y": [
          54,
          53,
          54
         ],
         "yaxis": "y"
        },
        {
         "hovertemplate": "TargetOrgs=TWITCH<br>Week=%{x}<br>SourceIPs=%{y}<extra></extra>",
         "legendgroup": "TWITCH",
         "line": {
          "color": "#FFA15A",
          "dash": "longdashdot",
          "width": 8
         },
         "marker": {
          "size": 18,
          "symbol": "diamond"
         },
         "mode": "markers+lines",
         "name": "TWITCH",
         "orientation": "v",
         "showlegend": true,
         "type": "scatter",
         "x": [
          "Apr 2020"
         ],
         "xaxis": "x",
         "y": [
          8
         ],
         "yaxis": "y"
        },
        {
         "hovertemplate": "TargetOrgs=HIGHWINDS<br>Week=%{x}<br>SourceIPs=%{y}<extra></extra>",
         "legendgroup": "HIGHWINDS",
         "line": {
          "color": "#19d3f3",
          "dash": "solid",
          "width": 8
         },
         "marker": {
          "size": 18,
          "symbol": "square"
         },
         "mode": "markers+lines",
         "name": "HIGHWINDS",
         "orientation": "v",
         "showlegend": true,
         "type": "scatter",
         "x": [
          "Apr 2020"
         ],
         "xaxis": "x",
         "y": [
          188
         ],
         "yaxis": "y"
        },
        {
         "hovertemplate": "TargetOrgs=LEVEL3<br>Week=%{x}<br>SourceIPs=%{y}<extra></extra>",
         "legendgroup": "LEVEL3",
         "line": {
          "color": "#17becf",
          "dash": "dot",
          "width": 8
         },
         "marker": {
          "size": 18,
          "symbol": "x"
         },
         "mode": "markers+lines",
         "name": "LEVEL3",
         "orientation": "v",
         "showlegend": true,
         "type": "scatter",
         "x": [
          "Apr 2020",
          "Sept 2020",
          "Sept 2021"
         ],
         "xaxis": "x",
         "y": [
          145,
          121,
          132
         ],
         "yaxis": "y"
        },
        {
         "hovertemplate": "TargetOrgs=FASTLY<br>Week=%{x}<br>SourceIPs=%{y}<extra></extra>",
         "legendgroup": "FASTLY",
         "line": {
          "color": "#8c564b",
          "dash": "dash",
          "width": 8
         },
         "marker": {
          "size": 18,
          "symbol": "cross"
         },
         "mode": "markers+lines",
         "name": "FASTLY",
         "orientation": "v",
         "showlegend": true,
         "type": "scatter",
         "x": [
          "Sept 2020",
          "Sept 2021"
         ],
         "xaxis": "x",
         "y": [
          164,
          184
         ],
         "yaxis": "y"
        }
       ],
       "layout": {
        "font": {
         "size": 30
        },
        "height": 900,
        "legend": {
         "title": {
          "text": "TargetOrgs"
         },
         "tracegroupgap": 0
        },
        "margin": {
         "t": 60
        },
        "plot_bgcolor": "white",
        "showlegend": false,
        "template": {
         "data": {
          "bar": [
           {
            "error_x": {
             "color": "#2a3f5f"
            },
            "error_y": {
             "color": "#2a3f5f"
            },
            "marker": {
             "line": {
              "color": "#E5ECF6",
              "width": 0.5
             },
             "pattern": {
              "fillmode": "overlay",
              "size": 10,
              "solidity": 0.2
             }
            },
            "type": "bar"
           }
          ],
          "barpolar": [
           {
            "marker": {
             "line": {
              "color": "#E5ECF6",
              "width": 0.5
             },
             "pattern": {
              "fillmode": "overlay",
              "size": 10,
              "solidity": 0.2
             }
            },
            "type": "barpolar"
           }
          ],
          "carpet": [
           {
            "aaxis": {
             "endlinecolor": "#2a3f5f",
             "gridcolor": "white",
             "linecolor": "white",
             "minorgridcolor": "white",
             "startlinecolor": "#2a3f5f"
            },
            "baxis": {
             "endlinecolor": "#2a3f5f",
             "gridcolor": "white",
             "linecolor": "white",
             "minorgridcolor": "white",
             "startlinecolor": "#2a3f5f"
            },
            "type": "carpet"
           }
          ],
          "choropleth": [
           {
            "colorbar": {
             "outlinewidth": 0,
             "ticks": ""
            },
            "type": "choropleth"
           }
          ],
          "contour": [
           {
            "colorbar": {
             "outlinewidth": 0,
             "ticks": ""
            },
            "colorscale": [
             [
              0,
              "#0d0887"
             ],
             [
              0.1111111111111111,
              "#46039f"
             ],
             [
              0.2222222222222222,
              "#7201a8"
             ],
             [
              0.3333333333333333,
              "#9c179e"
             ],
             [
              0.4444444444444444,
              "#bd3786"
             ],
             [
              0.5555555555555556,
              "#d8576b"
             ],
             [
              0.6666666666666666,
              "#ed7953"
             ],
             [
              0.7777777777777778,
              "#fb9f3a"
             ],
             [
              0.8888888888888888,
              "#fdca26"
             ],
             [
              1,
              "#f0f921"
             ]
            ],
            "type": "contour"
           }
          ],
          "contourcarpet": [
           {
            "colorbar": {
             "outlinewidth": 0,
             "ticks": ""
            },
            "type": "contourcarpet"
           }
          ],
          "heatmap": [
           {
            "colorbar": {
             "outlinewidth": 0,
             "ticks": ""
            },
            "colorscale": [
             [
              0,
              "#0d0887"
             ],
             [
              0.1111111111111111,
              "#46039f"
             ],
             [
              0.2222222222222222,
              "#7201a8"
             ],
             [
              0.3333333333333333,
              "#9c179e"
             ],
             [
              0.4444444444444444,
              "#bd3786"
             ],
             [
              0.5555555555555556,
              "#d8576b"
             ],
             [
              0.6666666666666666,
              "#ed7953"
             ],
             [
              0.7777777777777778,
              "#fb9f3a"
             ],
             [
              0.8888888888888888,
              "#fdca26"
             ],
             [
              1,
              "#f0f921"
             ]
            ],
            "type": "heatmap"
           }
          ],
          "heatmapgl": [
           {
            "colorbar": {
             "outlinewidth": 0,
             "ticks": ""
            },
            "colorscale": [
             [
              0,
              "#0d0887"
             ],
             [
              0.1111111111111111,
              "#46039f"
             ],
             [
              0.2222222222222222,
              "#7201a8"
             ],
             [
              0.3333333333333333,
              "#9c179e"
             ],
             [
              0.4444444444444444,
              "#bd3786"
             ],
             [
              0.5555555555555556,
              "#d8576b"
             ],
             [
              0.6666666666666666,
              "#ed7953"
             ],
             [
              0.7777777777777778,
              "#fb9f3a"
             ],
             [
              0.8888888888888888,
              "#fdca26"
             ],
             [
              1,
              "#f0f921"
             ]
            ],
            "type": "heatmapgl"
           }
          ],
          "histogram": [
           {
            "marker": {
             "pattern": {
              "fillmode": "overlay",
              "size": 10,
              "solidity": 0.2
             }
            },
            "type": "histogram"
           }
          ],
          "histogram2d": [
           {
            "colorbar": {
             "outlinewidth": 0,
             "ticks": ""
            },
            "colorscale": [
             [
              0,
              "#0d0887"
             ],
             [
              0.1111111111111111,
              "#46039f"
             ],
             [
              0.2222222222222222,
              "#7201a8"
             ],
             [
              0.3333333333333333,
              "#9c179e"
             ],
             [
              0.4444444444444444,
              "#bd3786"
             ],
             [
              0.5555555555555556,
              "#d8576b"
             ],
             [
              0.6666666666666666,
              "#ed7953"
             ],
             [
              0.7777777777777778,
              "#fb9f3a"
             ],
             [
              0.8888888888888888,
              "#fdca26"
             ],
             [
              1,
              "#f0f921"
             ]
            ],
            "type": "histogram2d"
           }
          ],
          "histogram2dcontour": [
           {
            "colorbar": {
             "outlinewidth": 0,
             "ticks": ""
            },
            "colorscale": [
             [
              0,
              "#0d0887"
             ],
             [
              0.1111111111111111,
              "#46039f"
             ],
             [
              0.2222222222222222,
              "#7201a8"
             ],
             [
              0.3333333333333333,
              "#9c179e"
             ],
             [
              0.4444444444444444,
              "#bd3786"
             ],
             [
              0.5555555555555556,
              "#d8576b"
             ],
             [
              0.6666666666666666,
              "#ed7953"
             ],
             [
              0.7777777777777778,
              "#fb9f3a"
             ],
             [
              0.8888888888888888,
              "#fdca26"
             ],
             [
              1,
              "#f0f921"
             ]
            ],
            "type": "histogram2dcontour"
           }
          ],
          "mesh3d": [
           {
            "colorbar": {
             "outlinewidth": 0,
             "ticks": ""
            },
            "type": "mesh3d"
           }
          ],
          "parcoords": [
           {
            "line": {
             "colorbar": {
              "outlinewidth": 0,
              "ticks": ""
             }
            },
            "type": "parcoords"
           }
          ],
          "pie": [
           {
            "automargin": true,
            "type": "pie"
           }
          ],
          "scatter": [
           {
            "fillpattern": {
             "fillmode": "overlay",
             "size": 10,
             "solidity": 0.2
            },
            "type": "scatter"
           }
          ],
          "scatter3d": [
           {
            "line": {
             "colorbar": {
              "outlinewidth": 0,
              "ticks": ""
             }
            },
            "marker": {
             "colorbar": {
              "outlinewidth": 0,
              "ticks": ""
             }
            },
            "type": "scatter3d"
           }
          ],
          "scattercarpet": [
           {
            "marker": {
             "colorbar": {
              "outlinewidth": 0,
              "ticks": ""
             }
            },
            "type": "scattercarpet"
           }
          ],
          "scattergeo": [
           {
            "marker": {
             "colorbar": {
              "outlinewidth": 0,
              "ticks": ""
             }
            },
            "type": "scattergeo"
           }
          ],
          "scattergl": [
           {
            "marker": {
             "colorbar": {
              "outlinewidth": 0,
              "ticks": ""
             }
            },
            "type": "scattergl"
           }
          ],
          "scattermapbox": [
           {
            "marker": {
             "colorbar": {
              "outlinewidth": 0,
              "ticks": ""
             }
            },
            "type": "scattermapbox"
           }
          ],
          "scatterpolar": [
           {
            "marker": {
             "colorbar": {
              "outlinewidth": 0,
              "ticks": ""
             }
            },
            "type": "scatterpolar"
           }
          ],
          "scatterpolargl": [
           {
            "marker": {
             "colorbar": {
              "outlinewidth": 0,
              "ticks": ""
             }
            },
            "type": "scatterpolargl"
           }
          ],
          "scatterternary": [
           {
            "marker": {
             "colorbar": {
              "outlinewidth": 0,
              "ticks": ""
             }
            },
            "type": "scatterternary"
           }
          ],
          "surface": [
           {
            "colorbar": {
             "outlinewidth": 0,
             "ticks": ""
            },
            "colorscale": [
             [
              0,
              "#0d0887"
             ],
             [
              0.1111111111111111,
              "#46039f"
             ],
             [
              0.2222222222222222,
              "#7201a8"
             ],
             [
              0.3333333333333333,
              "#9c179e"
             ],
             [
              0.4444444444444444,
              "#bd3786"
             ],
             [
              0.5555555555555556,
              "#d8576b"
             ],
             [
              0.6666666666666666,
              "#ed7953"
             ],
             [
              0.7777777777777778,
              "#fb9f3a"
             ],
             [
              0.8888888888888888,
              "#fdca26"
             ],
             [
              1,
              "#f0f921"
             ]
            ],
            "type": "surface"
           }
          ],
          "table": [
           {
            "cells": {
             "fill": {
              "color": "#EBF0F8"
             },
             "line": {
              "color": "white"
             }
            },
            "header": {
             "fill": {
              "color": "#C8D4E3"
             },
             "line": {
              "color": "white"
             }
            },
            "type": "table"
           }
          ]
         },
         "layout": {
          "annotationdefaults": {
           "arrowcolor": "#2a3f5f",
           "arrowhead": 0,
           "arrowwidth": 1
          },
          "autotypenumbers": "strict",
          "coloraxis": {
           "colorbar": {
            "outlinewidth": 0,
            "ticks": ""
           }
          },
          "colorscale": {
           "diverging": [
            [
             0,
             "#8e0152"
            ],
            [
             0.1,
             "#c51b7d"
            ],
            [
             0.2,
             "#de77ae"
            ],
            [
             0.3,
             "#f1b6da"
            ],
            [
             0.4,
             "#fde0ef"
            ],
            [
             0.5,
             "#f7f7f7"
            ],
            [
             0.6,
             "#e6f5d0"
            ],
            [
             0.7,
             "#b8e186"
            ],
            [
             0.8,
             "#7fbc41"
            ],
            [
             0.9,
             "#4d9221"
            ],
            [
             1,
             "#276419"
            ]
           ],
           "sequential": [
            [
             0,
             "#0d0887"
            ],
            [
             0.1111111111111111,
             "#46039f"
            ],
            [
             0.2222222222222222,
             "#7201a8"
            ],
            [
             0.3333333333333333,
             "#9c179e"
            ],
            [
             0.4444444444444444,
             "#bd3786"
            ],
            [
             0.5555555555555556,
             "#d8576b"
            ],
            [
             0.6666666666666666,
             "#ed7953"
            ],
            [
             0.7777777777777778,
             "#fb9f3a"
            ],
            [
             0.8888888888888888,
             "#fdca26"
            ],
            [
             1,
             "#f0f921"
            ]
           ],
           "sequentialminus": [
            [
             0,
             "#0d0887"
            ],
            [
             0.1111111111111111,
             "#46039f"
            ],
            [
             0.2222222222222222,
             "#7201a8"
            ],
            [
             0.3333333333333333,
             "#9c179e"
            ],
            [
             0.4444444444444444,
             "#bd3786"
            ],
            [
             0.5555555555555556,
             "#d8576b"
            ],
            [
             0.6666666666666666,
             "#ed7953"
            ],
            [
             0.7777777777777778,
             "#fb9f3a"
            ],
            [
             0.8888888888888888,
             "#fdca26"
            ],
            [
             1,
             "#f0f921"
            ]
           ]
          },
          "colorway": [
           "#636efa",
           "#EF553B",
           "#00cc96",
           "#ab63fa",
           "#FFA15A",
           "#19d3f3",
           "#FF6692",
           "#B6E880",
           "#FF97FF",
           "#FECB52"
          ],
          "font": {
           "color": "#2a3f5f"
          },
          "geo": {
           "bgcolor": "white",
           "lakecolor": "white",
           "landcolor": "#E5ECF6",
           "showlakes": true,
           "showland": true,
           "subunitcolor": "white"
          },
          "hoverlabel": {
           "align": "left"
          },
          "hovermode": "closest",
          "mapbox": {
           "style": "light"
          },
          "paper_bgcolor": "white",
          "plot_bgcolor": "#E5ECF6",
          "polar": {
           "angularaxis": {
            "gridcolor": "white",
            "linecolor": "white",
            "ticks": ""
           },
           "bgcolor": "#E5ECF6",
           "radialaxis": {
            "gridcolor": "white",
            "linecolor": "white",
            "ticks": ""
           }
          },
          "scene": {
           "xaxis": {
            "backgroundcolor": "#E5ECF6",
            "gridcolor": "white",
            "gridwidth": 2,
            "linecolor": "white",
            "showbackground": true,
            "ticks": "",
            "zerolinecolor": "white"
           },
           "yaxis": {
            "backgroundcolor": "#E5ECF6",
            "gridcolor": "white",
            "gridwidth": 2,
            "linecolor": "white",
            "showbackground": true,
            "ticks": "",
            "zerolinecolor": "white"
           },
           "zaxis": {
            "backgroundcolor": "#E5ECF6",
            "gridcolor": "white",
            "gridwidth": 2,
            "linecolor": "white",
            "showbackground": true,
            "ticks": "",
            "zerolinecolor": "white"
           }
          },
          "shapedefaults": {
           "line": {
            "color": "#2a3f5f"
           }
          },
          "ternary": {
           "aaxis": {
            "gridcolor": "white",
            "linecolor": "white",
            "ticks": ""
           },
           "baxis": {
            "gridcolor": "white",
            "linecolor": "white",
            "ticks": ""
           },
           "bgcolor": "#E5ECF6",
           "caxis": {
            "gridcolor": "white",
            "linecolor": "white",
            "ticks": ""
           }
          },
          "title": {
           "x": 0.05
          },
          "xaxis": {
           "automargin": true,
           "gridcolor": "white",
           "linecolor": "white",
           "ticks": "",
           "title": {
            "standoff": 15
           },
           "zerolinecolor": "white",
           "zerolinewidth": 2
          },
          "yaxis": {
           "automargin": true,
           "gridcolor": "white",
           "linecolor": "white",
           "ticks": "",
           "title": {
            "standoff": 15
           },
           "zerolinecolor": "white",
           "zerolinewidth": 2
          }
         }
        },
        "xaxis": {
         "anchor": "y",
         "domain": [
          0,
          1
         ],
         "gridcolor": "LightGray",
         "gridwidth": 1,
         "showgrid": true,
         "title": {
          "text": "Week"
         }
        },
        "yaxis": {
         "anchor": "x",
         "domain": [
          0,
          1
         ],
         "gridcolor": "LightGray",
         "gridwidth": 1,
         "showgrid": true,
         "tickvals": [
          4,
          6,
          8,
          10,
          20,
          40,
          60,
          80,
          100,
          200,
          400
         ],
         "title": {
          "text": "SourceIPs"
         },
         "type": "log"
        }
       }
      },
      "text/html": [
       "<div>                            <div id=\"85f8c120-098d-4b9f-b210-45287b9edd3e\" class=\"plotly-graph-div\" style=\"height:900px; width:100%;\"></div>            <script type=\"text/javascript\">                require([\"plotly\"], function(Plotly) {                    window.PLOTLYENV=window.PLOTLYENV || {};                                    if (document.getElementById(\"85f8c120-098d-4b9f-b210-45287b9edd3e\")) {                    Plotly.newPlot(                        \"85f8c120-098d-4b9f-b210-45287b9edd3e\",                        [{\"hovertemplate\":\"TargetOrgs=MICROSOFT<br>Week=%{x}<br>SourceIPs=%{y}<extra></extra>\",\"legendgroup\":\"MICROSOFT\",\"line\":{\"color\":\"#990099\",\"dash\":\"solid\",\"width\":8},\"marker\":{\"symbol\":\"circle\",\"size\":18},\"mode\":\"markers+lines\",\"name\":\"MICROSOFT\",\"orientation\":\"v\",\"showlegend\":true,\"x\":[\"Feb 2020\"],\"xaxis\":\"x\",\"y\":[373],\"yaxis\":\"y\",\"type\":\"scatter\"},{\"hovertemplate\":\"TargetOrgs=NETFLIX<br>Week=%{x}<br>SourceIPs=%{y}<extra></extra>\",\"legendgroup\":\"NETFLIX\",\"line\":{\"color\":\"#dc3912\",\"dash\":\"dot\",\"width\":8},\"marker\":{\"symbol\":\"diamond\",\"size\":18},\"mode\":\"markers+lines\",\"name\":\"NETFLIX\",\"orientation\":\"v\",\"showlegend\":true,\"x\":[\"Feb 2020\",\"Apr 2020\",\"Sept 2020\",\"Sept 2021\"],\"xaxis\":\"x\",\"y\":[94,35,43,63],\"yaxis\":\"y\",\"type\":\"scatter\"},{\"hovertemplate\":\"TargetOrgs=AKAMAI<br>Week=%{x}<br>SourceIPs=%{y}<extra></extra>\",\"legendgroup\":\"AKAMAI\",\"line\":{\"color\":\"#ff9900\",\"dash\":\"dash\",\"width\":8},\"marker\":{\"symbol\":\"square\",\"size\":18},\"mode\":\"markers+lines\",\"name\":\"AKAMAI\",\"orientation\":\"v\",\"showlegend\":true,\"x\":[\"Feb 2020\",\"Apr 2020\",\"Sept 2020\",\"Sept 2021\"],\"xaxis\":\"x\",\"y\":[385,278,258,226],\"yaxis\":\"y\",\"type\":\"scatter\"},{\"hovertemplate\":\"TargetOrgs=GOOGLE<br>Week=%{x}<br>SourceIPs=%{y}<extra></extra>\",\"legendgroup\":\"GOOGLE\",\"line\":{\"color\":\"#109618\",\"dash\":\"longdash\",\"width\":8},\"marker\":{\"symbol\":\"x\",\"size\":18},\"mode\":\"markers+lines\",\"name\":\"GOOGLE\",\"orientation\":\"v\",\"showlegend\":true,\"x\":[\"Feb 2020\",\"Apr 2020\",\"Sept 2020\",\"Sept 2021\"],\"xaxis\":\"x\",\"y\":[352,200,223,217],\"yaxis\":\"y\",\"type\":\"scatter\"},{\"hovertemplate\":\"TargetOrgs=CANARIE<br>Week=%{x}<br>SourceIPs=%{y}<extra></extra>\",\"legendgroup\":\"CANARIE\",\"line\":{\"color\":\"#fb00d1\",\"dash\":\"dashdot\",\"width\":8},\"marker\":{\"symbol\":\"cross\",\"size\":18},\"mode\":\"markers+lines\",\"name\":\"CANARIE\",\"orientation\":\"v\",\"showlegend\":true,\"x\":[\"Feb 2020\",\"Apr 2020\",\"Sept 2020\",\"Sept 2021\"],\"xaxis\":\"x\",\"y\":[280,109,166,147],\"yaxis\":\"y\",\"type\":\"scatter\"},{\"hovertemplate\":\"TargetOrgs=APPLE<br>Week=%{x}<br>SourceIPs=%{y}<extra></extra>\",\"legendgroup\":\"APPLE\",\"line\":{\"color\":\"#7f7f7f\",\"dash\":\"longdashdot\",\"width\":8},\"marker\":{\"symbol\":\"circle\",\"size\":18},\"mode\":\"markers+lines\",\"name\":\"APPLE\",\"orientation\":\"v\",\"showlegend\":true,\"x\":[\"Feb 2020\",\"Apr 2020\",\"Sept 2020\",\"Sept 2021\"],\"xaxis\":\"x\",\"y\":[165,87,132,140],\"yaxis\":\"y\",\"type\":\"scatter\"},{\"hovertemplate\":\"TargetOrgs=FACEBOOK<br>Week=%{x}<br>SourceIPs=%{y}<extra></extra>\",\"legendgroup\":\"FACEBOOK\",\"line\":{\"color\":\"#3366cc\",\"dash\":\"solid\",\"width\":8},\"marker\":{\"symbol\":\"diamond\",\"size\":18},\"mode\":\"markers+lines\",\"name\":\"FACEBOOK\",\"orientation\":\"v\",\"showlegend\":true,\"x\":[\"Feb 2020\",\"Sept 2020\",\"Sept 2021\"],\"xaxis\":\"x\",\"y\":[275,163,182],\"yaxis\":\"y\",\"type\":\"scatter\"},{\"hovertemplate\":\"TargetOrgs=ASN-GIGENET<br>Week=%{x}<br>SourceIPs=%{y}<extra></extra>\",\"legendgroup\":\"ASN-GIGENET\",\"line\":{\"color\":\"#00cc96\",\"dash\":\"dot\",\"width\":8},\"marker\":{\"symbol\":\"square\",\"size\":18},\"mode\":\"markers+lines\",\"name\":\"ASN-GIGENET\",\"orientation\":\"v\",\"showlegend\":true,\"x\":[\"Feb 2020\"],\"xaxis\":\"x\",\"y\":[4],\"yaxis\":\"y\",\"type\":\"scatter\"},{\"hovertemplate\":\"TargetOrgs=EDGECAST<br>Week=%{x}<br>SourceIPs=%{y}<extra></extra>\",\"legendgroup\":\"EDGECAST\",\"line\":{\"color\":\"#316395\",\"dash\":\"dash\",\"width\":8},\"marker\":{\"symbol\":\"x\",\"size\":18},\"mode\":\"markers+lines\",\"name\":\"EDGECAST\",\"orientation\":\"v\",\"showlegend\":true,\"x\":[\"Feb 2020\",\"Apr 2020\"],\"xaxis\":\"x\",\"y\":[351,202],\"yaxis\":\"y\",\"type\":\"scatter\"},{\"hovertemplate\":\"TargetOrgs=AMAZON<br>Week=%{x}<br>SourceIPs=%{y}<extra></extra>\",\"legendgroup\":\"AMAZON\",\"line\":{\"color\":\"#212E3C\",\"dash\":\"longdash\",\"width\":8},\"marker\":{\"symbol\":\"cross\",\"size\":18},\"mode\":\"markers+lines\",\"name\":\"AMAZON\",\"orientation\":\"v\",\"showlegend\":true,\"x\":[\"Feb 2020\",\"Sept 2020\",\"Sept 2021\"],\"xaxis\":\"x\",\"y\":[345,247,219],\"yaxis\":\"y\",\"type\":\"scatter\"},{\"hovertemplate\":\"TargetOrgs=DROPBOX<br>Week=%{x}<br>SourceIPs=%{y}<extra></extra>\",\"legendgroup\":\"DROPBOX\",\"line\":{\"color\":\"#ab63fa\",\"dash\":\"dashdot\",\"width\":8},\"marker\":{\"symbol\":\"circle\",\"size\":18},\"mode\":\"markers+lines\",\"name\":\"DROPBOX\",\"orientation\":\"v\",\"showlegend\":true,\"x\":[\"Apr 2020\",\"Sept 2020\",\"Sept 2021\"],\"xaxis\":\"x\",\"y\":[54,53,54],\"yaxis\":\"y\",\"type\":\"scatter\"},{\"hovertemplate\":\"TargetOrgs=TWITCH<br>Week=%{x}<br>SourceIPs=%{y}<extra></extra>\",\"legendgroup\":\"TWITCH\",\"line\":{\"color\":\"#FFA15A\",\"dash\":\"longdashdot\",\"width\":8},\"marker\":{\"symbol\":\"diamond\",\"size\":18},\"mode\":\"markers+lines\",\"name\":\"TWITCH\",\"orientation\":\"v\",\"showlegend\":true,\"x\":[\"Apr 2020\"],\"xaxis\":\"x\",\"y\":[8],\"yaxis\":\"y\",\"type\":\"scatter\"},{\"hovertemplate\":\"TargetOrgs=HIGHWINDS<br>Week=%{x}<br>SourceIPs=%{y}<extra></extra>\",\"legendgroup\":\"HIGHWINDS\",\"line\":{\"color\":\"#19d3f3\",\"dash\":\"solid\",\"width\":8},\"marker\":{\"symbol\":\"square\",\"size\":18},\"mode\":\"markers+lines\",\"name\":\"HIGHWINDS\",\"orientation\":\"v\",\"showlegend\":true,\"x\":[\"Apr 2020\"],\"xaxis\":\"x\",\"y\":[188],\"yaxis\":\"y\",\"type\":\"scatter\"},{\"hovertemplate\":\"TargetOrgs=LEVEL3<br>Week=%{x}<br>SourceIPs=%{y}<extra></extra>\",\"legendgroup\":\"LEVEL3\",\"line\":{\"color\":\"#17becf\",\"dash\":\"dot\",\"width\":8},\"marker\":{\"symbol\":\"x\",\"size\":18},\"mode\":\"markers+lines\",\"name\":\"LEVEL3\",\"orientation\":\"v\",\"showlegend\":true,\"x\":[\"Apr 2020\",\"Sept 2020\",\"Sept 2021\"],\"xaxis\":\"x\",\"y\":[145,121,132],\"yaxis\":\"y\",\"type\":\"scatter\"},{\"hovertemplate\":\"TargetOrgs=FASTLY<br>Week=%{x}<br>SourceIPs=%{y}<extra></extra>\",\"legendgroup\":\"FASTLY\",\"line\":{\"color\":\"#8c564b\",\"dash\":\"dash\",\"width\":8},\"marker\":{\"symbol\":\"cross\",\"size\":18},\"mode\":\"markers+lines\",\"name\":\"FASTLY\",\"orientation\":\"v\",\"showlegend\":true,\"x\":[\"Sept 2020\",\"Sept 2021\"],\"xaxis\":\"x\",\"y\":[164,184],\"yaxis\":\"y\",\"type\":\"scatter\"}],                        {\"template\":{\"data\":{\"histogram2dcontour\":[{\"type\":\"histogram2dcontour\",\"colorbar\":{\"outlinewidth\":0,\"ticks\":\"\"},\"colorscale\":[[0.0,\"#0d0887\"],[0.1111111111111111,\"#46039f\"],[0.2222222222222222,\"#7201a8\"],[0.3333333333333333,\"#9c179e\"],[0.4444444444444444,\"#bd3786\"],[0.5555555555555556,\"#d8576b\"],[0.6666666666666666,\"#ed7953\"],[0.7777777777777778,\"#fb9f3a\"],[0.8888888888888888,\"#fdca26\"],[1.0,\"#f0f921\"]]}],\"choropleth\":[{\"type\":\"choropleth\",\"colorbar\":{\"outlinewidth\":0,\"ticks\":\"\"}}],\"histogram2d\":[{\"type\":\"histogram2d\",\"colorbar\":{\"outlinewidth\":0,\"ticks\":\"\"},\"colorscale\":[[0.0,\"#0d0887\"],[0.1111111111111111,\"#46039f\"],[0.2222222222222222,\"#7201a8\"],[0.3333333333333333,\"#9c179e\"],[0.4444444444444444,\"#bd3786\"],[0.5555555555555556,\"#d8576b\"],[0.6666666666666666,\"#ed7953\"],[0.7777777777777778,\"#fb9f3a\"],[0.8888888888888888,\"#fdca26\"],[1.0,\"#f0f921\"]]}],\"heatmap\":[{\"type\":\"heatmap\",\"colorbar\":{\"outlinewidth\":0,\"ticks\":\"\"},\"colorscale\":[[0.0,\"#0d0887\"],[0.1111111111111111,\"#46039f\"],[0.2222222222222222,\"#7201a8\"],[0.3333333333333333,\"#9c179e\"],[0.4444444444444444,\"#bd3786\"],[0.5555555555555556,\"#d8576b\"],[0.6666666666666666,\"#ed7953\"],[0.7777777777777778,\"#fb9f3a\"],[0.8888888888888888,\"#fdca26\"],[1.0,\"#f0f921\"]]}],\"heatmapgl\":[{\"type\":\"heatmapgl\",\"colorbar\":{\"outlinewidth\":0,\"ticks\":\"\"},\"colorscale\":[[0.0,\"#0d0887\"],[0.1111111111111111,\"#46039f\"],[0.2222222222222222,\"#7201a8\"],[0.3333333333333333,\"#9c179e\"],[0.4444444444444444,\"#bd3786\"],[0.5555555555555556,\"#d8576b\"],[0.6666666666666666,\"#ed7953\"],[0.7777777777777778,\"#fb9f3a\"],[0.8888888888888888,\"#fdca26\"],[1.0,\"#f0f921\"]]}],\"contourcarpet\":[{\"type\":\"contourcarpet\",\"colorbar\":{\"outlinewidth\":0,\"ticks\":\"\"}}],\"contour\":[{\"type\":\"contour\",\"colorbar\":{\"outlinewidth\":0,\"ticks\":\"\"},\"colorscale\":[[0.0,\"#0d0887\"],[0.1111111111111111,\"#46039f\"],[0.2222222222222222,\"#7201a8\"],[0.3333333333333333,\"#9c179e\"],[0.4444444444444444,\"#bd3786\"],[0.5555555555555556,\"#d8576b\"],[0.6666666666666666,\"#ed7953\"],[0.7777777777777778,\"#fb9f3a\"],[0.8888888888888888,\"#fdca26\"],[1.0,\"#f0f921\"]]}],\"surface\":[{\"type\":\"surface\",\"colorbar\":{\"outlinewidth\":0,\"ticks\":\"\"},\"colorscale\":[[0.0,\"#0d0887\"],[0.1111111111111111,\"#46039f\"],[0.2222222222222222,\"#7201a8\"],[0.3333333333333333,\"#9c179e\"],[0.4444444444444444,\"#bd3786\"],[0.5555555555555556,\"#d8576b\"],[0.6666666666666666,\"#ed7953\"],[0.7777777777777778,\"#fb9f3a\"],[0.8888888888888888,\"#fdca26\"],[1.0,\"#f0f921\"]]}],\"mesh3d\":[{\"type\":\"mesh3d\",\"colorbar\":{\"outlinewidth\":0,\"ticks\":\"\"}}],\"scatter\":[{\"fillpattern\":{\"fillmode\":\"overlay\",\"size\":10,\"solidity\":0.2},\"type\":\"scatter\"}],\"parcoords\":[{\"type\":\"parcoords\",\"line\":{\"colorbar\":{\"outlinewidth\":0,\"ticks\":\"\"}}}],\"scatterpolargl\":[{\"type\":\"scatterpolargl\",\"marker\":{\"colorbar\":{\"outlinewidth\":0,\"ticks\":\"\"}}}],\"bar\":[{\"error_x\":{\"color\":\"#2a3f5f\"},\"error_y\":{\"color\":\"#2a3f5f\"},\"marker\":{\"line\":{\"color\":\"#E5ECF6\",\"width\":0.5},\"pattern\":{\"fillmode\":\"overlay\",\"size\":10,\"solidity\":0.2}},\"type\":\"bar\"}],\"scattergeo\":[{\"type\":\"scattergeo\",\"marker\":{\"colorbar\":{\"outlinewidth\":0,\"ticks\":\"\"}}}],\"scatterpolar\":[{\"type\":\"scatterpolar\",\"marker\":{\"colorbar\":{\"outlinewidth\":0,\"ticks\":\"\"}}}],\"histogram\":[{\"marker\":{\"pattern\":{\"fillmode\":\"overlay\",\"size\":10,\"solidity\":0.2}},\"type\":\"histogram\"}],\"scattergl\":[{\"type\":\"scattergl\",\"marker\":{\"colorbar\":{\"outlinewidth\":0,\"ticks\":\"\"}}}],\"scatter3d\":[{\"type\":\"scatter3d\",\"line\":{\"colorbar\":{\"outlinewidth\":0,\"ticks\":\"\"}},\"marker\":{\"colorbar\":{\"outlinewidth\":0,\"ticks\":\"\"}}}],\"scattermapbox\":[{\"type\":\"scattermapbox\",\"marker\":{\"colorbar\":{\"outlinewidth\":0,\"ticks\":\"\"}}}],\"scatterternary\":[{\"type\":\"scatterternary\",\"marker\":{\"colorbar\":{\"outlinewidth\":0,\"ticks\":\"\"}}}],\"scattercarpet\":[{\"type\":\"scattercarpet\",\"marker\":{\"colorbar\":{\"outlinewidth\":0,\"ticks\":\"\"}}}],\"carpet\":[{\"aaxis\":{\"endlinecolor\":\"#2a3f5f\",\"gridcolor\":\"white\",\"linecolor\":\"white\",\"minorgridcolor\":\"white\",\"startlinecolor\":\"#2a3f5f\"},\"baxis\":{\"endlinecolor\":\"#2a3f5f\",\"gridcolor\":\"white\",\"linecolor\":\"white\",\"minorgridcolor\":\"white\",\"startlinecolor\":\"#2a3f5f\"},\"type\":\"carpet\"}],\"table\":[{\"cells\":{\"fill\":{\"color\":\"#EBF0F8\"},\"line\":{\"color\":\"white\"}},\"header\":{\"fill\":{\"color\":\"#C8D4E3\"},\"line\":{\"color\":\"white\"}},\"type\":\"table\"}],\"barpolar\":[{\"marker\":{\"line\":{\"color\":\"#E5ECF6\",\"width\":0.5},\"pattern\":{\"fillmode\":\"overlay\",\"size\":10,\"solidity\":0.2}},\"type\":\"barpolar\"}],\"pie\":[{\"automargin\":true,\"type\":\"pie\"}]},\"layout\":{\"autotypenumbers\":\"strict\",\"colorway\":[\"#636efa\",\"#EF553B\",\"#00cc96\",\"#ab63fa\",\"#FFA15A\",\"#19d3f3\",\"#FF6692\",\"#B6E880\",\"#FF97FF\",\"#FECB52\"],\"font\":{\"color\":\"#2a3f5f\"},\"hovermode\":\"closest\",\"hoverlabel\":{\"align\":\"left\"},\"paper_bgcolor\":\"white\",\"plot_bgcolor\":\"#E5ECF6\",\"polar\":{\"bgcolor\":\"#E5ECF6\",\"angularaxis\":{\"gridcolor\":\"white\",\"linecolor\":\"white\",\"ticks\":\"\"},\"radialaxis\":{\"gridcolor\":\"white\",\"linecolor\":\"white\",\"ticks\":\"\"}},\"ternary\":{\"bgcolor\":\"#E5ECF6\",\"aaxis\":{\"gridcolor\":\"white\",\"linecolor\":\"white\",\"ticks\":\"\"},\"baxis\":{\"gridcolor\":\"white\",\"linecolor\":\"white\",\"ticks\":\"\"},\"caxis\":{\"gridcolor\":\"white\",\"linecolor\":\"white\",\"ticks\":\"\"}},\"coloraxis\":{\"colorbar\":{\"outlinewidth\":0,\"ticks\":\"\"}},\"colorscale\":{\"sequential\":[[0.0,\"#0d0887\"],[0.1111111111111111,\"#46039f\"],[0.2222222222222222,\"#7201a8\"],[0.3333333333333333,\"#9c179e\"],[0.4444444444444444,\"#bd3786\"],[0.5555555555555556,\"#d8576b\"],[0.6666666666666666,\"#ed7953\"],[0.7777777777777778,\"#fb9f3a\"],[0.8888888888888888,\"#fdca26\"],[1.0,\"#f0f921\"]],\"sequentialminus\":[[0.0,\"#0d0887\"],[0.1111111111111111,\"#46039f\"],[0.2222222222222222,\"#7201a8\"],[0.3333333333333333,\"#9c179e\"],[0.4444444444444444,\"#bd3786\"],[0.5555555555555556,\"#d8576b\"],[0.6666666666666666,\"#ed7953\"],[0.7777777777777778,\"#fb9f3a\"],[0.8888888888888888,\"#fdca26\"],[1.0,\"#f0f921\"]],\"diverging\":[[0,\"#8e0152\"],[0.1,\"#c51b7d\"],[0.2,\"#de77ae\"],[0.3,\"#f1b6da\"],[0.4,\"#fde0ef\"],[0.5,\"#f7f7f7\"],[0.6,\"#e6f5d0\"],[0.7,\"#b8e186\"],[0.8,\"#7fbc41\"],[0.9,\"#4d9221\"],[1,\"#276419\"]]},\"xaxis\":{\"gridcolor\":\"white\",\"linecolor\":\"white\",\"ticks\":\"\",\"title\":{\"standoff\":15},\"zerolinecolor\":\"white\",\"automargin\":true,\"zerolinewidth\":2},\"yaxis\":{\"gridcolor\":\"white\",\"linecolor\":\"white\",\"ticks\":\"\",\"title\":{\"standoff\":15},\"zerolinecolor\":\"white\",\"automargin\":true,\"zerolinewidth\":2},\"scene\":{\"xaxis\":{\"backgroundcolor\":\"#E5ECF6\",\"gridcolor\":\"white\",\"linecolor\":\"white\",\"showbackground\":true,\"ticks\":\"\",\"zerolinecolor\":\"white\",\"gridwidth\":2},\"yaxis\":{\"backgroundcolor\":\"#E5ECF6\",\"gridcolor\":\"white\",\"linecolor\":\"white\",\"showbackground\":true,\"ticks\":\"\",\"zerolinecolor\":\"white\",\"gridwidth\":2},\"zaxis\":{\"backgroundcolor\":\"#E5ECF6\",\"gridcolor\":\"white\",\"linecolor\":\"white\",\"showbackground\":true,\"ticks\":\"\",\"zerolinecolor\":\"white\",\"gridwidth\":2}},\"shapedefaults\":{\"line\":{\"color\":\"#2a3f5f\"}},\"annotationdefaults\":{\"arrowcolor\":\"#2a3f5f\",\"arrowhead\":0,\"arrowwidth\":1},\"geo\":{\"bgcolor\":\"white\",\"landcolor\":\"#E5ECF6\",\"subunitcolor\":\"white\",\"showland\":true,\"showlakes\":true,\"lakecolor\":\"white\"},\"title\":{\"x\":0.05},\"mapbox\":{\"style\":\"light\"}}},\"xaxis\":{\"anchor\":\"y\",\"domain\":[0.0,1.0],\"title\":{\"text\":\"Week\"},\"showgrid\":true,\"gridwidth\":1,\"gridcolor\":\"LightGray\"},\"yaxis\":{\"anchor\":\"x\",\"domain\":[0.0,1.0],\"title\":{\"text\":\"SourceIPs\"},\"type\":\"log\",\"showgrid\":true,\"gridwidth\":1,\"gridcolor\":\"LightGray\",\"tickvals\":[4,6,8,10,20,40,60,80,100,200,400]},\"legend\":{\"title\":{\"text\":\"TargetOrgs\"},\"tracegroupgap\":0},\"margin\":{\"t\":60},\"height\":900,\"font\":{\"size\":30},\"plot_bgcolor\":\"white\",\"showlegend\":false},                        {\"responsive\": true}                    ).then(function(){\n",
       "                            \n",
       "var gd = document.getElementById('85f8c120-098d-4b9f-b210-45287b9edd3e');\n",
       "var x = new MutationObserver(function (mutations, observer) {{\n",
       "        var display = window.getComputedStyle(gd).display;\n",
       "        if (!display || display === 'none') {{\n",
       "            console.log([gd, 'removed!']);\n",
       "            Plotly.purge(gd);\n",
       "            observer.disconnect();\n",
       "        }}\n",
       "}});\n",
       "\n",
       "// Listen for the removal of the full notebook cells\n",
       "var notebookContainer = gd.closest('#notebook-container');\n",
       "if (notebookContainer) {{\n",
       "    x.observe(notebookContainer, {childList: true});\n",
       "}}\n",
       "\n",
       "// Listen for the clearing of the current output cell\n",
       "var outputEl = gd.closest('.output');\n",
       "if (outputEl) {{\n",
       "    x.observe(outputEl, {childList: true});\n",
       "}}\n",
       "\n",
       "                        })                };                });            </script>        </div>"
      ]
     },
     "metadata": {},
     "output_type": "display_data"
    }
   ],
   "source": [
    "import plotly.express as px\n",
    "import pandas as pd\n",
    "\n",
    "df_orgs_out = pd.read_csv('/Volumes/GoogleDrive/My Drive/Thesis/Plotly/category_Schulich_out_targets.csv')\n",
    "\n",
    "fig_orgs_out_src_ips = px.line(df_orgs_out, x='Week', y='SourceIPs', log_y=True, color='TargetOrgs',\n",
    "                             color_discrete_map={'APPLE': '#7f7f7f', 'NETFLIX': '#dc3912', 'AKAMAI': '#ff9900',\n",
    "                                                 'CANARIE': '#fb00d1', 'FACEBOOK': '#3366cc', 'GOOGLE': '#109618',\n",
    "                                                 'AMAZON': '#212E3C', 'FASTLY': '#8c564b', 'LEVEL3': '#17becf',\n",
    "                                                 'MICROSOFT': '#990099', 'EDGECAST': '#316395',\n",
    "                                                 'VALVE-CORPORATION': '#bcbd22'},\n",
    "                             markers=True, line_dash='TargetOrgs', symbol='TargetOrgs', height=900)\n",
    "fig_orgs_out_src_ips.update_layout(plot_bgcolor='white', font_size=30, showlegend=False)\n",
    "fig_orgs_out_src_ips.update_xaxes(showgrid=True, gridwidth=1, gridcolor='LightGray')\n",
    "fig_orgs_out_src_ips.update_yaxes(showgrid=True, gridwidth=1, gridcolor='LightGray',\n",
    "                               tickvals=[4, 6, 8, 10, 20, 40, 60, 80, 100, 200, 400])\n",
    "fig_orgs_out_src_ips.update_traces(line_width=8, marker_size=18)\n",
    "\n",
    "fig_orgs_out_src_ips.show()"
   ]
  },
  {
   "cell_type": "code",
   "execution_count": 5,
   "id": "ca585c1a",
   "metadata": {},
   "outputs": [
    {
     "data": {
      "application/vnd.plotly.v1+json": {
       "config": {
        "plotlyServerURL": "https://plot.ly"
       },
       "data": [
        {
         "hovertemplate": "TargetOrgs=MICROSOFT<br>Week=%{x}<br>TotalBytes=%{y}<extra></extra>",
         "legendgroup": "MICROSOFT",
         "line": {
          "color": "#990099",
          "dash": "solid",
          "width": 8
         },
         "marker": {
          "size": 18,
          "symbol": "circle"
         },
         "mode": "markers+lines",
         "name": "MICROSOFT",
         "orientation": "v",
         "showlegend": true,
         "type": "scatter",
         "x": [
          "Feb 2020"
         ],
         "xaxis": "x",
         "y": [
          175391152437
         ],
         "yaxis": "y"
        },
        {
         "hovertemplate": "TargetOrgs=NETFLIX<br>Week=%{x}<br>TotalBytes=%{y}<extra></extra>",
         "legendgroup": "NETFLIX",
         "line": {
          "color": "#dc3912",
          "dash": "dot",
          "width": 8
         },
         "marker": {
          "size": 18,
          "symbol": "diamond"
         },
         "mode": "markers+lines",
         "name": "NETFLIX",
         "orientation": "v",
         "showlegend": true,
         "type": "scatter",
         "x": [
          "Feb 2020",
          "Apr 2020",
          "Sept 2020",
          "Sept 2021"
         ],
         "xaxis": "x",
         "y": [
          140983425335,
          70036348778,
          153554527599,
          132001254702
         ],
         "yaxis": "y"
        },
        {
         "hovertemplate": "TargetOrgs=AKAMAI<br>Week=%{x}<br>TotalBytes=%{y}<extra></extra>",
         "legendgroup": "AKAMAI",
         "line": {
          "color": "#ff9900",
          "dash": "dash",
          "width": 8
         },
         "marker": {
          "size": 18,
          "symbol": "square"
         },
         "mode": "markers+lines",
         "name": "AKAMAI",
         "orientation": "v",
         "showlegend": true,
         "type": "scatter",
         "x": [
          "Feb 2020",
          "Apr 2020",
          "Sept 2020",
          "Sept 2021"
         ],
         "xaxis": "x",
         "y": [
          118444218164,
          88652859218,
          103665700696,
          115443399483
         ],
         "yaxis": "y"
        },
        {
         "hovertemplate": "TargetOrgs=GOOGLE<br>Week=%{x}<br>TotalBytes=%{y}<extra></extra>",
         "legendgroup": "GOOGLE",
         "line": {
          "color": "#109618",
          "dash": "longdash",
          "width": 8
         },
         "marker": {
          "size": 18,
          "symbol": "x"
         },
         "mode": "markers+lines",
         "name": "GOOGLE",
         "orientation": "v",
         "showlegend": true,
         "type": "scatter",
         "x": [
          "Feb 2020",
          "Apr 2020",
          "Sept 2020",
          "Sept 2021"
         ],
         "xaxis": "x",
         "y": [
          107827765636,
          59916718815,
          176264165949,
          124484417566
         ],
         "yaxis": "y"
        },
        {
         "hovertemplate": "TargetOrgs=CANARIE<br>Week=%{x}<br>TotalBytes=%{y}<extra></extra>",
         "legendgroup": "CANARIE",
         "line": {
          "color": "#fb00d1",
          "dash": "dashdot",
          "width": 8
         },
         "marker": {
          "size": 18,
          "symbol": "cross"
         },
         "mode": "markers+lines",
         "name": "CANARIE",
         "orientation": "v",
         "showlegend": true,
         "type": "scatter",
         "x": [
          "Feb 2020",
          "Apr 2020",
          "Sept 2020",
          "Sept 2021"
         ],
         "xaxis": "x",
         "y": [
          82659755881,
          55870226002,
          86716752961,
          67805589970
         ],
         "yaxis": "y"
        },
        {
         "hovertemplate": "TargetOrgs=APPLE<br>Week=%{x}<br>TotalBytes=%{y}<extra></extra>",
         "legendgroup": "APPLE",
         "line": {
          "color": "#7f7f7f",
          "dash": "longdashdot",
          "width": 8
         },
         "marker": {
          "size": 18,
          "symbol": "circle"
         },
         "mode": "markers+lines",
         "name": "APPLE",
         "orientation": "v",
         "showlegend": true,
         "type": "scatter",
         "x": [
          "Feb 2020",
          "Apr 2020",
          "Sept 2020",
          "Sept 2021"
         ],
         "xaxis": "x",
         "y": [
          61287671760,
          35982445505,
          176657487826,
          79384389939
         ],
         "yaxis": "y"
        },
        {
         "hovertemplate": "TargetOrgs=FACEBOOK<br>Week=%{x}<br>TotalBytes=%{y}<extra></extra>",
         "legendgroup": "FACEBOOK",
         "line": {
          "color": "#3366cc",
          "dash": "solid",
          "width": 8
         },
         "marker": {
          "size": 18,
          "symbol": "diamond"
         },
         "mode": "markers+lines",
         "name": "FACEBOOK",
         "orientation": "v",
         "showlegend": true,
         "type": "scatter",
         "x": [
          "Feb 2020",
          "Sept 2020",
          "Sept 2021"
         ],
         "xaxis": "x",
         "y": [
          52731642414,
          62605783442,
          67789222870
         ],
         "yaxis": "y"
        },
        {
         "hovertemplate": "TargetOrgs=ASN-GIGENET<br>Week=%{x}<br>TotalBytes=%{y}<extra></extra>",
         "legendgroup": "ASN-GIGENET",
         "line": {
          "color": "#00cc96",
          "dash": "dot",
          "width": 8
         },
         "marker": {
          "size": 18,
          "symbol": "square"
         },
         "mode": "markers+lines",
         "name": "ASN-GIGENET",
         "orientation": "v",
         "showlegend": true,
         "type": "scatter",
         "x": [
          "Feb 2020"
         ],
         "xaxis": "x",
         "y": [
          50676985933
         ],
         "yaxis": "y"
        },
        {
         "hovertemplate": "TargetOrgs=EDGECAST<br>Week=%{x}<br>TotalBytes=%{y}<extra></extra>",
         "legendgroup": "EDGECAST",
         "line": {
          "color": "#316395",
          "dash": "dash",
          "width": 8
         },
         "marker": {
          "size": 18,
          "symbol": "x"
         },
         "mode": "markers+lines",
         "name": "EDGECAST",
         "orientation": "v",
         "showlegend": true,
         "type": "scatter",
         "x": [
          "Feb 2020",
          "Apr 2020"
         ],
         "xaxis": "x",
         "y": [
          41819258783,
          32309406881
         ],
         "yaxis": "y"
        },
        {
         "hovertemplate": "TargetOrgs=AMAZON<br>Week=%{x}<br>TotalBytes=%{y}<extra></extra>",
         "legendgroup": "AMAZON",
         "line": {
          "color": "#212E3C",
          "dash": "longdash",
          "width": 8
         },
         "marker": {
          "size": 18,
          "symbol": "cross"
         },
         "mode": "markers+lines",
         "name": "AMAZON",
         "orientation": "v",
         "showlegend": true,
         "type": "scatter",
         "x": [
          "Feb 2020",
          "Sept 2020",
          "Sept 2021"
         ],
         "xaxis": "x",
         "y": [
          38072167232,
          268489455480,
          104024231982
         ],
         "yaxis": "y"
        },
        {
         "hovertemplate": "TargetOrgs=DROPBOX<br>Week=%{x}<br>TotalBytes=%{y}<extra></extra>",
         "legendgroup": "DROPBOX",
         "line": {
          "color": "#ab63fa",
          "dash": "dashdot",
          "width": 8
         },
         "marker": {
          "size": 18,
          "symbol": "circle"
         },
         "mode": "markers+lines",
         "name": "DROPBOX",
         "orientation": "v",
         "showlegend": true,
         "type": "scatter",
         "x": [
          "Apr 2020",
          "Sept 2020",
          "Sept 2021"
         ],
         "xaxis": "x",
         "y": [
          98689618484,
          53025862508,
          158887539847
         ],
         "yaxis": "y"
        },
        {
         "hovertemplate": "TargetOrgs=TWITCH<br>Week=%{x}<br>TotalBytes=%{y}<extra></extra>",
         "legendgroup": "TWITCH",
         "line": {
          "color": "#FFA15A",
          "dash": "longdashdot",
          "width": 8
         },
         "marker": {
          "size": 18,
          "symbol": "diamond"
         },
         "mode": "markers+lines",
         "name": "TWITCH",
         "orientation": "v",
         "showlegend": true,
         "type": "scatter",
         "x": [
          "Apr 2020"
         ],
         "xaxis": "x",
         "y": [
          22273776786
         ],
         "yaxis": "y"
        },
        {
         "hovertemplate": "TargetOrgs=HIGHWINDS<br>Week=%{x}<br>TotalBytes=%{y}<extra></extra>",
         "legendgroup": "HIGHWINDS",
         "line": {
          "color": "#19d3f3",
          "dash": "solid",
          "width": 8
         },
         "marker": {
          "size": 18,
          "symbol": "square"
         },
         "mode": "markers+lines",
         "name": "HIGHWINDS",
         "orientation": "v",
         "showlegend": true,
         "type": "scatter",
         "x": [
          "Apr 2020"
         ],
         "xaxis": "x",
         "y": [
          21158656587
         ],
         "yaxis": "y"
        },
        {
         "hovertemplate": "TargetOrgs=LEVEL3<br>Week=%{x}<br>TotalBytes=%{y}<extra></extra>",
         "legendgroup": "LEVEL3",
         "line": {
          "color": "#17becf",
          "dash": "dot",
          "width": 8
         },
         "marker": {
          "size": 18,
          "symbol": "x"
         },
         "mode": "markers+lines",
         "name": "LEVEL3",
         "orientation": "v",
         "showlegend": true,
         "type": "scatter",
         "x": [
          "Apr 2020",
          "Sept 2020",
          "Sept 2021"
         ],
         "xaxis": "x",
         "y": [
          19174804316,
          76603570110,
          53057316407
         ],
         "yaxis": "y"
        },
        {
         "hovertemplate": "TargetOrgs=FASTLY<br>Week=%{x}<br>TotalBytes=%{y}<extra></extra>",
         "legendgroup": "FASTLY",
         "line": {
          "color": "#8c564b",
          "dash": "dash",
          "width": 8
         },
         "marker": {
          "size": 18,
          "symbol": "cross"
         },
         "mode": "markers+lines",
         "name": "FASTLY",
         "orientation": "v",
         "showlegend": true,
         "type": "scatter",
         "x": [
          "Sept 2020",
          "Sept 2021"
         ],
         "xaxis": "x",
         "y": [
          62693211742,
          44706944393
         ],
         "yaxis": "y"
        }
       ],
       "layout": {
        "font": {
         "size": 30
        },
        "height": 900,
        "legend": {
         "itemwidth": 80,
         "title": {
          "text": "TargetOrgs"
         },
         "tracegroupgap": 0
        },
        "margin": {
         "t": 60
        },
        "plot_bgcolor": "white",
        "template": {
         "data": {
          "bar": [
           {
            "error_x": {
             "color": "#2a3f5f"
            },
            "error_y": {
             "color": "#2a3f5f"
            },
            "marker": {
             "line": {
              "color": "#E5ECF6",
              "width": 0.5
             },
             "pattern": {
              "fillmode": "overlay",
              "size": 10,
              "solidity": 0.2
             }
            },
            "type": "bar"
           }
          ],
          "barpolar": [
           {
            "marker": {
             "line": {
              "color": "#E5ECF6",
              "width": 0.5
             },
             "pattern": {
              "fillmode": "overlay",
              "size": 10,
              "solidity": 0.2
             }
            },
            "type": "barpolar"
           }
          ],
          "carpet": [
           {
            "aaxis": {
             "endlinecolor": "#2a3f5f",
             "gridcolor": "white",
             "linecolor": "white",
             "minorgridcolor": "white",
             "startlinecolor": "#2a3f5f"
            },
            "baxis": {
             "endlinecolor": "#2a3f5f",
             "gridcolor": "white",
             "linecolor": "white",
             "minorgridcolor": "white",
             "startlinecolor": "#2a3f5f"
            },
            "type": "carpet"
           }
          ],
          "choropleth": [
           {
            "colorbar": {
             "outlinewidth": 0,
             "ticks": ""
            },
            "type": "choropleth"
           }
          ],
          "contour": [
           {
            "colorbar": {
             "outlinewidth": 0,
             "ticks": ""
            },
            "colorscale": [
             [
              0,
              "#0d0887"
             ],
             [
              0.1111111111111111,
              "#46039f"
             ],
             [
              0.2222222222222222,
              "#7201a8"
             ],
             [
              0.3333333333333333,
              "#9c179e"
             ],
             [
              0.4444444444444444,
              "#bd3786"
             ],
             [
              0.5555555555555556,
              "#d8576b"
             ],
             [
              0.6666666666666666,
              "#ed7953"
             ],
             [
              0.7777777777777778,
              "#fb9f3a"
             ],
             [
              0.8888888888888888,
              "#fdca26"
             ],
             [
              1,
              "#f0f921"
             ]
            ],
            "type": "contour"
           }
          ],
          "contourcarpet": [
           {
            "colorbar": {
             "outlinewidth": 0,
             "ticks": ""
            },
            "type": "contourcarpet"
           }
          ],
          "heatmap": [
           {
            "colorbar": {
             "outlinewidth": 0,
             "ticks": ""
            },
            "colorscale": [
             [
              0,
              "#0d0887"
             ],
             [
              0.1111111111111111,
              "#46039f"
             ],
             [
              0.2222222222222222,
              "#7201a8"
             ],
             [
              0.3333333333333333,
              "#9c179e"
             ],
             [
              0.4444444444444444,
              "#bd3786"
             ],
             [
              0.5555555555555556,
              "#d8576b"
             ],
             [
              0.6666666666666666,
              "#ed7953"
             ],
             [
              0.7777777777777778,
              "#fb9f3a"
             ],
             [
              0.8888888888888888,
              "#fdca26"
             ],
             [
              1,
              "#f0f921"
             ]
            ],
            "type": "heatmap"
           }
          ],
          "heatmapgl": [
           {
            "colorbar": {
             "outlinewidth": 0,
             "ticks": ""
            },
            "colorscale": [
             [
              0,
              "#0d0887"
             ],
             [
              0.1111111111111111,
              "#46039f"
             ],
             [
              0.2222222222222222,
              "#7201a8"
             ],
             [
              0.3333333333333333,
              "#9c179e"
             ],
             [
              0.4444444444444444,
              "#bd3786"
             ],
             [
              0.5555555555555556,
              "#d8576b"
             ],
             [
              0.6666666666666666,
              "#ed7953"
             ],
             [
              0.7777777777777778,
              "#fb9f3a"
             ],
             [
              0.8888888888888888,
              "#fdca26"
             ],
             [
              1,
              "#f0f921"
             ]
            ],
            "type": "heatmapgl"
           }
          ],
          "histogram": [
           {
            "marker": {
             "pattern": {
              "fillmode": "overlay",
              "size": 10,
              "solidity": 0.2
             }
            },
            "type": "histogram"
           }
          ],
          "histogram2d": [
           {
            "colorbar": {
             "outlinewidth": 0,
             "ticks": ""
            },
            "colorscale": [
             [
              0,
              "#0d0887"
             ],
             [
              0.1111111111111111,
              "#46039f"
             ],
             [
              0.2222222222222222,
              "#7201a8"
             ],
             [
              0.3333333333333333,
              "#9c179e"
             ],
             [
              0.4444444444444444,
              "#bd3786"
             ],
             [
              0.5555555555555556,
              "#d8576b"
             ],
             [
              0.6666666666666666,
              "#ed7953"
             ],
             [
              0.7777777777777778,
              "#fb9f3a"
             ],
             [
              0.8888888888888888,
              "#fdca26"
             ],
             [
              1,
              "#f0f921"
             ]
            ],
            "type": "histogram2d"
           }
          ],
          "histogram2dcontour": [
           {
            "colorbar": {
             "outlinewidth": 0,
             "ticks": ""
            },
            "colorscale": [
             [
              0,
              "#0d0887"
             ],
             [
              0.1111111111111111,
              "#46039f"
             ],
             [
              0.2222222222222222,
              "#7201a8"
             ],
             [
              0.3333333333333333,
              "#9c179e"
             ],
             [
              0.4444444444444444,
              "#bd3786"
             ],
             [
              0.5555555555555556,
              "#d8576b"
             ],
             [
              0.6666666666666666,
              "#ed7953"
             ],
             [
              0.7777777777777778,
              "#fb9f3a"
             ],
             [
              0.8888888888888888,
              "#fdca26"
             ],
             [
              1,
              "#f0f921"
             ]
            ],
            "type": "histogram2dcontour"
           }
          ],
          "mesh3d": [
           {
            "colorbar": {
             "outlinewidth": 0,
             "ticks": ""
            },
            "type": "mesh3d"
           }
          ],
          "parcoords": [
           {
            "line": {
             "colorbar": {
              "outlinewidth": 0,
              "ticks": ""
             }
            },
            "type": "parcoords"
           }
          ],
          "pie": [
           {
            "automargin": true,
            "type": "pie"
           }
          ],
          "scatter": [
           {
            "fillpattern": {
             "fillmode": "overlay",
             "size": 10,
             "solidity": 0.2
            },
            "type": "scatter"
           }
          ],
          "scatter3d": [
           {
            "line": {
             "colorbar": {
              "outlinewidth": 0,
              "ticks": ""
             }
            },
            "marker": {
             "colorbar": {
              "outlinewidth": 0,
              "ticks": ""
             }
            },
            "type": "scatter3d"
           }
          ],
          "scattercarpet": [
           {
            "marker": {
             "colorbar": {
              "outlinewidth": 0,
              "ticks": ""
             }
            },
            "type": "scattercarpet"
           }
          ],
          "scattergeo": [
           {
            "marker": {
             "colorbar": {
              "outlinewidth": 0,
              "ticks": ""
             }
            },
            "type": "scattergeo"
           }
          ],
          "scattergl": [
           {
            "marker": {
             "colorbar": {
              "outlinewidth": 0,
              "ticks": ""
             }
            },
            "type": "scattergl"
           }
          ],
          "scattermapbox": [
           {
            "marker": {
             "colorbar": {
              "outlinewidth": 0,
              "ticks": ""
             }
            },
            "type": "scattermapbox"
           }
          ],
          "scatterpolar": [
           {
            "marker": {
             "colorbar": {
              "outlinewidth": 0,
              "ticks": ""
             }
            },
            "type": "scatterpolar"
           }
          ],
          "scatterpolargl": [
           {
            "marker": {
             "colorbar": {
              "outlinewidth": 0,
              "ticks": ""
             }
            },
            "type": "scatterpolargl"
           }
          ],
          "scatterternary": [
           {
            "marker": {
             "colorbar": {
              "outlinewidth": 0,
              "ticks": ""
             }
            },
            "type": "scatterternary"
           }
          ],
          "surface": [
           {
            "colorbar": {
             "outlinewidth": 0,
             "ticks": ""
            },
            "colorscale": [
             [
              0,
              "#0d0887"
             ],
             [
              0.1111111111111111,
              "#46039f"
             ],
             [
              0.2222222222222222,
              "#7201a8"
             ],
             [
              0.3333333333333333,
              "#9c179e"
             ],
             [
              0.4444444444444444,
              "#bd3786"
             ],
             [
              0.5555555555555556,
              "#d8576b"
             ],
             [
              0.6666666666666666,
              "#ed7953"
             ],
             [
              0.7777777777777778,
              "#fb9f3a"
             ],
             [
              0.8888888888888888,
              "#fdca26"
             ],
             [
              1,
              "#f0f921"
             ]
            ],
            "type": "surface"
           }
          ],
          "table": [
           {
            "cells": {
             "fill": {
              "color": "#EBF0F8"
             },
             "line": {
              "color": "white"
             }
            },
            "header": {
             "fill": {
              "color": "#C8D4E3"
             },
             "line": {
              "color": "white"
             }
            },
            "type": "table"
           }
          ]
         },
         "layout": {
          "annotationdefaults": {
           "arrowcolor": "#2a3f5f",
           "arrowhead": 0,
           "arrowwidth": 1
          },
          "autotypenumbers": "strict",
          "coloraxis": {
           "colorbar": {
            "outlinewidth": 0,
            "ticks": ""
           }
          },
          "colorscale": {
           "diverging": [
            [
             0,
             "#8e0152"
            ],
            [
             0.1,
             "#c51b7d"
            ],
            [
             0.2,
             "#de77ae"
            ],
            [
             0.3,
             "#f1b6da"
            ],
            [
             0.4,
             "#fde0ef"
            ],
            [
             0.5,
             "#f7f7f7"
            ],
            [
             0.6,
             "#e6f5d0"
            ],
            [
             0.7,
             "#b8e186"
            ],
            [
             0.8,
             "#7fbc41"
            ],
            [
             0.9,
             "#4d9221"
            ],
            [
             1,
             "#276419"
            ]
           ],
           "sequential": [
            [
             0,
             "#0d0887"
            ],
            [
             0.1111111111111111,
             "#46039f"
            ],
            [
             0.2222222222222222,
             "#7201a8"
            ],
            [
             0.3333333333333333,
             "#9c179e"
            ],
            [
             0.4444444444444444,
             "#bd3786"
            ],
            [
             0.5555555555555556,
             "#d8576b"
            ],
            [
             0.6666666666666666,
             "#ed7953"
            ],
            [
             0.7777777777777778,
             "#fb9f3a"
            ],
            [
             0.8888888888888888,
             "#fdca26"
            ],
            [
             1,
             "#f0f921"
            ]
           ],
           "sequentialminus": [
            [
             0,
             "#0d0887"
            ],
            [
             0.1111111111111111,
             "#46039f"
            ],
            [
             0.2222222222222222,
             "#7201a8"
            ],
            [
             0.3333333333333333,
             "#9c179e"
            ],
            [
             0.4444444444444444,
             "#bd3786"
            ],
            [
             0.5555555555555556,
             "#d8576b"
            ],
            [
             0.6666666666666666,
             "#ed7953"
            ],
            [
             0.7777777777777778,
             "#fb9f3a"
            ],
            [
             0.8888888888888888,
             "#fdca26"
            ],
            [
             1,
             "#f0f921"
            ]
           ]
          },
          "colorway": [
           "#636efa",
           "#EF553B",
           "#00cc96",
           "#ab63fa",
           "#FFA15A",
           "#19d3f3",
           "#FF6692",
           "#B6E880",
           "#FF97FF",
           "#FECB52"
          ],
          "font": {
           "color": "#2a3f5f"
          },
          "geo": {
           "bgcolor": "white",
           "lakecolor": "white",
           "landcolor": "#E5ECF6",
           "showlakes": true,
           "showland": true,
           "subunitcolor": "white"
          },
          "hoverlabel": {
           "align": "left"
          },
          "hovermode": "closest",
          "mapbox": {
           "style": "light"
          },
          "paper_bgcolor": "white",
          "plot_bgcolor": "#E5ECF6",
          "polar": {
           "angularaxis": {
            "gridcolor": "white",
            "linecolor": "white",
            "ticks": ""
           },
           "bgcolor": "#E5ECF6",
           "radialaxis": {
            "gridcolor": "white",
            "linecolor": "white",
            "ticks": ""
           }
          },
          "scene": {
           "xaxis": {
            "backgroundcolor": "#E5ECF6",
            "gridcolor": "white",
            "gridwidth": 2,
            "linecolor": "white",
            "showbackground": true,
            "ticks": "",
            "zerolinecolor": "white"
           },
           "yaxis": {
            "backgroundcolor": "#E5ECF6",
            "gridcolor": "white",
            "gridwidth": 2,
            "linecolor": "white",
            "showbackground": true,
            "ticks": "",
            "zerolinecolor": "white"
           },
           "zaxis": {
            "backgroundcolor": "#E5ECF6",
            "gridcolor": "white",
            "gridwidth": 2,
            "linecolor": "white",
            "showbackground": true,
            "ticks": "",
            "zerolinecolor": "white"
           }
          },
          "shapedefaults": {
           "line": {
            "color": "#2a3f5f"
           }
          },
          "ternary": {
           "aaxis": {
            "gridcolor": "white",
            "linecolor": "white",
            "ticks": ""
           },
           "baxis": {
            "gridcolor": "white",
            "linecolor": "white",
            "ticks": ""
           },
           "bgcolor": "#E5ECF6",
           "caxis": {
            "gridcolor": "white",
            "linecolor": "white",
            "ticks": ""
           }
          },
          "title": {
           "x": 0.05
          },
          "xaxis": {
           "automargin": true,
           "gridcolor": "white",
           "linecolor": "white",
           "ticks": "",
           "title": {
            "standoff": 15
           },
           "zerolinecolor": "white",
           "zerolinewidth": 2
          },
          "yaxis": {
           "automargin": true,
           "gridcolor": "white",
           "linecolor": "white",
           "ticks": "",
           "title": {
            "standoff": 15
           },
           "zerolinecolor": "white",
           "zerolinewidth": 2
          }
         }
        },
        "width": 1300,
        "xaxis": {
         "anchor": "y",
         "domain": [
          0,
          1
         ],
         "gridcolor": "LightGray",
         "gridwidth": 1,
         "showgrid": true,
         "title": {
          "text": "Week"
         }
        },
        "yaxis": {
         "anchor": "x",
         "domain": [
          0,
          1
         ],
         "gridcolor": "LightGray",
         "gridwidth": 1,
         "showgrid": true,
         "ticktext": [
          "10 GB",
          "20 GB",
          "30 GB",
          "40 GB",
          "50 GB",
          "60 GB",
          "70 GB",
          "80 GB",
          "90 GB",
          "100 GB",
          "200 GB",
          "300 GB"
         ],
         "tickvals": [
          10737418240,
          21474836480,
          32212254720,
          42949672960,
          53687091200,
          64424509440,
          75161927680,
          85899345920,
          96636764160,
          107374182400,
          214748364800,
          322122547200
         ],
         "title": {
          "text": "TotalBytes"
         },
         "type": "log"
        }
       }
      },
      "text/html": [
       "<div>                            <div id=\"6d5fc930-b09e-4518-bade-8e46b7730711\" class=\"plotly-graph-div\" style=\"height:900px; width:1300px;\"></div>            <script type=\"text/javascript\">                require([\"plotly\"], function(Plotly) {                    window.PLOTLYENV=window.PLOTLYENV || {};                                    if (document.getElementById(\"6d5fc930-b09e-4518-bade-8e46b7730711\")) {                    Plotly.newPlot(                        \"6d5fc930-b09e-4518-bade-8e46b7730711\",                        [{\"hovertemplate\":\"TargetOrgs=MICROSOFT<br>Week=%{x}<br>TotalBytes=%{y}<extra></extra>\",\"legendgroup\":\"MICROSOFT\",\"line\":{\"color\":\"#990099\",\"dash\":\"solid\",\"width\":8},\"marker\":{\"symbol\":\"circle\",\"size\":18},\"mode\":\"markers+lines\",\"name\":\"MICROSOFT\",\"orientation\":\"v\",\"showlegend\":true,\"x\":[\"Feb 2020\"],\"xaxis\":\"x\",\"y\":[175391152437],\"yaxis\":\"y\",\"type\":\"scatter\"},{\"hovertemplate\":\"TargetOrgs=NETFLIX<br>Week=%{x}<br>TotalBytes=%{y}<extra></extra>\",\"legendgroup\":\"NETFLIX\",\"line\":{\"color\":\"#dc3912\",\"dash\":\"dot\",\"width\":8},\"marker\":{\"symbol\":\"diamond\",\"size\":18},\"mode\":\"markers+lines\",\"name\":\"NETFLIX\",\"orientation\":\"v\",\"showlegend\":true,\"x\":[\"Feb 2020\",\"Apr 2020\",\"Sept 2020\",\"Sept 2021\"],\"xaxis\":\"x\",\"y\":[140983425335,70036348778,153554527599,132001254702],\"yaxis\":\"y\",\"type\":\"scatter\"},{\"hovertemplate\":\"TargetOrgs=AKAMAI<br>Week=%{x}<br>TotalBytes=%{y}<extra></extra>\",\"legendgroup\":\"AKAMAI\",\"line\":{\"color\":\"#ff9900\",\"dash\":\"dash\",\"width\":8},\"marker\":{\"symbol\":\"square\",\"size\":18},\"mode\":\"markers+lines\",\"name\":\"AKAMAI\",\"orientation\":\"v\",\"showlegend\":true,\"x\":[\"Feb 2020\",\"Apr 2020\",\"Sept 2020\",\"Sept 2021\"],\"xaxis\":\"x\",\"y\":[118444218164,88652859218,103665700696,115443399483],\"yaxis\":\"y\",\"type\":\"scatter\"},{\"hovertemplate\":\"TargetOrgs=GOOGLE<br>Week=%{x}<br>TotalBytes=%{y}<extra></extra>\",\"legendgroup\":\"GOOGLE\",\"line\":{\"color\":\"#109618\",\"dash\":\"longdash\",\"width\":8},\"marker\":{\"symbol\":\"x\",\"size\":18},\"mode\":\"markers+lines\",\"name\":\"GOOGLE\",\"orientation\":\"v\",\"showlegend\":true,\"x\":[\"Feb 2020\",\"Apr 2020\",\"Sept 2020\",\"Sept 2021\"],\"xaxis\":\"x\",\"y\":[107827765636,59916718815,176264165949,124484417566],\"yaxis\":\"y\",\"type\":\"scatter\"},{\"hovertemplate\":\"TargetOrgs=CANARIE<br>Week=%{x}<br>TotalBytes=%{y}<extra></extra>\",\"legendgroup\":\"CANARIE\",\"line\":{\"color\":\"#fb00d1\",\"dash\":\"dashdot\",\"width\":8},\"marker\":{\"symbol\":\"cross\",\"size\":18},\"mode\":\"markers+lines\",\"name\":\"CANARIE\",\"orientation\":\"v\",\"showlegend\":true,\"x\":[\"Feb 2020\",\"Apr 2020\",\"Sept 2020\",\"Sept 2021\"],\"xaxis\":\"x\",\"y\":[82659755881,55870226002,86716752961,67805589970],\"yaxis\":\"y\",\"type\":\"scatter\"},{\"hovertemplate\":\"TargetOrgs=APPLE<br>Week=%{x}<br>TotalBytes=%{y}<extra></extra>\",\"legendgroup\":\"APPLE\",\"line\":{\"color\":\"#7f7f7f\",\"dash\":\"longdashdot\",\"width\":8},\"marker\":{\"symbol\":\"circle\",\"size\":18},\"mode\":\"markers+lines\",\"name\":\"APPLE\",\"orientation\":\"v\",\"showlegend\":true,\"x\":[\"Feb 2020\",\"Apr 2020\",\"Sept 2020\",\"Sept 2021\"],\"xaxis\":\"x\",\"y\":[61287671760,35982445505,176657487826,79384389939],\"yaxis\":\"y\",\"type\":\"scatter\"},{\"hovertemplate\":\"TargetOrgs=FACEBOOK<br>Week=%{x}<br>TotalBytes=%{y}<extra></extra>\",\"legendgroup\":\"FACEBOOK\",\"line\":{\"color\":\"#3366cc\",\"dash\":\"solid\",\"width\":8},\"marker\":{\"symbol\":\"diamond\",\"size\":18},\"mode\":\"markers+lines\",\"name\":\"FACEBOOK\",\"orientation\":\"v\",\"showlegend\":true,\"x\":[\"Feb 2020\",\"Sept 2020\",\"Sept 2021\"],\"xaxis\":\"x\",\"y\":[52731642414,62605783442,67789222870],\"yaxis\":\"y\",\"type\":\"scatter\"},{\"hovertemplate\":\"TargetOrgs=ASN-GIGENET<br>Week=%{x}<br>TotalBytes=%{y}<extra></extra>\",\"legendgroup\":\"ASN-GIGENET\",\"line\":{\"color\":\"#00cc96\",\"dash\":\"dot\",\"width\":8},\"marker\":{\"symbol\":\"square\",\"size\":18},\"mode\":\"markers+lines\",\"name\":\"ASN-GIGENET\",\"orientation\":\"v\",\"showlegend\":true,\"x\":[\"Feb 2020\"],\"xaxis\":\"x\",\"y\":[50676985933],\"yaxis\":\"y\",\"type\":\"scatter\"},{\"hovertemplate\":\"TargetOrgs=EDGECAST<br>Week=%{x}<br>TotalBytes=%{y}<extra></extra>\",\"legendgroup\":\"EDGECAST\",\"line\":{\"color\":\"#316395\",\"dash\":\"dash\",\"width\":8},\"marker\":{\"symbol\":\"x\",\"size\":18},\"mode\":\"markers+lines\",\"name\":\"EDGECAST\",\"orientation\":\"v\",\"showlegend\":true,\"x\":[\"Feb 2020\",\"Apr 2020\"],\"xaxis\":\"x\",\"y\":[41819258783,32309406881],\"yaxis\":\"y\",\"type\":\"scatter\"},{\"hovertemplate\":\"TargetOrgs=AMAZON<br>Week=%{x}<br>TotalBytes=%{y}<extra></extra>\",\"legendgroup\":\"AMAZON\",\"line\":{\"color\":\"#212E3C\",\"dash\":\"longdash\",\"width\":8},\"marker\":{\"symbol\":\"cross\",\"size\":18},\"mode\":\"markers+lines\",\"name\":\"AMAZON\",\"orientation\":\"v\",\"showlegend\":true,\"x\":[\"Feb 2020\",\"Sept 2020\",\"Sept 2021\"],\"xaxis\":\"x\",\"y\":[38072167232,268489455480,104024231982],\"yaxis\":\"y\",\"type\":\"scatter\"},{\"hovertemplate\":\"TargetOrgs=DROPBOX<br>Week=%{x}<br>TotalBytes=%{y}<extra></extra>\",\"legendgroup\":\"DROPBOX\",\"line\":{\"color\":\"#ab63fa\",\"dash\":\"dashdot\",\"width\":8},\"marker\":{\"symbol\":\"circle\",\"size\":18},\"mode\":\"markers+lines\",\"name\":\"DROPBOX\",\"orientation\":\"v\",\"showlegend\":true,\"x\":[\"Apr 2020\",\"Sept 2020\",\"Sept 2021\"],\"xaxis\":\"x\",\"y\":[98689618484,53025862508,158887539847],\"yaxis\":\"y\",\"type\":\"scatter\"},{\"hovertemplate\":\"TargetOrgs=TWITCH<br>Week=%{x}<br>TotalBytes=%{y}<extra></extra>\",\"legendgroup\":\"TWITCH\",\"line\":{\"color\":\"#FFA15A\",\"dash\":\"longdashdot\",\"width\":8},\"marker\":{\"symbol\":\"diamond\",\"size\":18},\"mode\":\"markers+lines\",\"name\":\"TWITCH\",\"orientation\":\"v\",\"showlegend\":true,\"x\":[\"Apr 2020\"],\"xaxis\":\"x\",\"y\":[22273776786],\"yaxis\":\"y\",\"type\":\"scatter\"},{\"hovertemplate\":\"TargetOrgs=HIGHWINDS<br>Week=%{x}<br>TotalBytes=%{y}<extra></extra>\",\"legendgroup\":\"HIGHWINDS\",\"line\":{\"color\":\"#19d3f3\",\"dash\":\"solid\",\"width\":8},\"marker\":{\"symbol\":\"square\",\"size\":18},\"mode\":\"markers+lines\",\"name\":\"HIGHWINDS\",\"orientation\":\"v\",\"showlegend\":true,\"x\":[\"Apr 2020\"],\"xaxis\":\"x\",\"y\":[21158656587],\"yaxis\":\"y\",\"type\":\"scatter\"},{\"hovertemplate\":\"TargetOrgs=LEVEL3<br>Week=%{x}<br>TotalBytes=%{y}<extra></extra>\",\"legendgroup\":\"LEVEL3\",\"line\":{\"color\":\"#17becf\",\"dash\":\"dot\",\"width\":8},\"marker\":{\"symbol\":\"x\",\"size\":18},\"mode\":\"markers+lines\",\"name\":\"LEVEL3\",\"orientation\":\"v\",\"showlegend\":true,\"x\":[\"Apr 2020\",\"Sept 2020\",\"Sept 2021\"],\"xaxis\":\"x\",\"y\":[19174804316,76603570110,53057316407],\"yaxis\":\"y\",\"type\":\"scatter\"},{\"hovertemplate\":\"TargetOrgs=FASTLY<br>Week=%{x}<br>TotalBytes=%{y}<extra></extra>\",\"legendgroup\":\"FASTLY\",\"line\":{\"color\":\"#8c564b\",\"dash\":\"dash\",\"width\":8},\"marker\":{\"symbol\":\"cross\",\"size\":18},\"mode\":\"markers+lines\",\"name\":\"FASTLY\",\"orientation\":\"v\",\"showlegend\":true,\"x\":[\"Sept 2020\",\"Sept 2021\"],\"xaxis\":\"x\",\"y\":[62693211742,44706944393],\"yaxis\":\"y\",\"type\":\"scatter\"}],                        {\"template\":{\"data\":{\"histogram2dcontour\":[{\"type\":\"histogram2dcontour\",\"colorbar\":{\"outlinewidth\":0,\"ticks\":\"\"},\"colorscale\":[[0.0,\"#0d0887\"],[0.1111111111111111,\"#46039f\"],[0.2222222222222222,\"#7201a8\"],[0.3333333333333333,\"#9c179e\"],[0.4444444444444444,\"#bd3786\"],[0.5555555555555556,\"#d8576b\"],[0.6666666666666666,\"#ed7953\"],[0.7777777777777778,\"#fb9f3a\"],[0.8888888888888888,\"#fdca26\"],[1.0,\"#f0f921\"]]}],\"choropleth\":[{\"type\":\"choropleth\",\"colorbar\":{\"outlinewidth\":0,\"ticks\":\"\"}}],\"histogram2d\":[{\"type\":\"histogram2d\",\"colorbar\":{\"outlinewidth\":0,\"ticks\":\"\"},\"colorscale\":[[0.0,\"#0d0887\"],[0.1111111111111111,\"#46039f\"],[0.2222222222222222,\"#7201a8\"],[0.3333333333333333,\"#9c179e\"],[0.4444444444444444,\"#bd3786\"],[0.5555555555555556,\"#d8576b\"],[0.6666666666666666,\"#ed7953\"],[0.7777777777777778,\"#fb9f3a\"],[0.8888888888888888,\"#fdca26\"],[1.0,\"#f0f921\"]]}],\"heatmap\":[{\"type\":\"heatmap\",\"colorbar\":{\"outlinewidth\":0,\"ticks\":\"\"},\"colorscale\":[[0.0,\"#0d0887\"],[0.1111111111111111,\"#46039f\"],[0.2222222222222222,\"#7201a8\"],[0.3333333333333333,\"#9c179e\"],[0.4444444444444444,\"#bd3786\"],[0.5555555555555556,\"#d8576b\"],[0.6666666666666666,\"#ed7953\"],[0.7777777777777778,\"#fb9f3a\"],[0.8888888888888888,\"#fdca26\"],[1.0,\"#f0f921\"]]}],\"heatmapgl\":[{\"type\":\"heatmapgl\",\"colorbar\":{\"outlinewidth\":0,\"ticks\":\"\"},\"colorscale\":[[0.0,\"#0d0887\"],[0.1111111111111111,\"#46039f\"],[0.2222222222222222,\"#7201a8\"],[0.3333333333333333,\"#9c179e\"],[0.4444444444444444,\"#bd3786\"],[0.5555555555555556,\"#d8576b\"],[0.6666666666666666,\"#ed7953\"],[0.7777777777777778,\"#fb9f3a\"],[0.8888888888888888,\"#fdca26\"],[1.0,\"#f0f921\"]]}],\"contourcarpet\":[{\"type\":\"contourcarpet\",\"colorbar\":{\"outlinewidth\":0,\"ticks\":\"\"}}],\"contour\":[{\"type\":\"contour\",\"colorbar\":{\"outlinewidth\":0,\"ticks\":\"\"},\"colorscale\":[[0.0,\"#0d0887\"],[0.1111111111111111,\"#46039f\"],[0.2222222222222222,\"#7201a8\"],[0.3333333333333333,\"#9c179e\"],[0.4444444444444444,\"#bd3786\"],[0.5555555555555556,\"#d8576b\"],[0.6666666666666666,\"#ed7953\"],[0.7777777777777778,\"#fb9f3a\"],[0.8888888888888888,\"#fdca26\"],[1.0,\"#f0f921\"]]}],\"surface\":[{\"type\":\"surface\",\"colorbar\":{\"outlinewidth\":0,\"ticks\":\"\"},\"colorscale\":[[0.0,\"#0d0887\"],[0.1111111111111111,\"#46039f\"],[0.2222222222222222,\"#7201a8\"],[0.3333333333333333,\"#9c179e\"],[0.4444444444444444,\"#bd3786\"],[0.5555555555555556,\"#d8576b\"],[0.6666666666666666,\"#ed7953\"],[0.7777777777777778,\"#fb9f3a\"],[0.8888888888888888,\"#fdca26\"],[1.0,\"#f0f921\"]]}],\"mesh3d\":[{\"type\":\"mesh3d\",\"colorbar\":{\"outlinewidth\":0,\"ticks\":\"\"}}],\"scatter\":[{\"fillpattern\":{\"fillmode\":\"overlay\",\"size\":10,\"solidity\":0.2},\"type\":\"scatter\"}],\"parcoords\":[{\"type\":\"parcoords\",\"line\":{\"colorbar\":{\"outlinewidth\":0,\"ticks\":\"\"}}}],\"scatterpolargl\":[{\"type\":\"scatterpolargl\",\"marker\":{\"colorbar\":{\"outlinewidth\":0,\"ticks\":\"\"}}}],\"bar\":[{\"error_x\":{\"color\":\"#2a3f5f\"},\"error_y\":{\"color\":\"#2a3f5f\"},\"marker\":{\"line\":{\"color\":\"#E5ECF6\",\"width\":0.5},\"pattern\":{\"fillmode\":\"overlay\",\"size\":10,\"solidity\":0.2}},\"type\":\"bar\"}],\"scattergeo\":[{\"type\":\"scattergeo\",\"marker\":{\"colorbar\":{\"outlinewidth\":0,\"ticks\":\"\"}}}],\"scatterpolar\":[{\"type\":\"scatterpolar\",\"marker\":{\"colorbar\":{\"outlinewidth\":0,\"ticks\":\"\"}}}],\"histogram\":[{\"marker\":{\"pattern\":{\"fillmode\":\"overlay\",\"size\":10,\"solidity\":0.2}},\"type\":\"histogram\"}],\"scattergl\":[{\"type\":\"scattergl\",\"marker\":{\"colorbar\":{\"outlinewidth\":0,\"ticks\":\"\"}}}],\"scatter3d\":[{\"type\":\"scatter3d\",\"line\":{\"colorbar\":{\"outlinewidth\":0,\"ticks\":\"\"}},\"marker\":{\"colorbar\":{\"outlinewidth\":0,\"ticks\":\"\"}}}],\"scattermapbox\":[{\"type\":\"scattermapbox\",\"marker\":{\"colorbar\":{\"outlinewidth\":0,\"ticks\":\"\"}}}],\"scatterternary\":[{\"type\":\"scatterternary\",\"marker\":{\"colorbar\":{\"outlinewidth\":0,\"ticks\":\"\"}}}],\"scattercarpet\":[{\"type\":\"scattercarpet\",\"marker\":{\"colorbar\":{\"outlinewidth\":0,\"ticks\":\"\"}}}],\"carpet\":[{\"aaxis\":{\"endlinecolor\":\"#2a3f5f\",\"gridcolor\":\"white\",\"linecolor\":\"white\",\"minorgridcolor\":\"white\",\"startlinecolor\":\"#2a3f5f\"},\"baxis\":{\"endlinecolor\":\"#2a3f5f\",\"gridcolor\":\"white\",\"linecolor\":\"white\",\"minorgridcolor\":\"white\",\"startlinecolor\":\"#2a3f5f\"},\"type\":\"carpet\"}],\"table\":[{\"cells\":{\"fill\":{\"color\":\"#EBF0F8\"},\"line\":{\"color\":\"white\"}},\"header\":{\"fill\":{\"color\":\"#C8D4E3\"},\"line\":{\"color\":\"white\"}},\"type\":\"table\"}],\"barpolar\":[{\"marker\":{\"line\":{\"color\":\"#E5ECF6\",\"width\":0.5},\"pattern\":{\"fillmode\":\"overlay\",\"size\":10,\"solidity\":0.2}},\"type\":\"barpolar\"}],\"pie\":[{\"automargin\":true,\"type\":\"pie\"}]},\"layout\":{\"autotypenumbers\":\"strict\",\"colorway\":[\"#636efa\",\"#EF553B\",\"#00cc96\",\"#ab63fa\",\"#FFA15A\",\"#19d3f3\",\"#FF6692\",\"#B6E880\",\"#FF97FF\",\"#FECB52\"],\"font\":{\"color\":\"#2a3f5f\"},\"hovermode\":\"closest\",\"hoverlabel\":{\"align\":\"left\"},\"paper_bgcolor\":\"white\",\"plot_bgcolor\":\"#E5ECF6\",\"polar\":{\"bgcolor\":\"#E5ECF6\",\"angularaxis\":{\"gridcolor\":\"white\",\"linecolor\":\"white\",\"ticks\":\"\"},\"radialaxis\":{\"gridcolor\":\"white\",\"linecolor\":\"white\",\"ticks\":\"\"}},\"ternary\":{\"bgcolor\":\"#E5ECF6\",\"aaxis\":{\"gridcolor\":\"white\",\"linecolor\":\"white\",\"ticks\":\"\"},\"baxis\":{\"gridcolor\":\"white\",\"linecolor\":\"white\",\"ticks\":\"\"},\"caxis\":{\"gridcolor\":\"white\",\"linecolor\":\"white\",\"ticks\":\"\"}},\"coloraxis\":{\"colorbar\":{\"outlinewidth\":0,\"ticks\":\"\"}},\"colorscale\":{\"sequential\":[[0.0,\"#0d0887\"],[0.1111111111111111,\"#46039f\"],[0.2222222222222222,\"#7201a8\"],[0.3333333333333333,\"#9c179e\"],[0.4444444444444444,\"#bd3786\"],[0.5555555555555556,\"#d8576b\"],[0.6666666666666666,\"#ed7953\"],[0.7777777777777778,\"#fb9f3a\"],[0.8888888888888888,\"#fdca26\"],[1.0,\"#f0f921\"]],\"sequentialminus\":[[0.0,\"#0d0887\"],[0.1111111111111111,\"#46039f\"],[0.2222222222222222,\"#7201a8\"],[0.3333333333333333,\"#9c179e\"],[0.4444444444444444,\"#bd3786\"],[0.5555555555555556,\"#d8576b\"],[0.6666666666666666,\"#ed7953\"],[0.7777777777777778,\"#fb9f3a\"],[0.8888888888888888,\"#fdca26\"],[1.0,\"#f0f921\"]],\"diverging\":[[0,\"#8e0152\"],[0.1,\"#c51b7d\"],[0.2,\"#de77ae\"],[0.3,\"#f1b6da\"],[0.4,\"#fde0ef\"],[0.5,\"#f7f7f7\"],[0.6,\"#e6f5d0\"],[0.7,\"#b8e186\"],[0.8,\"#7fbc41\"],[0.9,\"#4d9221\"],[1,\"#276419\"]]},\"xaxis\":{\"gridcolor\":\"white\",\"linecolor\":\"white\",\"ticks\":\"\",\"title\":{\"standoff\":15},\"zerolinecolor\":\"white\",\"automargin\":true,\"zerolinewidth\":2},\"yaxis\":{\"gridcolor\":\"white\",\"linecolor\":\"white\",\"ticks\":\"\",\"title\":{\"standoff\":15},\"zerolinecolor\":\"white\",\"automargin\":true,\"zerolinewidth\":2},\"scene\":{\"xaxis\":{\"backgroundcolor\":\"#E5ECF6\",\"gridcolor\":\"white\",\"linecolor\":\"white\",\"showbackground\":true,\"ticks\":\"\",\"zerolinecolor\":\"white\",\"gridwidth\":2},\"yaxis\":{\"backgroundcolor\":\"#E5ECF6\",\"gridcolor\":\"white\",\"linecolor\":\"white\",\"showbackground\":true,\"ticks\":\"\",\"zerolinecolor\":\"white\",\"gridwidth\":2},\"zaxis\":{\"backgroundcolor\":\"#E5ECF6\",\"gridcolor\":\"white\",\"linecolor\":\"white\",\"showbackground\":true,\"ticks\":\"\",\"zerolinecolor\":\"white\",\"gridwidth\":2}},\"shapedefaults\":{\"line\":{\"color\":\"#2a3f5f\"}},\"annotationdefaults\":{\"arrowcolor\":\"#2a3f5f\",\"arrowhead\":0,\"arrowwidth\":1},\"geo\":{\"bgcolor\":\"white\",\"landcolor\":\"#E5ECF6\",\"subunitcolor\":\"white\",\"showland\":true,\"showlakes\":true,\"lakecolor\":\"white\"},\"title\":{\"x\":0.05},\"mapbox\":{\"style\":\"light\"}}},\"xaxis\":{\"anchor\":\"y\",\"domain\":[0.0,1.0],\"title\":{\"text\":\"Week\"},\"showgrid\":true,\"gridwidth\":1,\"gridcolor\":\"LightGray\"},\"yaxis\":{\"anchor\":\"x\",\"domain\":[0.0,1.0],\"title\":{\"text\":\"TotalBytes\"},\"type\":\"log\",\"showgrid\":true,\"gridwidth\":1,\"gridcolor\":\"LightGray\",\"tickvals\":[10737418240,21474836480,32212254720,42949672960,53687091200,64424509440,75161927680,85899345920,96636764160,107374182400,214748364800,322122547200],\"ticktext\":[\"10 GB\",\"20 GB\",\"30 GB\",\"40 GB\",\"50 GB\",\"60 GB\",\"70 GB\",\"80 GB\",\"90 GB\",\"100 GB\",\"200 GB\",\"300 GB\"]},\"legend\":{\"title\":{\"text\":\"TargetOrgs\"},\"tracegroupgap\":0,\"itemwidth\":80},\"margin\":{\"t\":60},\"height\":900,\"width\":1300,\"font\":{\"size\":30},\"plot_bgcolor\":\"white\"},                        {\"responsive\": true}                    ).then(function(){\n",
       "                            \n",
       "var gd = document.getElementById('6d5fc930-b09e-4518-bade-8e46b7730711');\n",
       "var x = new MutationObserver(function (mutations, observer) {{\n",
       "        var display = window.getComputedStyle(gd).display;\n",
       "        if (!display || display === 'none') {{\n",
       "            console.log([gd, 'removed!']);\n",
       "            Plotly.purge(gd);\n",
       "            observer.disconnect();\n",
       "        }}\n",
       "}});\n",
       "\n",
       "// Listen for the removal of the full notebook cells\n",
       "var notebookContainer = gd.closest('#notebook-container');\n",
       "if (notebookContainer) {{\n",
       "    x.observe(notebookContainer, {childList: true});\n",
       "}}\n",
       "\n",
       "// Listen for the clearing of the current output cell\n",
       "var outputEl = gd.closest('.output');\n",
       "if (outputEl) {{\n",
       "    x.observe(outputEl, {childList: true});\n",
       "}}\n",
       "\n",
       "                        })                };                });            </script>        </div>"
      ]
     },
     "metadata": {},
     "output_type": "display_data"
    }
   ],
   "source": [
    "import plotly.express as px\n",
    "import pandas as pd\n",
    "\n",
    "fig_orgs_out_bytes = px.line(df_orgs_out, x='Week', y='TotalBytes', log_y=True, color='TargetOrgs',\n",
    "                             color_discrete_map={'APPLE': '#7f7f7f', 'NETFLIX': '#dc3912', 'AKAMAI': '#ff9900',\n",
    "                                                 'CANARIE': '#fb00d1', 'FACEBOOK': '#3366cc', 'GOOGLE': '#109618',\n",
    "                                                 'AMAZON': '#212E3C', 'FASTLY': '#8c564b', 'LEVEL3': '#17becf',\n",
    "                                                 'MICROSOFT': '#990099', 'EDGECAST': '#316395',\n",
    "                                                 'VALVE-CORPORATION': '#bcbd22'},\n",
    "                             markers=True, line_dash='TargetOrgs', symbol='TargetOrgs', height=900, width=1300)\n",
    "fig_orgs_out_bytes.update_layout(plot_bgcolor='white', font_size=30, legend_itemwidth=80)\n",
    "fig_orgs_out_bytes.update_xaxes(showgrid=True, gridwidth=1, gridcolor='LightGray')\n",
    "fig_orgs_out_bytes.update_yaxes(showgrid=True, gridwidth=1, gridcolor='LightGray',\n",
    "                               tickvals=[10737418240, 21474836480, 32212254720, 42949672960, 53687091200, \n",
    "                                         64424509440, 75161927680, 85899345920, 96636764160, 107374182400, \n",
    "                                         214748364800, 322122547200],\n",
    "                               ticktext=[\"10 GB\", \"20 GB\", \"30 GB\", \"40 GB\", \"50 GB\", \n",
    "                                         \"60 GB\", \"70 GB\", \"80 GB\", \"90 GB\", \"100 GB\", \n",
    "                                         \"200 GB\", \"300 GB\"])\n",
    "fig_orgs_out_bytes.update_traces(line_width=8, marker_size=18)\n",
    "\n",
    "fig_orgs_out_bytes.show()"
   ]
  },
  {
   "cell_type": "code",
   "execution_count": null,
   "id": "08481a03",
   "metadata": {},
   "outputs": [],
   "source": []
  }
 ],
 "metadata": {
  "kernelspec": {
   "display_name": "Python 3 (ipykernel)",
   "language": "python",
   "name": "python3"
  },
  "language_info": {
   "codemirror_mode": {
    "name": "ipython",
    "version": 3
   },
   "file_extension": ".py",
   "mimetype": "text/x-python",
   "name": "python",
   "nbconvert_exporter": "python",
   "pygments_lexer": "ipython3",
   "version": "3.9.7"
  }
 },
 "nbformat": 4,
 "nbformat_minor": 5
}
