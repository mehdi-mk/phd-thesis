{
 "cells": [
  {
   "cell_type": "code",
   "execution_count": 7,
   "id": "504be422",
   "metadata": {},
   "outputs": [
    {
     "data": {
      "application/vnd.plotly.v1+json": {
       "config": {
        "plotlyServerURL": "https://plot.ly"
       },
       "data": [
        {
         "hovertemplate": "TargetOrgs=APPLE<br>Week=%{x}<br>Connections=%{y}<extra></extra>",
         "legendgroup": "APPLE",
         "line": {
          "color": "#7f7f7f",
          "dash": "solid",
          "width": 8
         },
         "marker": {
          "size": 18,
          "symbol": "circle"
         },
         "mode": "lines+markers",
         "name": "APPLE",
         "orientation": "v",
         "showlegend": true,
         "type": "scatter",
         "x": [
          "Feb 2020",
          "Apr 2020",
          "Sept 2020",
          "Sept 2021"
         ],
         "xaxis": "x",
         "y": [
          14034,
          4227,
          23768,
          17594
         ],
         "yaxis": "y"
        },
        {
         "hovertemplate": "TargetOrgs=AKAMAI<br>Week=%{x}<br>Connections=%{y}<extra></extra>",
         "legendgroup": "AKAMAI",
         "line": {
          "color": "#ff9900",
          "dash": "dot",
          "width": 8
         },
         "marker": {
          "size": 18,
          "symbol": "diamond"
         },
         "mode": "lines+markers",
         "name": "AKAMAI",
         "orientation": "v",
         "showlegend": true,
         "type": "scatter",
         "x": [
          "Feb 2020",
          "Apr 2020",
          "Sept 2020",
          "Sept 2021"
         ],
         "xaxis": "x",
         "y": [
          80747,
          69343,
          111097,
          89258
         ],
         "yaxis": "y"
        },
        {
         "hovertemplate": "TargetOrgs=NETFLIX<br>Week=%{x}<br>Connections=%{y}<extra></extra>",
         "legendgroup": "NETFLIX",
         "line": {
          "color": "#dc3912",
          "dash": "dash",
          "width": 8
         },
         "marker": {
          "size": 18,
          "symbol": "square"
         },
         "mode": "lines+markers",
         "name": "NETFLIX",
         "orientation": "v",
         "showlegend": true,
         "type": "scatter",
         "x": [
          "Feb 2020",
          "Sept 2020",
          "Sept 2021"
         ],
         "xaxis": "x",
         "y": [
          7368,
          4510,
          4165
         ],
         "yaxis": "y"
        },
        {
         "hovertemplate": "TargetOrgs=CLOUDFLARENET<br>Week=%{x}<br>Connections=%{y}<extra></extra>",
         "legendgroup": "CLOUDFLARENET",
         "line": {
          "color": "#00cc96",
          "dash": "longdash",
          "width": 8
         },
         "marker": {
          "size": 18,
          "symbol": "x"
         },
         "mode": "lines+markers",
         "name": "CLOUDFLARENET",
         "orientation": "v",
         "showlegend": true,
         "type": "scatter",
         "x": [
          "Feb 2020",
          "Apr 2020",
          "Sept 2020",
          "Sept 2021"
         ],
         "xaxis": "x",
         "y": [
          232737,
          420493,
          464875,
          338724
         ],
         "yaxis": "y"
        },
        {
         "hovertemplate": "TargetOrgs=EDGECAST<br>Week=%{x}<br>Connections=%{y}<extra></extra>",
         "legendgroup": "EDGECAST",
         "line": {
          "color": "#316395",
          "dash": "dashdot",
          "width": 8
         },
         "marker": {
          "size": 18,
          "symbol": "cross"
         },
         "mode": "lines+markers",
         "name": "EDGECAST",
         "orientation": "v",
         "showlegend": true,
         "type": "scatter",
         "x": [
          "Feb 2020",
          "Apr 2020",
          "Sept 2020",
          "Sept 2021"
         ],
         "xaxis": "x",
         "y": [
          12277,
          10376,
          14809,
          10784
         ],
         "yaxis": "y"
        },
        {
         "hovertemplate": "TargetOrgs=GOOGLE<br>Week=%{x}<br>Connections=%{y}<extra></extra>",
         "legendgroup": "GOOGLE",
         "line": {
          "color": "#109618",
          "dash": "longdashdot",
          "width": 8
         },
         "marker": {
          "size": 18,
          "symbol": "circle"
         },
         "mode": "lines+markers",
         "name": "GOOGLE",
         "orientation": "v",
         "showlegend": true,
         "type": "scatter",
         "x": [
          "Feb 2020",
          "Apr 2020",
          "Sept 2020",
          "Sept 2021"
         ],
         "xaxis": "x",
         "y": [
          68165,
          39963,
          99272,
          96228
         ],
         "yaxis": "y"
        },
        {
         "hovertemplate": "TargetOrgs=VALVE-CORPORATION<br>Week=%{x}<br>Connections=%{y}<extra></extra>",
         "legendgroup": "VALVE-CORPORATION",
         "line": {
          "color": "#bcbd22",
          "dash": "solid",
          "width": 8
         },
         "marker": {
          "size": 18,
          "symbol": "diamond"
         },
         "mode": "lines+markers",
         "name": "VALVE-CORPORATION",
         "orientation": "v",
         "showlegend": true,
         "type": "scatter",
         "x": [
          "Feb 2020"
         ],
         "xaxis": "x",
         "y": [
          1381
         ],
         "yaxis": "y"
        },
        {
         "hovertemplate": "TargetOrgs=AMAZON<br>Week=%{x}<br>Connections=%{y}<extra></extra>",
         "legendgroup": "AMAZON",
         "line": {
          "color": "#212E3C",
          "dash": "dot",
          "width": 8
         },
         "marker": {
          "size": 18,
          "symbol": "square"
         },
         "mode": "lines+markers",
         "name": "AMAZON",
         "orientation": "v",
         "showlegend": true,
         "type": "scatter",
         "x": [
          "Feb 2020",
          "Apr 2020",
          "Sept 2020",
          "Sept 2021"
         ],
         "xaxis": "x",
         "y": [
          62045,
          51161,
          98131,
          73699
         ],
         "yaxis": "y"
        },
        {
         "hovertemplate": "TargetOrgs=MICROSOFT<br>Week=%{x}<br>Connections=%{y}<extra></extra>",
         "legendgroup": "MICROSOFT",
         "line": {
          "color": "#990099",
          "dash": "dash",
          "width": 8
         },
         "marker": {
          "size": 18,
          "symbol": "x"
         },
         "mode": "lines+markers",
         "name": "MICROSOFT",
         "orientation": "v",
         "showlegend": true,
         "type": "scatter",
         "x": [
          "Feb 2020",
          "Sept 2020"
         ],
         "xaxis": "x",
         "y": [
          59101,
          79218
         ],
         "yaxis": "y"
        },
        {
         "hovertemplate": "TargetOrgs=CANARIE<br>Week=%{x}<br>Connections=%{y}<extra></extra>",
         "legendgroup": "CANARIE",
         "line": {
          "color": "#fb00d1",
          "dash": "longdash",
          "width": 8
         },
         "marker": {
          "size": 18,
          "symbol": "cross"
         },
         "mode": "lines+markers",
         "name": "CANARIE",
         "orientation": "v",
         "showlegend": true,
         "type": "scatter",
         "x": [
          "Feb 2020",
          "Apr 2020",
          "Sept 2020",
          "Sept 2021"
         ],
         "xaxis": "x",
         "y": [
          19401,
          3036,
          7510,
          17361
         ],
         "yaxis": "y"
        },
        {
         "hovertemplate": "TargetOrgs=HIGHWINDS<br>Week=%{x}<br>Connections=%{y}<extra></extra>",
         "legendgroup": "HIGHWINDS",
         "line": {
          "color": "#ab63fa",
          "dash": "dashdot",
          "width": 8
         },
         "marker": {
          "size": 18,
          "symbol": "circle"
         },
         "mode": "lines+markers",
         "name": "HIGHWINDS",
         "orientation": "v",
         "showlegend": true,
         "type": "scatter",
         "x": [
          "Apr 2020",
          "Sept 2021"
         ],
         "xaxis": "x",
         "y": [
          11499,
          8257
         ],
         "yaxis": "y"
        },
        {
         "hovertemplate": "TargetOrgs=LEVEL3<br>Week=%{x}<br>Connections=%{y}<extra></extra>",
         "legendgroup": "LEVEL3",
         "line": {
          "color": "#17becf",
          "dash": "longdashdot",
          "width": 8
         },
         "marker": {
          "size": 18,
          "symbol": "diamond"
         },
         "mode": "lines+markers",
         "name": "LEVEL3",
         "orientation": "v",
         "showlegend": true,
         "type": "scatter",
         "x": [
          "Apr 2020"
         ],
         "xaxis": "x",
         "y": [
          9290
         ],
         "yaxis": "y"
        },
        {
         "hovertemplate": "TargetOrgs=FASTLY<br>Week=%{x}<br>Connections=%{y}<extra></extra>",
         "legendgroup": "FASTLY",
         "line": {
          "color": "#8c564b",
          "dash": "solid",
          "width": 8
         },
         "marker": {
          "size": 18,
          "symbol": "square"
         },
         "mode": "lines+markers",
         "name": "FASTLY",
         "orientation": "v",
         "showlegend": true,
         "type": "scatter",
         "x": [
          "Apr 2020",
          "Sept 2021"
         ],
         "xaxis": "x",
         "y": [
          111878,
          53850
         ],
         "yaxis": "y"
        },
        {
         "hovertemplate": "TargetOrgs=DROPBOX<br>Week=%{x}<br>Connections=%{y}<extra></extra>",
         "legendgroup": "DROPBOX",
         "line": {
          "color": "#FFA15A",
          "dash": "dot",
          "width": 8
         },
         "marker": {
          "size": 18,
          "symbol": "x"
         },
         "mode": "lines+markers",
         "name": "DROPBOX",
         "orientation": "v",
         "showlegend": true,
         "type": "scatter",
         "x": [
          "Sept 2020"
         ],
         "xaxis": "x",
         "y": [
          19308
         ],
         "yaxis": "y"
        }
       ],
       "layout": {
        "font": {
         "size": 30
        },
        "height": 900,
        "legend": {
         "title": {
          "text": "TargetOrgs"
         },
         "tracegroupgap": 0
        },
        "margin": {
         "t": 60
        },
        "plot_bgcolor": "white",
        "showlegend": false,
        "template": {
         "data": {
          "bar": [
           {
            "error_x": {
             "color": "#2a3f5f"
            },
            "error_y": {
             "color": "#2a3f5f"
            },
            "marker": {
             "line": {
              "color": "#E5ECF6",
              "width": 0.5
             },
             "pattern": {
              "fillmode": "overlay",
              "size": 10,
              "solidity": 0.2
             }
            },
            "type": "bar"
           }
          ],
          "barpolar": [
           {
            "marker": {
             "line": {
              "color": "#E5ECF6",
              "width": 0.5
             },
             "pattern": {
              "fillmode": "overlay",
              "size": 10,
              "solidity": 0.2
             }
            },
            "type": "barpolar"
           }
          ],
          "carpet": [
           {
            "aaxis": {
             "endlinecolor": "#2a3f5f",
             "gridcolor": "white",
             "linecolor": "white",
             "minorgridcolor": "white",
             "startlinecolor": "#2a3f5f"
            },
            "baxis": {
             "endlinecolor": "#2a3f5f",
             "gridcolor": "white",
             "linecolor": "white",
             "minorgridcolor": "white",
             "startlinecolor": "#2a3f5f"
            },
            "type": "carpet"
           }
          ],
          "choropleth": [
           {
            "colorbar": {
             "outlinewidth": 0,
             "ticks": ""
            },
            "type": "choropleth"
           }
          ],
          "contour": [
           {
            "colorbar": {
             "outlinewidth": 0,
             "ticks": ""
            },
            "colorscale": [
             [
              0,
              "#0d0887"
             ],
             [
              0.1111111111111111,
              "#46039f"
             ],
             [
              0.2222222222222222,
              "#7201a8"
             ],
             [
              0.3333333333333333,
              "#9c179e"
             ],
             [
              0.4444444444444444,
              "#bd3786"
             ],
             [
              0.5555555555555556,
              "#d8576b"
             ],
             [
              0.6666666666666666,
              "#ed7953"
             ],
             [
              0.7777777777777778,
              "#fb9f3a"
             ],
             [
              0.8888888888888888,
              "#fdca26"
             ],
             [
              1,
              "#f0f921"
             ]
            ],
            "type": "contour"
           }
          ],
          "contourcarpet": [
           {
            "colorbar": {
             "outlinewidth": 0,
             "ticks": ""
            },
            "type": "contourcarpet"
           }
          ],
          "heatmap": [
           {
            "colorbar": {
             "outlinewidth": 0,
             "ticks": ""
            },
            "colorscale": [
             [
              0,
              "#0d0887"
             ],
             [
              0.1111111111111111,
              "#46039f"
             ],
             [
              0.2222222222222222,
              "#7201a8"
             ],
             [
              0.3333333333333333,
              "#9c179e"
             ],
             [
              0.4444444444444444,
              "#bd3786"
             ],
             [
              0.5555555555555556,
              "#d8576b"
             ],
             [
              0.6666666666666666,
              "#ed7953"
             ],
             [
              0.7777777777777778,
              "#fb9f3a"
             ],
             [
              0.8888888888888888,
              "#fdca26"
             ],
             [
              1,
              "#f0f921"
             ]
            ],
            "type": "heatmap"
           }
          ],
          "heatmapgl": [
           {
            "colorbar": {
             "outlinewidth": 0,
             "ticks": ""
            },
            "colorscale": [
             [
              0,
              "#0d0887"
             ],
             [
              0.1111111111111111,
              "#46039f"
             ],
             [
              0.2222222222222222,
              "#7201a8"
             ],
             [
              0.3333333333333333,
              "#9c179e"
             ],
             [
              0.4444444444444444,
              "#bd3786"
             ],
             [
              0.5555555555555556,
              "#d8576b"
             ],
             [
              0.6666666666666666,
              "#ed7953"
             ],
             [
              0.7777777777777778,
              "#fb9f3a"
             ],
             [
              0.8888888888888888,
              "#fdca26"
             ],
             [
              1,
              "#f0f921"
             ]
            ],
            "type": "heatmapgl"
           }
          ],
          "histogram": [
           {
            "marker": {
             "pattern": {
              "fillmode": "overlay",
              "size": 10,
              "solidity": 0.2
             }
            },
            "type": "histogram"
           }
          ],
          "histogram2d": [
           {
            "colorbar": {
             "outlinewidth": 0,
             "ticks": ""
            },
            "colorscale": [
             [
              0,
              "#0d0887"
             ],
             [
              0.1111111111111111,
              "#46039f"
             ],
             [
              0.2222222222222222,
              "#7201a8"
             ],
             [
              0.3333333333333333,
              "#9c179e"
             ],
             [
              0.4444444444444444,
              "#bd3786"
             ],
             [
              0.5555555555555556,
              "#d8576b"
             ],
             [
              0.6666666666666666,
              "#ed7953"
             ],
             [
              0.7777777777777778,
              "#fb9f3a"
             ],
             [
              0.8888888888888888,
              "#fdca26"
             ],
             [
              1,
              "#f0f921"
             ]
            ],
            "type": "histogram2d"
           }
          ],
          "histogram2dcontour": [
           {
            "colorbar": {
             "outlinewidth": 0,
             "ticks": ""
            },
            "colorscale": [
             [
              0,
              "#0d0887"
             ],
             [
              0.1111111111111111,
              "#46039f"
             ],
             [
              0.2222222222222222,
              "#7201a8"
             ],
             [
              0.3333333333333333,
              "#9c179e"
             ],
             [
              0.4444444444444444,
              "#bd3786"
             ],
             [
              0.5555555555555556,
              "#d8576b"
             ],
             [
              0.6666666666666666,
              "#ed7953"
             ],
             [
              0.7777777777777778,
              "#fb9f3a"
             ],
             [
              0.8888888888888888,
              "#fdca26"
             ],
             [
              1,
              "#f0f921"
             ]
            ],
            "type": "histogram2dcontour"
           }
          ],
          "mesh3d": [
           {
            "colorbar": {
             "outlinewidth": 0,
             "ticks": ""
            },
            "type": "mesh3d"
           }
          ],
          "parcoords": [
           {
            "line": {
             "colorbar": {
              "outlinewidth": 0,
              "ticks": ""
             }
            },
            "type": "parcoords"
           }
          ],
          "pie": [
           {
            "automargin": true,
            "type": "pie"
           }
          ],
          "scatter": [
           {
            "fillpattern": {
             "fillmode": "overlay",
             "size": 10,
             "solidity": 0.2
            },
            "type": "scatter"
           }
          ],
          "scatter3d": [
           {
            "line": {
             "colorbar": {
              "outlinewidth": 0,
              "ticks": ""
             }
            },
            "marker": {
             "colorbar": {
              "outlinewidth": 0,
              "ticks": ""
             }
            },
            "type": "scatter3d"
           }
          ],
          "scattercarpet": [
           {
            "marker": {
             "colorbar": {
              "outlinewidth": 0,
              "ticks": ""
             }
            },
            "type": "scattercarpet"
           }
          ],
          "scattergeo": [
           {
            "marker": {
             "colorbar": {
              "outlinewidth": 0,
              "ticks": ""
             }
            },
            "type": "scattergeo"
           }
          ],
          "scattergl": [
           {
            "marker": {
             "colorbar": {
              "outlinewidth": 0,
              "ticks": ""
             }
            },
            "type": "scattergl"
           }
          ],
          "scattermapbox": [
           {
            "marker": {
             "colorbar": {
              "outlinewidth": 0,
              "ticks": ""
             }
            },
            "type": "scattermapbox"
           }
          ],
          "scatterpolar": [
           {
            "marker": {
             "colorbar": {
              "outlinewidth": 0,
              "ticks": ""
             }
            },
            "type": "scatterpolar"
           }
          ],
          "scatterpolargl": [
           {
            "marker": {
             "colorbar": {
              "outlinewidth": 0,
              "ticks": ""
             }
            },
            "type": "scatterpolargl"
           }
          ],
          "scatterternary": [
           {
            "marker": {
             "colorbar": {
              "outlinewidth": 0,
              "ticks": ""
             }
            },
            "type": "scatterternary"
           }
          ],
          "surface": [
           {
            "colorbar": {
             "outlinewidth": 0,
             "ticks": ""
            },
            "colorscale": [
             [
              0,
              "#0d0887"
             ],
             [
              0.1111111111111111,
              "#46039f"
             ],
             [
              0.2222222222222222,
              "#7201a8"
             ],
             [
              0.3333333333333333,
              "#9c179e"
             ],
             [
              0.4444444444444444,
              "#bd3786"
             ],
             [
              0.5555555555555556,
              "#d8576b"
             ],
             [
              0.6666666666666666,
              "#ed7953"
             ],
             [
              0.7777777777777778,
              "#fb9f3a"
             ],
             [
              0.8888888888888888,
              "#fdca26"
             ],
             [
              1,
              "#f0f921"
             ]
            ],
            "type": "surface"
           }
          ],
          "table": [
           {
            "cells": {
             "fill": {
              "color": "#EBF0F8"
             },
             "line": {
              "color": "white"
             }
            },
            "header": {
             "fill": {
              "color": "#C8D4E3"
             },
             "line": {
              "color": "white"
             }
            },
            "type": "table"
           }
          ]
         },
         "layout": {
          "annotationdefaults": {
           "arrowcolor": "#2a3f5f",
           "arrowhead": 0,
           "arrowwidth": 1
          },
          "autotypenumbers": "strict",
          "coloraxis": {
           "colorbar": {
            "outlinewidth": 0,
            "ticks": ""
           }
          },
          "colorscale": {
           "diverging": [
            [
             0,
             "#8e0152"
            ],
            [
             0.1,
             "#c51b7d"
            ],
            [
             0.2,
             "#de77ae"
            ],
            [
             0.3,
             "#f1b6da"
            ],
            [
             0.4,
             "#fde0ef"
            ],
            [
             0.5,
             "#f7f7f7"
            ],
            [
             0.6,
             "#e6f5d0"
            ],
            [
             0.7,
             "#b8e186"
            ],
            [
             0.8,
             "#7fbc41"
            ],
            [
             0.9,
             "#4d9221"
            ],
            [
             1,
             "#276419"
            ]
           ],
           "sequential": [
            [
             0,
             "#0d0887"
            ],
            [
             0.1111111111111111,
             "#46039f"
            ],
            [
             0.2222222222222222,
             "#7201a8"
            ],
            [
             0.3333333333333333,
             "#9c179e"
            ],
            [
             0.4444444444444444,
             "#bd3786"
            ],
            [
             0.5555555555555556,
             "#d8576b"
            ],
            [
             0.6666666666666666,
             "#ed7953"
            ],
            [
             0.7777777777777778,
             "#fb9f3a"
            ],
            [
             0.8888888888888888,
             "#fdca26"
            ],
            [
             1,
             "#f0f921"
            ]
           ],
           "sequentialminus": [
            [
             0,
             "#0d0887"
            ],
            [
             0.1111111111111111,
             "#46039f"
            ],
            [
             0.2222222222222222,
             "#7201a8"
            ],
            [
             0.3333333333333333,
             "#9c179e"
            ],
            [
             0.4444444444444444,
             "#bd3786"
            ],
            [
             0.5555555555555556,
             "#d8576b"
            ],
            [
             0.6666666666666666,
             "#ed7953"
            ],
            [
             0.7777777777777778,
             "#fb9f3a"
            ],
            [
             0.8888888888888888,
             "#fdca26"
            ],
            [
             1,
             "#f0f921"
            ]
           ]
          },
          "colorway": [
           "#636efa",
           "#EF553B",
           "#00cc96",
           "#ab63fa",
           "#FFA15A",
           "#19d3f3",
           "#FF6692",
           "#B6E880",
           "#FF97FF",
           "#FECB52"
          ],
          "font": {
           "color": "#2a3f5f"
          },
          "geo": {
           "bgcolor": "white",
           "lakecolor": "white",
           "landcolor": "#E5ECF6",
           "showlakes": true,
           "showland": true,
           "subunitcolor": "white"
          },
          "hoverlabel": {
           "align": "left"
          },
          "hovermode": "closest",
          "mapbox": {
           "style": "light"
          },
          "paper_bgcolor": "white",
          "plot_bgcolor": "#E5ECF6",
          "polar": {
           "angularaxis": {
            "gridcolor": "white",
            "linecolor": "white",
            "ticks": ""
           },
           "bgcolor": "#E5ECF6",
           "radialaxis": {
            "gridcolor": "white",
            "linecolor": "white",
            "ticks": ""
           }
          },
          "scene": {
           "xaxis": {
            "backgroundcolor": "#E5ECF6",
            "gridcolor": "white",
            "gridwidth": 2,
            "linecolor": "white",
            "showbackground": true,
            "ticks": "",
            "zerolinecolor": "white"
           },
           "yaxis": {
            "backgroundcolor": "#E5ECF6",
            "gridcolor": "white",
            "gridwidth": 2,
            "linecolor": "white",
            "showbackground": true,
            "ticks": "",
            "zerolinecolor": "white"
           },
           "zaxis": {
            "backgroundcolor": "#E5ECF6",
            "gridcolor": "white",
            "gridwidth": 2,
            "linecolor": "white",
            "showbackground": true,
            "ticks": "",
            "zerolinecolor": "white"
           }
          },
          "shapedefaults": {
           "line": {
            "color": "#2a3f5f"
           }
          },
          "ternary": {
           "aaxis": {
            "gridcolor": "white",
            "linecolor": "white",
            "ticks": ""
           },
           "baxis": {
            "gridcolor": "white",
            "linecolor": "white",
            "ticks": ""
           },
           "bgcolor": "#E5ECF6",
           "caxis": {
            "gridcolor": "white",
            "linecolor": "white",
            "ticks": ""
           }
          },
          "title": {
           "x": 0.05
          },
          "xaxis": {
           "automargin": true,
           "gridcolor": "white",
           "linecolor": "white",
           "ticks": "",
           "title": {
            "standoff": 15
           },
           "zerolinecolor": "white",
           "zerolinewidth": 2
          },
          "yaxis": {
           "automargin": true,
           "gridcolor": "white",
           "linecolor": "white",
           "ticks": "",
           "title": {
            "standoff": 15
           },
           "zerolinecolor": "white",
           "zerolinewidth": 2
          }
         }
        },
        "xaxis": {
         "anchor": "y",
         "domain": [
          0,
          1
         ],
         "gridcolor": "LightGray",
         "gridwidth": 1,
         "showgrid": true,
         "title": {
          "text": "Week"
         }
        },
        "yaxis": {
         "anchor": "x",
         "domain": [
          0,
          1
         ],
         "gridcolor": "LightGray",
         "gridwidth": 1,
         "showgrid": true,
         "tickvals": [
          1000,
          2000,
          4000,
          6000,
          8000,
          10000,
          20000,
          40000,
          60000,
          80000,
          100000,
          200000,
          400000,
          600000
         ],
         "title": {
          "text": "Connections"
         },
         "type": "log"
        }
       }
      },
      "text/html": [
       "<div>                            <div id=\"214ecca6-baa4-47a5-89b3-2ff1617cc97a\" class=\"plotly-graph-div\" style=\"height:900px; width:100%;\"></div>            <script type=\"text/javascript\">                require([\"plotly\"], function(Plotly) {                    window.PLOTLYENV=window.PLOTLYENV || {};                                    if (document.getElementById(\"214ecca6-baa4-47a5-89b3-2ff1617cc97a\")) {                    Plotly.newPlot(                        \"214ecca6-baa4-47a5-89b3-2ff1617cc97a\",                        [{\"hovertemplate\":\"TargetOrgs=APPLE<br>Week=%{x}<br>Connections=%{y}<extra></extra>\",\"legendgroup\":\"APPLE\",\"line\":{\"color\":\"#7f7f7f\",\"dash\":\"solid\",\"width\":8},\"marker\":{\"symbol\":\"circle\",\"size\":18},\"mode\":\"lines+markers\",\"name\":\"APPLE\",\"orientation\":\"v\",\"showlegend\":true,\"x\":[\"Feb 2020\",\"Apr 2020\",\"Sept 2020\",\"Sept 2021\"],\"xaxis\":\"x\",\"y\":[14034,4227,23768,17594],\"yaxis\":\"y\",\"type\":\"scatter\"},{\"hovertemplate\":\"TargetOrgs=AKAMAI<br>Week=%{x}<br>Connections=%{y}<extra></extra>\",\"legendgroup\":\"AKAMAI\",\"line\":{\"color\":\"#ff9900\",\"dash\":\"dot\",\"width\":8},\"marker\":{\"symbol\":\"diamond\",\"size\":18},\"mode\":\"lines+markers\",\"name\":\"AKAMAI\",\"orientation\":\"v\",\"showlegend\":true,\"x\":[\"Feb 2020\",\"Apr 2020\",\"Sept 2020\",\"Sept 2021\"],\"xaxis\":\"x\",\"y\":[80747,69343,111097,89258],\"yaxis\":\"y\",\"type\":\"scatter\"},{\"hovertemplate\":\"TargetOrgs=NETFLIX<br>Week=%{x}<br>Connections=%{y}<extra></extra>\",\"legendgroup\":\"NETFLIX\",\"line\":{\"color\":\"#dc3912\",\"dash\":\"dash\",\"width\":8},\"marker\":{\"symbol\":\"square\",\"size\":18},\"mode\":\"lines+markers\",\"name\":\"NETFLIX\",\"orientation\":\"v\",\"showlegend\":true,\"x\":[\"Feb 2020\",\"Sept 2020\",\"Sept 2021\"],\"xaxis\":\"x\",\"y\":[7368,4510,4165],\"yaxis\":\"y\",\"type\":\"scatter\"},{\"hovertemplate\":\"TargetOrgs=CLOUDFLARENET<br>Week=%{x}<br>Connections=%{y}<extra></extra>\",\"legendgroup\":\"CLOUDFLARENET\",\"line\":{\"color\":\"#00cc96\",\"dash\":\"longdash\",\"width\":8},\"marker\":{\"symbol\":\"x\",\"size\":18},\"mode\":\"lines+markers\",\"name\":\"CLOUDFLARENET\",\"orientation\":\"v\",\"showlegend\":true,\"x\":[\"Feb 2020\",\"Apr 2020\",\"Sept 2020\",\"Sept 2021\"],\"xaxis\":\"x\",\"y\":[232737,420493,464875,338724],\"yaxis\":\"y\",\"type\":\"scatter\"},{\"hovertemplate\":\"TargetOrgs=EDGECAST<br>Week=%{x}<br>Connections=%{y}<extra></extra>\",\"legendgroup\":\"EDGECAST\",\"line\":{\"color\":\"#316395\",\"dash\":\"dashdot\",\"width\":8},\"marker\":{\"symbol\":\"cross\",\"size\":18},\"mode\":\"lines+markers\",\"name\":\"EDGECAST\",\"orientation\":\"v\",\"showlegend\":true,\"x\":[\"Feb 2020\",\"Apr 2020\",\"Sept 2020\",\"Sept 2021\"],\"xaxis\":\"x\",\"y\":[12277,10376,14809,10784],\"yaxis\":\"y\",\"type\":\"scatter\"},{\"hovertemplate\":\"TargetOrgs=GOOGLE<br>Week=%{x}<br>Connections=%{y}<extra></extra>\",\"legendgroup\":\"GOOGLE\",\"line\":{\"color\":\"#109618\",\"dash\":\"longdashdot\",\"width\":8},\"marker\":{\"symbol\":\"circle\",\"size\":18},\"mode\":\"lines+markers\",\"name\":\"GOOGLE\",\"orientation\":\"v\",\"showlegend\":true,\"x\":[\"Feb 2020\",\"Apr 2020\",\"Sept 2020\",\"Sept 2021\"],\"xaxis\":\"x\",\"y\":[68165,39963,99272,96228],\"yaxis\":\"y\",\"type\":\"scatter\"},{\"hovertemplate\":\"TargetOrgs=VALVE-CORPORATION<br>Week=%{x}<br>Connections=%{y}<extra></extra>\",\"legendgroup\":\"VALVE-CORPORATION\",\"line\":{\"color\":\"#bcbd22\",\"dash\":\"solid\",\"width\":8},\"marker\":{\"symbol\":\"diamond\",\"size\":18},\"mode\":\"lines+markers\",\"name\":\"VALVE-CORPORATION\",\"orientation\":\"v\",\"showlegend\":true,\"x\":[\"Feb 2020\"],\"xaxis\":\"x\",\"y\":[1381],\"yaxis\":\"y\",\"type\":\"scatter\"},{\"hovertemplate\":\"TargetOrgs=AMAZON<br>Week=%{x}<br>Connections=%{y}<extra></extra>\",\"legendgroup\":\"AMAZON\",\"line\":{\"color\":\"#212E3C\",\"dash\":\"dot\",\"width\":8},\"marker\":{\"symbol\":\"square\",\"size\":18},\"mode\":\"lines+markers\",\"name\":\"AMAZON\",\"orientation\":\"v\",\"showlegend\":true,\"x\":[\"Feb 2020\",\"Apr 2020\",\"Sept 2020\",\"Sept 2021\"],\"xaxis\":\"x\",\"y\":[62045,51161,98131,73699],\"yaxis\":\"y\",\"type\":\"scatter\"},{\"hovertemplate\":\"TargetOrgs=MICROSOFT<br>Week=%{x}<br>Connections=%{y}<extra></extra>\",\"legendgroup\":\"MICROSOFT\",\"line\":{\"color\":\"#990099\",\"dash\":\"dash\",\"width\":8},\"marker\":{\"symbol\":\"x\",\"size\":18},\"mode\":\"lines+markers\",\"name\":\"MICROSOFT\",\"orientation\":\"v\",\"showlegend\":true,\"x\":[\"Feb 2020\",\"Sept 2020\"],\"xaxis\":\"x\",\"y\":[59101,79218],\"yaxis\":\"y\",\"type\":\"scatter\"},{\"hovertemplate\":\"TargetOrgs=CANARIE<br>Week=%{x}<br>Connections=%{y}<extra></extra>\",\"legendgroup\":\"CANARIE\",\"line\":{\"color\":\"#fb00d1\",\"dash\":\"longdash\",\"width\":8},\"marker\":{\"symbol\":\"cross\",\"size\":18},\"mode\":\"lines+markers\",\"name\":\"CANARIE\",\"orientation\":\"v\",\"showlegend\":true,\"x\":[\"Feb 2020\",\"Apr 2020\",\"Sept 2020\",\"Sept 2021\"],\"xaxis\":\"x\",\"y\":[19401,3036,7510,17361],\"yaxis\":\"y\",\"type\":\"scatter\"},{\"hovertemplate\":\"TargetOrgs=HIGHWINDS<br>Week=%{x}<br>Connections=%{y}<extra></extra>\",\"legendgroup\":\"HIGHWINDS\",\"line\":{\"color\":\"#ab63fa\",\"dash\":\"dashdot\",\"width\":8},\"marker\":{\"symbol\":\"circle\",\"size\":18},\"mode\":\"lines+markers\",\"name\":\"HIGHWINDS\",\"orientation\":\"v\",\"showlegend\":true,\"x\":[\"Apr 2020\",\"Sept 2021\"],\"xaxis\":\"x\",\"y\":[11499,8257],\"yaxis\":\"y\",\"type\":\"scatter\"},{\"hovertemplate\":\"TargetOrgs=LEVEL3<br>Week=%{x}<br>Connections=%{y}<extra></extra>\",\"legendgroup\":\"LEVEL3\",\"line\":{\"color\":\"#17becf\",\"dash\":\"longdashdot\",\"width\":8},\"marker\":{\"symbol\":\"diamond\",\"size\":18},\"mode\":\"lines+markers\",\"name\":\"LEVEL3\",\"orientation\":\"v\",\"showlegend\":true,\"x\":[\"Apr 2020\"],\"xaxis\":\"x\",\"y\":[9290],\"yaxis\":\"y\",\"type\":\"scatter\"},{\"hovertemplate\":\"TargetOrgs=FASTLY<br>Week=%{x}<br>Connections=%{y}<extra></extra>\",\"legendgroup\":\"FASTLY\",\"line\":{\"color\":\"#8c564b\",\"dash\":\"solid\",\"width\":8},\"marker\":{\"symbol\":\"square\",\"size\":18},\"mode\":\"lines+markers\",\"name\":\"FASTLY\",\"orientation\":\"v\",\"showlegend\":true,\"x\":[\"Apr 2020\",\"Sept 2021\"],\"xaxis\":\"x\",\"y\":[111878,53850],\"yaxis\":\"y\",\"type\":\"scatter\"},{\"hovertemplate\":\"TargetOrgs=DROPBOX<br>Week=%{x}<br>Connections=%{y}<extra></extra>\",\"legendgroup\":\"DROPBOX\",\"line\":{\"color\":\"#FFA15A\",\"dash\":\"dot\",\"width\":8},\"marker\":{\"symbol\":\"x\",\"size\":18},\"mode\":\"lines+markers\",\"name\":\"DROPBOX\",\"orientation\":\"v\",\"showlegend\":true,\"x\":[\"Sept 2020\"],\"xaxis\":\"x\",\"y\":[19308],\"yaxis\":\"y\",\"type\":\"scatter\"}],                        {\"template\":{\"data\":{\"histogram2dcontour\":[{\"type\":\"histogram2dcontour\",\"colorbar\":{\"outlinewidth\":0,\"ticks\":\"\"},\"colorscale\":[[0.0,\"#0d0887\"],[0.1111111111111111,\"#46039f\"],[0.2222222222222222,\"#7201a8\"],[0.3333333333333333,\"#9c179e\"],[0.4444444444444444,\"#bd3786\"],[0.5555555555555556,\"#d8576b\"],[0.6666666666666666,\"#ed7953\"],[0.7777777777777778,\"#fb9f3a\"],[0.8888888888888888,\"#fdca26\"],[1.0,\"#f0f921\"]]}],\"choropleth\":[{\"type\":\"choropleth\",\"colorbar\":{\"outlinewidth\":0,\"ticks\":\"\"}}],\"histogram2d\":[{\"type\":\"histogram2d\",\"colorbar\":{\"outlinewidth\":0,\"ticks\":\"\"},\"colorscale\":[[0.0,\"#0d0887\"],[0.1111111111111111,\"#46039f\"],[0.2222222222222222,\"#7201a8\"],[0.3333333333333333,\"#9c179e\"],[0.4444444444444444,\"#bd3786\"],[0.5555555555555556,\"#d8576b\"],[0.6666666666666666,\"#ed7953\"],[0.7777777777777778,\"#fb9f3a\"],[0.8888888888888888,\"#fdca26\"],[1.0,\"#f0f921\"]]}],\"heatmap\":[{\"type\":\"heatmap\",\"colorbar\":{\"outlinewidth\":0,\"ticks\":\"\"},\"colorscale\":[[0.0,\"#0d0887\"],[0.1111111111111111,\"#46039f\"],[0.2222222222222222,\"#7201a8\"],[0.3333333333333333,\"#9c179e\"],[0.4444444444444444,\"#bd3786\"],[0.5555555555555556,\"#d8576b\"],[0.6666666666666666,\"#ed7953\"],[0.7777777777777778,\"#fb9f3a\"],[0.8888888888888888,\"#fdca26\"],[1.0,\"#f0f921\"]]}],\"heatmapgl\":[{\"type\":\"heatmapgl\",\"colorbar\":{\"outlinewidth\":0,\"ticks\":\"\"},\"colorscale\":[[0.0,\"#0d0887\"],[0.1111111111111111,\"#46039f\"],[0.2222222222222222,\"#7201a8\"],[0.3333333333333333,\"#9c179e\"],[0.4444444444444444,\"#bd3786\"],[0.5555555555555556,\"#d8576b\"],[0.6666666666666666,\"#ed7953\"],[0.7777777777777778,\"#fb9f3a\"],[0.8888888888888888,\"#fdca26\"],[1.0,\"#f0f921\"]]}],\"contourcarpet\":[{\"type\":\"contourcarpet\",\"colorbar\":{\"outlinewidth\":0,\"ticks\":\"\"}}],\"contour\":[{\"type\":\"contour\",\"colorbar\":{\"outlinewidth\":0,\"ticks\":\"\"},\"colorscale\":[[0.0,\"#0d0887\"],[0.1111111111111111,\"#46039f\"],[0.2222222222222222,\"#7201a8\"],[0.3333333333333333,\"#9c179e\"],[0.4444444444444444,\"#bd3786\"],[0.5555555555555556,\"#d8576b\"],[0.6666666666666666,\"#ed7953\"],[0.7777777777777778,\"#fb9f3a\"],[0.8888888888888888,\"#fdca26\"],[1.0,\"#f0f921\"]]}],\"surface\":[{\"type\":\"surface\",\"colorbar\":{\"outlinewidth\":0,\"ticks\":\"\"},\"colorscale\":[[0.0,\"#0d0887\"],[0.1111111111111111,\"#46039f\"],[0.2222222222222222,\"#7201a8\"],[0.3333333333333333,\"#9c179e\"],[0.4444444444444444,\"#bd3786\"],[0.5555555555555556,\"#d8576b\"],[0.6666666666666666,\"#ed7953\"],[0.7777777777777778,\"#fb9f3a\"],[0.8888888888888888,\"#fdca26\"],[1.0,\"#f0f921\"]]}],\"mesh3d\":[{\"type\":\"mesh3d\",\"colorbar\":{\"outlinewidth\":0,\"ticks\":\"\"}}],\"scatter\":[{\"fillpattern\":{\"fillmode\":\"overlay\",\"size\":10,\"solidity\":0.2},\"type\":\"scatter\"}],\"parcoords\":[{\"type\":\"parcoords\",\"line\":{\"colorbar\":{\"outlinewidth\":0,\"ticks\":\"\"}}}],\"scatterpolargl\":[{\"type\":\"scatterpolargl\",\"marker\":{\"colorbar\":{\"outlinewidth\":0,\"ticks\":\"\"}}}],\"bar\":[{\"error_x\":{\"color\":\"#2a3f5f\"},\"error_y\":{\"color\":\"#2a3f5f\"},\"marker\":{\"line\":{\"color\":\"#E5ECF6\",\"width\":0.5},\"pattern\":{\"fillmode\":\"overlay\",\"size\":10,\"solidity\":0.2}},\"type\":\"bar\"}],\"scattergeo\":[{\"type\":\"scattergeo\",\"marker\":{\"colorbar\":{\"outlinewidth\":0,\"ticks\":\"\"}}}],\"scatterpolar\":[{\"type\":\"scatterpolar\",\"marker\":{\"colorbar\":{\"outlinewidth\":0,\"ticks\":\"\"}}}],\"histogram\":[{\"marker\":{\"pattern\":{\"fillmode\":\"overlay\",\"size\":10,\"solidity\":0.2}},\"type\":\"histogram\"}],\"scattergl\":[{\"type\":\"scattergl\",\"marker\":{\"colorbar\":{\"outlinewidth\":0,\"ticks\":\"\"}}}],\"scatter3d\":[{\"type\":\"scatter3d\",\"line\":{\"colorbar\":{\"outlinewidth\":0,\"ticks\":\"\"}},\"marker\":{\"colorbar\":{\"outlinewidth\":0,\"ticks\":\"\"}}}],\"scattermapbox\":[{\"type\":\"scattermapbox\",\"marker\":{\"colorbar\":{\"outlinewidth\":0,\"ticks\":\"\"}}}],\"scatterternary\":[{\"type\":\"scatterternary\",\"marker\":{\"colorbar\":{\"outlinewidth\":0,\"ticks\":\"\"}}}],\"scattercarpet\":[{\"type\":\"scattercarpet\",\"marker\":{\"colorbar\":{\"outlinewidth\":0,\"ticks\":\"\"}}}],\"carpet\":[{\"aaxis\":{\"endlinecolor\":\"#2a3f5f\",\"gridcolor\":\"white\",\"linecolor\":\"white\",\"minorgridcolor\":\"white\",\"startlinecolor\":\"#2a3f5f\"},\"baxis\":{\"endlinecolor\":\"#2a3f5f\",\"gridcolor\":\"white\",\"linecolor\":\"white\",\"minorgridcolor\":\"white\",\"startlinecolor\":\"#2a3f5f\"},\"type\":\"carpet\"}],\"table\":[{\"cells\":{\"fill\":{\"color\":\"#EBF0F8\"},\"line\":{\"color\":\"white\"}},\"header\":{\"fill\":{\"color\":\"#C8D4E3\"},\"line\":{\"color\":\"white\"}},\"type\":\"table\"}],\"barpolar\":[{\"marker\":{\"line\":{\"color\":\"#E5ECF6\",\"width\":0.5},\"pattern\":{\"fillmode\":\"overlay\",\"size\":10,\"solidity\":0.2}},\"type\":\"barpolar\"}],\"pie\":[{\"automargin\":true,\"type\":\"pie\"}]},\"layout\":{\"autotypenumbers\":\"strict\",\"colorway\":[\"#636efa\",\"#EF553B\",\"#00cc96\",\"#ab63fa\",\"#FFA15A\",\"#19d3f3\",\"#FF6692\",\"#B6E880\",\"#FF97FF\",\"#FECB52\"],\"font\":{\"color\":\"#2a3f5f\"},\"hovermode\":\"closest\",\"hoverlabel\":{\"align\":\"left\"},\"paper_bgcolor\":\"white\",\"plot_bgcolor\":\"#E5ECF6\",\"polar\":{\"bgcolor\":\"#E5ECF6\",\"angularaxis\":{\"gridcolor\":\"white\",\"linecolor\":\"white\",\"ticks\":\"\"},\"radialaxis\":{\"gridcolor\":\"white\",\"linecolor\":\"white\",\"ticks\":\"\"}},\"ternary\":{\"bgcolor\":\"#E5ECF6\",\"aaxis\":{\"gridcolor\":\"white\",\"linecolor\":\"white\",\"ticks\":\"\"},\"baxis\":{\"gridcolor\":\"white\",\"linecolor\":\"white\",\"ticks\":\"\"},\"caxis\":{\"gridcolor\":\"white\",\"linecolor\":\"white\",\"ticks\":\"\"}},\"coloraxis\":{\"colorbar\":{\"outlinewidth\":0,\"ticks\":\"\"}},\"colorscale\":{\"sequential\":[[0.0,\"#0d0887\"],[0.1111111111111111,\"#46039f\"],[0.2222222222222222,\"#7201a8\"],[0.3333333333333333,\"#9c179e\"],[0.4444444444444444,\"#bd3786\"],[0.5555555555555556,\"#d8576b\"],[0.6666666666666666,\"#ed7953\"],[0.7777777777777778,\"#fb9f3a\"],[0.8888888888888888,\"#fdca26\"],[1.0,\"#f0f921\"]],\"sequentialminus\":[[0.0,\"#0d0887\"],[0.1111111111111111,\"#46039f\"],[0.2222222222222222,\"#7201a8\"],[0.3333333333333333,\"#9c179e\"],[0.4444444444444444,\"#bd3786\"],[0.5555555555555556,\"#d8576b\"],[0.6666666666666666,\"#ed7953\"],[0.7777777777777778,\"#fb9f3a\"],[0.8888888888888888,\"#fdca26\"],[1.0,\"#f0f921\"]],\"diverging\":[[0,\"#8e0152\"],[0.1,\"#c51b7d\"],[0.2,\"#de77ae\"],[0.3,\"#f1b6da\"],[0.4,\"#fde0ef\"],[0.5,\"#f7f7f7\"],[0.6,\"#e6f5d0\"],[0.7,\"#b8e186\"],[0.8,\"#7fbc41\"],[0.9,\"#4d9221\"],[1,\"#276419\"]]},\"xaxis\":{\"gridcolor\":\"white\",\"linecolor\":\"white\",\"ticks\":\"\",\"title\":{\"standoff\":15},\"zerolinecolor\":\"white\",\"automargin\":true,\"zerolinewidth\":2},\"yaxis\":{\"gridcolor\":\"white\",\"linecolor\":\"white\",\"ticks\":\"\",\"title\":{\"standoff\":15},\"zerolinecolor\":\"white\",\"automargin\":true,\"zerolinewidth\":2},\"scene\":{\"xaxis\":{\"backgroundcolor\":\"#E5ECF6\",\"gridcolor\":\"white\",\"linecolor\":\"white\",\"showbackground\":true,\"ticks\":\"\",\"zerolinecolor\":\"white\",\"gridwidth\":2},\"yaxis\":{\"backgroundcolor\":\"#E5ECF6\",\"gridcolor\":\"white\",\"linecolor\":\"white\",\"showbackground\":true,\"ticks\":\"\",\"zerolinecolor\":\"white\",\"gridwidth\":2},\"zaxis\":{\"backgroundcolor\":\"#E5ECF6\",\"gridcolor\":\"white\",\"linecolor\":\"white\",\"showbackground\":true,\"ticks\":\"\",\"zerolinecolor\":\"white\",\"gridwidth\":2}},\"shapedefaults\":{\"line\":{\"color\":\"#2a3f5f\"}},\"annotationdefaults\":{\"arrowcolor\":\"#2a3f5f\",\"arrowhead\":0,\"arrowwidth\":1},\"geo\":{\"bgcolor\":\"white\",\"landcolor\":\"#E5ECF6\",\"subunitcolor\":\"white\",\"showland\":true,\"showlakes\":true,\"lakecolor\":\"white\"},\"title\":{\"x\":0.05},\"mapbox\":{\"style\":\"light\"}}},\"xaxis\":{\"anchor\":\"y\",\"domain\":[0.0,1.0],\"title\":{\"text\":\"Week\"},\"showgrid\":true,\"gridwidth\":1,\"gridcolor\":\"LightGray\"},\"yaxis\":{\"anchor\":\"x\",\"domain\":[0.0,1.0],\"title\":{\"text\":\"Connections\"},\"type\":\"log\",\"showgrid\":true,\"gridwidth\":1,\"gridcolor\":\"LightGray\",\"tickvals\":[1000,2000,4000,6000,8000,10000,20000,40000,60000,80000,100000,200000,400000,600000]},\"legend\":{\"title\":{\"text\":\"TargetOrgs\"},\"tracegroupgap\":0},\"margin\":{\"t\":60},\"height\":900,\"font\":{\"size\":30},\"plot_bgcolor\":\"white\",\"showlegend\":false},                        {\"responsive\": true}                    ).then(function(){\n",
       "                            \n",
       "var gd = document.getElementById('214ecca6-baa4-47a5-89b3-2ff1617cc97a');\n",
       "var x = new MutationObserver(function (mutations, observer) {{\n",
       "        var display = window.getComputedStyle(gd).display;\n",
       "        if (!display || display === 'none') {{\n",
       "            console.log([gd, 'removed!']);\n",
       "            Plotly.purge(gd);\n",
       "            observer.disconnect();\n",
       "        }}\n",
       "}});\n",
       "\n",
       "// Listen for the removal of the full notebook cells\n",
       "var notebookContainer = gd.closest('#notebook-container');\n",
       "if (notebookContainer) {{\n",
       "    x.observe(notebookContainer, {childList: true});\n",
       "}}\n",
       "\n",
       "// Listen for the clearing of the current output cell\n",
       "var outputEl = gd.closest('.output');\n",
       "if (outputEl) {{\n",
       "    x.observe(outputEl, {childList: true});\n",
       "}}\n",
       "\n",
       "                        })                };                });            </script>        </div>"
      ]
     },
     "metadata": {},
     "output_type": "display_data"
    }
   ],
   "source": [
    "import plotly.express as px\n",
    "import pandas as pd\n",
    "\n",
    "df_orgs_out = pd.read_csv('/Volumes/GoogleDrive/My Drive/Thesis/Plotly/category_Admin_out_targets.csv')\n",
    "\n",
    "fig_orgs_out_conns = px.line(df_orgs_out, x='Week', y='Connections', log_y=True, color='TargetOrgs',\n",
    "                             color_discrete_map={'APPLE': '#7f7f7f', 'NETFLIX': '#dc3912', 'AKAMAI': '#ff9900',\n",
    "                                                 'CANARIE': '#fb00d1', 'FACEBOOK': '#3366cc', 'GOOGLE': '#109618',\n",
    "                                                 'AMAZON': '#212E3C', 'FASTLY': '#8c564b', 'LEVEL3': '#17becf',\n",
    "                                                 'MICROSOFT': '#990099', 'EDGECAST': '#316395',\n",
    "                                                 'VALVE-CORPORATION': '#bcbd22'},\n",
    "                             markers=True, line_dash='TargetOrgs', symbol='TargetOrgs', height=900)\n",
    "fig_orgs_out_conns.update_layout(plot_bgcolor='white', font_size=30, showlegend=False)\n",
    "fig_orgs_out_conns.update_xaxes(showgrid=True, gridwidth=1, gridcolor='LightGray')\n",
    "fig_orgs_out_conns.update_yaxes(showgrid=True, gridwidth=1, gridcolor='LightGray',\n",
    "                                tickvals=[1000, 2000, 4000, 6000, 8000, 10000, 20000, 40000, 60000, 80000, \n",
    "                                          100000, 200000, 400000, 600000])\n",
    "fig_orgs_out_conns.update_traces(line_width=8, marker_size=18)\n",
    "\n",
    "fig_orgs_out_conns.show()"
   ]
  },
  {
   "cell_type": "code",
   "execution_count": 6,
   "id": "ca585c1a",
   "metadata": {},
   "outputs": [
    {
     "data": {
      "application/vnd.plotly.v1+json": {
       "config": {
        "plotlyServerURL": "https://plot.ly"
       },
       "data": [
        {
         "hovertemplate": "TargetOrgs=APPLE<br>Week=%{x}<br>TotalBytes=%{y}<extra></extra>",
         "legendgroup": "APPLE",
         "line": {
          "color": "#7f7f7f",
          "dash": "solid",
          "width": 8
         },
         "marker": {
          "size": 18,
          "symbol": "circle"
         },
         "mode": "lines+markers",
         "name": "APPLE",
         "orientation": "v",
         "showlegend": true,
         "type": "scatter",
         "x": [
          "Feb 2020",
          "Apr 2020",
          "Sept 2020",
          "Sept 2021"
         ],
         "xaxis": "x",
         "y": [
          686510928929,
          663420332601,
          1920245863420,
          137566264658
         ],
         "yaxis": "y"
        },
        {
         "hovertemplate": "TargetOrgs=AKAMAI<br>Week=%{x}<br>TotalBytes=%{y}<extra></extra>",
         "legendgroup": "AKAMAI",
         "line": {
          "color": "#ff9900",
          "dash": "dot",
          "width": 8
         },
         "marker": {
          "size": 18,
          "symbol": "diamond"
         },
         "mode": "lines+markers",
         "name": "AKAMAI",
         "orientation": "v",
         "showlegend": true,
         "type": "scatter",
         "x": [
          "Feb 2020",
          "Apr 2020",
          "Sept 2020",
          "Sept 2021"
         ],
         "xaxis": "x",
         "y": [
          257236894045,
          225127660998,
          379009390496,
          342979805286
         ],
         "yaxis": "y"
        },
        {
         "hovertemplate": "TargetOrgs=NETFLIX<br>Week=%{x}<br>TotalBytes=%{y}<extra></extra>",
         "legendgroup": "NETFLIX",
         "line": {
          "color": "#dc3912",
          "dash": "dash",
          "width": 8
         },
         "marker": {
          "size": 18,
          "symbol": "square"
         },
         "mode": "lines+markers",
         "name": "NETFLIX",
         "orientation": "v",
         "showlegend": true,
         "type": "scatter",
         "x": [
          "Feb 2020",
          "Sept 2020",
          "Sept 2021"
         ],
         "xaxis": "x",
         "y": [
          184318418443,
          287029025739,
          134171657703
         ],
         "yaxis": "y"
        },
        {
         "hovertemplate": "TargetOrgs=CLOUDFLARENET<br>Week=%{x}<br>TotalBytes=%{y}<extra></extra>",
         "legendgroup": "CLOUDFLARENET",
         "line": {
          "color": "#00cc96",
          "dash": "longdash",
          "width": 8
         },
         "marker": {
          "size": 18,
          "symbol": "x"
         },
         "mode": "lines+markers",
         "name": "CLOUDFLARENET",
         "orientation": "v",
         "showlegend": true,
         "type": "scatter",
         "x": [
          "Feb 2020",
          "Apr 2020",
          "Sept 2020",
          "Sept 2021"
         ],
         "xaxis": "x",
         "y": [
          129238651817,
          194992702375,
          246967395042,
          137989163618
         ],
         "yaxis": "y"
        },
        {
         "hovertemplate": "TargetOrgs=EDGECAST<br>Week=%{x}<br>TotalBytes=%{y}<extra></extra>",
         "legendgroup": "EDGECAST",
         "line": {
          "color": "#316395",
          "dash": "dashdot",
          "width": 8
         },
         "marker": {
          "size": 18,
          "symbol": "cross"
         },
         "mode": "lines+markers",
         "name": "EDGECAST",
         "orientation": "v",
         "showlegend": true,
         "type": "scatter",
         "x": [
          "Feb 2020",
          "Apr 2020",
          "Sept 2020",
          "Sept 2021"
         ],
         "xaxis": "x",
         "y": [
          126817864437,
          107751052757,
          149720693103,
          89443684119
         ],
         "yaxis": "y"
        },
        {
         "hovertemplate": "TargetOrgs=GOOGLE<br>Week=%{x}<br>TotalBytes=%{y}<extra></extra>",
         "legendgroup": "GOOGLE",
         "line": {
          "color": "#109618",
          "dash": "longdashdot",
          "width": 8
         },
         "marker": {
          "size": 18,
          "symbol": "circle"
         },
         "mode": "lines+markers",
         "name": "GOOGLE",
         "orientation": "v",
         "showlegend": true,
         "type": "scatter",
         "x": [
          "Feb 2020",
          "Apr 2020",
          "Sept 2020",
          "Sept 2021"
         ],
         "xaxis": "x",
         "y": [
          123437919144,
          108555733941,
          234450591464,
          173045398345
         ],
         "yaxis": "y"
        },
        {
         "hovertemplate": "TargetOrgs=VALVE-CORPORATION<br>Week=%{x}<br>TotalBytes=%{y}<extra></extra>",
         "legendgroup": "VALVE-CORPORATION",
         "line": {
          "color": "#bcbd22",
          "dash": "solid",
          "width": 8
         },
         "marker": {
          "size": 18,
          "symbol": "diamond"
         },
         "mode": "lines+markers",
         "name": "VALVE-CORPORATION",
         "orientation": "v",
         "showlegend": true,
         "type": "scatter",
         "x": [
          "Feb 2020"
         ],
         "xaxis": "x",
         "y": [
          113785593219
         ],
         "yaxis": "y"
        },
        {
         "hovertemplate": "TargetOrgs=AMAZON<br>Week=%{x}<br>TotalBytes=%{y}<extra></extra>",
         "legendgroup": "AMAZON",
         "line": {
          "color": "#212E3C",
          "dash": "dot",
          "width": 8
         },
         "marker": {
          "size": 18,
          "symbol": "square"
         },
         "mode": "lines+markers",
         "name": "AMAZON",
         "orientation": "v",
         "showlegend": true,
         "type": "scatter",
         "x": [
          "Feb 2020",
          "Apr 2020",
          "Sept 2020",
          "Sept 2021"
         ],
         "xaxis": "x",
         "y": [
          109666370652,
          59316862273,
          298033824215,
          217658677892
         ],
         "yaxis": "y"
        },
        {
         "hovertemplate": "TargetOrgs=MICROSOFT<br>Week=%{x}<br>TotalBytes=%{y}<extra></extra>",
         "legendgroup": "MICROSOFT",
         "line": {
          "color": "#990099",
          "dash": "dash",
          "width": 8
         },
         "marker": {
          "size": 18,
          "symbol": "x"
         },
         "mode": "lines+markers",
         "name": "MICROSOFT",
         "orientation": "v",
         "showlegend": true,
         "type": "scatter",
         "x": [
          "Feb 2020",
          "Sept 2020"
         ],
         "xaxis": "x",
         "y": [
          105118866295,
          130885748734
         ],
         "yaxis": "y"
        },
        {
         "hovertemplate": "TargetOrgs=CANARIE<br>Week=%{x}<br>TotalBytes=%{y}<extra></extra>",
         "legendgroup": "CANARIE",
         "line": {
          "color": "#fb00d1",
          "dash": "longdash",
          "width": 8
         },
         "marker": {
          "size": 18,
          "symbol": "cross"
         },
         "mode": "lines+markers",
         "name": "CANARIE",
         "orientation": "v",
         "showlegend": true,
         "type": "scatter",
         "x": [
          "Feb 2020",
          "Apr 2020",
          "Sept 2020",
          "Sept 2021"
         ],
         "xaxis": "x",
         "y": [
          100791502753,
          67058378869,
          135414658399,
          89320301807
         ],
         "yaxis": "y"
        },
        {
         "hovertemplate": "TargetOrgs=HIGHWINDS<br>Week=%{x}<br>TotalBytes=%{y}<extra></extra>",
         "legendgroup": "HIGHWINDS",
         "line": {
          "color": "#ab63fa",
          "dash": "dashdot",
          "width": 8
         },
         "marker": {
          "size": 18,
          "symbol": "circle"
         },
         "mode": "lines+markers",
         "name": "HIGHWINDS",
         "orientation": "v",
         "showlegend": true,
         "type": "scatter",
         "x": [
          "Apr 2020",
          "Sept 2021"
         ],
         "xaxis": "x",
         "y": [
          146052458764,
          147187519623
         ],
         "yaxis": "y"
        },
        {
         "hovertemplate": "TargetOrgs=LEVEL3<br>Week=%{x}<br>TotalBytes=%{y}<extra></extra>",
         "legendgroup": "LEVEL3",
         "line": {
          "color": "#17becf",
          "dash": "longdashdot",
          "width": 8
         },
         "marker": {
          "size": 18,
          "symbol": "diamond"
         },
         "mode": "lines+markers",
         "name": "LEVEL3",
         "orientation": "v",
         "showlegend": true,
         "type": "scatter",
         "x": [
          "Apr 2020"
         ],
         "xaxis": "x",
         "y": [
          121388366309
         ],
         "yaxis": "y"
        },
        {
         "hovertemplate": "TargetOrgs=FASTLY<br>Week=%{x}<br>TotalBytes=%{y}<extra></extra>",
         "legendgroup": "FASTLY",
         "line": {
          "color": "#8c564b",
          "dash": "solid",
          "width": 8
         },
         "marker": {
          "size": 18,
          "symbol": "square"
         },
         "mode": "lines+markers",
         "name": "FASTLY",
         "orientation": "v",
         "showlegend": true,
         "type": "scatter",
         "x": [
          "Apr 2020",
          "Sept 2021"
         ],
         "xaxis": "x",
         "y": [
          108253249348,
          111828529175
         ],
         "yaxis": "y"
        },
        {
         "hovertemplate": "TargetOrgs=DROPBOX<br>Week=%{x}<br>TotalBytes=%{y}<extra></extra>",
         "legendgroup": "DROPBOX",
         "line": {
          "color": "#FFA15A",
          "dash": "dot",
          "width": 8
         },
         "marker": {
          "size": 18,
          "symbol": "x"
         },
         "mode": "lines+markers",
         "name": "DROPBOX",
         "orientation": "v",
         "showlegend": true,
         "type": "scatter",
         "x": [
          "Sept 2020"
         ],
         "xaxis": "x",
         "y": [
          238408441621
         ],
         "yaxis": "y"
        }
       ],
       "layout": {
        "font": {
         "size": 30
        },
        "height": 900,
        "legend": {
         "itemwidth": 70,
         "title": {
          "text": "TargetOrgs"
         },
         "tracegroupgap": 0
        },
        "margin": {
         "t": 60
        },
        "plot_bgcolor": "white",
        "template": {
         "data": {
          "bar": [
           {
            "error_x": {
             "color": "#2a3f5f"
            },
            "error_y": {
             "color": "#2a3f5f"
            },
            "marker": {
             "line": {
              "color": "#E5ECF6",
              "width": 0.5
             },
             "pattern": {
              "fillmode": "overlay",
              "size": 10,
              "solidity": 0.2
             }
            },
            "type": "bar"
           }
          ],
          "barpolar": [
           {
            "marker": {
             "line": {
              "color": "#E5ECF6",
              "width": 0.5
             },
             "pattern": {
              "fillmode": "overlay",
              "size": 10,
              "solidity": 0.2
             }
            },
            "type": "barpolar"
           }
          ],
          "carpet": [
           {
            "aaxis": {
             "endlinecolor": "#2a3f5f",
             "gridcolor": "white",
             "linecolor": "white",
             "minorgridcolor": "white",
             "startlinecolor": "#2a3f5f"
            },
            "baxis": {
             "endlinecolor": "#2a3f5f",
             "gridcolor": "white",
             "linecolor": "white",
             "minorgridcolor": "white",
             "startlinecolor": "#2a3f5f"
            },
            "type": "carpet"
           }
          ],
          "choropleth": [
           {
            "colorbar": {
             "outlinewidth": 0,
             "ticks": ""
            },
            "type": "choropleth"
           }
          ],
          "contour": [
           {
            "colorbar": {
             "outlinewidth": 0,
             "ticks": ""
            },
            "colorscale": [
             [
              0,
              "#0d0887"
             ],
             [
              0.1111111111111111,
              "#46039f"
             ],
             [
              0.2222222222222222,
              "#7201a8"
             ],
             [
              0.3333333333333333,
              "#9c179e"
             ],
             [
              0.4444444444444444,
              "#bd3786"
             ],
             [
              0.5555555555555556,
              "#d8576b"
             ],
             [
              0.6666666666666666,
              "#ed7953"
             ],
             [
              0.7777777777777778,
              "#fb9f3a"
             ],
             [
              0.8888888888888888,
              "#fdca26"
             ],
             [
              1,
              "#f0f921"
             ]
            ],
            "type": "contour"
           }
          ],
          "contourcarpet": [
           {
            "colorbar": {
             "outlinewidth": 0,
             "ticks": ""
            },
            "type": "contourcarpet"
           }
          ],
          "heatmap": [
           {
            "colorbar": {
             "outlinewidth": 0,
             "ticks": ""
            },
            "colorscale": [
             [
              0,
              "#0d0887"
             ],
             [
              0.1111111111111111,
              "#46039f"
             ],
             [
              0.2222222222222222,
              "#7201a8"
             ],
             [
              0.3333333333333333,
              "#9c179e"
             ],
             [
              0.4444444444444444,
              "#bd3786"
             ],
             [
              0.5555555555555556,
              "#d8576b"
             ],
             [
              0.6666666666666666,
              "#ed7953"
             ],
             [
              0.7777777777777778,
              "#fb9f3a"
             ],
             [
              0.8888888888888888,
              "#fdca26"
             ],
             [
              1,
              "#f0f921"
             ]
            ],
            "type": "heatmap"
           }
          ],
          "heatmapgl": [
           {
            "colorbar": {
             "outlinewidth": 0,
             "ticks": ""
            },
            "colorscale": [
             [
              0,
              "#0d0887"
             ],
             [
              0.1111111111111111,
              "#46039f"
             ],
             [
              0.2222222222222222,
              "#7201a8"
             ],
             [
              0.3333333333333333,
              "#9c179e"
             ],
             [
              0.4444444444444444,
              "#bd3786"
             ],
             [
              0.5555555555555556,
              "#d8576b"
             ],
             [
              0.6666666666666666,
              "#ed7953"
             ],
             [
              0.7777777777777778,
              "#fb9f3a"
             ],
             [
              0.8888888888888888,
              "#fdca26"
             ],
             [
              1,
              "#f0f921"
             ]
            ],
            "type": "heatmapgl"
           }
          ],
          "histogram": [
           {
            "marker": {
             "pattern": {
              "fillmode": "overlay",
              "size": 10,
              "solidity": 0.2
             }
            },
            "type": "histogram"
           }
          ],
          "histogram2d": [
           {
            "colorbar": {
             "outlinewidth": 0,
             "ticks": ""
            },
            "colorscale": [
             [
              0,
              "#0d0887"
             ],
             [
              0.1111111111111111,
              "#46039f"
             ],
             [
              0.2222222222222222,
              "#7201a8"
             ],
             [
              0.3333333333333333,
              "#9c179e"
             ],
             [
              0.4444444444444444,
              "#bd3786"
             ],
             [
              0.5555555555555556,
              "#d8576b"
             ],
             [
              0.6666666666666666,
              "#ed7953"
             ],
             [
              0.7777777777777778,
              "#fb9f3a"
             ],
             [
              0.8888888888888888,
              "#fdca26"
             ],
             [
              1,
              "#f0f921"
             ]
            ],
            "type": "histogram2d"
           }
          ],
          "histogram2dcontour": [
           {
            "colorbar": {
             "outlinewidth": 0,
             "ticks": ""
            },
            "colorscale": [
             [
              0,
              "#0d0887"
             ],
             [
              0.1111111111111111,
              "#46039f"
             ],
             [
              0.2222222222222222,
              "#7201a8"
             ],
             [
              0.3333333333333333,
              "#9c179e"
             ],
             [
              0.4444444444444444,
              "#bd3786"
             ],
             [
              0.5555555555555556,
              "#d8576b"
             ],
             [
              0.6666666666666666,
              "#ed7953"
             ],
             [
              0.7777777777777778,
              "#fb9f3a"
             ],
             [
              0.8888888888888888,
              "#fdca26"
             ],
             [
              1,
              "#f0f921"
             ]
            ],
            "type": "histogram2dcontour"
           }
          ],
          "mesh3d": [
           {
            "colorbar": {
             "outlinewidth": 0,
             "ticks": ""
            },
            "type": "mesh3d"
           }
          ],
          "parcoords": [
           {
            "line": {
             "colorbar": {
              "outlinewidth": 0,
              "ticks": ""
             }
            },
            "type": "parcoords"
           }
          ],
          "pie": [
           {
            "automargin": true,
            "type": "pie"
           }
          ],
          "scatter": [
           {
            "fillpattern": {
             "fillmode": "overlay",
             "size": 10,
             "solidity": 0.2
            },
            "type": "scatter"
           }
          ],
          "scatter3d": [
           {
            "line": {
             "colorbar": {
              "outlinewidth": 0,
              "ticks": ""
             }
            },
            "marker": {
             "colorbar": {
              "outlinewidth": 0,
              "ticks": ""
             }
            },
            "type": "scatter3d"
           }
          ],
          "scattercarpet": [
           {
            "marker": {
             "colorbar": {
              "outlinewidth": 0,
              "ticks": ""
             }
            },
            "type": "scattercarpet"
           }
          ],
          "scattergeo": [
           {
            "marker": {
             "colorbar": {
              "outlinewidth": 0,
              "ticks": ""
             }
            },
            "type": "scattergeo"
           }
          ],
          "scattergl": [
           {
            "marker": {
             "colorbar": {
              "outlinewidth": 0,
              "ticks": ""
             }
            },
            "type": "scattergl"
           }
          ],
          "scattermapbox": [
           {
            "marker": {
             "colorbar": {
              "outlinewidth": 0,
              "ticks": ""
             }
            },
            "type": "scattermapbox"
           }
          ],
          "scatterpolar": [
           {
            "marker": {
             "colorbar": {
              "outlinewidth": 0,
              "ticks": ""
             }
            },
            "type": "scatterpolar"
           }
          ],
          "scatterpolargl": [
           {
            "marker": {
             "colorbar": {
              "outlinewidth": 0,
              "ticks": ""
             }
            },
            "type": "scatterpolargl"
           }
          ],
          "scatterternary": [
           {
            "marker": {
             "colorbar": {
              "outlinewidth": 0,
              "ticks": ""
             }
            },
            "type": "scatterternary"
           }
          ],
          "surface": [
           {
            "colorbar": {
             "outlinewidth": 0,
             "ticks": ""
            },
            "colorscale": [
             [
              0,
              "#0d0887"
             ],
             [
              0.1111111111111111,
              "#46039f"
             ],
             [
              0.2222222222222222,
              "#7201a8"
             ],
             [
              0.3333333333333333,
              "#9c179e"
             ],
             [
              0.4444444444444444,
              "#bd3786"
             ],
             [
              0.5555555555555556,
              "#d8576b"
             ],
             [
              0.6666666666666666,
              "#ed7953"
             ],
             [
              0.7777777777777778,
              "#fb9f3a"
             ],
             [
              0.8888888888888888,
              "#fdca26"
             ],
             [
              1,
              "#f0f921"
             ]
            ],
            "type": "surface"
           }
          ],
          "table": [
           {
            "cells": {
             "fill": {
              "color": "#EBF0F8"
             },
             "line": {
              "color": "white"
             }
            },
            "header": {
             "fill": {
              "color": "#C8D4E3"
             },
             "line": {
              "color": "white"
             }
            },
            "type": "table"
           }
          ]
         },
         "layout": {
          "annotationdefaults": {
           "arrowcolor": "#2a3f5f",
           "arrowhead": 0,
           "arrowwidth": 1
          },
          "autotypenumbers": "strict",
          "coloraxis": {
           "colorbar": {
            "outlinewidth": 0,
            "ticks": ""
           }
          },
          "colorscale": {
           "diverging": [
            [
             0,
             "#8e0152"
            ],
            [
             0.1,
             "#c51b7d"
            ],
            [
             0.2,
             "#de77ae"
            ],
            [
             0.3,
             "#f1b6da"
            ],
            [
             0.4,
             "#fde0ef"
            ],
            [
             0.5,
             "#f7f7f7"
            ],
            [
             0.6,
             "#e6f5d0"
            ],
            [
             0.7,
             "#b8e186"
            ],
            [
             0.8,
             "#7fbc41"
            ],
            [
             0.9,
             "#4d9221"
            ],
            [
             1,
             "#276419"
            ]
           ],
           "sequential": [
            [
             0,
             "#0d0887"
            ],
            [
             0.1111111111111111,
             "#46039f"
            ],
            [
             0.2222222222222222,
             "#7201a8"
            ],
            [
             0.3333333333333333,
             "#9c179e"
            ],
            [
             0.4444444444444444,
             "#bd3786"
            ],
            [
             0.5555555555555556,
             "#d8576b"
            ],
            [
             0.6666666666666666,
             "#ed7953"
            ],
            [
             0.7777777777777778,
             "#fb9f3a"
            ],
            [
             0.8888888888888888,
             "#fdca26"
            ],
            [
             1,
             "#f0f921"
            ]
           ],
           "sequentialminus": [
            [
             0,
             "#0d0887"
            ],
            [
             0.1111111111111111,
             "#46039f"
            ],
            [
             0.2222222222222222,
             "#7201a8"
            ],
            [
             0.3333333333333333,
             "#9c179e"
            ],
            [
             0.4444444444444444,
             "#bd3786"
            ],
            [
             0.5555555555555556,
             "#d8576b"
            ],
            [
             0.6666666666666666,
             "#ed7953"
            ],
            [
             0.7777777777777778,
             "#fb9f3a"
            ],
            [
             0.8888888888888888,
             "#fdca26"
            ],
            [
             1,
             "#f0f921"
            ]
           ]
          },
          "colorway": [
           "#636efa",
           "#EF553B",
           "#00cc96",
           "#ab63fa",
           "#FFA15A",
           "#19d3f3",
           "#FF6692",
           "#B6E880",
           "#FF97FF",
           "#FECB52"
          ],
          "font": {
           "color": "#2a3f5f"
          },
          "geo": {
           "bgcolor": "white",
           "lakecolor": "white",
           "landcolor": "#E5ECF6",
           "showlakes": true,
           "showland": true,
           "subunitcolor": "white"
          },
          "hoverlabel": {
           "align": "left"
          },
          "hovermode": "closest",
          "mapbox": {
           "style": "light"
          },
          "paper_bgcolor": "white",
          "plot_bgcolor": "#E5ECF6",
          "polar": {
           "angularaxis": {
            "gridcolor": "white",
            "linecolor": "white",
            "ticks": ""
           },
           "bgcolor": "#E5ECF6",
           "radialaxis": {
            "gridcolor": "white",
            "linecolor": "white",
            "ticks": ""
           }
          },
          "scene": {
           "xaxis": {
            "backgroundcolor": "#E5ECF6",
            "gridcolor": "white",
            "gridwidth": 2,
            "linecolor": "white",
            "showbackground": true,
            "ticks": "",
            "zerolinecolor": "white"
           },
           "yaxis": {
            "backgroundcolor": "#E5ECF6",
            "gridcolor": "white",
            "gridwidth": 2,
            "linecolor": "white",
            "showbackground": true,
            "ticks": "",
            "zerolinecolor": "white"
           },
           "zaxis": {
            "backgroundcolor": "#E5ECF6",
            "gridcolor": "white",
            "gridwidth": 2,
            "linecolor": "white",
            "showbackground": true,
            "ticks": "",
            "zerolinecolor": "white"
           }
          },
          "shapedefaults": {
           "line": {
            "color": "#2a3f5f"
           }
          },
          "ternary": {
           "aaxis": {
            "gridcolor": "white",
            "linecolor": "white",
            "ticks": ""
           },
           "baxis": {
            "gridcolor": "white",
            "linecolor": "white",
            "ticks": ""
           },
           "bgcolor": "#E5ECF6",
           "caxis": {
            "gridcolor": "white",
            "linecolor": "white",
            "ticks": ""
           }
          },
          "title": {
           "x": 0.05
          },
          "xaxis": {
           "automargin": true,
           "gridcolor": "white",
           "linecolor": "white",
           "ticks": "",
           "title": {
            "standoff": 15
           },
           "zerolinecolor": "white",
           "zerolinewidth": 2
          },
          "yaxis": {
           "automargin": true,
           "gridcolor": "white",
           "linecolor": "white",
           "ticks": "",
           "title": {
            "standoff": 15
           },
           "zerolinecolor": "white",
           "zerolinewidth": 2
          }
         }
        },
        "width": 1300,
        "xaxis": {
         "anchor": "y",
         "domain": [
          0,
          1
         ],
         "gridcolor": "LightGray",
         "gridwidth": 1,
         "showgrid": true,
         "title": {
          "text": "Week"
         }
        },
        "yaxis": {
         "anchor": "x",
         "domain": [
          0,
          1
         ],
         "gridcolor": "LightGray",
         "gridwidth": 1,
         "showgrid": true,
         "ticktext": [
          "50 GB",
          "100 GB",
          "200 GB",
          "500 GB",
          "1 TB",
          "2 TB"
         ],
         "tickvals": [
          53687091200,
          107374182400,
          214748364800,
          536870912000,
          1099511627776,
          2199023255552
         ],
         "title": {
          "text": "TotalBytes"
         },
         "type": "log"
        }
       }
      },
      "text/html": [
       "<div>                            <div id=\"4814135f-3b54-4da0-90ab-d488e41953ad\" class=\"plotly-graph-div\" style=\"height:900px; width:1300px;\"></div>            <script type=\"text/javascript\">                require([\"plotly\"], function(Plotly) {                    window.PLOTLYENV=window.PLOTLYENV || {};                                    if (document.getElementById(\"4814135f-3b54-4da0-90ab-d488e41953ad\")) {                    Plotly.newPlot(                        \"4814135f-3b54-4da0-90ab-d488e41953ad\",                        [{\"hovertemplate\":\"TargetOrgs=APPLE<br>Week=%{x}<br>TotalBytes=%{y}<extra></extra>\",\"legendgroup\":\"APPLE\",\"line\":{\"color\":\"#7f7f7f\",\"dash\":\"solid\",\"width\":8},\"marker\":{\"symbol\":\"circle\",\"size\":18},\"mode\":\"lines+markers\",\"name\":\"APPLE\",\"orientation\":\"v\",\"showlegend\":true,\"x\":[\"Feb 2020\",\"Apr 2020\",\"Sept 2020\",\"Sept 2021\"],\"xaxis\":\"x\",\"y\":[686510928929,663420332601,1920245863420,137566264658],\"yaxis\":\"y\",\"type\":\"scatter\"},{\"hovertemplate\":\"TargetOrgs=AKAMAI<br>Week=%{x}<br>TotalBytes=%{y}<extra></extra>\",\"legendgroup\":\"AKAMAI\",\"line\":{\"color\":\"#ff9900\",\"dash\":\"dot\",\"width\":8},\"marker\":{\"symbol\":\"diamond\",\"size\":18},\"mode\":\"lines+markers\",\"name\":\"AKAMAI\",\"orientation\":\"v\",\"showlegend\":true,\"x\":[\"Feb 2020\",\"Apr 2020\",\"Sept 2020\",\"Sept 2021\"],\"xaxis\":\"x\",\"y\":[257236894045,225127660998,379009390496,342979805286],\"yaxis\":\"y\",\"type\":\"scatter\"},{\"hovertemplate\":\"TargetOrgs=NETFLIX<br>Week=%{x}<br>TotalBytes=%{y}<extra></extra>\",\"legendgroup\":\"NETFLIX\",\"line\":{\"color\":\"#dc3912\",\"dash\":\"dash\",\"width\":8},\"marker\":{\"symbol\":\"square\",\"size\":18},\"mode\":\"lines+markers\",\"name\":\"NETFLIX\",\"orientation\":\"v\",\"showlegend\":true,\"x\":[\"Feb 2020\",\"Sept 2020\",\"Sept 2021\"],\"xaxis\":\"x\",\"y\":[184318418443,287029025739,134171657703],\"yaxis\":\"y\",\"type\":\"scatter\"},{\"hovertemplate\":\"TargetOrgs=CLOUDFLARENET<br>Week=%{x}<br>TotalBytes=%{y}<extra></extra>\",\"legendgroup\":\"CLOUDFLARENET\",\"line\":{\"color\":\"#00cc96\",\"dash\":\"longdash\",\"width\":8},\"marker\":{\"symbol\":\"x\",\"size\":18},\"mode\":\"lines+markers\",\"name\":\"CLOUDFLARENET\",\"orientation\":\"v\",\"showlegend\":true,\"x\":[\"Feb 2020\",\"Apr 2020\",\"Sept 2020\",\"Sept 2021\"],\"xaxis\":\"x\",\"y\":[129238651817,194992702375,246967395042,137989163618],\"yaxis\":\"y\",\"type\":\"scatter\"},{\"hovertemplate\":\"TargetOrgs=EDGECAST<br>Week=%{x}<br>TotalBytes=%{y}<extra></extra>\",\"legendgroup\":\"EDGECAST\",\"line\":{\"color\":\"#316395\",\"dash\":\"dashdot\",\"width\":8},\"marker\":{\"symbol\":\"cross\",\"size\":18},\"mode\":\"lines+markers\",\"name\":\"EDGECAST\",\"orientation\":\"v\",\"showlegend\":true,\"x\":[\"Feb 2020\",\"Apr 2020\",\"Sept 2020\",\"Sept 2021\"],\"xaxis\":\"x\",\"y\":[126817864437,107751052757,149720693103,89443684119],\"yaxis\":\"y\",\"type\":\"scatter\"},{\"hovertemplate\":\"TargetOrgs=GOOGLE<br>Week=%{x}<br>TotalBytes=%{y}<extra></extra>\",\"legendgroup\":\"GOOGLE\",\"line\":{\"color\":\"#109618\",\"dash\":\"longdashdot\",\"width\":8},\"marker\":{\"symbol\":\"circle\",\"size\":18},\"mode\":\"lines+markers\",\"name\":\"GOOGLE\",\"orientation\":\"v\",\"showlegend\":true,\"x\":[\"Feb 2020\",\"Apr 2020\",\"Sept 2020\",\"Sept 2021\"],\"xaxis\":\"x\",\"y\":[123437919144,108555733941,234450591464,173045398345],\"yaxis\":\"y\",\"type\":\"scatter\"},{\"hovertemplate\":\"TargetOrgs=VALVE-CORPORATION<br>Week=%{x}<br>TotalBytes=%{y}<extra></extra>\",\"legendgroup\":\"VALVE-CORPORATION\",\"line\":{\"color\":\"#bcbd22\",\"dash\":\"solid\",\"width\":8},\"marker\":{\"symbol\":\"diamond\",\"size\":18},\"mode\":\"lines+markers\",\"name\":\"VALVE-CORPORATION\",\"orientation\":\"v\",\"showlegend\":true,\"x\":[\"Feb 2020\"],\"xaxis\":\"x\",\"y\":[113785593219],\"yaxis\":\"y\",\"type\":\"scatter\"},{\"hovertemplate\":\"TargetOrgs=AMAZON<br>Week=%{x}<br>TotalBytes=%{y}<extra></extra>\",\"legendgroup\":\"AMAZON\",\"line\":{\"color\":\"#212E3C\",\"dash\":\"dot\",\"width\":8},\"marker\":{\"symbol\":\"square\",\"size\":18},\"mode\":\"lines+markers\",\"name\":\"AMAZON\",\"orientation\":\"v\",\"showlegend\":true,\"x\":[\"Feb 2020\",\"Apr 2020\",\"Sept 2020\",\"Sept 2021\"],\"xaxis\":\"x\",\"y\":[109666370652,59316862273,298033824215,217658677892],\"yaxis\":\"y\",\"type\":\"scatter\"},{\"hovertemplate\":\"TargetOrgs=MICROSOFT<br>Week=%{x}<br>TotalBytes=%{y}<extra></extra>\",\"legendgroup\":\"MICROSOFT\",\"line\":{\"color\":\"#990099\",\"dash\":\"dash\",\"width\":8},\"marker\":{\"symbol\":\"x\",\"size\":18},\"mode\":\"lines+markers\",\"name\":\"MICROSOFT\",\"orientation\":\"v\",\"showlegend\":true,\"x\":[\"Feb 2020\",\"Sept 2020\"],\"xaxis\":\"x\",\"y\":[105118866295,130885748734],\"yaxis\":\"y\",\"type\":\"scatter\"},{\"hovertemplate\":\"TargetOrgs=CANARIE<br>Week=%{x}<br>TotalBytes=%{y}<extra></extra>\",\"legendgroup\":\"CANARIE\",\"line\":{\"color\":\"#fb00d1\",\"dash\":\"longdash\",\"width\":8},\"marker\":{\"symbol\":\"cross\",\"size\":18},\"mode\":\"lines+markers\",\"name\":\"CANARIE\",\"orientation\":\"v\",\"showlegend\":true,\"x\":[\"Feb 2020\",\"Apr 2020\",\"Sept 2020\",\"Sept 2021\"],\"xaxis\":\"x\",\"y\":[100791502753,67058378869,135414658399,89320301807],\"yaxis\":\"y\",\"type\":\"scatter\"},{\"hovertemplate\":\"TargetOrgs=HIGHWINDS<br>Week=%{x}<br>TotalBytes=%{y}<extra></extra>\",\"legendgroup\":\"HIGHWINDS\",\"line\":{\"color\":\"#ab63fa\",\"dash\":\"dashdot\",\"width\":8},\"marker\":{\"symbol\":\"circle\",\"size\":18},\"mode\":\"lines+markers\",\"name\":\"HIGHWINDS\",\"orientation\":\"v\",\"showlegend\":true,\"x\":[\"Apr 2020\",\"Sept 2021\"],\"xaxis\":\"x\",\"y\":[146052458764,147187519623],\"yaxis\":\"y\",\"type\":\"scatter\"},{\"hovertemplate\":\"TargetOrgs=LEVEL3<br>Week=%{x}<br>TotalBytes=%{y}<extra></extra>\",\"legendgroup\":\"LEVEL3\",\"line\":{\"color\":\"#17becf\",\"dash\":\"longdashdot\",\"width\":8},\"marker\":{\"symbol\":\"diamond\",\"size\":18},\"mode\":\"lines+markers\",\"name\":\"LEVEL3\",\"orientation\":\"v\",\"showlegend\":true,\"x\":[\"Apr 2020\"],\"xaxis\":\"x\",\"y\":[121388366309],\"yaxis\":\"y\",\"type\":\"scatter\"},{\"hovertemplate\":\"TargetOrgs=FASTLY<br>Week=%{x}<br>TotalBytes=%{y}<extra></extra>\",\"legendgroup\":\"FASTLY\",\"line\":{\"color\":\"#8c564b\",\"dash\":\"solid\",\"width\":8},\"marker\":{\"symbol\":\"square\",\"size\":18},\"mode\":\"lines+markers\",\"name\":\"FASTLY\",\"orientation\":\"v\",\"showlegend\":true,\"x\":[\"Apr 2020\",\"Sept 2021\"],\"xaxis\":\"x\",\"y\":[108253249348,111828529175],\"yaxis\":\"y\",\"type\":\"scatter\"},{\"hovertemplate\":\"TargetOrgs=DROPBOX<br>Week=%{x}<br>TotalBytes=%{y}<extra></extra>\",\"legendgroup\":\"DROPBOX\",\"line\":{\"color\":\"#FFA15A\",\"dash\":\"dot\",\"width\":8},\"marker\":{\"symbol\":\"x\",\"size\":18},\"mode\":\"lines+markers\",\"name\":\"DROPBOX\",\"orientation\":\"v\",\"showlegend\":true,\"x\":[\"Sept 2020\"],\"xaxis\":\"x\",\"y\":[238408441621],\"yaxis\":\"y\",\"type\":\"scatter\"}],                        {\"template\":{\"data\":{\"histogram2dcontour\":[{\"type\":\"histogram2dcontour\",\"colorbar\":{\"outlinewidth\":0,\"ticks\":\"\"},\"colorscale\":[[0.0,\"#0d0887\"],[0.1111111111111111,\"#46039f\"],[0.2222222222222222,\"#7201a8\"],[0.3333333333333333,\"#9c179e\"],[0.4444444444444444,\"#bd3786\"],[0.5555555555555556,\"#d8576b\"],[0.6666666666666666,\"#ed7953\"],[0.7777777777777778,\"#fb9f3a\"],[0.8888888888888888,\"#fdca26\"],[1.0,\"#f0f921\"]]}],\"choropleth\":[{\"type\":\"choropleth\",\"colorbar\":{\"outlinewidth\":0,\"ticks\":\"\"}}],\"histogram2d\":[{\"type\":\"histogram2d\",\"colorbar\":{\"outlinewidth\":0,\"ticks\":\"\"},\"colorscale\":[[0.0,\"#0d0887\"],[0.1111111111111111,\"#46039f\"],[0.2222222222222222,\"#7201a8\"],[0.3333333333333333,\"#9c179e\"],[0.4444444444444444,\"#bd3786\"],[0.5555555555555556,\"#d8576b\"],[0.6666666666666666,\"#ed7953\"],[0.7777777777777778,\"#fb9f3a\"],[0.8888888888888888,\"#fdca26\"],[1.0,\"#f0f921\"]]}],\"heatmap\":[{\"type\":\"heatmap\",\"colorbar\":{\"outlinewidth\":0,\"ticks\":\"\"},\"colorscale\":[[0.0,\"#0d0887\"],[0.1111111111111111,\"#46039f\"],[0.2222222222222222,\"#7201a8\"],[0.3333333333333333,\"#9c179e\"],[0.4444444444444444,\"#bd3786\"],[0.5555555555555556,\"#d8576b\"],[0.6666666666666666,\"#ed7953\"],[0.7777777777777778,\"#fb9f3a\"],[0.8888888888888888,\"#fdca26\"],[1.0,\"#f0f921\"]]}],\"heatmapgl\":[{\"type\":\"heatmapgl\",\"colorbar\":{\"outlinewidth\":0,\"ticks\":\"\"},\"colorscale\":[[0.0,\"#0d0887\"],[0.1111111111111111,\"#46039f\"],[0.2222222222222222,\"#7201a8\"],[0.3333333333333333,\"#9c179e\"],[0.4444444444444444,\"#bd3786\"],[0.5555555555555556,\"#d8576b\"],[0.6666666666666666,\"#ed7953\"],[0.7777777777777778,\"#fb9f3a\"],[0.8888888888888888,\"#fdca26\"],[1.0,\"#f0f921\"]]}],\"contourcarpet\":[{\"type\":\"contourcarpet\",\"colorbar\":{\"outlinewidth\":0,\"ticks\":\"\"}}],\"contour\":[{\"type\":\"contour\",\"colorbar\":{\"outlinewidth\":0,\"ticks\":\"\"},\"colorscale\":[[0.0,\"#0d0887\"],[0.1111111111111111,\"#46039f\"],[0.2222222222222222,\"#7201a8\"],[0.3333333333333333,\"#9c179e\"],[0.4444444444444444,\"#bd3786\"],[0.5555555555555556,\"#d8576b\"],[0.6666666666666666,\"#ed7953\"],[0.7777777777777778,\"#fb9f3a\"],[0.8888888888888888,\"#fdca26\"],[1.0,\"#f0f921\"]]}],\"surface\":[{\"type\":\"surface\",\"colorbar\":{\"outlinewidth\":0,\"ticks\":\"\"},\"colorscale\":[[0.0,\"#0d0887\"],[0.1111111111111111,\"#46039f\"],[0.2222222222222222,\"#7201a8\"],[0.3333333333333333,\"#9c179e\"],[0.4444444444444444,\"#bd3786\"],[0.5555555555555556,\"#d8576b\"],[0.6666666666666666,\"#ed7953\"],[0.7777777777777778,\"#fb9f3a\"],[0.8888888888888888,\"#fdca26\"],[1.0,\"#f0f921\"]]}],\"mesh3d\":[{\"type\":\"mesh3d\",\"colorbar\":{\"outlinewidth\":0,\"ticks\":\"\"}}],\"scatter\":[{\"fillpattern\":{\"fillmode\":\"overlay\",\"size\":10,\"solidity\":0.2},\"type\":\"scatter\"}],\"parcoords\":[{\"type\":\"parcoords\",\"line\":{\"colorbar\":{\"outlinewidth\":0,\"ticks\":\"\"}}}],\"scatterpolargl\":[{\"type\":\"scatterpolargl\",\"marker\":{\"colorbar\":{\"outlinewidth\":0,\"ticks\":\"\"}}}],\"bar\":[{\"error_x\":{\"color\":\"#2a3f5f\"},\"error_y\":{\"color\":\"#2a3f5f\"},\"marker\":{\"line\":{\"color\":\"#E5ECF6\",\"width\":0.5},\"pattern\":{\"fillmode\":\"overlay\",\"size\":10,\"solidity\":0.2}},\"type\":\"bar\"}],\"scattergeo\":[{\"type\":\"scattergeo\",\"marker\":{\"colorbar\":{\"outlinewidth\":0,\"ticks\":\"\"}}}],\"scatterpolar\":[{\"type\":\"scatterpolar\",\"marker\":{\"colorbar\":{\"outlinewidth\":0,\"ticks\":\"\"}}}],\"histogram\":[{\"marker\":{\"pattern\":{\"fillmode\":\"overlay\",\"size\":10,\"solidity\":0.2}},\"type\":\"histogram\"}],\"scattergl\":[{\"type\":\"scattergl\",\"marker\":{\"colorbar\":{\"outlinewidth\":0,\"ticks\":\"\"}}}],\"scatter3d\":[{\"type\":\"scatter3d\",\"line\":{\"colorbar\":{\"outlinewidth\":0,\"ticks\":\"\"}},\"marker\":{\"colorbar\":{\"outlinewidth\":0,\"ticks\":\"\"}}}],\"scattermapbox\":[{\"type\":\"scattermapbox\",\"marker\":{\"colorbar\":{\"outlinewidth\":0,\"ticks\":\"\"}}}],\"scatterternary\":[{\"type\":\"scatterternary\",\"marker\":{\"colorbar\":{\"outlinewidth\":0,\"ticks\":\"\"}}}],\"scattercarpet\":[{\"type\":\"scattercarpet\",\"marker\":{\"colorbar\":{\"outlinewidth\":0,\"ticks\":\"\"}}}],\"carpet\":[{\"aaxis\":{\"endlinecolor\":\"#2a3f5f\",\"gridcolor\":\"white\",\"linecolor\":\"white\",\"minorgridcolor\":\"white\",\"startlinecolor\":\"#2a3f5f\"},\"baxis\":{\"endlinecolor\":\"#2a3f5f\",\"gridcolor\":\"white\",\"linecolor\":\"white\",\"minorgridcolor\":\"white\",\"startlinecolor\":\"#2a3f5f\"},\"type\":\"carpet\"}],\"table\":[{\"cells\":{\"fill\":{\"color\":\"#EBF0F8\"},\"line\":{\"color\":\"white\"}},\"header\":{\"fill\":{\"color\":\"#C8D4E3\"},\"line\":{\"color\":\"white\"}},\"type\":\"table\"}],\"barpolar\":[{\"marker\":{\"line\":{\"color\":\"#E5ECF6\",\"width\":0.5},\"pattern\":{\"fillmode\":\"overlay\",\"size\":10,\"solidity\":0.2}},\"type\":\"barpolar\"}],\"pie\":[{\"automargin\":true,\"type\":\"pie\"}]},\"layout\":{\"autotypenumbers\":\"strict\",\"colorway\":[\"#636efa\",\"#EF553B\",\"#00cc96\",\"#ab63fa\",\"#FFA15A\",\"#19d3f3\",\"#FF6692\",\"#B6E880\",\"#FF97FF\",\"#FECB52\"],\"font\":{\"color\":\"#2a3f5f\"},\"hovermode\":\"closest\",\"hoverlabel\":{\"align\":\"left\"},\"paper_bgcolor\":\"white\",\"plot_bgcolor\":\"#E5ECF6\",\"polar\":{\"bgcolor\":\"#E5ECF6\",\"angularaxis\":{\"gridcolor\":\"white\",\"linecolor\":\"white\",\"ticks\":\"\"},\"radialaxis\":{\"gridcolor\":\"white\",\"linecolor\":\"white\",\"ticks\":\"\"}},\"ternary\":{\"bgcolor\":\"#E5ECF6\",\"aaxis\":{\"gridcolor\":\"white\",\"linecolor\":\"white\",\"ticks\":\"\"},\"baxis\":{\"gridcolor\":\"white\",\"linecolor\":\"white\",\"ticks\":\"\"},\"caxis\":{\"gridcolor\":\"white\",\"linecolor\":\"white\",\"ticks\":\"\"}},\"coloraxis\":{\"colorbar\":{\"outlinewidth\":0,\"ticks\":\"\"}},\"colorscale\":{\"sequential\":[[0.0,\"#0d0887\"],[0.1111111111111111,\"#46039f\"],[0.2222222222222222,\"#7201a8\"],[0.3333333333333333,\"#9c179e\"],[0.4444444444444444,\"#bd3786\"],[0.5555555555555556,\"#d8576b\"],[0.6666666666666666,\"#ed7953\"],[0.7777777777777778,\"#fb9f3a\"],[0.8888888888888888,\"#fdca26\"],[1.0,\"#f0f921\"]],\"sequentialminus\":[[0.0,\"#0d0887\"],[0.1111111111111111,\"#46039f\"],[0.2222222222222222,\"#7201a8\"],[0.3333333333333333,\"#9c179e\"],[0.4444444444444444,\"#bd3786\"],[0.5555555555555556,\"#d8576b\"],[0.6666666666666666,\"#ed7953\"],[0.7777777777777778,\"#fb9f3a\"],[0.8888888888888888,\"#fdca26\"],[1.0,\"#f0f921\"]],\"diverging\":[[0,\"#8e0152\"],[0.1,\"#c51b7d\"],[0.2,\"#de77ae\"],[0.3,\"#f1b6da\"],[0.4,\"#fde0ef\"],[0.5,\"#f7f7f7\"],[0.6,\"#e6f5d0\"],[0.7,\"#b8e186\"],[0.8,\"#7fbc41\"],[0.9,\"#4d9221\"],[1,\"#276419\"]]},\"xaxis\":{\"gridcolor\":\"white\",\"linecolor\":\"white\",\"ticks\":\"\",\"title\":{\"standoff\":15},\"zerolinecolor\":\"white\",\"automargin\":true,\"zerolinewidth\":2},\"yaxis\":{\"gridcolor\":\"white\",\"linecolor\":\"white\",\"ticks\":\"\",\"title\":{\"standoff\":15},\"zerolinecolor\":\"white\",\"automargin\":true,\"zerolinewidth\":2},\"scene\":{\"xaxis\":{\"backgroundcolor\":\"#E5ECF6\",\"gridcolor\":\"white\",\"linecolor\":\"white\",\"showbackground\":true,\"ticks\":\"\",\"zerolinecolor\":\"white\",\"gridwidth\":2},\"yaxis\":{\"backgroundcolor\":\"#E5ECF6\",\"gridcolor\":\"white\",\"linecolor\":\"white\",\"showbackground\":true,\"ticks\":\"\",\"zerolinecolor\":\"white\",\"gridwidth\":2},\"zaxis\":{\"backgroundcolor\":\"#E5ECF6\",\"gridcolor\":\"white\",\"linecolor\":\"white\",\"showbackground\":true,\"ticks\":\"\",\"zerolinecolor\":\"white\",\"gridwidth\":2}},\"shapedefaults\":{\"line\":{\"color\":\"#2a3f5f\"}},\"annotationdefaults\":{\"arrowcolor\":\"#2a3f5f\",\"arrowhead\":0,\"arrowwidth\":1},\"geo\":{\"bgcolor\":\"white\",\"landcolor\":\"#E5ECF6\",\"subunitcolor\":\"white\",\"showland\":true,\"showlakes\":true,\"lakecolor\":\"white\"},\"title\":{\"x\":0.05},\"mapbox\":{\"style\":\"light\"}}},\"xaxis\":{\"anchor\":\"y\",\"domain\":[0.0,1.0],\"title\":{\"text\":\"Week\"},\"showgrid\":true,\"gridwidth\":1,\"gridcolor\":\"LightGray\"},\"yaxis\":{\"anchor\":\"x\",\"domain\":[0.0,1.0],\"title\":{\"text\":\"TotalBytes\"},\"type\":\"log\",\"showgrid\":true,\"gridwidth\":1,\"gridcolor\":\"LightGray\",\"tickvals\":[53687091200,107374182400,214748364800,536870912000,1099511627776,2199023255552],\"ticktext\":[\"50 GB\",\"100 GB\",\"200 GB\",\"500 GB\",\"1 TB\",\"2 TB\"]},\"legend\":{\"title\":{\"text\":\"TargetOrgs\"},\"tracegroupgap\":0,\"itemwidth\":70},\"margin\":{\"t\":60},\"height\":900,\"width\":1300,\"font\":{\"size\":30},\"plot_bgcolor\":\"white\"},                        {\"responsive\": true}                    ).then(function(){\n",
       "                            \n",
       "var gd = document.getElementById('4814135f-3b54-4da0-90ab-d488e41953ad');\n",
       "var x = new MutationObserver(function (mutations, observer) {{\n",
       "        var display = window.getComputedStyle(gd).display;\n",
       "        if (!display || display === 'none') {{\n",
       "            console.log([gd, 'removed!']);\n",
       "            Plotly.purge(gd);\n",
       "            observer.disconnect();\n",
       "        }}\n",
       "}});\n",
       "\n",
       "// Listen for the removal of the full notebook cells\n",
       "var notebookContainer = gd.closest('#notebook-container');\n",
       "if (notebookContainer) {{\n",
       "    x.observe(notebookContainer, {childList: true});\n",
       "}}\n",
       "\n",
       "// Listen for the clearing of the current output cell\n",
       "var outputEl = gd.closest('.output');\n",
       "if (outputEl) {{\n",
       "    x.observe(outputEl, {childList: true});\n",
       "}}\n",
       "\n",
       "                        })                };                });            </script>        </div>"
      ]
     },
     "metadata": {},
     "output_type": "display_data"
    }
   ],
   "source": [
    "import plotly.express as px\n",
    "import pandas as pd\n",
    "\n",
    "fig_orgs_out_bytes = px.line(df_orgs_out, x='Week', y='TotalBytes', log_y=True, color='TargetOrgs',\n",
    "                             color_discrete_map={'APPLE': '#7f7f7f', 'NETFLIX': '#dc3912', 'AKAMAI': '#ff9900',\n",
    "                                                 'CANARIE': '#fb00d1', 'FACEBOOK': '#3366cc', 'GOOGLE': '#109618',\n",
    "                                                 'AMAZON': '#212E3C', 'FASTLY': '#8c564b', 'LEVEL3': '#17becf',\n",
    "                                                 'MICROSOFT': '#990099', 'EDGECAST': '#316395',\n",
    "                                                 'VALVE-CORPORATION': '#bcbd22'},\n",
    "                             markers=True, line_dash='TargetOrgs', symbol='TargetOrgs', height=900, width=1300)\n",
    "fig_orgs_out_bytes.update_layout(plot_bgcolor='white', font_size=30, legend_itemwidth=70)\n",
    "fig_orgs_out_bytes.update_xaxes(showgrid=True, gridwidth=1, gridcolor='LightGray')\n",
    "fig_orgs_out_bytes.update_yaxes(showgrid=True, gridwidth=1, gridcolor='LightGray',\n",
    "                 tickvals=[53687091200, 107374182400, 214748364800, 536870912000, 1099511627776, 2199023255552],\n",
    "                 ticktext=[\"50 GB\", \"100 GB\", \"200 GB\", \"500 GB\", \"1 TB\", \"2 TB\"])\n",
    "fig_orgs_out_bytes.update_traces(line_width=8, marker_size=18)\n",
    "\n",
    "fig_orgs_out_bytes.show()"
   ]
  },
  {
   "cell_type": "code",
   "execution_count": null,
   "id": "08481a03",
   "metadata": {},
   "outputs": [],
   "source": []
  }
 ],
 "metadata": {
  "kernelspec": {
   "display_name": "Python 3 (ipykernel)",
   "language": "python",
   "name": "python3"
  },
  "language_info": {
   "codemirror_mode": {
    "name": "ipython",
    "version": 3
   },
   "file_extension": ".py",
   "mimetype": "text/x-python",
   "name": "python",
   "nbconvert_exporter": "python",
   "pygments_lexer": "ipython3",
   "version": "3.9.7"
  }
 },
 "nbformat": 4,
 "nbformat_minor": 5
}
