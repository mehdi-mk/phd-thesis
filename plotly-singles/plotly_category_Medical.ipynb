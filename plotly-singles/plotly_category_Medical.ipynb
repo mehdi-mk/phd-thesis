{
 "cells": [
  {
   "cell_type": "code",
   "execution_count": 15,
   "id": "504be422",
   "metadata": {},
   "outputs": [
    {
     "data": {
      "application/vnd.plotly.v1+json": {
       "config": {
        "plotlyServerURL": "https://plot.ly"
       },
       "data": [
        {
         "hovertemplate": "TargetOrgs=Africa-on-Cloud-AS<br>Week=%{x}<br>Connections=%{y}<extra></extra>",
         "legendgroup": "Africa-on-Cloud-AS",
         "line": {
          "color": "#00cc96",
          "dash": "solid",
          "width": 8
         },
         "marker": {
          "size": 18,
          "symbol": "circle"
         },
         "mode": "lines+markers",
         "name": "Africa-on-Cloud-AS",
         "orientation": "v",
         "showlegend": true,
         "type": "scatter",
         "x": [
          "Feb 2020"
         ],
         "xaxis": "x",
         "y": [
          489
         ],
         "yaxis": "y"
        },
        {
         "hovertemplate": "TargetOrgs=GOOGLE<br>Week=%{x}<br>Connections=%{y}<extra></extra>",
         "legendgroup": "GOOGLE",
         "line": {
          "color": "#109618",
          "dash": "dot",
          "width": 8
         },
         "marker": {
          "size": 18,
          "symbol": "diamond"
         },
         "mode": "lines+markers",
         "name": "GOOGLE",
         "orientation": "v",
         "showlegend": true,
         "type": "scatter",
         "x": [
          "Feb 2020",
          "Apr 2020",
          "Sept 2020",
          "Sept 2021"
         ],
         "xaxis": "x",
         "y": [
          24460,
          12272,
          31946,
          32990
         ],
         "yaxis": "y"
        },
        {
         "hovertemplate": "TargetOrgs=APPLE<br>Week=%{x}<br>Connections=%{y}<extra></extra>",
         "legendgroup": "APPLE",
         "line": {
          "color": "#7f7f7f",
          "dash": "dash",
          "width": 8
         },
         "marker": {
          "size": 18,
          "symbol": "square"
         },
         "mode": "lines+markers",
         "name": "APPLE",
         "orientation": "v",
         "showlegend": true,
         "type": "scatter",
         "x": [
          "Feb 2020",
          "Apr 2020",
          "Sept 2020",
          "Sept 2021"
         ],
         "xaxis": "x",
         "y": [
          8571,
          5364,
          10471,
          5719
         ],
         "yaxis": "y"
        },
        {
         "hovertemplate": "TargetOrgs=AKAMAI<br>Week=%{x}<br>Connections=%{y}<extra></extra>",
         "legendgroup": "AKAMAI",
         "line": {
          "color": "#ff9900",
          "dash": "longdash",
          "width": 8
         },
         "marker": {
          "size": 18,
          "symbol": "x"
         },
         "mode": "lines+markers",
         "name": "AKAMAI",
         "orientation": "v",
         "showlegend": true,
         "type": "scatter",
         "x": [
          "Feb 2020",
          "Apr 2020",
          "Sept 2020",
          "Sept 2021"
         ],
         "xaxis": "x",
         "y": [
          31555,
          19096,
          37136,
          37382
         ],
         "yaxis": "y"
        },
        {
         "hovertemplate": "TargetOrgs=MICROSOFT<br>Week=%{x}<br>Connections=%{y}<extra></extra>",
         "legendgroup": "MICROSOFT",
         "line": {
          "color": "#990099",
          "dash": "dashdot",
          "width": 8
         },
         "marker": {
          "size": 18,
          "symbol": "cross"
         },
         "mode": "lines+markers",
         "name": "MICROSOFT",
         "orientation": "v",
         "showlegend": true,
         "type": "scatter",
         "x": [
          "Feb 2020",
          "Apr 2020",
          "Sept 2020",
          "Sept 2021"
         ],
         "xaxis": "x",
         "y": [
          75793,
          42200,
          69310,
          58130
         ],
         "yaxis": "y"
        },
        {
         "hovertemplate": "TargetOrgs=DROPBOX<br>Week=%{x}<br>Connections=%{y}<extra></extra>",
         "legendgroup": "DROPBOX",
         "line": {
          "color": "#ab63fa",
          "dash": "longdashdot",
          "width": 8
         },
         "marker": {
          "size": 18,
          "symbol": "circle"
         },
         "mode": "lines+markers",
         "name": "DROPBOX",
         "orientation": "v",
         "showlegend": true,
         "type": "scatter",
         "x": [
          "Feb 2020",
          "Apr 2020",
          "Sept 2020",
          "Sept 2021"
         ],
         "xaxis": "x",
         "y": [
          14187,
          13701,
          33837,
          23835
         ],
         "yaxis": "y"
        },
        {
         "hovertemplate": "TargetOrgs=ANT-CLOUD<br>Week=%{x}<br>Connections=%{y}<extra></extra>",
         "legendgroup": "ANT-CLOUD",
         "line": {
          "color": "#FFA15A",
          "dash": "solid",
          "width": 8
         },
         "marker": {
          "size": 18,
          "symbol": "diamond"
         },
         "mode": "lines+markers",
         "name": "ANT-CLOUD",
         "orientation": "v",
         "showlegend": true,
         "type": "scatter",
         "x": [
          "Feb 2020"
         ],
         "xaxis": "x",
         "y": [
          153
         ],
         "yaxis": "y"
        },
        {
         "hovertemplate": "TargetOrgs=EDGECAST<br>Week=%{x}<br>Connections=%{y}<extra></extra>",
         "legendgroup": "EDGECAST",
         "line": {
          "color": "#316395",
          "dash": "dot",
          "width": 8
         },
         "marker": {
          "size": 18,
          "symbol": "square"
         },
         "mode": "lines+markers",
         "name": "EDGECAST",
         "orientation": "v",
         "showlegend": true,
         "type": "scatter",
         "x": [
          "Feb 2020",
          "Apr 2020",
          "Sept 2020",
          "Sept 2021"
         ],
         "xaxis": "x",
         "y": [
          6460,
          5662,
          8675,
          5568
         ],
         "yaxis": "y"
        },
        {
         "hovertemplate": "TargetOrgs=CANARIE<br>Week=%{x}<br>Connections=%{y}<extra></extra>",
         "legendgroup": "CANARIE",
         "line": {
          "color": "#fb00d1",
          "dash": "dash",
          "width": 8
         },
         "marker": {
          "size": 18,
          "symbol": "x"
         },
         "mode": "lines+markers",
         "name": "CANARIE",
         "orientation": "v",
         "showlegend": true,
         "type": "scatter",
         "x": [
          "Feb 2020",
          "Sept 2020"
         ],
         "xaxis": "x",
         "y": [
          4217,
          7290
         ],
         "yaxis": "y"
        },
        {
         "hovertemplate": "TargetOrgs=AMAZON<br>Week=%{x}<br>Connections=%{y}<extra></extra>",
         "legendgroup": "AMAZON",
         "line": {
          "color": "#212E3C",
          "dash": "longdash",
          "width": 8
         },
         "marker": {
          "size": 18,
          "symbol": "cross"
         },
         "mode": "lines+markers",
         "name": "AMAZON",
         "orientation": "v",
         "showlegend": true,
         "type": "scatter",
         "x": [
          "Feb 2020",
          "Apr 2020",
          "Sept 2020",
          "Sept 2021"
         ],
         "xaxis": "x",
         "y": [
          9941,
          6239,
          18843,
          39958
         ],
         "yaxis": "y"
        },
        {
         "hovertemplate": "TargetOrgs=LEVEL3<br>Week=%{x}<br>Connections=%{y}<extra></extra>",
         "legendgroup": "LEVEL3",
         "line": {
          "color": "#17becf",
          "dash": "dashdot",
          "width": 8
         },
         "marker": {
          "size": 18,
          "symbol": "circle"
         },
         "mode": "lines+markers",
         "name": "LEVEL3",
         "orientation": "v",
         "showlegend": true,
         "type": "scatter",
         "x": [
          "Apr 2020",
          "Sept 2021"
         ],
         "xaxis": "x",
         "y": [
          3434,
          4978
         ],
         "yaxis": "y"
        },
        {
         "hovertemplate": "TargetOrgs=HIGHWINDS<br>Week=%{x}<br>Connections=%{y}<extra></extra>",
         "legendgroup": "HIGHWINDS",
         "line": {
          "color": "#19d3f3",
          "dash": "longdashdot",
          "width": 8
         },
         "marker": {
          "size": 18,
          "symbol": "diamond"
         },
         "mode": "lines+markers",
         "name": "HIGHWINDS",
         "orientation": "v",
         "showlegend": true,
         "type": "scatter",
         "x": [
          "Apr 2020",
          "Sept 2020",
          "Sept 2021"
         ],
         "xaxis": "x",
         "y": [
          4259,
          6109,
          3434
         ],
         "yaxis": "y"
        },
        {
         "hovertemplate": "TargetOrgs=SHAW<br>Week=%{x}<br>Connections=%{y}<extra></extra>",
         "legendgroup": "SHAW",
         "line": {
          "color": "#FF6692",
          "dash": "solid",
          "width": 8
         },
         "marker": {
          "size": 18,
          "symbol": "square"
         },
         "mode": "lines+markers",
         "name": "SHAW",
         "orientation": "v",
         "showlegend": true,
         "type": "scatter",
         "x": [
          "Apr 2020",
          "Sept 2021"
         ],
         "xaxis": "x",
         "y": [
          337,
          2575
         ],
         "yaxis": "y"
        },
        {
         "hovertemplate": "TargetOrgs=ORACLE-BMC-31898<br>Week=%{x}<br>Connections=%{y}<extra></extra>",
         "legendgroup": "ORACLE-BMC-31898",
         "line": {
          "color": "#B6E880",
          "dash": "dot",
          "width": 8
         },
         "marker": {
          "size": 18,
          "symbol": "x"
         },
         "mode": "lines+markers",
         "name": "ORACLE-BMC-31898",
         "orientation": "v",
         "showlegend": true,
         "type": "scatter",
         "x": [
          "Sept 2020"
         ],
         "xaxis": "x",
         "y": [
          240
         ],
         "yaxis": "y"
        }
       ],
       "layout": {
        "font": {
         "size": 30
        },
        "height": 900,
        "legend": {
         "title": {
          "text": "TargetOrgs"
         },
         "tracegroupgap": 0
        },
        "margin": {
         "t": 60
        },
        "plot_bgcolor": "white",
        "showlegend": false,
        "template": {
         "data": {
          "bar": [
           {
            "error_x": {
             "color": "#2a3f5f"
            },
            "error_y": {
             "color": "#2a3f5f"
            },
            "marker": {
             "line": {
              "color": "#E5ECF6",
              "width": 0.5
             },
             "pattern": {
              "fillmode": "overlay",
              "size": 10,
              "solidity": 0.2
             }
            },
            "type": "bar"
           }
          ],
          "barpolar": [
           {
            "marker": {
             "line": {
              "color": "#E5ECF6",
              "width": 0.5
             },
             "pattern": {
              "fillmode": "overlay",
              "size": 10,
              "solidity": 0.2
             }
            },
            "type": "barpolar"
           }
          ],
          "carpet": [
           {
            "aaxis": {
             "endlinecolor": "#2a3f5f",
             "gridcolor": "white",
             "linecolor": "white",
             "minorgridcolor": "white",
             "startlinecolor": "#2a3f5f"
            },
            "baxis": {
             "endlinecolor": "#2a3f5f",
             "gridcolor": "white",
             "linecolor": "white",
             "minorgridcolor": "white",
             "startlinecolor": "#2a3f5f"
            },
            "type": "carpet"
           }
          ],
          "choropleth": [
           {
            "colorbar": {
             "outlinewidth": 0,
             "ticks": ""
            },
            "type": "choropleth"
           }
          ],
          "contour": [
           {
            "colorbar": {
             "outlinewidth": 0,
             "ticks": ""
            },
            "colorscale": [
             [
              0,
              "#0d0887"
             ],
             [
              0.1111111111111111,
              "#46039f"
             ],
             [
              0.2222222222222222,
              "#7201a8"
             ],
             [
              0.3333333333333333,
              "#9c179e"
             ],
             [
              0.4444444444444444,
              "#bd3786"
             ],
             [
              0.5555555555555556,
              "#d8576b"
             ],
             [
              0.6666666666666666,
              "#ed7953"
             ],
             [
              0.7777777777777778,
              "#fb9f3a"
             ],
             [
              0.8888888888888888,
              "#fdca26"
             ],
             [
              1,
              "#f0f921"
             ]
            ],
            "type": "contour"
           }
          ],
          "contourcarpet": [
           {
            "colorbar": {
             "outlinewidth": 0,
             "ticks": ""
            },
            "type": "contourcarpet"
           }
          ],
          "heatmap": [
           {
            "colorbar": {
             "outlinewidth": 0,
             "ticks": ""
            },
            "colorscale": [
             [
              0,
              "#0d0887"
             ],
             [
              0.1111111111111111,
              "#46039f"
             ],
             [
              0.2222222222222222,
              "#7201a8"
             ],
             [
              0.3333333333333333,
              "#9c179e"
             ],
             [
              0.4444444444444444,
              "#bd3786"
             ],
             [
              0.5555555555555556,
              "#d8576b"
             ],
             [
              0.6666666666666666,
              "#ed7953"
             ],
             [
              0.7777777777777778,
              "#fb9f3a"
             ],
             [
              0.8888888888888888,
              "#fdca26"
             ],
             [
              1,
              "#f0f921"
             ]
            ],
            "type": "heatmap"
           }
          ],
          "heatmapgl": [
           {
            "colorbar": {
             "outlinewidth": 0,
             "ticks": ""
            },
            "colorscale": [
             [
              0,
              "#0d0887"
             ],
             [
              0.1111111111111111,
              "#46039f"
             ],
             [
              0.2222222222222222,
              "#7201a8"
             ],
             [
              0.3333333333333333,
              "#9c179e"
             ],
             [
              0.4444444444444444,
              "#bd3786"
             ],
             [
              0.5555555555555556,
              "#d8576b"
             ],
             [
              0.6666666666666666,
              "#ed7953"
             ],
             [
              0.7777777777777778,
              "#fb9f3a"
             ],
             [
              0.8888888888888888,
              "#fdca26"
             ],
             [
              1,
              "#f0f921"
             ]
            ],
            "type": "heatmapgl"
           }
          ],
          "histogram": [
           {
            "marker": {
             "pattern": {
              "fillmode": "overlay",
              "size": 10,
              "solidity": 0.2
             }
            },
            "type": "histogram"
           }
          ],
          "histogram2d": [
           {
            "colorbar": {
             "outlinewidth": 0,
             "ticks": ""
            },
            "colorscale": [
             [
              0,
              "#0d0887"
             ],
             [
              0.1111111111111111,
              "#46039f"
             ],
             [
              0.2222222222222222,
              "#7201a8"
             ],
             [
              0.3333333333333333,
              "#9c179e"
             ],
             [
              0.4444444444444444,
              "#bd3786"
             ],
             [
              0.5555555555555556,
              "#d8576b"
             ],
             [
              0.6666666666666666,
              "#ed7953"
             ],
             [
              0.7777777777777778,
              "#fb9f3a"
             ],
             [
              0.8888888888888888,
              "#fdca26"
             ],
             [
              1,
              "#f0f921"
             ]
            ],
            "type": "histogram2d"
           }
          ],
          "histogram2dcontour": [
           {
            "colorbar": {
             "outlinewidth": 0,
             "ticks": ""
            },
            "colorscale": [
             [
              0,
              "#0d0887"
             ],
             [
              0.1111111111111111,
              "#46039f"
             ],
             [
              0.2222222222222222,
              "#7201a8"
             ],
             [
              0.3333333333333333,
              "#9c179e"
             ],
             [
              0.4444444444444444,
              "#bd3786"
             ],
             [
              0.5555555555555556,
              "#d8576b"
             ],
             [
              0.6666666666666666,
              "#ed7953"
             ],
             [
              0.7777777777777778,
              "#fb9f3a"
             ],
             [
              0.8888888888888888,
              "#fdca26"
             ],
             [
              1,
              "#f0f921"
             ]
            ],
            "type": "histogram2dcontour"
           }
          ],
          "mesh3d": [
           {
            "colorbar": {
             "outlinewidth": 0,
             "ticks": ""
            },
            "type": "mesh3d"
           }
          ],
          "parcoords": [
           {
            "line": {
             "colorbar": {
              "outlinewidth": 0,
              "ticks": ""
             }
            },
            "type": "parcoords"
           }
          ],
          "pie": [
           {
            "automargin": true,
            "type": "pie"
           }
          ],
          "scatter": [
           {
            "fillpattern": {
             "fillmode": "overlay",
             "size": 10,
             "solidity": 0.2
            },
            "type": "scatter"
           }
          ],
          "scatter3d": [
           {
            "line": {
             "colorbar": {
              "outlinewidth": 0,
              "ticks": ""
             }
            },
            "marker": {
             "colorbar": {
              "outlinewidth": 0,
              "ticks": ""
             }
            },
            "type": "scatter3d"
           }
          ],
          "scattercarpet": [
           {
            "marker": {
             "colorbar": {
              "outlinewidth": 0,
              "ticks": ""
             }
            },
            "type": "scattercarpet"
           }
          ],
          "scattergeo": [
           {
            "marker": {
             "colorbar": {
              "outlinewidth": 0,
              "ticks": ""
             }
            },
            "type": "scattergeo"
           }
          ],
          "scattergl": [
           {
            "marker": {
             "colorbar": {
              "outlinewidth": 0,
              "ticks": ""
             }
            },
            "type": "scattergl"
           }
          ],
          "scattermapbox": [
           {
            "marker": {
             "colorbar": {
              "outlinewidth": 0,
              "ticks": ""
             }
            },
            "type": "scattermapbox"
           }
          ],
          "scatterpolar": [
           {
            "marker": {
             "colorbar": {
              "outlinewidth": 0,
              "ticks": ""
             }
            },
            "type": "scatterpolar"
           }
          ],
          "scatterpolargl": [
           {
            "marker": {
             "colorbar": {
              "outlinewidth": 0,
              "ticks": ""
             }
            },
            "type": "scatterpolargl"
           }
          ],
          "scatterternary": [
           {
            "marker": {
             "colorbar": {
              "outlinewidth": 0,
              "ticks": ""
             }
            },
            "type": "scatterternary"
           }
          ],
          "surface": [
           {
            "colorbar": {
             "outlinewidth": 0,
             "ticks": ""
            },
            "colorscale": [
             [
              0,
              "#0d0887"
             ],
             [
              0.1111111111111111,
              "#46039f"
             ],
             [
              0.2222222222222222,
              "#7201a8"
             ],
             [
              0.3333333333333333,
              "#9c179e"
             ],
             [
              0.4444444444444444,
              "#bd3786"
             ],
             [
              0.5555555555555556,
              "#d8576b"
             ],
             [
              0.6666666666666666,
              "#ed7953"
             ],
             [
              0.7777777777777778,
              "#fb9f3a"
             ],
             [
              0.8888888888888888,
              "#fdca26"
             ],
             [
              1,
              "#f0f921"
             ]
            ],
            "type": "surface"
           }
          ],
          "table": [
           {
            "cells": {
             "fill": {
              "color": "#EBF0F8"
             },
             "line": {
              "color": "white"
             }
            },
            "header": {
             "fill": {
              "color": "#C8D4E3"
             },
             "line": {
              "color": "white"
             }
            },
            "type": "table"
           }
          ]
         },
         "layout": {
          "annotationdefaults": {
           "arrowcolor": "#2a3f5f",
           "arrowhead": 0,
           "arrowwidth": 1
          },
          "autotypenumbers": "strict",
          "coloraxis": {
           "colorbar": {
            "outlinewidth": 0,
            "ticks": ""
           }
          },
          "colorscale": {
           "diverging": [
            [
             0,
             "#8e0152"
            ],
            [
             0.1,
             "#c51b7d"
            ],
            [
             0.2,
             "#de77ae"
            ],
            [
             0.3,
             "#f1b6da"
            ],
            [
             0.4,
             "#fde0ef"
            ],
            [
             0.5,
             "#f7f7f7"
            ],
            [
             0.6,
             "#e6f5d0"
            ],
            [
             0.7,
             "#b8e186"
            ],
            [
             0.8,
             "#7fbc41"
            ],
            [
             0.9,
             "#4d9221"
            ],
            [
             1,
             "#276419"
            ]
           ],
           "sequential": [
            [
             0,
             "#0d0887"
            ],
            [
             0.1111111111111111,
             "#46039f"
            ],
            [
             0.2222222222222222,
             "#7201a8"
            ],
            [
             0.3333333333333333,
             "#9c179e"
            ],
            [
             0.4444444444444444,
             "#bd3786"
            ],
            [
             0.5555555555555556,
             "#d8576b"
            ],
            [
             0.6666666666666666,
             "#ed7953"
            ],
            [
             0.7777777777777778,
             "#fb9f3a"
            ],
            [
             0.8888888888888888,
             "#fdca26"
            ],
            [
             1,
             "#f0f921"
            ]
           ],
           "sequentialminus": [
            [
             0,
             "#0d0887"
            ],
            [
             0.1111111111111111,
             "#46039f"
            ],
            [
             0.2222222222222222,
             "#7201a8"
            ],
            [
             0.3333333333333333,
             "#9c179e"
            ],
            [
             0.4444444444444444,
             "#bd3786"
            ],
            [
             0.5555555555555556,
             "#d8576b"
            ],
            [
             0.6666666666666666,
             "#ed7953"
            ],
            [
             0.7777777777777778,
             "#fb9f3a"
            ],
            [
             0.8888888888888888,
             "#fdca26"
            ],
            [
             1,
             "#f0f921"
            ]
           ]
          },
          "colorway": [
           "#636efa",
           "#EF553B",
           "#00cc96",
           "#ab63fa",
           "#FFA15A",
           "#19d3f3",
           "#FF6692",
           "#B6E880",
           "#FF97FF",
           "#FECB52"
          ],
          "font": {
           "color": "#2a3f5f"
          },
          "geo": {
           "bgcolor": "white",
           "lakecolor": "white",
           "landcolor": "#E5ECF6",
           "showlakes": true,
           "showland": true,
           "subunitcolor": "white"
          },
          "hoverlabel": {
           "align": "left"
          },
          "hovermode": "closest",
          "mapbox": {
           "style": "light"
          },
          "paper_bgcolor": "white",
          "plot_bgcolor": "#E5ECF6",
          "polar": {
           "angularaxis": {
            "gridcolor": "white",
            "linecolor": "white",
            "ticks": ""
           },
           "bgcolor": "#E5ECF6",
           "radialaxis": {
            "gridcolor": "white",
            "linecolor": "white",
            "ticks": ""
           }
          },
          "scene": {
           "xaxis": {
            "backgroundcolor": "#E5ECF6",
            "gridcolor": "white",
            "gridwidth": 2,
            "linecolor": "white",
            "showbackground": true,
            "ticks": "",
            "zerolinecolor": "white"
           },
           "yaxis": {
            "backgroundcolor": "#E5ECF6",
            "gridcolor": "white",
            "gridwidth": 2,
            "linecolor": "white",
            "showbackground": true,
            "ticks": "",
            "zerolinecolor": "white"
           },
           "zaxis": {
            "backgroundcolor": "#E5ECF6",
            "gridcolor": "white",
            "gridwidth": 2,
            "linecolor": "white",
            "showbackground": true,
            "ticks": "",
            "zerolinecolor": "white"
           }
          },
          "shapedefaults": {
           "line": {
            "color": "#2a3f5f"
           }
          },
          "ternary": {
           "aaxis": {
            "gridcolor": "white",
            "linecolor": "white",
            "ticks": ""
           },
           "baxis": {
            "gridcolor": "white",
            "linecolor": "white",
            "ticks": ""
           },
           "bgcolor": "#E5ECF6",
           "caxis": {
            "gridcolor": "white",
            "linecolor": "white",
            "ticks": ""
           }
          },
          "title": {
           "x": 0.05
          },
          "xaxis": {
           "automargin": true,
           "gridcolor": "white",
           "linecolor": "white",
           "ticks": "",
           "title": {
            "standoff": 15
           },
           "zerolinecolor": "white",
           "zerolinewidth": 2
          },
          "yaxis": {
           "automargin": true,
           "gridcolor": "white",
           "linecolor": "white",
           "ticks": "",
           "title": {
            "standoff": 15
           },
           "zerolinecolor": "white",
           "zerolinewidth": 2
          }
         }
        },
        "xaxis": {
         "anchor": "y",
         "domain": [
          0,
          1
         ],
         "gridcolor": "LightGray",
         "gridwidth": 1,
         "showgrid": true,
         "title": {
          "text": "Week"
         }
        },
        "yaxis": {
         "anchor": "x",
         "domain": [
          0,
          1
         ],
         "gridcolor": "LightGray",
         "gridwidth": 1,
         "showgrid": true,
         "tickvals": [
          100,
          500,
          1000,
          5000,
          10000,
          50000,
          100000
         ],
         "title": {
          "text": "Connections"
         },
         "type": "log"
        }
       }
      },
      "text/html": [
       "<div>                            <div id=\"697d90a7-08fb-4c33-8ea8-74614278c84a\" class=\"plotly-graph-div\" style=\"height:900px; width:100%;\"></div>            <script type=\"text/javascript\">                require([\"plotly\"], function(Plotly) {                    window.PLOTLYENV=window.PLOTLYENV || {};                                    if (document.getElementById(\"697d90a7-08fb-4c33-8ea8-74614278c84a\")) {                    Plotly.newPlot(                        \"697d90a7-08fb-4c33-8ea8-74614278c84a\",                        [{\"hovertemplate\":\"TargetOrgs=Africa-on-Cloud-AS<br>Week=%{x}<br>Connections=%{y}<extra></extra>\",\"legendgroup\":\"Africa-on-Cloud-AS\",\"line\":{\"color\":\"#00cc96\",\"dash\":\"solid\",\"width\":8},\"marker\":{\"symbol\":\"circle\",\"size\":18},\"mode\":\"lines+markers\",\"name\":\"Africa-on-Cloud-AS\",\"orientation\":\"v\",\"showlegend\":true,\"x\":[\"Feb 2020\"],\"xaxis\":\"x\",\"y\":[489],\"yaxis\":\"y\",\"type\":\"scatter\"},{\"hovertemplate\":\"TargetOrgs=GOOGLE<br>Week=%{x}<br>Connections=%{y}<extra></extra>\",\"legendgroup\":\"GOOGLE\",\"line\":{\"color\":\"#109618\",\"dash\":\"dot\",\"width\":8},\"marker\":{\"symbol\":\"diamond\",\"size\":18},\"mode\":\"lines+markers\",\"name\":\"GOOGLE\",\"orientation\":\"v\",\"showlegend\":true,\"x\":[\"Feb 2020\",\"Apr 2020\",\"Sept 2020\",\"Sept 2021\"],\"xaxis\":\"x\",\"y\":[24460,12272,31946,32990],\"yaxis\":\"y\",\"type\":\"scatter\"},{\"hovertemplate\":\"TargetOrgs=APPLE<br>Week=%{x}<br>Connections=%{y}<extra></extra>\",\"legendgroup\":\"APPLE\",\"line\":{\"color\":\"#7f7f7f\",\"dash\":\"dash\",\"width\":8},\"marker\":{\"symbol\":\"square\",\"size\":18},\"mode\":\"lines+markers\",\"name\":\"APPLE\",\"orientation\":\"v\",\"showlegend\":true,\"x\":[\"Feb 2020\",\"Apr 2020\",\"Sept 2020\",\"Sept 2021\"],\"xaxis\":\"x\",\"y\":[8571,5364,10471,5719],\"yaxis\":\"y\",\"type\":\"scatter\"},{\"hovertemplate\":\"TargetOrgs=AKAMAI<br>Week=%{x}<br>Connections=%{y}<extra></extra>\",\"legendgroup\":\"AKAMAI\",\"line\":{\"color\":\"#ff9900\",\"dash\":\"longdash\",\"width\":8},\"marker\":{\"symbol\":\"x\",\"size\":18},\"mode\":\"lines+markers\",\"name\":\"AKAMAI\",\"orientation\":\"v\",\"showlegend\":true,\"x\":[\"Feb 2020\",\"Apr 2020\",\"Sept 2020\",\"Sept 2021\"],\"xaxis\":\"x\",\"y\":[31555,19096,37136,37382],\"yaxis\":\"y\",\"type\":\"scatter\"},{\"hovertemplate\":\"TargetOrgs=MICROSOFT<br>Week=%{x}<br>Connections=%{y}<extra></extra>\",\"legendgroup\":\"MICROSOFT\",\"line\":{\"color\":\"#990099\",\"dash\":\"dashdot\",\"width\":8},\"marker\":{\"symbol\":\"cross\",\"size\":18},\"mode\":\"lines+markers\",\"name\":\"MICROSOFT\",\"orientation\":\"v\",\"showlegend\":true,\"x\":[\"Feb 2020\",\"Apr 2020\",\"Sept 2020\",\"Sept 2021\"],\"xaxis\":\"x\",\"y\":[75793,42200,69310,58130],\"yaxis\":\"y\",\"type\":\"scatter\"},{\"hovertemplate\":\"TargetOrgs=DROPBOX<br>Week=%{x}<br>Connections=%{y}<extra></extra>\",\"legendgroup\":\"DROPBOX\",\"line\":{\"color\":\"#ab63fa\",\"dash\":\"longdashdot\",\"width\":8},\"marker\":{\"symbol\":\"circle\",\"size\":18},\"mode\":\"lines+markers\",\"name\":\"DROPBOX\",\"orientation\":\"v\",\"showlegend\":true,\"x\":[\"Feb 2020\",\"Apr 2020\",\"Sept 2020\",\"Sept 2021\"],\"xaxis\":\"x\",\"y\":[14187,13701,33837,23835],\"yaxis\":\"y\",\"type\":\"scatter\"},{\"hovertemplate\":\"TargetOrgs=ANT-CLOUD<br>Week=%{x}<br>Connections=%{y}<extra></extra>\",\"legendgroup\":\"ANT-CLOUD\",\"line\":{\"color\":\"#FFA15A\",\"dash\":\"solid\",\"width\":8},\"marker\":{\"symbol\":\"diamond\",\"size\":18},\"mode\":\"lines+markers\",\"name\":\"ANT-CLOUD\",\"orientation\":\"v\",\"showlegend\":true,\"x\":[\"Feb 2020\"],\"xaxis\":\"x\",\"y\":[153],\"yaxis\":\"y\",\"type\":\"scatter\"},{\"hovertemplate\":\"TargetOrgs=EDGECAST<br>Week=%{x}<br>Connections=%{y}<extra></extra>\",\"legendgroup\":\"EDGECAST\",\"line\":{\"color\":\"#316395\",\"dash\":\"dot\",\"width\":8},\"marker\":{\"symbol\":\"square\",\"size\":18},\"mode\":\"lines+markers\",\"name\":\"EDGECAST\",\"orientation\":\"v\",\"showlegend\":true,\"x\":[\"Feb 2020\",\"Apr 2020\",\"Sept 2020\",\"Sept 2021\"],\"xaxis\":\"x\",\"y\":[6460,5662,8675,5568],\"yaxis\":\"y\",\"type\":\"scatter\"},{\"hovertemplate\":\"TargetOrgs=CANARIE<br>Week=%{x}<br>Connections=%{y}<extra></extra>\",\"legendgroup\":\"CANARIE\",\"line\":{\"color\":\"#fb00d1\",\"dash\":\"dash\",\"width\":8},\"marker\":{\"symbol\":\"x\",\"size\":18},\"mode\":\"lines+markers\",\"name\":\"CANARIE\",\"orientation\":\"v\",\"showlegend\":true,\"x\":[\"Feb 2020\",\"Sept 2020\"],\"xaxis\":\"x\",\"y\":[4217,7290],\"yaxis\":\"y\",\"type\":\"scatter\"},{\"hovertemplate\":\"TargetOrgs=AMAZON<br>Week=%{x}<br>Connections=%{y}<extra></extra>\",\"legendgroup\":\"AMAZON\",\"line\":{\"color\":\"#212E3C\",\"dash\":\"longdash\",\"width\":8},\"marker\":{\"symbol\":\"cross\",\"size\":18},\"mode\":\"lines+markers\",\"name\":\"AMAZON\",\"orientation\":\"v\",\"showlegend\":true,\"x\":[\"Feb 2020\",\"Apr 2020\",\"Sept 2020\",\"Sept 2021\"],\"xaxis\":\"x\",\"y\":[9941,6239,18843,39958],\"yaxis\":\"y\",\"type\":\"scatter\"},{\"hovertemplate\":\"TargetOrgs=LEVEL3<br>Week=%{x}<br>Connections=%{y}<extra></extra>\",\"legendgroup\":\"LEVEL3\",\"line\":{\"color\":\"#17becf\",\"dash\":\"dashdot\",\"width\":8},\"marker\":{\"symbol\":\"circle\",\"size\":18},\"mode\":\"lines+markers\",\"name\":\"LEVEL3\",\"orientation\":\"v\",\"showlegend\":true,\"x\":[\"Apr 2020\",\"Sept 2021\"],\"xaxis\":\"x\",\"y\":[3434,4978],\"yaxis\":\"y\",\"type\":\"scatter\"},{\"hovertemplate\":\"TargetOrgs=HIGHWINDS<br>Week=%{x}<br>Connections=%{y}<extra></extra>\",\"legendgroup\":\"HIGHWINDS\",\"line\":{\"color\":\"#19d3f3\",\"dash\":\"longdashdot\",\"width\":8},\"marker\":{\"symbol\":\"diamond\",\"size\":18},\"mode\":\"lines+markers\",\"name\":\"HIGHWINDS\",\"orientation\":\"v\",\"showlegend\":true,\"x\":[\"Apr 2020\",\"Sept 2020\",\"Sept 2021\"],\"xaxis\":\"x\",\"y\":[4259,6109,3434],\"yaxis\":\"y\",\"type\":\"scatter\"},{\"hovertemplate\":\"TargetOrgs=SHAW<br>Week=%{x}<br>Connections=%{y}<extra></extra>\",\"legendgroup\":\"SHAW\",\"line\":{\"color\":\"#FF6692\",\"dash\":\"solid\",\"width\":8},\"marker\":{\"symbol\":\"square\",\"size\":18},\"mode\":\"lines+markers\",\"name\":\"SHAW\",\"orientation\":\"v\",\"showlegend\":true,\"x\":[\"Apr 2020\",\"Sept 2021\"],\"xaxis\":\"x\",\"y\":[337,2575],\"yaxis\":\"y\",\"type\":\"scatter\"},{\"hovertemplate\":\"TargetOrgs=ORACLE-BMC-31898<br>Week=%{x}<br>Connections=%{y}<extra></extra>\",\"legendgroup\":\"ORACLE-BMC-31898\",\"line\":{\"color\":\"#B6E880\",\"dash\":\"dot\",\"width\":8},\"marker\":{\"symbol\":\"x\",\"size\":18},\"mode\":\"lines+markers\",\"name\":\"ORACLE-BMC-31898\",\"orientation\":\"v\",\"showlegend\":true,\"x\":[\"Sept 2020\"],\"xaxis\":\"x\",\"y\":[240],\"yaxis\":\"y\",\"type\":\"scatter\"}],                        {\"template\":{\"data\":{\"histogram2dcontour\":[{\"type\":\"histogram2dcontour\",\"colorbar\":{\"outlinewidth\":0,\"ticks\":\"\"},\"colorscale\":[[0.0,\"#0d0887\"],[0.1111111111111111,\"#46039f\"],[0.2222222222222222,\"#7201a8\"],[0.3333333333333333,\"#9c179e\"],[0.4444444444444444,\"#bd3786\"],[0.5555555555555556,\"#d8576b\"],[0.6666666666666666,\"#ed7953\"],[0.7777777777777778,\"#fb9f3a\"],[0.8888888888888888,\"#fdca26\"],[1.0,\"#f0f921\"]]}],\"choropleth\":[{\"type\":\"choropleth\",\"colorbar\":{\"outlinewidth\":0,\"ticks\":\"\"}}],\"histogram2d\":[{\"type\":\"histogram2d\",\"colorbar\":{\"outlinewidth\":0,\"ticks\":\"\"},\"colorscale\":[[0.0,\"#0d0887\"],[0.1111111111111111,\"#46039f\"],[0.2222222222222222,\"#7201a8\"],[0.3333333333333333,\"#9c179e\"],[0.4444444444444444,\"#bd3786\"],[0.5555555555555556,\"#d8576b\"],[0.6666666666666666,\"#ed7953\"],[0.7777777777777778,\"#fb9f3a\"],[0.8888888888888888,\"#fdca26\"],[1.0,\"#f0f921\"]]}],\"heatmap\":[{\"type\":\"heatmap\",\"colorbar\":{\"outlinewidth\":0,\"ticks\":\"\"},\"colorscale\":[[0.0,\"#0d0887\"],[0.1111111111111111,\"#46039f\"],[0.2222222222222222,\"#7201a8\"],[0.3333333333333333,\"#9c179e\"],[0.4444444444444444,\"#bd3786\"],[0.5555555555555556,\"#d8576b\"],[0.6666666666666666,\"#ed7953\"],[0.7777777777777778,\"#fb9f3a\"],[0.8888888888888888,\"#fdca26\"],[1.0,\"#f0f921\"]]}],\"heatmapgl\":[{\"type\":\"heatmapgl\",\"colorbar\":{\"outlinewidth\":0,\"ticks\":\"\"},\"colorscale\":[[0.0,\"#0d0887\"],[0.1111111111111111,\"#46039f\"],[0.2222222222222222,\"#7201a8\"],[0.3333333333333333,\"#9c179e\"],[0.4444444444444444,\"#bd3786\"],[0.5555555555555556,\"#d8576b\"],[0.6666666666666666,\"#ed7953\"],[0.7777777777777778,\"#fb9f3a\"],[0.8888888888888888,\"#fdca26\"],[1.0,\"#f0f921\"]]}],\"contourcarpet\":[{\"type\":\"contourcarpet\",\"colorbar\":{\"outlinewidth\":0,\"ticks\":\"\"}}],\"contour\":[{\"type\":\"contour\",\"colorbar\":{\"outlinewidth\":0,\"ticks\":\"\"},\"colorscale\":[[0.0,\"#0d0887\"],[0.1111111111111111,\"#46039f\"],[0.2222222222222222,\"#7201a8\"],[0.3333333333333333,\"#9c179e\"],[0.4444444444444444,\"#bd3786\"],[0.5555555555555556,\"#d8576b\"],[0.6666666666666666,\"#ed7953\"],[0.7777777777777778,\"#fb9f3a\"],[0.8888888888888888,\"#fdca26\"],[1.0,\"#f0f921\"]]}],\"surface\":[{\"type\":\"surface\",\"colorbar\":{\"outlinewidth\":0,\"ticks\":\"\"},\"colorscale\":[[0.0,\"#0d0887\"],[0.1111111111111111,\"#46039f\"],[0.2222222222222222,\"#7201a8\"],[0.3333333333333333,\"#9c179e\"],[0.4444444444444444,\"#bd3786\"],[0.5555555555555556,\"#d8576b\"],[0.6666666666666666,\"#ed7953\"],[0.7777777777777778,\"#fb9f3a\"],[0.8888888888888888,\"#fdca26\"],[1.0,\"#f0f921\"]]}],\"mesh3d\":[{\"type\":\"mesh3d\",\"colorbar\":{\"outlinewidth\":0,\"ticks\":\"\"}}],\"scatter\":[{\"fillpattern\":{\"fillmode\":\"overlay\",\"size\":10,\"solidity\":0.2},\"type\":\"scatter\"}],\"parcoords\":[{\"type\":\"parcoords\",\"line\":{\"colorbar\":{\"outlinewidth\":0,\"ticks\":\"\"}}}],\"scatterpolargl\":[{\"type\":\"scatterpolargl\",\"marker\":{\"colorbar\":{\"outlinewidth\":0,\"ticks\":\"\"}}}],\"bar\":[{\"error_x\":{\"color\":\"#2a3f5f\"},\"error_y\":{\"color\":\"#2a3f5f\"},\"marker\":{\"line\":{\"color\":\"#E5ECF6\",\"width\":0.5},\"pattern\":{\"fillmode\":\"overlay\",\"size\":10,\"solidity\":0.2}},\"type\":\"bar\"}],\"scattergeo\":[{\"type\":\"scattergeo\",\"marker\":{\"colorbar\":{\"outlinewidth\":0,\"ticks\":\"\"}}}],\"scatterpolar\":[{\"type\":\"scatterpolar\",\"marker\":{\"colorbar\":{\"outlinewidth\":0,\"ticks\":\"\"}}}],\"histogram\":[{\"marker\":{\"pattern\":{\"fillmode\":\"overlay\",\"size\":10,\"solidity\":0.2}},\"type\":\"histogram\"}],\"scattergl\":[{\"type\":\"scattergl\",\"marker\":{\"colorbar\":{\"outlinewidth\":0,\"ticks\":\"\"}}}],\"scatter3d\":[{\"type\":\"scatter3d\",\"line\":{\"colorbar\":{\"outlinewidth\":0,\"ticks\":\"\"}},\"marker\":{\"colorbar\":{\"outlinewidth\":0,\"ticks\":\"\"}}}],\"scattermapbox\":[{\"type\":\"scattermapbox\",\"marker\":{\"colorbar\":{\"outlinewidth\":0,\"ticks\":\"\"}}}],\"scatterternary\":[{\"type\":\"scatterternary\",\"marker\":{\"colorbar\":{\"outlinewidth\":0,\"ticks\":\"\"}}}],\"scattercarpet\":[{\"type\":\"scattercarpet\",\"marker\":{\"colorbar\":{\"outlinewidth\":0,\"ticks\":\"\"}}}],\"carpet\":[{\"aaxis\":{\"endlinecolor\":\"#2a3f5f\",\"gridcolor\":\"white\",\"linecolor\":\"white\",\"minorgridcolor\":\"white\",\"startlinecolor\":\"#2a3f5f\"},\"baxis\":{\"endlinecolor\":\"#2a3f5f\",\"gridcolor\":\"white\",\"linecolor\":\"white\",\"minorgridcolor\":\"white\",\"startlinecolor\":\"#2a3f5f\"},\"type\":\"carpet\"}],\"table\":[{\"cells\":{\"fill\":{\"color\":\"#EBF0F8\"},\"line\":{\"color\":\"white\"}},\"header\":{\"fill\":{\"color\":\"#C8D4E3\"},\"line\":{\"color\":\"white\"}},\"type\":\"table\"}],\"barpolar\":[{\"marker\":{\"line\":{\"color\":\"#E5ECF6\",\"width\":0.5},\"pattern\":{\"fillmode\":\"overlay\",\"size\":10,\"solidity\":0.2}},\"type\":\"barpolar\"}],\"pie\":[{\"automargin\":true,\"type\":\"pie\"}]},\"layout\":{\"autotypenumbers\":\"strict\",\"colorway\":[\"#636efa\",\"#EF553B\",\"#00cc96\",\"#ab63fa\",\"#FFA15A\",\"#19d3f3\",\"#FF6692\",\"#B6E880\",\"#FF97FF\",\"#FECB52\"],\"font\":{\"color\":\"#2a3f5f\"},\"hovermode\":\"closest\",\"hoverlabel\":{\"align\":\"left\"},\"paper_bgcolor\":\"white\",\"plot_bgcolor\":\"#E5ECF6\",\"polar\":{\"bgcolor\":\"#E5ECF6\",\"angularaxis\":{\"gridcolor\":\"white\",\"linecolor\":\"white\",\"ticks\":\"\"},\"radialaxis\":{\"gridcolor\":\"white\",\"linecolor\":\"white\",\"ticks\":\"\"}},\"ternary\":{\"bgcolor\":\"#E5ECF6\",\"aaxis\":{\"gridcolor\":\"white\",\"linecolor\":\"white\",\"ticks\":\"\"},\"baxis\":{\"gridcolor\":\"white\",\"linecolor\":\"white\",\"ticks\":\"\"},\"caxis\":{\"gridcolor\":\"white\",\"linecolor\":\"white\",\"ticks\":\"\"}},\"coloraxis\":{\"colorbar\":{\"outlinewidth\":0,\"ticks\":\"\"}},\"colorscale\":{\"sequential\":[[0.0,\"#0d0887\"],[0.1111111111111111,\"#46039f\"],[0.2222222222222222,\"#7201a8\"],[0.3333333333333333,\"#9c179e\"],[0.4444444444444444,\"#bd3786\"],[0.5555555555555556,\"#d8576b\"],[0.6666666666666666,\"#ed7953\"],[0.7777777777777778,\"#fb9f3a\"],[0.8888888888888888,\"#fdca26\"],[1.0,\"#f0f921\"]],\"sequentialminus\":[[0.0,\"#0d0887\"],[0.1111111111111111,\"#46039f\"],[0.2222222222222222,\"#7201a8\"],[0.3333333333333333,\"#9c179e\"],[0.4444444444444444,\"#bd3786\"],[0.5555555555555556,\"#d8576b\"],[0.6666666666666666,\"#ed7953\"],[0.7777777777777778,\"#fb9f3a\"],[0.8888888888888888,\"#fdca26\"],[1.0,\"#f0f921\"]],\"diverging\":[[0,\"#8e0152\"],[0.1,\"#c51b7d\"],[0.2,\"#de77ae\"],[0.3,\"#f1b6da\"],[0.4,\"#fde0ef\"],[0.5,\"#f7f7f7\"],[0.6,\"#e6f5d0\"],[0.7,\"#b8e186\"],[0.8,\"#7fbc41\"],[0.9,\"#4d9221\"],[1,\"#276419\"]]},\"xaxis\":{\"gridcolor\":\"white\",\"linecolor\":\"white\",\"ticks\":\"\",\"title\":{\"standoff\":15},\"zerolinecolor\":\"white\",\"automargin\":true,\"zerolinewidth\":2},\"yaxis\":{\"gridcolor\":\"white\",\"linecolor\":\"white\",\"ticks\":\"\",\"title\":{\"standoff\":15},\"zerolinecolor\":\"white\",\"automargin\":true,\"zerolinewidth\":2},\"scene\":{\"xaxis\":{\"backgroundcolor\":\"#E5ECF6\",\"gridcolor\":\"white\",\"linecolor\":\"white\",\"showbackground\":true,\"ticks\":\"\",\"zerolinecolor\":\"white\",\"gridwidth\":2},\"yaxis\":{\"backgroundcolor\":\"#E5ECF6\",\"gridcolor\":\"white\",\"linecolor\":\"white\",\"showbackground\":true,\"ticks\":\"\",\"zerolinecolor\":\"white\",\"gridwidth\":2},\"zaxis\":{\"backgroundcolor\":\"#E5ECF6\",\"gridcolor\":\"white\",\"linecolor\":\"white\",\"showbackground\":true,\"ticks\":\"\",\"zerolinecolor\":\"white\",\"gridwidth\":2}},\"shapedefaults\":{\"line\":{\"color\":\"#2a3f5f\"}},\"annotationdefaults\":{\"arrowcolor\":\"#2a3f5f\",\"arrowhead\":0,\"arrowwidth\":1},\"geo\":{\"bgcolor\":\"white\",\"landcolor\":\"#E5ECF6\",\"subunitcolor\":\"white\",\"showland\":true,\"showlakes\":true,\"lakecolor\":\"white\"},\"title\":{\"x\":0.05},\"mapbox\":{\"style\":\"light\"}}},\"xaxis\":{\"anchor\":\"y\",\"domain\":[0.0,1.0],\"title\":{\"text\":\"Week\"},\"showgrid\":true,\"gridwidth\":1,\"gridcolor\":\"LightGray\"},\"yaxis\":{\"anchor\":\"x\",\"domain\":[0.0,1.0],\"title\":{\"text\":\"Connections\"},\"type\":\"log\",\"showgrid\":true,\"gridwidth\":1,\"gridcolor\":\"LightGray\",\"tickvals\":[100,500,1000,5000,10000,50000,100000]},\"legend\":{\"title\":{\"text\":\"TargetOrgs\"},\"tracegroupgap\":0},\"margin\":{\"t\":60},\"height\":900,\"font\":{\"size\":30},\"plot_bgcolor\":\"white\",\"showlegend\":false},                        {\"responsive\": true}                    ).then(function(){\n",
       "                            \n",
       "var gd = document.getElementById('697d90a7-08fb-4c33-8ea8-74614278c84a');\n",
       "var x = new MutationObserver(function (mutations, observer) {{\n",
       "        var display = window.getComputedStyle(gd).display;\n",
       "        if (!display || display === 'none') {{\n",
       "            console.log([gd, 'removed!']);\n",
       "            Plotly.purge(gd);\n",
       "            observer.disconnect();\n",
       "        }}\n",
       "}});\n",
       "\n",
       "// Listen for the removal of the full notebook cells\n",
       "var notebookContainer = gd.closest('#notebook-container');\n",
       "if (notebookContainer) {{\n",
       "    x.observe(notebookContainer, {childList: true});\n",
       "}}\n",
       "\n",
       "// Listen for the clearing of the current output cell\n",
       "var outputEl = gd.closest('.output');\n",
       "if (outputEl) {{\n",
       "    x.observe(outputEl, {childList: true});\n",
       "}}\n",
       "\n",
       "                        })                };                });            </script>        </div>"
      ]
     },
     "metadata": {},
     "output_type": "display_data"
    }
   ],
   "source": [
    "import plotly.express as px\n",
    "import pandas as pd\n",
    "\n",
    "df_orgs_out = pd.read_csv('/Volumes/GoogleDrive/My Drive/Thesis/Plotly/category_Medical_out_targets.csv')\n",
    "\n",
    "fig_orgs_out_conns = px.line(df_orgs_out, x='Week', y='Connections', log_y=True, color='TargetOrgs',\n",
    "                             color_discrete_map={'APPLE': '#7f7f7f', 'NETFLIX': '#dc3912', 'AKAMAI': '#ff9900',\n",
    "                                                 'CANARIE': '#fb00d1', 'FACEBOOK': '#3366cc', 'GOOGLE': '#109618',\n",
    "                                                 'AMAZON': '#212E3C', 'FASTLY': '#8c564b', 'LEVEL3': '#17becf',\n",
    "                                                 'MICROSOFT': '#990099', 'EDGECAST': '#316395',\n",
    "                                                 'VALVE-CORPORATION': '#bcbd22'},\n",
    "                             markers=True, line_dash='TargetOrgs', symbol='TargetOrgs', height=900)\n",
    "fig_orgs_out_conns.update_layout(plot_bgcolor='white', font_size=30, showlegend=False)\n",
    "fig_orgs_out_conns.update_xaxes(showgrid=True, gridwidth=1, gridcolor='LightGray')\n",
    "fig_orgs_out_conns.update_yaxes(showgrid=True, gridwidth=1, gridcolor='LightGray',\n",
    "                                tickvals=[100, 500, 1000, 5000, 10000, 50000, 100000])\n",
    "fig_orgs_out_conns.update_traces(line_width=8, marker_size=18)\n",
    "\n",
    "fig_orgs_out_conns.show()"
   ]
  },
  {
   "cell_type": "code",
   "execution_count": 7,
   "id": "ca585c1a",
   "metadata": {},
   "outputs": [
    {
     "data": {
      "application/vnd.plotly.v1+json": {
       "config": {
        "plotlyServerURL": "https://plot.ly"
       },
       "data": [
        {
         "hovertemplate": "TargetOrgs=Africa-on-Cloud-AS<br>Week=%{x}<br>TotalBytes=%{y}<extra></extra>",
         "legendgroup": "Africa-on-Cloud-AS",
         "line": {
          "color": "#00cc96",
          "dash": "solid",
          "width": 8
         },
         "marker": {
          "size": 18,
          "symbol": "circle"
         },
         "mode": "lines+markers",
         "name": "Africa-on-Cloud-AS",
         "orientation": "v",
         "showlegend": true,
         "type": "scatter",
         "x": [
          "Feb 2020"
         ],
         "xaxis": "x",
         "y": [
          162485270254
         ],
         "yaxis": "y"
        },
        {
         "hovertemplate": "TargetOrgs=GOOGLE<br>Week=%{x}<br>TotalBytes=%{y}<extra></extra>",
         "legendgroup": "GOOGLE",
         "line": {
          "color": "#109618",
          "dash": "dot",
          "width": 8
         },
         "marker": {
          "size": 18,
          "symbol": "diamond"
         },
         "mode": "lines+markers",
         "name": "GOOGLE",
         "orientation": "v",
         "showlegend": true,
         "type": "scatter",
         "x": [
          "Feb 2020",
          "Apr 2020",
          "Sept 2020",
          "Sept 2021"
         ],
         "xaxis": "x",
         "y": [
          129216597356,
          21465333417,
          58638354057,
          62069086540
         ],
         "yaxis": "y"
        },
        {
         "hovertemplate": "TargetOrgs=APPLE<br>Week=%{x}<br>TotalBytes=%{y}<extra></extra>",
         "legendgroup": "APPLE",
         "line": {
          "color": "#7f7f7f",
          "dash": "dash",
          "width": 8
         },
         "marker": {
          "size": 18,
          "symbol": "square"
         },
         "mode": "lines+markers",
         "name": "APPLE",
         "orientation": "v",
         "showlegend": true,
         "type": "scatter",
         "x": [
          "Feb 2020",
          "Apr 2020",
          "Sept 2020",
          "Sept 2021"
         ],
         "xaxis": "x",
         "y": [
          91832933418,
          40636958656,
          218322289325,
          27001993681
         ],
         "yaxis": "y"
        },
        {
         "hovertemplate": "TargetOrgs=AKAMAI<br>Week=%{x}<br>TotalBytes=%{y}<extra></extra>",
         "legendgroup": "AKAMAI",
         "line": {
          "color": "#ff9900",
          "dash": "longdash",
          "width": 8
         },
         "marker": {
          "size": 18,
          "symbol": "x"
         },
         "mode": "lines+markers",
         "name": "AKAMAI",
         "orientation": "v",
         "showlegend": true,
         "type": "scatter",
         "x": [
          "Feb 2020",
          "Apr 2020",
          "Sept 2020",
          "Sept 2021"
         ],
         "xaxis": "x",
         "y": [
          89373195120,
          83972715210,
          197001382468,
          185360938157
         ],
         "yaxis": "y"
        },
        {
         "hovertemplate": "TargetOrgs=MICROSOFT<br>Week=%{x}<br>TotalBytes=%{y}<extra></extra>",
         "legendgroup": "MICROSOFT",
         "line": {
          "color": "#990099",
          "dash": "dashdot",
          "width": 8
         },
         "marker": {
          "size": 18,
          "symbol": "cross"
         },
         "mode": "lines+markers",
         "name": "MICROSOFT",
         "orientation": "v",
         "showlegend": true,
         "type": "scatter",
         "x": [
          "Feb 2020",
          "Apr 2020",
          "Sept 2020",
          "Sept 2021"
         ],
         "xaxis": "x",
         "y": [
          74157493088,
          123116305121,
          198366747743,
          156652968615
         ],
         "yaxis": "y"
        },
        {
         "hovertemplate": "TargetOrgs=DROPBOX<br>Week=%{x}<br>TotalBytes=%{y}<extra></extra>",
         "legendgroup": "DROPBOX",
         "line": {
          "color": "#ab63fa",
          "dash": "longdashdot",
          "width": 8
         },
         "marker": {
          "size": 18,
          "symbol": "circle"
         },
         "mode": "lines+markers",
         "name": "DROPBOX",
         "orientation": "v",
         "showlegend": true,
         "type": "scatter",
         "x": [
          "Feb 2020",
          "Apr 2020",
          "Sept 2020",
          "Sept 2021"
         ],
         "xaxis": "x",
         "y": [
          64983772827,
          75882612044,
          482592152728,
          44564208296
         ],
         "yaxis": "y"
        },
        {
         "hovertemplate": "TargetOrgs=ANT-CLOUD<br>Week=%{x}<br>TotalBytes=%{y}<extra></extra>",
         "legendgroup": "ANT-CLOUD",
         "line": {
          "color": "#FFA15A",
          "dash": "solid",
          "width": 8
         },
         "marker": {
          "size": 18,
          "symbol": "diamond"
         },
         "mode": "lines+markers",
         "name": "ANT-CLOUD",
         "orientation": "v",
         "showlegend": true,
         "type": "scatter",
         "x": [
          "Feb 2020"
         ],
         "xaxis": "x",
         "y": [
          34479433029
         ],
         "yaxis": "y"
        },
        {
         "hovertemplate": "TargetOrgs=EDGECAST<br>Week=%{x}<br>TotalBytes=%{y}<extra></extra>",
         "legendgroup": "EDGECAST",
         "line": {
          "color": "#316395",
          "dash": "dot",
          "width": 8
         },
         "marker": {
          "size": 18,
          "symbol": "square"
         },
         "mode": "lines+markers",
         "name": "EDGECAST",
         "orientation": "v",
         "showlegend": true,
         "type": "scatter",
         "x": [
          "Feb 2020",
          "Apr 2020",
          "Sept 2020",
          "Sept 2021"
         ],
         "xaxis": "x",
         "y": [
          22737966538,
          38987726330,
          46830688870,
          37987349171
         ],
         "yaxis": "y"
        },
        {
         "hovertemplate": "TargetOrgs=CANARIE<br>Week=%{x}<br>TotalBytes=%{y}<extra></extra>",
         "legendgroup": "CANARIE",
         "line": {
          "color": "#fb00d1",
          "dash": "dash",
          "width": 8
         },
         "marker": {
          "size": 18,
          "symbol": "x"
         },
         "mode": "lines+markers",
         "name": "CANARIE",
         "orientation": "v",
         "showlegend": true,
         "type": "scatter",
         "x": [
          "Feb 2020",
          "Sept 2020"
         ],
         "xaxis": "x",
         "y": [
          16986253797,
          40342433742
         ],
         "yaxis": "y"
        },
        {
         "hovertemplate": "TargetOrgs=AMAZON<br>Week=%{x}<br>TotalBytes=%{y}<extra></extra>",
         "legendgroup": "AMAZON",
         "line": {
          "color": "#212E3C",
          "dash": "longdash",
          "width": 8
         },
         "marker": {
          "size": 18,
          "symbol": "cross"
         },
         "mode": "lines+markers",
         "name": "AMAZON",
         "orientation": "v",
         "showlegend": true,
         "type": "scatter",
         "x": [
          "Feb 2020",
          "Apr 2020",
          "Sept 2020",
          "Sept 2021"
         ],
         "xaxis": "x",
         "y": [
          16632534832,
          24194840542,
          721058648483,
          101974815662
         ],
         "yaxis": "y"
        },
        {
         "hovertemplate": "TargetOrgs=LEVEL3<br>Week=%{x}<br>TotalBytes=%{y}<extra></extra>",
         "legendgroup": "LEVEL3",
         "line": {
          "color": "#17becf",
          "dash": "dashdot",
          "width": 8
         },
         "marker": {
          "size": 18,
          "symbol": "circle"
         },
         "mode": "lines+markers",
         "name": "LEVEL3",
         "orientation": "v",
         "showlegend": true,
         "type": "scatter",
         "x": [
          "Apr 2020",
          "Sept 2021"
         ],
         "xaxis": "x",
         "y": [
          22754759886,
          45461979583
         ],
         "yaxis": "y"
        },
        {
         "hovertemplate": "TargetOrgs=HIGHWINDS<br>Week=%{x}<br>TotalBytes=%{y}<extra></extra>",
         "legendgroup": "HIGHWINDS",
         "line": {
          "color": "#19d3f3",
          "dash": "longdashdot",
          "width": 8
         },
         "marker": {
          "size": 18,
          "symbol": "diamond"
         },
         "mode": "lines+markers",
         "name": "HIGHWINDS",
         "orientation": "v",
         "showlegend": true,
         "type": "scatter",
         "x": [
          "Apr 2020",
          "Sept 2020",
          "Sept 2021"
         ],
         "xaxis": "x",
         "y": [
          20017066352,
          48667159870,
          25790746649
         ],
         "yaxis": "y"
        },
        {
         "hovertemplate": "TargetOrgs=SHAW<br>Week=%{x}<br>TotalBytes=%{y}<extra></extra>",
         "legendgroup": "SHAW",
         "line": {
          "color": "#FF6692",
          "dash": "solid",
          "width": 8
         },
         "marker": {
          "size": 18,
          "symbol": "square"
         },
         "mode": "lines+markers",
         "name": "SHAW",
         "orientation": "v",
         "showlegend": true,
         "type": "scatter",
         "x": [
          "Apr 2020",
          "Sept 2021"
         ],
         "xaxis": "x",
         "y": [
          16502695733,
          11363129647
         ],
         "yaxis": "y"
        },
        {
         "hovertemplate": "TargetOrgs=ORACLE-BMC-31898<br>Week=%{x}<br>TotalBytes=%{y}<extra></extra>",
         "legendgroup": "ORACLE-BMC-31898",
         "line": {
          "color": "#B6E880",
          "dash": "dot",
          "width": 8
         },
         "marker": {
          "size": 18,
          "symbol": "x"
         },
         "mode": "lines+markers",
         "name": "ORACLE-BMC-31898",
         "orientation": "v",
         "showlegend": true,
         "type": "scatter",
         "x": [
          "Sept 2020"
         ],
         "xaxis": "x",
         "y": [
          37051181028
         ],
         "yaxis": "y"
        }
       ],
       "layout": {
        "font": {
         "size": 30
        },
        "height": 900,
        "legend": {
         "itemwidth": 80,
         "title": {
          "text": "TargetOrgs"
         },
         "tracegroupgap": 0
        },
        "margin": {
         "t": 60
        },
        "plot_bgcolor": "white",
        "template": {
         "data": {
          "bar": [
           {
            "error_x": {
             "color": "#2a3f5f"
            },
            "error_y": {
             "color": "#2a3f5f"
            },
            "marker": {
             "line": {
              "color": "#E5ECF6",
              "width": 0.5
             },
             "pattern": {
              "fillmode": "overlay",
              "size": 10,
              "solidity": 0.2
             }
            },
            "type": "bar"
           }
          ],
          "barpolar": [
           {
            "marker": {
             "line": {
              "color": "#E5ECF6",
              "width": 0.5
             },
             "pattern": {
              "fillmode": "overlay",
              "size": 10,
              "solidity": 0.2
             }
            },
            "type": "barpolar"
           }
          ],
          "carpet": [
           {
            "aaxis": {
             "endlinecolor": "#2a3f5f",
             "gridcolor": "white",
             "linecolor": "white",
             "minorgridcolor": "white",
             "startlinecolor": "#2a3f5f"
            },
            "baxis": {
             "endlinecolor": "#2a3f5f",
             "gridcolor": "white",
             "linecolor": "white",
             "minorgridcolor": "white",
             "startlinecolor": "#2a3f5f"
            },
            "type": "carpet"
           }
          ],
          "choropleth": [
           {
            "colorbar": {
             "outlinewidth": 0,
             "ticks": ""
            },
            "type": "choropleth"
           }
          ],
          "contour": [
           {
            "colorbar": {
             "outlinewidth": 0,
             "ticks": ""
            },
            "colorscale": [
             [
              0,
              "#0d0887"
             ],
             [
              0.1111111111111111,
              "#46039f"
             ],
             [
              0.2222222222222222,
              "#7201a8"
             ],
             [
              0.3333333333333333,
              "#9c179e"
             ],
             [
              0.4444444444444444,
              "#bd3786"
             ],
             [
              0.5555555555555556,
              "#d8576b"
             ],
             [
              0.6666666666666666,
              "#ed7953"
             ],
             [
              0.7777777777777778,
              "#fb9f3a"
             ],
             [
              0.8888888888888888,
              "#fdca26"
             ],
             [
              1,
              "#f0f921"
             ]
            ],
            "type": "contour"
           }
          ],
          "contourcarpet": [
           {
            "colorbar": {
             "outlinewidth": 0,
             "ticks": ""
            },
            "type": "contourcarpet"
           }
          ],
          "heatmap": [
           {
            "colorbar": {
             "outlinewidth": 0,
             "ticks": ""
            },
            "colorscale": [
             [
              0,
              "#0d0887"
             ],
             [
              0.1111111111111111,
              "#46039f"
             ],
             [
              0.2222222222222222,
              "#7201a8"
             ],
             [
              0.3333333333333333,
              "#9c179e"
             ],
             [
              0.4444444444444444,
              "#bd3786"
             ],
             [
              0.5555555555555556,
              "#d8576b"
             ],
             [
              0.6666666666666666,
              "#ed7953"
             ],
             [
              0.7777777777777778,
              "#fb9f3a"
             ],
             [
              0.8888888888888888,
              "#fdca26"
             ],
             [
              1,
              "#f0f921"
             ]
            ],
            "type": "heatmap"
           }
          ],
          "heatmapgl": [
           {
            "colorbar": {
             "outlinewidth": 0,
             "ticks": ""
            },
            "colorscale": [
             [
              0,
              "#0d0887"
             ],
             [
              0.1111111111111111,
              "#46039f"
             ],
             [
              0.2222222222222222,
              "#7201a8"
             ],
             [
              0.3333333333333333,
              "#9c179e"
             ],
             [
              0.4444444444444444,
              "#bd3786"
             ],
             [
              0.5555555555555556,
              "#d8576b"
             ],
             [
              0.6666666666666666,
              "#ed7953"
             ],
             [
              0.7777777777777778,
              "#fb9f3a"
             ],
             [
              0.8888888888888888,
              "#fdca26"
             ],
             [
              1,
              "#f0f921"
             ]
            ],
            "type": "heatmapgl"
           }
          ],
          "histogram": [
           {
            "marker": {
             "pattern": {
              "fillmode": "overlay",
              "size": 10,
              "solidity": 0.2
             }
            },
            "type": "histogram"
           }
          ],
          "histogram2d": [
           {
            "colorbar": {
             "outlinewidth": 0,
             "ticks": ""
            },
            "colorscale": [
             [
              0,
              "#0d0887"
             ],
             [
              0.1111111111111111,
              "#46039f"
             ],
             [
              0.2222222222222222,
              "#7201a8"
             ],
             [
              0.3333333333333333,
              "#9c179e"
             ],
             [
              0.4444444444444444,
              "#bd3786"
             ],
             [
              0.5555555555555556,
              "#d8576b"
             ],
             [
              0.6666666666666666,
              "#ed7953"
             ],
             [
              0.7777777777777778,
              "#fb9f3a"
             ],
             [
              0.8888888888888888,
              "#fdca26"
             ],
             [
              1,
              "#f0f921"
             ]
            ],
            "type": "histogram2d"
           }
          ],
          "histogram2dcontour": [
           {
            "colorbar": {
             "outlinewidth": 0,
             "ticks": ""
            },
            "colorscale": [
             [
              0,
              "#0d0887"
             ],
             [
              0.1111111111111111,
              "#46039f"
             ],
             [
              0.2222222222222222,
              "#7201a8"
             ],
             [
              0.3333333333333333,
              "#9c179e"
             ],
             [
              0.4444444444444444,
              "#bd3786"
             ],
             [
              0.5555555555555556,
              "#d8576b"
             ],
             [
              0.6666666666666666,
              "#ed7953"
             ],
             [
              0.7777777777777778,
              "#fb9f3a"
             ],
             [
              0.8888888888888888,
              "#fdca26"
             ],
             [
              1,
              "#f0f921"
             ]
            ],
            "type": "histogram2dcontour"
           }
          ],
          "mesh3d": [
           {
            "colorbar": {
             "outlinewidth": 0,
             "ticks": ""
            },
            "type": "mesh3d"
           }
          ],
          "parcoords": [
           {
            "line": {
             "colorbar": {
              "outlinewidth": 0,
              "ticks": ""
             }
            },
            "type": "parcoords"
           }
          ],
          "pie": [
           {
            "automargin": true,
            "type": "pie"
           }
          ],
          "scatter": [
           {
            "fillpattern": {
             "fillmode": "overlay",
             "size": 10,
             "solidity": 0.2
            },
            "type": "scatter"
           }
          ],
          "scatter3d": [
           {
            "line": {
             "colorbar": {
              "outlinewidth": 0,
              "ticks": ""
             }
            },
            "marker": {
             "colorbar": {
              "outlinewidth": 0,
              "ticks": ""
             }
            },
            "type": "scatter3d"
           }
          ],
          "scattercarpet": [
           {
            "marker": {
             "colorbar": {
              "outlinewidth": 0,
              "ticks": ""
             }
            },
            "type": "scattercarpet"
           }
          ],
          "scattergeo": [
           {
            "marker": {
             "colorbar": {
              "outlinewidth": 0,
              "ticks": ""
             }
            },
            "type": "scattergeo"
           }
          ],
          "scattergl": [
           {
            "marker": {
             "colorbar": {
              "outlinewidth": 0,
              "ticks": ""
             }
            },
            "type": "scattergl"
           }
          ],
          "scattermapbox": [
           {
            "marker": {
             "colorbar": {
              "outlinewidth": 0,
              "ticks": ""
             }
            },
            "type": "scattermapbox"
           }
          ],
          "scatterpolar": [
           {
            "marker": {
             "colorbar": {
              "outlinewidth": 0,
              "ticks": ""
             }
            },
            "type": "scatterpolar"
           }
          ],
          "scatterpolargl": [
           {
            "marker": {
             "colorbar": {
              "outlinewidth": 0,
              "ticks": ""
             }
            },
            "type": "scatterpolargl"
           }
          ],
          "scatterternary": [
           {
            "marker": {
             "colorbar": {
              "outlinewidth": 0,
              "ticks": ""
             }
            },
            "type": "scatterternary"
           }
          ],
          "surface": [
           {
            "colorbar": {
             "outlinewidth": 0,
             "ticks": ""
            },
            "colorscale": [
             [
              0,
              "#0d0887"
             ],
             [
              0.1111111111111111,
              "#46039f"
             ],
             [
              0.2222222222222222,
              "#7201a8"
             ],
             [
              0.3333333333333333,
              "#9c179e"
             ],
             [
              0.4444444444444444,
              "#bd3786"
             ],
             [
              0.5555555555555556,
              "#d8576b"
             ],
             [
              0.6666666666666666,
              "#ed7953"
             ],
             [
              0.7777777777777778,
              "#fb9f3a"
             ],
             [
              0.8888888888888888,
              "#fdca26"
             ],
             [
              1,
              "#f0f921"
             ]
            ],
            "type": "surface"
           }
          ],
          "table": [
           {
            "cells": {
             "fill": {
              "color": "#EBF0F8"
             },
             "line": {
              "color": "white"
             }
            },
            "header": {
             "fill": {
              "color": "#C8D4E3"
             },
             "line": {
              "color": "white"
             }
            },
            "type": "table"
           }
          ]
         },
         "layout": {
          "annotationdefaults": {
           "arrowcolor": "#2a3f5f",
           "arrowhead": 0,
           "arrowwidth": 1
          },
          "autotypenumbers": "strict",
          "coloraxis": {
           "colorbar": {
            "outlinewidth": 0,
            "ticks": ""
           }
          },
          "colorscale": {
           "diverging": [
            [
             0,
             "#8e0152"
            ],
            [
             0.1,
             "#c51b7d"
            ],
            [
             0.2,
             "#de77ae"
            ],
            [
             0.3,
             "#f1b6da"
            ],
            [
             0.4,
             "#fde0ef"
            ],
            [
             0.5,
             "#f7f7f7"
            ],
            [
             0.6,
             "#e6f5d0"
            ],
            [
             0.7,
             "#b8e186"
            ],
            [
             0.8,
             "#7fbc41"
            ],
            [
             0.9,
             "#4d9221"
            ],
            [
             1,
             "#276419"
            ]
           ],
           "sequential": [
            [
             0,
             "#0d0887"
            ],
            [
             0.1111111111111111,
             "#46039f"
            ],
            [
             0.2222222222222222,
             "#7201a8"
            ],
            [
             0.3333333333333333,
             "#9c179e"
            ],
            [
             0.4444444444444444,
             "#bd3786"
            ],
            [
             0.5555555555555556,
             "#d8576b"
            ],
            [
             0.6666666666666666,
             "#ed7953"
            ],
            [
             0.7777777777777778,
             "#fb9f3a"
            ],
            [
             0.8888888888888888,
             "#fdca26"
            ],
            [
             1,
             "#f0f921"
            ]
           ],
           "sequentialminus": [
            [
             0,
             "#0d0887"
            ],
            [
             0.1111111111111111,
             "#46039f"
            ],
            [
             0.2222222222222222,
             "#7201a8"
            ],
            [
             0.3333333333333333,
             "#9c179e"
            ],
            [
             0.4444444444444444,
             "#bd3786"
            ],
            [
             0.5555555555555556,
             "#d8576b"
            ],
            [
             0.6666666666666666,
             "#ed7953"
            ],
            [
             0.7777777777777778,
             "#fb9f3a"
            ],
            [
             0.8888888888888888,
             "#fdca26"
            ],
            [
             1,
             "#f0f921"
            ]
           ]
          },
          "colorway": [
           "#636efa",
           "#EF553B",
           "#00cc96",
           "#ab63fa",
           "#FFA15A",
           "#19d3f3",
           "#FF6692",
           "#B6E880",
           "#FF97FF",
           "#FECB52"
          ],
          "font": {
           "color": "#2a3f5f"
          },
          "geo": {
           "bgcolor": "white",
           "lakecolor": "white",
           "landcolor": "#E5ECF6",
           "showlakes": true,
           "showland": true,
           "subunitcolor": "white"
          },
          "hoverlabel": {
           "align": "left"
          },
          "hovermode": "closest",
          "mapbox": {
           "style": "light"
          },
          "paper_bgcolor": "white",
          "plot_bgcolor": "#E5ECF6",
          "polar": {
           "angularaxis": {
            "gridcolor": "white",
            "linecolor": "white",
            "ticks": ""
           },
           "bgcolor": "#E5ECF6",
           "radialaxis": {
            "gridcolor": "white",
            "linecolor": "white",
            "ticks": ""
           }
          },
          "scene": {
           "xaxis": {
            "backgroundcolor": "#E5ECF6",
            "gridcolor": "white",
            "gridwidth": 2,
            "linecolor": "white",
            "showbackground": true,
            "ticks": "",
            "zerolinecolor": "white"
           },
           "yaxis": {
            "backgroundcolor": "#E5ECF6",
            "gridcolor": "white",
            "gridwidth": 2,
            "linecolor": "white",
            "showbackground": true,
            "ticks": "",
            "zerolinecolor": "white"
           },
           "zaxis": {
            "backgroundcolor": "#E5ECF6",
            "gridcolor": "white",
            "gridwidth": 2,
            "linecolor": "white",
            "showbackground": true,
            "ticks": "",
            "zerolinecolor": "white"
           }
          },
          "shapedefaults": {
           "line": {
            "color": "#2a3f5f"
           }
          },
          "ternary": {
           "aaxis": {
            "gridcolor": "white",
            "linecolor": "white",
            "ticks": ""
           },
           "baxis": {
            "gridcolor": "white",
            "linecolor": "white",
            "ticks": ""
           },
           "bgcolor": "#E5ECF6",
           "caxis": {
            "gridcolor": "white",
            "linecolor": "white",
            "ticks": ""
           }
          },
          "title": {
           "x": 0.05
          },
          "xaxis": {
           "automargin": true,
           "gridcolor": "white",
           "linecolor": "white",
           "ticks": "",
           "title": {
            "standoff": 15
           },
           "zerolinecolor": "white",
           "zerolinewidth": 2
          },
          "yaxis": {
           "automargin": true,
           "gridcolor": "white",
           "linecolor": "white",
           "ticks": "",
           "title": {
            "standoff": 15
           },
           "zerolinecolor": "white",
           "zerolinewidth": 2
          }
         }
        },
        "width": 1300,
        "xaxis": {
         "anchor": "y",
         "domain": [
          0,
          1
         ],
         "gridcolor": "LightGray",
         "gridwidth": 1,
         "showgrid": true,
         "title": {
          "text": "Week"
         }
        },
        "yaxis": {
         "anchor": "x",
         "domain": [
          0,
          1
         ],
         "gridcolor": "LightGray",
         "gridwidth": 1,
         "showgrid": true,
         "ticktext": [
          "10 GB",
          "20 GB",
          "40 GB",
          "60 GB",
          "80 GB",
          "100 GB",
          "200 GB",
          "400 GB",
          "600 GB",
          "800 GB"
         ],
         "tickvals": [
          10737418240,
          21474836480,
          42949672960,
          64424509440,
          85899345920,
          107374182400,
          214748364800,
          429496729600,
          644245094400,
          858993459200
         ],
         "title": {
          "text": "TotalBytes"
         },
         "type": "log"
        }
       }
      },
      "text/html": [
       "<div>                            <div id=\"135dee6a-3f9c-4fb9-a944-90e7d1e34fbf\" class=\"plotly-graph-div\" style=\"height:900px; width:1300px;\"></div>            <script type=\"text/javascript\">                require([\"plotly\"], function(Plotly) {                    window.PLOTLYENV=window.PLOTLYENV || {};                                    if (document.getElementById(\"135dee6a-3f9c-4fb9-a944-90e7d1e34fbf\")) {                    Plotly.newPlot(                        \"135dee6a-3f9c-4fb9-a944-90e7d1e34fbf\",                        [{\"hovertemplate\":\"TargetOrgs=Africa-on-Cloud-AS<br>Week=%{x}<br>TotalBytes=%{y}<extra></extra>\",\"legendgroup\":\"Africa-on-Cloud-AS\",\"line\":{\"color\":\"#00cc96\",\"dash\":\"solid\",\"width\":8},\"marker\":{\"symbol\":\"circle\",\"size\":18},\"mode\":\"lines+markers\",\"name\":\"Africa-on-Cloud-AS\",\"orientation\":\"v\",\"showlegend\":true,\"x\":[\"Feb 2020\"],\"xaxis\":\"x\",\"y\":[162485270254],\"yaxis\":\"y\",\"type\":\"scatter\"},{\"hovertemplate\":\"TargetOrgs=GOOGLE<br>Week=%{x}<br>TotalBytes=%{y}<extra></extra>\",\"legendgroup\":\"GOOGLE\",\"line\":{\"color\":\"#109618\",\"dash\":\"dot\",\"width\":8},\"marker\":{\"symbol\":\"diamond\",\"size\":18},\"mode\":\"lines+markers\",\"name\":\"GOOGLE\",\"orientation\":\"v\",\"showlegend\":true,\"x\":[\"Feb 2020\",\"Apr 2020\",\"Sept 2020\",\"Sept 2021\"],\"xaxis\":\"x\",\"y\":[129216597356,21465333417,58638354057,62069086540],\"yaxis\":\"y\",\"type\":\"scatter\"},{\"hovertemplate\":\"TargetOrgs=APPLE<br>Week=%{x}<br>TotalBytes=%{y}<extra></extra>\",\"legendgroup\":\"APPLE\",\"line\":{\"color\":\"#7f7f7f\",\"dash\":\"dash\",\"width\":8},\"marker\":{\"symbol\":\"square\",\"size\":18},\"mode\":\"lines+markers\",\"name\":\"APPLE\",\"orientation\":\"v\",\"showlegend\":true,\"x\":[\"Feb 2020\",\"Apr 2020\",\"Sept 2020\",\"Sept 2021\"],\"xaxis\":\"x\",\"y\":[91832933418,40636958656,218322289325,27001993681],\"yaxis\":\"y\",\"type\":\"scatter\"},{\"hovertemplate\":\"TargetOrgs=AKAMAI<br>Week=%{x}<br>TotalBytes=%{y}<extra></extra>\",\"legendgroup\":\"AKAMAI\",\"line\":{\"color\":\"#ff9900\",\"dash\":\"longdash\",\"width\":8},\"marker\":{\"symbol\":\"x\",\"size\":18},\"mode\":\"lines+markers\",\"name\":\"AKAMAI\",\"orientation\":\"v\",\"showlegend\":true,\"x\":[\"Feb 2020\",\"Apr 2020\",\"Sept 2020\",\"Sept 2021\"],\"xaxis\":\"x\",\"y\":[89373195120,83972715210,197001382468,185360938157],\"yaxis\":\"y\",\"type\":\"scatter\"},{\"hovertemplate\":\"TargetOrgs=MICROSOFT<br>Week=%{x}<br>TotalBytes=%{y}<extra></extra>\",\"legendgroup\":\"MICROSOFT\",\"line\":{\"color\":\"#990099\",\"dash\":\"dashdot\",\"width\":8},\"marker\":{\"symbol\":\"cross\",\"size\":18},\"mode\":\"lines+markers\",\"name\":\"MICROSOFT\",\"orientation\":\"v\",\"showlegend\":true,\"x\":[\"Feb 2020\",\"Apr 2020\",\"Sept 2020\",\"Sept 2021\"],\"xaxis\":\"x\",\"y\":[74157493088,123116305121,198366747743,156652968615],\"yaxis\":\"y\",\"type\":\"scatter\"},{\"hovertemplate\":\"TargetOrgs=DROPBOX<br>Week=%{x}<br>TotalBytes=%{y}<extra></extra>\",\"legendgroup\":\"DROPBOX\",\"line\":{\"color\":\"#ab63fa\",\"dash\":\"longdashdot\",\"width\":8},\"marker\":{\"symbol\":\"circle\",\"size\":18},\"mode\":\"lines+markers\",\"name\":\"DROPBOX\",\"orientation\":\"v\",\"showlegend\":true,\"x\":[\"Feb 2020\",\"Apr 2020\",\"Sept 2020\",\"Sept 2021\"],\"xaxis\":\"x\",\"y\":[64983772827,75882612044,482592152728,44564208296],\"yaxis\":\"y\",\"type\":\"scatter\"},{\"hovertemplate\":\"TargetOrgs=ANT-CLOUD<br>Week=%{x}<br>TotalBytes=%{y}<extra></extra>\",\"legendgroup\":\"ANT-CLOUD\",\"line\":{\"color\":\"#FFA15A\",\"dash\":\"solid\",\"width\":8},\"marker\":{\"symbol\":\"diamond\",\"size\":18},\"mode\":\"lines+markers\",\"name\":\"ANT-CLOUD\",\"orientation\":\"v\",\"showlegend\":true,\"x\":[\"Feb 2020\"],\"xaxis\":\"x\",\"y\":[34479433029],\"yaxis\":\"y\",\"type\":\"scatter\"},{\"hovertemplate\":\"TargetOrgs=EDGECAST<br>Week=%{x}<br>TotalBytes=%{y}<extra></extra>\",\"legendgroup\":\"EDGECAST\",\"line\":{\"color\":\"#316395\",\"dash\":\"dot\",\"width\":8},\"marker\":{\"symbol\":\"square\",\"size\":18},\"mode\":\"lines+markers\",\"name\":\"EDGECAST\",\"orientation\":\"v\",\"showlegend\":true,\"x\":[\"Feb 2020\",\"Apr 2020\",\"Sept 2020\",\"Sept 2021\"],\"xaxis\":\"x\",\"y\":[22737966538,38987726330,46830688870,37987349171],\"yaxis\":\"y\",\"type\":\"scatter\"},{\"hovertemplate\":\"TargetOrgs=CANARIE<br>Week=%{x}<br>TotalBytes=%{y}<extra></extra>\",\"legendgroup\":\"CANARIE\",\"line\":{\"color\":\"#fb00d1\",\"dash\":\"dash\",\"width\":8},\"marker\":{\"symbol\":\"x\",\"size\":18},\"mode\":\"lines+markers\",\"name\":\"CANARIE\",\"orientation\":\"v\",\"showlegend\":true,\"x\":[\"Feb 2020\",\"Sept 2020\"],\"xaxis\":\"x\",\"y\":[16986253797,40342433742],\"yaxis\":\"y\",\"type\":\"scatter\"},{\"hovertemplate\":\"TargetOrgs=AMAZON<br>Week=%{x}<br>TotalBytes=%{y}<extra></extra>\",\"legendgroup\":\"AMAZON\",\"line\":{\"color\":\"#212E3C\",\"dash\":\"longdash\",\"width\":8},\"marker\":{\"symbol\":\"cross\",\"size\":18},\"mode\":\"lines+markers\",\"name\":\"AMAZON\",\"orientation\":\"v\",\"showlegend\":true,\"x\":[\"Feb 2020\",\"Apr 2020\",\"Sept 2020\",\"Sept 2021\"],\"xaxis\":\"x\",\"y\":[16632534832,24194840542,721058648483,101974815662],\"yaxis\":\"y\",\"type\":\"scatter\"},{\"hovertemplate\":\"TargetOrgs=LEVEL3<br>Week=%{x}<br>TotalBytes=%{y}<extra></extra>\",\"legendgroup\":\"LEVEL3\",\"line\":{\"color\":\"#17becf\",\"dash\":\"dashdot\",\"width\":8},\"marker\":{\"symbol\":\"circle\",\"size\":18},\"mode\":\"lines+markers\",\"name\":\"LEVEL3\",\"orientation\":\"v\",\"showlegend\":true,\"x\":[\"Apr 2020\",\"Sept 2021\"],\"xaxis\":\"x\",\"y\":[22754759886,45461979583],\"yaxis\":\"y\",\"type\":\"scatter\"},{\"hovertemplate\":\"TargetOrgs=HIGHWINDS<br>Week=%{x}<br>TotalBytes=%{y}<extra></extra>\",\"legendgroup\":\"HIGHWINDS\",\"line\":{\"color\":\"#19d3f3\",\"dash\":\"longdashdot\",\"width\":8},\"marker\":{\"symbol\":\"diamond\",\"size\":18},\"mode\":\"lines+markers\",\"name\":\"HIGHWINDS\",\"orientation\":\"v\",\"showlegend\":true,\"x\":[\"Apr 2020\",\"Sept 2020\",\"Sept 2021\"],\"xaxis\":\"x\",\"y\":[20017066352,48667159870,25790746649],\"yaxis\":\"y\",\"type\":\"scatter\"},{\"hovertemplate\":\"TargetOrgs=SHAW<br>Week=%{x}<br>TotalBytes=%{y}<extra></extra>\",\"legendgroup\":\"SHAW\",\"line\":{\"color\":\"#FF6692\",\"dash\":\"solid\",\"width\":8},\"marker\":{\"symbol\":\"square\",\"size\":18},\"mode\":\"lines+markers\",\"name\":\"SHAW\",\"orientation\":\"v\",\"showlegend\":true,\"x\":[\"Apr 2020\",\"Sept 2021\"],\"xaxis\":\"x\",\"y\":[16502695733,11363129647],\"yaxis\":\"y\",\"type\":\"scatter\"},{\"hovertemplate\":\"TargetOrgs=ORACLE-BMC-31898<br>Week=%{x}<br>TotalBytes=%{y}<extra></extra>\",\"legendgroup\":\"ORACLE-BMC-31898\",\"line\":{\"color\":\"#B6E880\",\"dash\":\"dot\",\"width\":8},\"marker\":{\"symbol\":\"x\",\"size\":18},\"mode\":\"lines+markers\",\"name\":\"ORACLE-BMC-31898\",\"orientation\":\"v\",\"showlegend\":true,\"x\":[\"Sept 2020\"],\"xaxis\":\"x\",\"y\":[37051181028],\"yaxis\":\"y\",\"type\":\"scatter\"}],                        {\"template\":{\"data\":{\"histogram2dcontour\":[{\"type\":\"histogram2dcontour\",\"colorbar\":{\"outlinewidth\":0,\"ticks\":\"\"},\"colorscale\":[[0.0,\"#0d0887\"],[0.1111111111111111,\"#46039f\"],[0.2222222222222222,\"#7201a8\"],[0.3333333333333333,\"#9c179e\"],[0.4444444444444444,\"#bd3786\"],[0.5555555555555556,\"#d8576b\"],[0.6666666666666666,\"#ed7953\"],[0.7777777777777778,\"#fb9f3a\"],[0.8888888888888888,\"#fdca26\"],[1.0,\"#f0f921\"]]}],\"choropleth\":[{\"type\":\"choropleth\",\"colorbar\":{\"outlinewidth\":0,\"ticks\":\"\"}}],\"histogram2d\":[{\"type\":\"histogram2d\",\"colorbar\":{\"outlinewidth\":0,\"ticks\":\"\"},\"colorscale\":[[0.0,\"#0d0887\"],[0.1111111111111111,\"#46039f\"],[0.2222222222222222,\"#7201a8\"],[0.3333333333333333,\"#9c179e\"],[0.4444444444444444,\"#bd3786\"],[0.5555555555555556,\"#d8576b\"],[0.6666666666666666,\"#ed7953\"],[0.7777777777777778,\"#fb9f3a\"],[0.8888888888888888,\"#fdca26\"],[1.0,\"#f0f921\"]]}],\"heatmap\":[{\"type\":\"heatmap\",\"colorbar\":{\"outlinewidth\":0,\"ticks\":\"\"},\"colorscale\":[[0.0,\"#0d0887\"],[0.1111111111111111,\"#46039f\"],[0.2222222222222222,\"#7201a8\"],[0.3333333333333333,\"#9c179e\"],[0.4444444444444444,\"#bd3786\"],[0.5555555555555556,\"#d8576b\"],[0.6666666666666666,\"#ed7953\"],[0.7777777777777778,\"#fb9f3a\"],[0.8888888888888888,\"#fdca26\"],[1.0,\"#f0f921\"]]}],\"heatmapgl\":[{\"type\":\"heatmapgl\",\"colorbar\":{\"outlinewidth\":0,\"ticks\":\"\"},\"colorscale\":[[0.0,\"#0d0887\"],[0.1111111111111111,\"#46039f\"],[0.2222222222222222,\"#7201a8\"],[0.3333333333333333,\"#9c179e\"],[0.4444444444444444,\"#bd3786\"],[0.5555555555555556,\"#d8576b\"],[0.6666666666666666,\"#ed7953\"],[0.7777777777777778,\"#fb9f3a\"],[0.8888888888888888,\"#fdca26\"],[1.0,\"#f0f921\"]]}],\"contourcarpet\":[{\"type\":\"contourcarpet\",\"colorbar\":{\"outlinewidth\":0,\"ticks\":\"\"}}],\"contour\":[{\"type\":\"contour\",\"colorbar\":{\"outlinewidth\":0,\"ticks\":\"\"},\"colorscale\":[[0.0,\"#0d0887\"],[0.1111111111111111,\"#46039f\"],[0.2222222222222222,\"#7201a8\"],[0.3333333333333333,\"#9c179e\"],[0.4444444444444444,\"#bd3786\"],[0.5555555555555556,\"#d8576b\"],[0.6666666666666666,\"#ed7953\"],[0.7777777777777778,\"#fb9f3a\"],[0.8888888888888888,\"#fdca26\"],[1.0,\"#f0f921\"]]}],\"surface\":[{\"type\":\"surface\",\"colorbar\":{\"outlinewidth\":0,\"ticks\":\"\"},\"colorscale\":[[0.0,\"#0d0887\"],[0.1111111111111111,\"#46039f\"],[0.2222222222222222,\"#7201a8\"],[0.3333333333333333,\"#9c179e\"],[0.4444444444444444,\"#bd3786\"],[0.5555555555555556,\"#d8576b\"],[0.6666666666666666,\"#ed7953\"],[0.7777777777777778,\"#fb9f3a\"],[0.8888888888888888,\"#fdca26\"],[1.0,\"#f0f921\"]]}],\"mesh3d\":[{\"type\":\"mesh3d\",\"colorbar\":{\"outlinewidth\":0,\"ticks\":\"\"}}],\"scatter\":[{\"fillpattern\":{\"fillmode\":\"overlay\",\"size\":10,\"solidity\":0.2},\"type\":\"scatter\"}],\"parcoords\":[{\"type\":\"parcoords\",\"line\":{\"colorbar\":{\"outlinewidth\":0,\"ticks\":\"\"}}}],\"scatterpolargl\":[{\"type\":\"scatterpolargl\",\"marker\":{\"colorbar\":{\"outlinewidth\":0,\"ticks\":\"\"}}}],\"bar\":[{\"error_x\":{\"color\":\"#2a3f5f\"},\"error_y\":{\"color\":\"#2a3f5f\"},\"marker\":{\"line\":{\"color\":\"#E5ECF6\",\"width\":0.5},\"pattern\":{\"fillmode\":\"overlay\",\"size\":10,\"solidity\":0.2}},\"type\":\"bar\"}],\"scattergeo\":[{\"type\":\"scattergeo\",\"marker\":{\"colorbar\":{\"outlinewidth\":0,\"ticks\":\"\"}}}],\"scatterpolar\":[{\"type\":\"scatterpolar\",\"marker\":{\"colorbar\":{\"outlinewidth\":0,\"ticks\":\"\"}}}],\"histogram\":[{\"marker\":{\"pattern\":{\"fillmode\":\"overlay\",\"size\":10,\"solidity\":0.2}},\"type\":\"histogram\"}],\"scattergl\":[{\"type\":\"scattergl\",\"marker\":{\"colorbar\":{\"outlinewidth\":0,\"ticks\":\"\"}}}],\"scatter3d\":[{\"type\":\"scatter3d\",\"line\":{\"colorbar\":{\"outlinewidth\":0,\"ticks\":\"\"}},\"marker\":{\"colorbar\":{\"outlinewidth\":0,\"ticks\":\"\"}}}],\"scattermapbox\":[{\"type\":\"scattermapbox\",\"marker\":{\"colorbar\":{\"outlinewidth\":0,\"ticks\":\"\"}}}],\"scatterternary\":[{\"type\":\"scatterternary\",\"marker\":{\"colorbar\":{\"outlinewidth\":0,\"ticks\":\"\"}}}],\"scattercarpet\":[{\"type\":\"scattercarpet\",\"marker\":{\"colorbar\":{\"outlinewidth\":0,\"ticks\":\"\"}}}],\"carpet\":[{\"aaxis\":{\"endlinecolor\":\"#2a3f5f\",\"gridcolor\":\"white\",\"linecolor\":\"white\",\"minorgridcolor\":\"white\",\"startlinecolor\":\"#2a3f5f\"},\"baxis\":{\"endlinecolor\":\"#2a3f5f\",\"gridcolor\":\"white\",\"linecolor\":\"white\",\"minorgridcolor\":\"white\",\"startlinecolor\":\"#2a3f5f\"},\"type\":\"carpet\"}],\"table\":[{\"cells\":{\"fill\":{\"color\":\"#EBF0F8\"},\"line\":{\"color\":\"white\"}},\"header\":{\"fill\":{\"color\":\"#C8D4E3\"},\"line\":{\"color\":\"white\"}},\"type\":\"table\"}],\"barpolar\":[{\"marker\":{\"line\":{\"color\":\"#E5ECF6\",\"width\":0.5},\"pattern\":{\"fillmode\":\"overlay\",\"size\":10,\"solidity\":0.2}},\"type\":\"barpolar\"}],\"pie\":[{\"automargin\":true,\"type\":\"pie\"}]},\"layout\":{\"autotypenumbers\":\"strict\",\"colorway\":[\"#636efa\",\"#EF553B\",\"#00cc96\",\"#ab63fa\",\"#FFA15A\",\"#19d3f3\",\"#FF6692\",\"#B6E880\",\"#FF97FF\",\"#FECB52\"],\"font\":{\"color\":\"#2a3f5f\"},\"hovermode\":\"closest\",\"hoverlabel\":{\"align\":\"left\"},\"paper_bgcolor\":\"white\",\"plot_bgcolor\":\"#E5ECF6\",\"polar\":{\"bgcolor\":\"#E5ECF6\",\"angularaxis\":{\"gridcolor\":\"white\",\"linecolor\":\"white\",\"ticks\":\"\"},\"radialaxis\":{\"gridcolor\":\"white\",\"linecolor\":\"white\",\"ticks\":\"\"}},\"ternary\":{\"bgcolor\":\"#E5ECF6\",\"aaxis\":{\"gridcolor\":\"white\",\"linecolor\":\"white\",\"ticks\":\"\"},\"baxis\":{\"gridcolor\":\"white\",\"linecolor\":\"white\",\"ticks\":\"\"},\"caxis\":{\"gridcolor\":\"white\",\"linecolor\":\"white\",\"ticks\":\"\"}},\"coloraxis\":{\"colorbar\":{\"outlinewidth\":0,\"ticks\":\"\"}},\"colorscale\":{\"sequential\":[[0.0,\"#0d0887\"],[0.1111111111111111,\"#46039f\"],[0.2222222222222222,\"#7201a8\"],[0.3333333333333333,\"#9c179e\"],[0.4444444444444444,\"#bd3786\"],[0.5555555555555556,\"#d8576b\"],[0.6666666666666666,\"#ed7953\"],[0.7777777777777778,\"#fb9f3a\"],[0.8888888888888888,\"#fdca26\"],[1.0,\"#f0f921\"]],\"sequentialminus\":[[0.0,\"#0d0887\"],[0.1111111111111111,\"#46039f\"],[0.2222222222222222,\"#7201a8\"],[0.3333333333333333,\"#9c179e\"],[0.4444444444444444,\"#bd3786\"],[0.5555555555555556,\"#d8576b\"],[0.6666666666666666,\"#ed7953\"],[0.7777777777777778,\"#fb9f3a\"],[0.8888888888888888,\"#fdca26\"],[1.0,\"#f0f921\"]],\"diverging\":[[0,\"#8e0152\"],[0.1,\"#c51b7d\"],[0.2,\"#de77ae\"],[0.3,\"#f1b6da\"],[0.4,\"#fde0ef\"],[0.5,\"#f7f7f7\"],[0.6,\"#e6f5d0\"],[0.7,\"#b8e186\"],[0.8,\"#7fbc41\"],[0.9,\"#4d9221\"],[1,\"#276419\"]]},\"xaxis\":{\"gridcolor\":\"white\",\"linecolor\":\"white\",\"ticks\":\"\",\"title\":{\"standoff\":15},\"zerolinecolor\":\"white\",\"automargin\":true,\"zerolinewidth\":2},\"yaxis\":{\"gridcolor\":\"white\",\"linecolor\":\"white\",\"ticks\":\"\",\"title\":{\"standoff\":15},\"zerolinecolor\":\"white\",\"automargin\":true,\"zerolinewidth\":2},\"scene\":{\"xaxis\":{\"backgroundcolor\":\"#E5ECF6\",\"gridcolor\":\"white\",\"linecolor\":\"white\",\"showbackground\":true,\"ticks\":\"\",\"zerolinecolor\":\"white\",\"gridwidth\":2},\"yaxis\":{\"backgroundcolor\":\"#E5ECF6\",\"gridcolor\":\"white\",\"linecolor\":\"white\",\"showbackground\":true,\"ticks\":\"\",\"zerolinecolor\":\"white\",\"gridwidth\":2},\"zaxis\":{\"backgroundcolor\":\"#E5ECF6\",\"gridcolor\":\"white\",\"linecolor\":\"white\",\"showbackground\":true,\"ticks\":\"\",\"zerolinecolor\":\"white\",\"gridwidth\":2}},\"shapedefaults\":{\"line\":{\"color\":\"#2a3f5f\"}},\"annotationdefaults\":{\"arrowcolor\":\"#2a3f5f\",\"arrowhead\":0,\"arrowwidth\":1},\"geo\":{\"bgcolor\":\"white\",\"landcolor\":\"#E5ECF6\",\"subunitcolor\":\"white\",\"showland\":true,\"showlakes\":true,\"lakecolor\":\"white\"},\"title\":{\"x\":0.05},\"mapbox\":{\"style\":\"light\"}}},\"xaxis\":{\"anchor\":\"y\",\"domain\":[0.0,1.0],\"title\":{\"text\":\"Week\"},\"showgrid\":true,\"gridwidth\":1,\"gridcolor\":\"LightGray\"},\"yaxis\":{\"anchor\":\"x\",\"domain\":[0.0,1.0],\"title\":{\"text\":\"TotalBytes\"},\"type\":\"log\",\"showgrid\":true,\"gridwidth\":1,\"gridcolor\":\"LightGray\",\"tickvals\":[10737418240,21474836480,42949672960,64424509440,85899345920,107374182400,214748364800,429496729600,644245094400,858993459200],\"ticktext\":[\"10 GB\",\"20 GB\",\"40 GB\",\"60 GB\",\"80 GB\",\"100 GB\",\"200 GB\",\"400 GB\",\"600 GB\",\"800 GB\"]},\"legend\":{\"title\":{\"text\":\"TargetOrgs\"},\"tracegroupgap\":0,\"itemwidth\":80},\"margin\":{\"t\":60},\"height\":900,\"width\":1300,\"font\":{\"size\":30},\"plot_bgcolor\":\"white\"},                        {\"responsive\": true}                    ).then(function(){\n",
       "                            \n",
       "var gd = document.getElementById('135dee6a-3f9c-4fb9-a944-90e7d1e34fbf');\n",
       "var x = new MutationObserver(function (mutations, observer) {{\n",
       "        var display = window.getComputedStyle(gd).display;\n",
       "        if (!display || display === 'none') {{\n",
       "            console.log([gd, 'removed!']);\n",
       "            Plotly.purge(gd);\n",
       "            observer.disconnect();\n",
       "        }}\n",
       "}});\n",
       "\n",
       "// Listen for the removal of the full notebook cells\n",
       "var notebookContainer = gd.closest('#notebook-container');\n",
       "if (notebookContainer) {{\n",
       "    x.observe(notebookContainer, {childList: true});\n",
       "}}\n",
       "\n",
       "// Listen for the clearing of the current output cell\n",
       "var outputEl = gd.closest('.output');\n",
       "if (outputEl) {{\n",
       "    x.observe(outputEl, {childList: true});\n",
       "}}\n",
       "\n",
       "                        })                };                });            </script>        </div>"
      ]
     },
     "metadata": {},
     "output_type": "display_data"
    }
   ],
   "source": [
    "import plotly.express as px\n",
    "import pandas as pd\n",
    "\n",
    "df_orgs_out = pd.read_csv('/Volumes/GoogleDrive/My Drive/Thesis/Plotly/category_Medical_out_targets.csv')\n",
    "\n",
    "fig_orgs_out_bytes = px.line(df_orgs_out, x='Week', y='TotalBytes', log_y=True, color='TargetOrgs',\n",
    "                             color_discrete_map={'APPLE': '#7f7f7f', 'NETFLIX': '#dc3912', 'AKAMAI': '#ff9900',\n",
    "                                                 'CANARIE': '#fb00d1', 'FACEBOOK': '#3366cc', 'GOOGLE': '#109618',\n",
    "                                                 'AMAZON': '#212E3C', 'FASTLY': '#8c564b', 'LEVEL3': '#17becf',\n",
    "                                                 'MICROSOFT': '#990099', 'EDGECAST': '#316395',\n",
    "                                                 'VALVE-CORPORATION': '#bcbd22'},\n",
    "                             markers=True, line_dash='TargetOrgs', symbol='TargetOrgs', height=900, width=1300)\n",
    "fig_orgs_out_bytes.update_layout(plot_bgcolor='white', font_size=30, legend_itemwidth=80)\n",
    "fig_orgs_out_bytes.update_xaxes(showgrid=True, gridwidth=1, gridcolor='LightGray')\n",
    "fig_orgs_out_bytes.update_yaxes(showgrid=True, gridwidth=1, gridcolor='LightGray',\n",
    "                                tickvals=[10737418240, 21474836480, 42949672960, 64424509440, 85899345920, \n",
    "                                        107374182400, 214748364800, 429496729600, 644245094400, 858993459200],\n",
    "                                ticktext=[\"10 GB\", \"20 GB\", \"40 GB\", \"60 GB\", \"80 GB\", \n",
    "                                         \"100 GB\", \"200 GB\", \"400 GB\", \"600 GB\", \"800 GB\"])\n",
    "fig_orgs_out_bytes.update_traces(line_width=8, marker_size=18)\n",
    "\n",
    "fig_orgs_out_bytes.show()"
   ]
  },
  {
   "cell_type": "code",
   "execution_count": 16,
   "id": "10501798",
   "metadata": {},
   "outputs": [
    {
     "data": {
      "application/vnd.plotly.v1+json": {
       "config": {
        "plotlyServerURL": "https://plot.ly"
       },
       "data": [
        {
         "hovertemplate": "SourceOrgs=Chinanet<br>Week=%{x}<br>Connections=%{y}<extra></extra>",
         "legendgroup": "Chinanet",
         "line": {
          "color": "#d3b1c2",
          "dash": "solid",
          "width": 8
         },
         "marker": {
          "size": 18,
          "symbol": "circle"
         },
         "mode": "lines+markers",
         "name": "Chinanet",
         "orientation": "v",
         "showlegend": true,
         "type": "scatter",
         "x": [
          "Feb 2020"
         ],
         "xaxis": "x",
         "y": [
          198748
         ],
         "yaxis": "y"
        },
        {
         "hovertemplate": "SourceOrgs=OVHSAS<br>Week=%{x}<br>Connections=%{y}<extra></extra>",
         "legendgroup": "OVHSAS",
         "line": {
          "color": "#FF6692",
          "dash": "dot",
          "width": 8
         },
         "marker": {
          "size": 18,
          "symbol": "diamond"
         },
         "mode": "lines+markers",
         "name": "OVHSAS",
         "orientation": "v",
         "showlegend": true,
         "type": "scatter",
         "x": [
          "Feb 2020",
          "Apr 2020",
          "Sept 2020",
          "Sept 2021"
         ],
         "xaxis": "x",
         "y": [
          139315,
          79472,
          221147,
          204401
         ],
         "yaxis": "y"
        },
        {
         "hovertemplate": "SourceOrgs=K2TelecomeLtd<br>Week=%{x}<br>Connections=%{y}<extra></extra>",
         "legendgroup": "K2TelecomeLtd",
         "line": {
          "color": "#B6E880",
          "dash": "dash",
          "width": 8
         },
         "marker": {
          "size": 18,
          "symbol": "square"
         },
         "mode": "lines+markers",
         "name": "K2TelecomeLtd",
         "orientation": "v",
         "showlegend": true,
         "type": "scatter",
         "x": [
          "Feb 2020"
         ],
         "xaxis": "x",
         "y": [
          59502
         ],
         "yaxis": "y"
        },
        {
         "hovertemplate": "SourceOrgs=TWIDCLimited<br>Week=%{x}<br>Connections=%{y}<extra></extra>",
         "legendgroup": "TWIDCLimited",
         "line": {
          "color": "#FF97FF",
          "dash": "longdash",
          "width": 8
         },
         "marker": {
          "size": 18,
          "symbol": "x"
         },
         "mode": "lines+markers",
         "name": "TWIDCLimited",
         "orientation": "v",
         "showlegend": true,
         "type": "scatter",
         "x": [
          "Feb 2020"
         ],
         "xaxis": "x",
         "y": [
          73976
         ],
         "yaxis": "y"
        },
        {
         "hovertemplate": "SourceOrgs=GlobeTelecoms<br>Week=%{x}<br>Connections=%{y}<extra></extra>",
         "legendgroup": "GlobeTelecoms",
         "line": {
          "color": "#FECB52",
          "dash": "dashdot",
          "width": 8
         },
         "marker": {
          "size": 18,
          "symbol": "cross"
         },
         "mode": "lines+markers",
         "name": "GlobeTelecoms",
         "orientation": "v",
         "showlegend": true,
         "type": "scatter",
         "x": [
          "Feb 2020"
         ],
         "xaxis": "x",
         "y": [
          22204
         ],
         "yaxis": "y"
        },
        {
         "hovertemplate": "SourceOrgs=Africa-on-Cloud-AS<br>Week=%{x}<br>Connections=%{y}<extra></extra>",
         "legendgroup": "Africa-on-Cloud-AS",
         "line": {
          "color": "#636efa",
          "dash": "longdashdot",
          "width": 8
         },
         "marker": {
          "size": 18,
          "symbol": "circle"
         },
         "mode": "lines+markers",
         "name": "Africa-on-Cloud-AS",
         "orientation": "v",
         "showlegend": true,
         "type": "scatter",
         "x": [
          "Feb 2020"
         ],
         "xaxis": "x",
         "y": [
          15650
         ],
         "yaxis": "y"
        },
        {
         "hovertemplate": "SourceOrgs=APPLE<br>Week=%{x}<br>Connections=%{y}<extra></extra>",
         "legendgroup": "APPLE",
         "line": {
          "color": "#7f7f7f",
          "dash": "solid",
          "width": 8
         },
         "marker": {
          "size": 18,
          "symbol": "diamond"
         },
         "mode": "lines+markers",
         "name": "APPLE",
         "orientation": "v",
         "showlegend": true,
         "type": "scatter",
         "x": [
          "Feb 2020",
          "Apr 2020"
         ],
         "xaxis": "x",
         "y": [
          32972,
          19370
         ],
         "yaxis": "y"
        },
        {
         "hovertemplate": "SourceOrgs=SmartBroadband,Inc.<br>Week=%{x}<br>Connections=%{y}<extra></extra>",
         "legendgroup": "SmartBroadband,Inc.",
         "line": {
          "color": "#EF553B",
          "dash": "dot",
          "width": 8
         },
         "marker": {
          "size": 18,
          "symbol": "square"
         },
         "mode": "lines+markers",
         "name": "SmartBroadband,Inc.",
         "orientation": "v",
         "showlegend": true,
         "type": "scatter",
         "x": [
          "Feb 2020"
         ],
         "xaxis": "x",
         "y": [
          23305
         ],
         "yaxis": "y"
        },
        {
         "hovertemplate": "SourceOrgs=HURRICANE<br>Week=%{x}<br>Connections=%{y}<extra></extra>",
         "legendgroup": "HURRICANE",
         "line": {
          "color": "#00cc96",
          "dash": "dash",
          "width": 8
         },
         "marker": {
          "size": 18,
          "symbol": "x"
         },
         "mode": "lines+markers",
         "name": "HURRICANE",
         "orientation": "v",
         "showlegend": true,
         "type": "scatter",
         "x": [
          "Feb 2020",
          "Apr 2020",
          "Sept 2020",
          "Sept 2021"
         ],
         "xaxis": "x",
         "y": [
          37717,
          51118,
          60095,
          101007
         ],
         "yaxis": "y"
        },
        {
         "hovertemplate": "SourceOrgs=WorkBandaLarga<br>Week=%{x}<br>Connections=%{y}<extra></extra>",
         "legendgroup": "WorkBandaLarga",
         "line": {
          "color": "#ab63fa",
          "dash": "longdash",
          "width": 8
         },
         "marker": {
          "size": 18,
          "symbol": "cross"
         },
         "mode": "lines+markers",
         "name": "WorkBandaLarga",
         "orientation": "v",
         "showlegend": true,
         "type": "scatter",
         "x": [
          "Feb 2020"
         ],
         "xaxis": "x",
         "y": [
          13938
         ],
         "yaxis": "y"
        },
        {
         "hovertemplate": "SourceOrgs=SHAW<br>Week=%{x}<br>Connections=%{y}<extra></extra>",
         "legendgroup": "SHAW",
         "line": {
          "color": "#613659",
          "dash": "dashdot",
          "width": 8
         },
         "marker": {
          "size": 18,
          "symbol": "circle"
         },
         "mode": "lines+markers",
         "name": "SHAW",
         "orientation": "v",
         "showlegend": true,
         "type": "scatter",
         "x": [
          "Apr 2020",
          "Sept 2020",
          "Sept 2021"
         ],
         "xaxis": "x",
         "y": [
          860,
          366,
          620
         ],
         "yaxis": "y"
        },
        {
         "hovertemplate": "SourceOrgs=DataWebGlobal.<br>Week=%{x}<br>Connections=%{y}<extra></extra>",
         "legendgroup": "DataWebGlobal.",
         "line": {
          "color": "#FFA15A",
          "dash": "longdashdot",
          "width": 8
         },
         "marker": {
          "size": 18,
          "symbol": "diamond"
         },
         "mode": "lines+markers",
         "name": "DataWebGlobal.",
         "orientation": "v",
         "showlegend": true,
         "type": "scatter",
         "x": [
          "Apr 2020"
         ],
         "xaxis": "x",
         "y": [
          66227
         ],
         "yaxis": "y"
        },
        {
         "hovertemplate": "SourceOrgs=COMCAST-7922<br>Week=%{x}<br>Connections=%{y}<extra></extra>",
         "legendgroup": "COMCAST-7922",
         "line": {
          "color": "#19d3f3",
          "dash": "solid",
          "width": 8
         },
         "marker": {
          "size": 18,
          "symbol": "square"
         },
         "mode": "lines+markers",
         "name": "COMCAST-7922",
         "orientation": "v",
         "showlegend": true,
         "type": "scatter",
         "x": [
          "Apr 2020",
          "Sept 2020"
         ],
         "xaxis": "x",
         "y": [
          6966,
          10147
         ],
         "yaxis": "y"
        },
        {
         "hovertemplate": "SourceOrgs=TELUS<br>Week=%{x}<br>Connections=%{y}<extra></extra>",
         "legendgroup": "TELUS",
         "line": {
          "color": "#db1f48",
          "dash": "dot",
          "width": 8
         },
         "marker": {
          "size": 18,
          "symbol": "x"
         },
         "mode": "lines+markers",
         "name": "TELUS",
         "orientation": "v",
         "showlegend": true,
         "type": "scatter",
         "x": [
          "Apr 2020",
          "Sept 2020"
         ],
         "xaxis": "x",
         "y": [
          335,
          416
         ],
         "yaxis": "y"
        },
        {
         "hovertemplate": "SourceOrgs=AMAZON<br>Week=%{x}<br>Connections=%{y}<extra></extra>",
         "legendgroup": "AMAZON",
         "line": {
          "color": "#212E3C",
          "dash": "dash",
          "width": 8
         },
         "marker": {
          "size": 18,
          "symbol": "cross"
         },
         "mode": "lines+markers",
         "name": "AMAZON",
         "orientation": "v",
         "showlegend": true,
         "type": "scatter",
         "x": [
          "Apr 2020",
          "Sept 2020",
          "Sept 2021"
         ],
         "xaxis": "x",
         "y": [
          3960,
          5016,
          15589
         ],
         "yaxis": "y"
        },
        {
         "hovertemplate": "SourceOrgs=HetznerOnlineGmbH<br>Week=%{x}<br>Connections=%{y}<extra></extra>",
         "legendgroup": "HetznerOnlineGmbH",
         "line": {
          "color": "#FF6692",
          "dash": "longdash",
          "width": 8
         },
         "marker": {
          "size": 18,
          "symbol": "circle"
         },
         "mode": "lines+markers",
         "name": "HetznerOnlineGmbH",
         "orientation": "v",
         "showlegend": true,
         "type": "scatter",
         "x": [
          "Apr 2020"
         ],
         "xaxis": "x",
         "y": [
          3528
         ],
         "yaxis": "y"
        },
        {
         "hovertemplate": "SourceOrgs=WOW<br>Week=%{x}<br>Connections=%{y}<extra></extra>",
         "legendgroup": "WOW",
         "line": {
          "color": "#B6E880",
          "dash": "dashdot",
          "width": 8
         },
         "marker": {
          "size": 18,
          "symbol": "diamond"
         },
         "mode": "lines+markers",
         "name": "WOW",
         "orientation": "v",
         "showlegend": true,
         "type": "scatter",
         "x": [
          "Apr 2020"
         ],
         "xaxis": "x",
         "y": [
          20481
         ],
         "yaxis": "y"
        },
        {
         "hovertemplate": "SourceOrgs=SEMrushCYLTD<br>Week=%{x}<br>Connections=%{y}<extra></extra>",
         "legendgroup": "SEMrushCYLTD",
         "line": {
          "color": "#FF97FF",
          "dash": "longdashdot",
          "width": 8
         },
         "marker": {
          "size": 18,
          "symbol": "square"
         },
         "mode": "lines+markers",
         "name": "SEMrushCYLTD",
         "orientation": "v",
         "showlegend": true,
         "type": "scatter",
         "x": [
          "Sept 2020",
          "Sept 2021"
         ],
         "xaxis": "x",
         "y": [
          192408,
          200113
         ],
         "yaxis": "y"
        },
        {
         "hovertemplate": "SourceOrgs=HUAWEICLOUDS<br>Week=%{x}<br>Connections=%{y}<extra></extra>",
         "legendgroup": "HUAWEICLOUDS",
         "line": {
          "color": "#FECB52",
          "dash": "solid",
          "width": 8
         },
         "marker": {
          "size": 18,
          "symbol": "x"
         },
         "mode": "lines+markers",
         "name": "HUAWEICLOUDS",
         "orientation": "v",
         "showlegend": true,
         "type": "scatter",
         "x": [
          "Sept 2020"
         ],
         "xaxis": "x",
         "y": [
          41307
         ],
         "yaxis": "y"
        },
        {
         "hovertemplate": "SourceOrgs=ChinaMobileCo.<br>Week=%{x}<br>Connections=%{y}<extra></extra>",
         "legendgroup": "ChinaMobileCo.",
         "line": {
          "color": "#636efa",
          "dash": "dot",
          "width": 8
         },
         "marker": {
          "size": 18,
          "symbol": "cross"
         },
         "mode": "lines+markers",
         "name": "ChinaMobileCo.",
         "orientation": "v",
         "showlegend": true,
         "type": "scatter",
         "x": [
          "Sept 2020"
         ],
         "xaxis": "x",
         "y": [
          276
         ],
         "yaxis": "y"
        },
        {
         "hovertemplate": "SourceOrgs=VFDFV.Deutschen<br>Week=%{x}<br>Connections=%{y}<extra></extra>",
         "legendgroup": "VFDFV.Deutschen",
         "line": {
          "color": "#EF553B",
          "dash": "dash",
          "width": 8
         },
         "marker": {
          "size": 18,
          "symbol": "circle"
         },
         "mode": "lines+markers",
         "name": "VFDFV.Deutschen",
         "orientation": "v",
         "showlegend": true,
         "type": "scatter",
         "x": [
          "Sept 2020"
         ],
         "xaxis": "x",
         "y": [
          1012
         ],
         "yaxis": "y"
        },
        {
         "hovertemplate": "SourceOrgs=STEADFAST<br>Week=%{x}<br>Connections=%{y}<extra></extra>",
         "legendgroup": "STEADFAST",
         "line": {
          "color": "#00cc96",
          "dash": "longdash",
          "width": 8
         },
         "marker": {
          "size": 18,
          "symbol": "diamond"
         },
         "mode": "lines+markers",
         "name": "STEADFAST",
         "orientation": "v",
         "showlegend": true,
         "type": "scatter",
         "x": [
          "Sept 2021"
         ],
         "xaxis": "x",
         "y": [
          4531
         ],
         "yaxis": "y"
        },
        {
         "hovertemplate": "SourceOrgs=SOFTLAYER<br>Week=%{x}<br>Connections=%{y}<extra></extra>",
         "legendgroup": "SOFTLAYER",
         "line": {
          "color": "#ab63fa",
          "dash": "dashdot",
          "width": 8
         },
         "marker": {
          "size": 18,
          "symbol": "square"
         },
         "mode": "lines+markers",
         "name": "SOFTLAYER",
         "orientation": "v",
         "showlegend": true,
         "type": "scatter",
         "x": [
          "Sept 2021"
         ],
         "xaxis": "x",
         "y": [
          4668
         ],
         "yaxis": "y"
        },
        {
         "hovertemplate": "SourceOrgs=QUADRANET-GLOBAL<br>Week=%{x}<br>Connections=%{y}<extra></extra>",
         "legendgroup": "QUADRANET-GLOBAL",
         "line": {
          "color": "#FFA15A",
          "dash": "longdashdot",
          "width": 8
         },
         "marker": {
          "size": 18,
          "symbol": "x"
         },
         "mode": "lines+markers",
         "name": "QUADRANET-GLOBAL",
         "orientation": "v",
         "showlegend": true,
         "type": "scatter",
         "x": [
          "Sept 2021"
         ],
         "xaxis": "x",
         "y": [
          2954
         ],
         "yaxis": "y"
        },
        {
         "hovertemplate": "SourceOrgs=IWEB-AS<br>Week=%{x}<br>Connections=%{y}<extra></extra>",
         "legendgroup": "IWEB-AS",
         "line": {
          "color": "#19d3f3",
          "dash": "solid",
          "width": 8
         },
         "marker": {
          "size": 18,
          "symbol": "cross"
         },
         "mode": "lines+markers",
         "name": "IWEB-AS",
         "orientation": "v",
         "showlegend": true,
         "type": "scatter",
         "x": [
          "Sept 2021"
         ],
         "xaxis": "x",
         "y": [
          2379
         ],
         "yaxis": "y"
        },
        {
         "hovertemplate": "SourceOrgs=HVC-AS<br>Week=%{x}<br>Connections=%{y}<extra></extra>",
         "legendgroup": "HVC-AS",
         "line": {
          "color": "#FF6692",
          "dash": "dot",
          "width": 8
         },
         "marker": {
          "size": 18,
          "symbol": "circle"
         },
         "mode": "lines+markers",
         "name": "HVC-AS",
         "orientation": "v",
         "showlegend": true,
         "type": "scatter",
         "x": [
          "Sept 2021"
         ],
         "xaxis": "x",
         "y": [
          1672
         ],
         "yaxis": "y"
        }
       ],
       "layout": {
        "font": {
         "size": 30
        },
        "height": 900,
        "legend": {
         "title": {
          "text": "SourceOrgs"
         },
         "tracegroupgap": 0
        },
        "margin": {
         "t": 60
        },
        "plot_bgcolor": "white",
        "showlegend": false,
        "template": {
         "data": {
          "bar": [
           {
            "error_x": {
             "color": "#2a3f5f"
            },
            "error_y": {
             "color": "#2a3f5f"
            },
            "marker": {
             "line": {
              "color": "#E5ECF6",
              "width": 0.5
             },
             "pattern": {
              "fillmode": "overlay",
              "size": 10,
              "solidity": 0.2
             }
            },
            "type": "bar"
           }
          ],
          "barpolar": [
           {
            "marker": {
             "line": {
              "color": "#E5ECF6",
              "width": 0.5
             },
             "pattern": {
              "fillmode": "overlay",
              "size": 10,
              "solidity": 0.2
             }
            },
            "type": "barpolar"
           }
          ],
          "carpet": [
           {
            "aaxis": {
             "endlinecolor": "#2a3f5f",
             "gridcolor": "white",
             "linecolor": "white",
             "minorgridcolor": "white",
             "startlinecolor": "#2a3f5f"
            },
            "baxis": {
             "endlinecolor": "#2a3f5f",
             "gridcolor": "white",
             "linecolor": "white",
             "minorgridcolor": "white",
             "startlinecolor": "#2a3f5f"
            },
            "type": "carpet"
           }
          ],
          "choropleth": [
           {
            "colorbar": {
             "outlinewidth": 0,
             "ticks": ""
            },
            "type": "choropleth"
           }
          ],
          "contour": [
           {
            "colorbar": {
             "outlinewidth": 0,
             "ticks": ""
            },
            "colorscale": [
             [
              0,
              "#0d0887"
             ],
             [
              0.1111111111111111,
              "#46039f"
             ],
             [
              0.2222222222222222,
              "#7201a8"
             ],
             [
              0.3333333333333333,
              "#9c179e"
             ],
             [
              0.4444444444444444,
              "#bd3786"
             ],
             [
              0.5555555555555556,
              "#d8576b"
             ],
             [
              0.6666666666666666,
              "#ed7953"
             ],
             [
              0.7777777777777778,
              "#fb9f3a"
             ],
             [
              0.8888888888888888,
              "#fdca26"
             ],
             [
              1,
              "#f0f921"
             ]
            ],
            "type": "contour"
           }
          ],
          "contourcarpet": [
           {
            "colorbar": {
             "outlinewidth": 0,
             "ticks": ""
            },
            "type": "contourcarpet"
           }
          ],
          "heatmap": [
           {
            "colorbar": {
             "outlinewidth": 0,
             "ticks": ""
            },
            "colorscale": [
             [
              0,
              "#0d0887"
             ],
             [
              0.1111111111111111,
              "#46039f"
             ],
             [
              0.2222222222222222,
              "#7201a8"
             ],
             [
              0.3333333333333333,
              "#9c179e"
             ],
             [
              0.4444444444444444,
              "#bd3786"
             ],
             [
              0.5555555555555556,
              "#d8576b"
             ],
             [
              0.6666666666666666,
              "#ed7953"
             ],
             [
              0.7777777777777778,
              "#fb9f3a"
             ],
             [
              0.8888888888888888,
              "#fdca26"
             ],
             [
              1,
              "#f0f921"
             ]
            ],
            "type": "heatmap"
           }
          ],
          "heatmapgl": [
           {
            "colorbar": {
             "outlinewidth": 0,
             "ticks": ""
            },
            "colorscale": [
             [
              0,
              "#0d0887"
             ],
             [
              0.1111111111111111,
              "#46039f"
             ],
             [
              0.2222222222222222,
              "#7201a8"
             ],
             [
              0.3333333333333333,
              "#9c179e"
             ],
             [
              0.4444444444444444,
              "#bd3786"
             ],
             [
              0.5555555555555556,
              "#d8576b"
             ],
             [
              0.6666666666666666,
              "#ed7953"
             ],
             [
              0.7777777777777778,
              "#fb9f3a"
             ],
             [
              0.8888888888888888,
              "#fdca26"
             ],
             [
              1,
              "#f0f921"
             ]
            ],
            "type": "heatmapgl"
           }
          ],
          "histogram": [
           {
            "marker": {
             "pattern": {
              "fillmode": "overlay",
              "size": 10,
              "solidity": 0.2
             }
            },
            "type": "histogram"
           }
          ],
          "histogram2d": [
           {
            "colorbar": {
             "outlinewidth": 0,
             "ticks": ""
            },
            "colorscale": [
             [
              0,
              "#0d0887"
             ],
             [
              0.1111111111111111,
              "#46039f"
             ],
             [
              0.2222222222222222,
              "#7201a8"
             ],
             [
              0.3333333333333333,
              "#9c179e"
             ],
             [
              0.4444444444444444,
              "#bd3786"
             ],
             [
              0.5555555555555556,
              "#d8576b"
             ],
             [
              0.6666666666666666,
              "#ed7953"
             ],
             [
              0.7777777777777778,
              "#fb9f3a"
             ],
             [
              0.8888888888888888,
              "#fdca26"
             ],
             [
              1,
              "#f0f921"
             ]
            ],
            "type": "histogram2d"
           }
          ],
          "histogram2dcontour": [
           {
            "colorbar": {
             "outlinewidth": 0,
             "ticks": ""
            },
            "colorscale": [
             [
              0,
              "#0d0887"
             ],
             [
              0.1111111111111111,
              "#46039f"
             ],
             [
              0.2222222222222222,
              "#7201a8"
             ],
             [
              0.3333333333333333,
              "#9c179e"
             ],
             [
              0.4444444444444444,
              "#bd3786"
             ],
             [
              0.5555555555555556,
              "#d8576b"
             ],
             [
              0.6666666666666666,
              "#ed7953"
             ],
             [
              0.7777777777777778,
              "#fb9f3a"
             ],
             [
              0.8888888888888888,
              "#fdca26"
             ],
             [
              1,
              "#f0f921"
             ]
            ],
            "type": "histogram2dcontour"
           }
          ],
          "mesh3d": [
           {
            "colorbar": {
             "outlinewidth": 0,
             "ticks": ""
            },
            "type": "mesh3d"
           }
          ],
          "parcoords": [
           {
            "line": {
             "colorbar": {
              "outlinewidth": 0,
              "ticks": ""
             }
            },
            "type": "parcoords"
           }
          ],
          "pie": [
           {
            "automargin": true,
            "type": "pie"
           }
          ],
          "scatter": [
           {
            "fillpattern": {
             "fillmode": "overlay",
             "size": 10,
             "solidity": 0.2
            },
            "type": "scatter"
           }
          ],
          "scatter3d": [
           {
            "line": {
             "colorbar": {
              "outlinewidth": 0,
              "ticks": ""
             }
            },
            "marker": {
             "colorbar": {
              "outlinewidth": 0,
              "ticks": ""
             }
            },
            "type": "scatter3d"
           }
          ],
          "scattercarpet": [
           {
            "marker": {
             "colorbar": {
              "outlinewidth": 0,
              "ticks": ""
             }
            },
            "type": "scattercarpet"
           }
          ],
          "scattergeo": [
           {
            "marker": {
             "colorbar": {
              "outlinewidth": 0,
              "ticks": ""
             }
            },
            "type": "scattergeo"
           }
          ],
          "scattergl": [
           {
            "marker": {
             "colorbar": {
              "outlinewidth": 0,
              "ticks": ""
             }
            },
            "type": "scattergl"
           }
          ],
          "scattermapbox": [
           {
            "marker": {
             "colorbar": {
              "outlinewidth": 0,
              "ticks": ""
             }
            },
            "type": "scattermapbox"
           }
          ],
          "scatterpolar": [
           {
            "marker": {
             "colorbar": {
              "outlinewidth": 0,
              "ticks": ""
             }
            },
            "type": "scatterpolar"
           }
          ],
          "scatterpolargl": [
           {
            "marker": {
             "colorbar": {
              "outlinewidth": 0,
              "ticks": ""
             }
            },
            "type": "scatterpolargl"
           }
          ],
          "scatterternary": [
           {
            "marker": {
             "colorbar": {
              "outlinewidth": 0,
              "ticks": ""
             }
            },
            "type": "scatterternary"
           }
          ],
          "surface": [
           {
            "colorbar": {
             "outlinewidth": 0,
             "ticks": ""
            },
            "colorscale": [
             [
              0,
              "#0d0887"
             ],
             [
              0.1111111111111111,
              "#46039f"
             ],
             [
              0.2222222222222222,
              "#7201a8"
             ],
             [
              0.3333333333333333,
              "#9c179e"
             ],
             [
              0.4444444444444444,
              "#bd3786"
             ],
             [
              0.5555555555555556,
              "#d8576b"
             ],
             [
              0.6666666666666666,
              "#ed7953"
             ],
             [
              0.7777777777777778,
              "#fb9f3a"
             ],
             [
              0.8888888888888888,
              "#fdca26"
             ],
             [
              1,
              "#f0f921"
             ]
            ],
            "type": "surface"
           }
          ],
          "table": [
           {
            "cells": {
             "fill": {
              "color": "#EBF0F8"
             },
             "line": {
              "color": "white"
             }
            },
            "header": {
             "fill": {
              "color": "#C8D4E3"
             },
             "line": {
              "color": "white"
             }
            },
            "type": "table"
           }
          ]
         },
         "layout": {
          "annotationdefaults": {
           "arrowcolor": "#2a3f5f",
           "arrowhead": 0,
           "arrowwidth": 1
          },
          "autotypenumbers": "strict",
          "coloraxis": {
           "colorbar": {
            "outlinewidth": 0,
            "ticks": ""
           }
          },
          "colorscale": {
           "diverging": [
            [
             0,
             "#8e0152"
            ],
            [
             0.1,
             "#c51b7d"
            ],
            [
             0.2,
             "#de77ae"
            ],
            [
             0.3,
             "#f1b6da"
            ],
            [
             0.4,
             "#fde0ef"
            ],
            [
             0.5,
             "#f7f7f7"
            ],
            [
             0.6,
             "#e6f5d0"
            ],
            [
             0.7,
             "#b8e186"
            ],
            [
             0.8,
             "#7fbc41"
            ],
            [
             0.9,
             "#4d9221"
            ],
            [
             1,
             "#276419"
            ]
           ],
           "sequential": [
            [
             0,
             "#0d0887"
            ],
            [
             0.1111111111111111,
             "#46039f"
            ],
            [
             0.2222222222222222,
             "#7201a8"
            ],
            [
             0.3333333333333333,
             "#9c179e"
            ],
            [
             0.4444444444444444,
             "#bd3786"
            ],
            [
             0.5555555555555556,
             "#d8576b"
            ],
            [
             0.6666666666666666,
             "#ed7953"
            ],
            [
             0.7777777777777778,
             "#fb9f3a"
            ],
            [
             0.8888888888888888,
             "#fdca26"
            ],
            [
             1,
             "#f0f921"
            ]
           ],
           "sequentialminus": [
            [
             0,
             "#0d0887"
            ],
            [
             0.1111111111111111,
             "#46039f"
            ],
            [
             0.2222222222222222,
             "#7201a8"
            ],
            [
             0.3333333333333333,
             "#9c179e"
            ],
            [
             0.4444444444444444,
             "#bd3786"
            ],
            [
             0.5555555555555556,
             "#d8576b"
            ],
            [
             0.6666666666666666,
             "#ed7953"
            ],
            [
             0.7777777777777778,
             "#fb9f3a"
            ],
            [
             0.8888888888888888,
             "#fdca26"
            ],
            [
             1,
             "#f0f921"
            ]
           ]
          },
          "colorway": [
           "#636efa",
           "#EF553B",
           "#00cc96",
           "#ab63fa",
           "#FFA15A",
           "#19d3f3",
           "#FF6692",
           "#B6E880",
           "#FF97FF",
           "#FECB52"
          ],
          "font": {
           "color": "#2a3f5f"
          },
          "geo": {
           "bgcolor": "white",
           "lakecolor": "white",
           "landcolor": "#E5ECF6",
           "showlakes": true,
           "showland": true,
           "subunitcolor": "white"
          },
          "hoverlabel": {
           "align": "left"
          },
          "hovermode": "closest",
          "mapbox": {
           "style": "light"
          },
          "paper_bgcolor": "white",
          "plot_bgcolor": "#E5ECF6",
          "polar": {
           "angularaxis": {
            "gridcolor": "white",
            "linecolor": "white",
            "ticks": ""
           },
           "bgcolor": "#E5ECF6",
           "radialaxis": {
            "gridcolor": "white",
            "linecolor": "white",
            "ticks": ""
           }
          },
          "scene": {
           "xaxis": {
            "backgroundcolor": "#E5ECF6",
            "gridcolor": "white",
            "gridwidth": 2,
            "linecolor": "white",
            "showbackground": true,
            "ticks": "",
            "zerolinecolor": "white"
           },
           "yaxis": {
            "backgroundcolor": "#E5ECF6",
            "gridcolor": "white",
            "gridwidth": 2,
            "linecolor": "white",
            "showbackground": true,
            "ticks": "",
            "zerolinecolor": "white"
           },
           "zaxis": {
            "backgroundcolor": "#E5ECF6",
            "gridcolor": "white",
            "gridwidth": 2,
            "linecolor": "white",
            "showbackground": true,
            "ticks": "",
            "zerolinecolor": "white"
           }
          },
          "shapedefaults": {
           "line": {
            "color": "#2a3f5f"
           }
          },
          "ternary": {
           "aaxis": {
            "gridcolor": "white",
            "linecolor": "white",
            "ticks": ""
           },
           "baxis": {
            "gridcolor": "white",
            "linecolor": "white",
            "ticks": ""
           },
           "bgcolor": "#E5ECF6",
           "caxis": {
            "gridcolor": "white",
            "linecolor": "white",
            "ticks": ""
           }
          },
          "title": {
           "x": 0.05
          },
          "xaxis": {
           "automargin": true,
           "gridcolor": "white",
           "linecolor": "white",
           "ticks": "",
           "title": {
            "standoff": 15
           },
           "zerolinecolor": "white",
           "zerolinewidth": 2
          },
          "yaxis": {
           "automargin": true,
           "gridcolor": "white",
           "linecolor": "white",
           "ticks": "",
           "title": {
            "standoff": 15
           },
           "zerolinecolor": "white",
           "zerolinewidth": 2
          }
         }
        },
        "xaxis": {
         "anchor": "y",
         "domain": [
          0,
          1
         ],
         "gridcolor": "LightGray",
         "gridwidth": 1,
         "showgrid": true,
         "title": {
          "text": "Week"
         }
        },
        "yaxis": {
         "anchor": "x",
         "domain": [
          0,
          1
         ],
         "gridcolor": "LightGray",
         "gridwidth": 1,
         "showgrid": true,
         "tickvals": [
          200,
          500,
          1000,
          2000,
          5000,
          10000,
          20000,
          50000,
          100000,
          200000
         ],
         "title": {
          "text": "Connections"
         },
         "type": "log"
        }
       }
      },
      "text/html": [
       "<div>                            <div id=\"5e6a3efb-5a84-405b-94b6-462ca496753b\" class=\"plotly-graph-div\" style=\"height:900px; width:100%;\"></div>            <script type=\"text/javascript\">                require([\"plotly\"], function(Plotly) {                    window.PLOTLYENV=window.PLOTLYENV || {};                                    if (document.getElementById(\"5e6a3efb-5a84-405b-94b6-462ca496753b\")) {                    Plotly.newPlot(                        \"5e6a3efb-5a84-405b-94b6-462ca496753b\",                        [{\"hovertemplate\":\"SourceOrgs=Chinanet<br>Week=%{x}<br>Connections=%{y}<extra></extra>\",\"legendgroup\":\"Chinanet\",\"line\":{\"color\":\"#d3b1c2\",\"dash\":\"solid\",\"width\":8},\"marker\":{\"symbol\":\"circle\",\"size\":18},\"mode\":\"lines+markers\",\"name\":\"Chinanet\",\"orientation\":\"v\",\"showlegend\":true,\"x\":[\"Feb 2020\"],\"xaxis\":\"x\",\"y\":[198748],\"yaxis\":\"y\",\"type\":\"scatter\"},{\"hovertemplate\":\"SourceOrgs=OVHSAS<br>Week=%{x}<br>Connections=%{y}<extra></extra>\",\"legendgroup\":\"OVHSAS\",\"line\":{\"color\":\"#FF6692\",\"dash\":\"dot\",\"width\":8},\"marker\":{\"symbol\":\"diamond\",\"size\":18},\"mode\":\"lines+markers\",\"name\":\"OVHSAS\",\"orientation\":\"v\",\"showlegend\":true,\"x\":[\"Feb 2020\",\"Apr 2020\",\"Sept 2020\",\"Sept 2021\"],\"xaxis\":\"x\",\"y\":[139315,79472,221147,204401],\"yaxis\":\"y\",\"type\":\"scatter\"},{\"hovertemplate\":\"SourceOrgs=K2TelecomeLtd<br>Week=%{x}<br>Connections=%{y}<extra></extra>\",\"legendgroup\":\"K2TelecomeLtd\",\"line\":{\"color\":\"#B6E880\",\"dash\":\"dash\",\"width\":8},\"marker\":{\"symbol\":\"square\",\"size\":18},\"mode\":\"lines+markers\",\"name\":\"K2TelecomeLtd\",\"orientation\":\"v\",\"showlegend\":true,\"x\":[\"Feb 2020\"],\"xaxis\":\"x\",\"y\":[59502],\"yaxis\":\"y\",\"type\":\"scatter\"},{\"hovertemplate\":\"SourceOrgs=TWIDCLimited<br>Week=%{x}<br>Connections=%{y}<extra></extra>\",\"legendgroup\":\"TWIDCLimited\",\"line\":{\"color\":\"#FF97FF\",\"dash\":\"longdash\",\"width\":8},\"marker\":{\"symbol\":\"x\",\"size\":18},\"mode\":\"lines+markers\",\"name\":\"TWIDCLimited\",\"orientation\":\"v\",\"showlegend\":true,\"x\":[\"Feb 2020\"],\"xaxis\":\"x\",\"y\":[73976],\"yaxis\":\"y\",\"type\":\"scatter\"},{\"hovertemplate\":\"SourceOrgs=GlobeTelecoms<br>Week=%{x}<br>Connections=%{y}<extra></extra>\",\"legendgroup\":\"GlobeTelecoms\",\"line\":{\"color\":\"#FECB52\",\"dash\":\"dashdot\",\"width\":8},\"marker\":{\"symbol\":\"cross\",\"size\":18},\"mode\":\"lines+markers\",\"name\":\"GlobeTelecoms\",\"orientation\":\"v\",\"showlegend\":true,\"x\":[\"Feb 2020\"],\"xaxis\":\"x\",\"y\":[22204],\"yaxis\":\"y\",\"type\":\"scatter\"},{\"hovertemplate\":\"SourceOrgs=Africa-on-Cloud-AS<br>Week=%{x}<br>Connections=%{y}<extra></extra>\",\"legendgroup\":\"Africa-on-Cloud-AS\",\"line\":{\"color\":\"#636efa\",\"dash\":\"longdashdot\",\"width\":8},\"marker\":{\"symbol\":\"circle\",\"size\":18},\"mode\":\"lines+markers\",\"name\":\"Africa-on-Cloud-AS\",\"orientation\":\"v\",\"showlegend\":true,\"x\":[\"Feb 2020\"],\"xaxis\":\"x\",\"y\":[15650],\"yaxis\":\"y\",\"type\":\"scatter\"},{\"hovertemplate\":\"SourceOrgs=APPLE<br>Week=%{x}<br>Connections=%{y}<extra></extra>\",\"legendgroup\":\"APPLE\",\"line\":{\"color\":\"#7f7f7f\",\"dash\":\"solid\",\"width\":8},\"marker\":{\"symbol\":\"diamond\",\"size\":18},\"mode\":\"lines+markers\",\"name\":\"APPLE\",\"orientation\":\"v\",\"showlegend\":true,\"x\":[\"Feb 2020\",\"Apr 2020\"],\"xaxis\":\"x\",\"y\":[32972,19370],\"yaxis\":\"y\",\"type\":\"scatter\"},{\"hovertemplate\":\"SourceOrgs=SmartBroadband,Inc.<br>Week=%{x}<br>Connections=%{y}<extra></extra>\",\"legendgroup\":\"SmartBroadband,Inc.\",\"line\":{\"color\":\"#EF553B\",\"dash\":\"dot\",\"width\":8},\"marker\":{\"symbol\":\"square\",\"size\":18},\"mode\":\"lines+markers\",\"name\":\"SmartBroadband,Inc.\",\"orientation\":\"v\",\"showlegend\":true,\"x\":[\"Feb 2020\"],\"xaxis\":\"x\",\"y\":[23305],\"yaxis\":\"y\",\"type\":\"scatter\"},{\"hovertemplate\":\"SourceOrgs=HURRICANE<br>Week=%{x}<br>Connections=%{y}<extra></extra>\",\"legendgroup\":\"HURRICANE\",\"line\":{\"color\":\"#00cc96\",\"dash\":\"dash\",\"width\":8},\"marker\":{\"symbol\":\"x\",\"size\":18},\"mode\":\"lines+markers\",\"name\":\"HURRICANE\",\"orientation\":\"v\",\"showlegend\":true,\"x\":[\"Feb 2020\",\"Apr 2020\",\"Sept 2020\",\"Sept 2021\"],\"xaxis\":\"x\",\"y\":[37717,51118,60095,101007],\"yaxis\":\"y\",\"type\":\"scatter\"},{\"hovertemplate\":\"SourceOrgs=WorkBandaLarga<br>Week=%{x}<br>Connections=%{y}<extra></extra>\",\"legendgroup\":\"WorkBandaLarga\",\"line\":{\"color\":\"#ab63fa\",\"dash\":\"longdash\",\"width\":8},\"marker\":{\"symbol\":\"cross\",\"size\":18},\"mode\":\"lines+markers\",\"name\":\"WorkBandaLarga\",\"orientation\":\"v\",\"showlegend\":true,\"x\":[\"Feb 2020\"],\"xaxis\":\"x\",\"y\":[13938],\"yaxis\":\"y\",\"type\":\"scatter\"},{\"hovertemplate\":\"SourceOrgs=SHAW<br>Week=%{x}<br>Connections=%{y}<extra></extra>\",\"legendgroup\":\"SHAW\",\"line\":{\"color\":\"#613659\",\"dash\":\"dashdot\",\"width\":8},\"marker\":{\"symbol\":\"circle\",\"size\":18},\"mode\":\"lines+markers\",\"name\":\"SHAW\",\"orientation\":\"v\",\"showlegend\":true,\"x\":[\"Apr 2020\",\"Sept 2020\",\"Sept 2021\"],\"xaxis\":\"x\",\"y\":[860,366,620],\"yaxis\":\"y\",\"type\":\"scatter\"},{\"hovertemplate\":\"SourceOrgs=DataWebGlobal.<br>Week=%{x}<br>Connections=%{y}<extra></extra>\",\"legendgroup\":\"DataWebGlobal.\",\"line\":{\"color\":\"#FFA15A\",\"dash\":\"longdashdot\",\"width\":8},\"marker\":{\"symbol\":\"diamond\",\"size\":18},\"mode\":\"lines+markers\",\"name\":\"DataWebGlobal.\",\"orientation\":\"v\",\"showlegend\":true,\"x\":[\"Apr 2020\"],\"xaxis\":\"x\",\"y\":[66227],\"yaxis\":\"y\",\"type\":\"scatter\"},{\"hovertemplate\":\"SourceOrgs=COMCAST-7922<br>Week=%{x}<br>Connections=%{y}<extra></extra>\",\"legendgroup\":\"COMCAST-7922\",\"line\":{\"color\":\"#19d3f3\",\"dash\":\"solid\",\"width\":8},\"marker\":{\"symbol\":\"square\",\"size\":18},\"mode\":\"lines+markers\",\"name\":\"COMCAST-7922\",\"orientation\":\"v\",\"showlegend\":true,\"x\":[\"Apr 2020\",\"Sept 2020\"],\"xaxis\":\"x\",\"y\":[6966,10147],\"yaxis\":\"y\",\"type\":\"scatter\"},{\"hovertemplate\":\"SourceOrgs=TELUS<br>Week=%{x}<br>Connections=%{y}<extra></extra>\",\"legendgroup\":\"TELUS\",\"line\":{\"color\":\"#db1f48\",\"dash\":\"dot\",\"width\":8},\"marker\":{\"symbol\":\"x\",\"size\":18},\"mode\":\"lines+markers\",\"name\":\"TELUS\",\"orientation\":\"v\",\"showlegend\":true,\"x\":[\"Apr 2020\",\"Sept 2020\"],\"xaxis\":\"x\",\"y\":[335,416],\"yaxis\":\"y\",\"type\":\"scatter\"},{\"hovertemplate\":\"SourceOrgs=AMAZON<br>Week=%{x}<br>Connections=%{y}<extra></extra>\",\"legendgroup\":\"AMAZON\",\"line\":{\"color\":\"#212E3C\",\"dash\":\"dash\",\"width\":8},\"marker\":{\"symbol\":\"cross\",\"size\":18},\"mode\":\"lines+markers\",\"name\":\"AMAZON\",\"orientation\":\"v\",\"showlegend\":true,\"x\":[\"Apr 2020\",\"Sept 2020\",\"Sept 2021\"],\"xaxis\":\"x\",\"y\":[3960,5016,15589],\"yaxis\":\"y\",\"type\":\"scatter\"},{\"hovertemplate\":\"SourceOrgs=HetznerOnlineGmbH<br>Week=%{x}<br>Connections=%{y}<extra></extra>\",\"legendgroup\":\"HetznerOnlineGmbH\",\"line\":{\"color\":\"#FF6692\",\"dash\":\"longdash\",\"width\":8},\"marker\":{\"symbol\":\"circle\",\"size\":18},\"mode\":\"lines+markers\",\"name\":\"HetznerOnlineGmbH\",\"orientation\":\"v\",\"showlegend\":true,\"x\":[\"Apr 2020\"],\"xaxis\":\"x\",\"y\":[3528],\"yaxis\":\"y\",\"type\":\"scatter\"},{\"hovertemplate\":\"SourceOrgs=WOW<br>Week=%{x}<br>Connections=%{y}<extra></extra>\",\"legendgroup\":\"WOW\",\"line\":{\"color\":\"#B6E880\",\"dash\":\"dashdot\",\"width\":8},\"marker\":{\"symbol\":\"diamond\",\"size\":18},\"mode\":\"lines+markers\",\"name\":\"WOW\",\"orientation\":\"v\",\"showlegend\":true,\"x\":[\"Apr 2020\"],\"xaxis\":\"x\",\"y\":[20481],\"yaxis\":\"y\",\"type\":\"scatter\"},{\"hovertemplate\":\"SourceOrgs=SEMrushCYLTD<br>Week=%{x}<br>Connections=%{y}<extra></extra>\",\"legendgroup\":\"SEMrushCYLTD\",\"line\":{\"color\":\"#FF97FF\",\"dash\":\"longdashdot\",\"width\":8},\"marker\":{\"symbol\":\"square\",\"size\":18},\"mode\":\"lines+markers\",\"name\":\"SEMrushCYLTD\",\"orientation\":\"v\",\"showlegend\":true,\"x\":[\"Sept 2020\",\"Sept 2021\"],\"xaxis\":\"x\",\"y\":[192408,200113],\"yaxis\":\"y\",\"type\":\"scatter\"},{\"hovertemplate\":\"SourceOrgs=HUAWEICLOUDS<br>Week=%{x}<br>Connections=%{y}<extra></extra>\",\"legendgroup\":\"HUAWEICLOUDS\",\"line\":{\"color\":\"#FECB52\",\"dash\":\"solid\",\"width\":8},\"marker\":{\"symbol\":\"x\",\"size\":18},\"mode\":\"lines+markers\",\"name\":\"HUAWEICLOUDS\",\"orientation\":\"v\",\"showlegend\":true,\"x\":[\"Sept 2020\"],\"xaxis\":\"x\",\"y\":[41307],\"yaxis\":\"y\",\"type\":\"scatter\"},{\"hovertemplate\":\"SourceOrgs=ChinaMobileCo.<br>Week=%{x}<br>Connections=%{y}<extra></extra>\",\"legendgroup\":\"ChinaMobileCo.\",\"line\":{\"color\":\"#636efa\",\"dash\":\"dot\",\"width\":8},\"marker\":{\"symbol\":\"cross\",\"size\":18},\"mode\":\"lines+markers\",\"name\":\"ChinaMobileCo.\",\"orientation\":\"v\",\"showlegend\":true,\"x\":[\"Sept 2020\"],\"xaxis\":\"x\",\"y\":[276],\"yaxis\":\"y\",\"type\":\"scatter\"},{\"hovertemplate\":\"SourceOrgs=VFDFV.Deutschen<br>Week=%{x}<br>Connections=%{y}<extra></extra>\",\"legendgroup\":\"VFDFV.Deutschen\",\"line\":{\"color\":\"#EF553B\",\"dash\":\"dash\",\"width\":8},\"marker\":{\"symbol\":\"circle\",\"size\":18},\"mode\":\"lines+markers\",\"name\":\"VFDFV.Deutschen\",\"orientation\":\"v\",\"showlegend\":true,\"x\":[\"Sept 2020\"],\"xaxis\":\"x\",\"y\":[1012],\"yaxis\":\"y\",\"type\":\"scatter\"},{\"hovertemplate\":\"SourceOrgs=STEADFAST<br>Week=%{x}<br>Connections=%{y}<extra></extra>\",\"legendgroup\":\"STEADFAST\",\"line\":{\"color\":\"#00cc96\",\"dash\":\"longdash\",\"width\":8},\"marker\":{\"symbol\":\"diamond\",\"size\":18},\"mode\":\"lines+markers\",\"name\":\"STEADFAST\",\"orientation\":\"v\",\"showlegend\":true,\"x\":[\"Sept 2021\"],\"xaxis\":\"x\",\"y\":[4531],\"yaxis\":\"y\",\"type\":\"scatter\"},{\"hovertemplate\":\"SourceOrgs=SOFTLAYER<br>Week=%{x}<br>Connections=%{y}<extra></extra>\",\"legendgroup\":\"SOFTLAYER\",\"line\":{\"color\":\"#ab63fa\",\"dash\":\"dashdot\",\"width\":8},\"marker\":{\"symbol\":\"square\",\"size\":18},\"mode\":\"lines+markers\",\"name\":\"SOFTLAYER\",\"orientation\":\"v\",\"showlegend\":true,\"x\":[\"Sept 2021\"],\"xaxis\":\"x\",\"y\":[4668],\"yaxis\":\"y\",\"type\":\"scatter\"},{\"hovertemplate\":\"SourceOrgs=QUADRANET-GLOBAL<br>Week=%{x}<br>Connections=%{y}<extra></extra>\",\"legendgroup\":\"QUADRANET-GLOBAL\",\"line\":{\"color\":\"#FFA15A\",\"dash\":\"longdashdot\",\"width\":8},\"marker\":{\"symbol\":\"x\",\"size\":18},\"mode\":\"lines+markers\",\"name\":\"QUADRANET-GLOBAL\",\"orientation\":\"v\",\"showlegend\":true,\"x\":[\"Sept 2021\"],\"xaxis\":\"x\",\"y\":[2954],\"yaxis\":\"y\",\"type\":\"scatter\"},{\"hovertemplate\":\"SourceOrgs=IWEB-AS<br>Week=%{x}<br>Connections=%{y}<extra></extra>\",\"legendgroup\":\"IWEB-AS\",\"line\":{\"color\":\"#19d3f3\",\"dash\":\"solid\",\"width\":8},\"marker\":{\"symbol\":\"cross\",\"size\":18},\"mode\":\"lines+markers\",\"name\":\"IWEB-AS\",\"orientation\":\"v\",\"showlegend\":true,\"x\":[\"Sept 2021\"],\"xaxis\":\"x\",\"y\":[2379],\"yaxis\":\"y\",\"type\":\"scatter\"},{\"hovertemplate\":\"SourceOrgs=HVC-AS<br>Week=%{x}<br>Connections=%{y}<extra></extra>\",\"legendgroup\":\"HVC-AS\",\"line\":{\"color\":\"#FF6692\",\"dash\":\"dot\",\"width\":8},\"marker\":{\"symbol\":\"circle\",\"size\":18},\"mode\":\"lines+markers\",\"name\":\"HVC-AS\",\"orientation\":\"v\",\"showlegend\":true,\"x\":[\"Sept 2021\"],\"xaxis\":\"x\",\"y\":[1672],\"yaxis\":\"y\",\"type\":\"scatter\"}],                        {\"template\":{\"data\":{\"histogram2dcontour\":[{\"type\":\"histogram2dcontour\",\"colorbar\":{\"outlinewidth\":0,\"ticks\":\"\"},\"colorscale\":[[0.0,\"#0d0887\"],[0.1111111111111111,\"#46039f\"],[0.2222222222222222,\"#7201a8\"],[0.3333333333333333,\"#9c179e\"],[0.4444444444444444,\"#bd3786\"],[0.5555555555555556,\"#d8576b\"],[0.6666666666666666,\"#ed7953\"],[0.7777777777777778,\"#fb9f3a\"],[0.8888888888888888,\"#fdca26\"],[1.0,\"#f0f921\"]]}],\"choropleth\":[{\"type\":\"choropleth\",\"colorbar\":{\"outlinewidth\":0,\"ticks\":\"\"}}],\"histogram2d\":[{\"type\":\"histogram2d\",\"colorbar\":{\"outlinewidth\":0,\"ticks\":\"\"},\"colorscale\":[[0.0,\"#0d0887\"],[0.1111111111111111,\"#46039f\"],[0.2222222222222222,\"#7201a8\"],[0.3333333333333333,\"#9c179e\"],[0.4444444444444444,\"#bd3786\"],[0.5555555555555556,\"#d8576b\"],[0.6666666666666666,\"#ed7953\"],[0.7777777777777778,\"#fb9f3a\"],[0.8888888888888888,\"#fdca26\"],[1.0,\"#f0f921\"]]}],\"heatmap\":[{\"type\":\"heatmap\",\"colorbar\":{\"outlinewidth\":0,\"ticks\":\"\"},\"colorscale\":[[0.0,\"#0d0887\"],[0.1111111111111111,\"#46039f\"],[0.2222222222222222,\"#7201a8\"],[0.3333333333333333,\"#9c179e\"],[0.4444444444444444,\"#bd3786\"],[0.5555555555555556,\"#d8576b\"],[0.6666666666666666,\"#ed7953\"],[0.7777777777777778,\"#fb9f3a\"],[0.8888888888888888,\"#fdca26\"],[1.0,\"#f0f921\"]]}],\"heatmapgl\":[{\"type\":\"heatmapgl\",\"colorbar\":{\"outlinewidth\":0,\"ticks\":\"\"},\"colorscale\":[[0.0,\"#0d0887\"],[0.1111111111111111,\"#46039f\"],[0.2222222222222222,\"#7201a8\"],[0.3333333333333333,\"#9c179e\"],[0.4444444444444444,\"#bd3786\"],[0.5555555555555556,\"#d8576b\"],[0.6666666666666666,\"#ed7953\"],[0.7777777777777778,\"#fb9f3a\"],[0.8888888888888888,\"#fdca26\"],[1.0,\"#f0f921\"]]}],\"contourcarpet\":[{\"type\":\"contourcarpet\",\"colorbar\":{\"outlinewidth\":0,\"ticks\":\"\"}}],\"contour\":[{\"type\":\"contour\",\"colorbar\":{\"outlinewidth\":0,\"ticks\":\"\"},\"colorscale\":[[0.0,\"#0d0887\"],[0.1111111111111111,\"#46039f\"],[0.2222222222222222,\"#7201a8\"],[0.3333333333333333,\"#9c179e\"],[0.4444444444444444,\"#bd3786\"],[0.5555555555555556,\"#d8576b\"],[0.6666666666666666,\"#ed7953\"],[0.7777777777777778,\"#fb9f3a\"],[0.8888888888888888,\"#fdca26\"],[1.0,\"#f0f921\"]]}],\"surface\":[{\"type\":\"surface\",\"colorbar\":{\"outlinewidth\":0,\"ticks\":\"\"},\"colorscale\":[[0.0,\"#0d0887\"],[0.1111111111111111,\"#46039f\"],[0.2222222222222222,\"#7201a8\"],[0.3333333333333333,\"#9c179e\"],[0.4444444444444444,\"#bd3786\"],[0.5555555555555556,\"#d8576b\"],[0.6666666666666666,\"#ed7953\"],[0.7777777777777778,\"#fb9f3a\"],[0.8888888888888888,\"#fdca26\"],[1.0,\"#f0f921\"]]}],\"mesh3d\":[{\"type\":\"mesh3d\",\"colorbar\":{\"outlinewidth\":0,\"ticks\":\"\"}}],\"scatter\":[{\"fillpattern\":{\"fillmode\":\"overlay\",\"size\":10,\"solidity\":0.2},\"type\":\"scatter\"}],\"parcoords\":[{\"type\":\"parcoords\",\"line\":{\"colorbar\":{\"outlinewidth\":0,\"ticks\":\"\"}}}],\"scatterpolargl\":[{\"type\":\"scatterpolargl\",\"marker\":{\"colorbar\":{\"outlinewidth\":0,\"ticks\":\"\"}}}],\"bar\":[{\"error_x\":{\"color\":\"#2a3f5f\"},\"error_y\":{\"color\":\"#2a3f5f\"},\"marker\":{\"line\":{\"color\":\"#E5ECF6\",\"width\":0.5},\"pattern\":{\"fillmode\":\"overlay\",\"size\":10,\"solidity\":0.2}},\"type\":\"bar\"}],\"scattergeo\":[{\"type\":\"scattergeo\",\"marker\":{\"colorbar\":{\"outlinewidth\":0,\"ticks\":\"\"}}}],\"scatterpolar\":[{\"type\":\"scatterpolar\",\"marker\":{\"colorbar\":{\"outlinewidth\":0,\"ticks\":\"\"}}}],\"histogram\":[{\"marker\":{\"pattern\":{\"fillmode\":\"overlay\",\"size\":10,\"solidity\":0.2}},\"type\":\"histogram\"}],\"scattergl\":[{\"type\":\"scattergl\",\"marker\":{\"colorbar\":{\"outlinewidth\":0,\"ticks\":\"\"}}}],\"scatter3d\":[{\"type\":\"scatter3d\",\"line\":{\"colorbar\":{\"outlinewidth\":0,\"ticks\":\"\"}},\"marker\":{\"colorbar\":{\"outlinewidth\":0,\"ticks\":\"\"}}}],\"scattermapbox\":[{\"type\":\"scattermapbox\",\"marker\":{\"colorbar\":{\"outlinewidth\":0,\"ticks\":\"\"}}}],\"scatterternary\":[{\"type\":\"scatterternary\",\"marker\":{\"colorbar\":{\"outlinewidth\":0,\"ticks\":\"\"}}}],\"scattercarpet\":[{\"type\":\"scattercarpet\",\"marker\":{\"colorbar\":{\"outlinewidth\":0,\"ticks\":\"\"}}}],\"carpet\":[{\"aaxis\":{\"endlinecolor\":\"#2a3f5f\",\"gridcolor\":\"white\",\"linecolor\":\"white\",\"minorgridcolor\":\"white\",\"startlinecolor\":\"#2a3f5f\"},\"baxis\":{\"endlinecolor\":\"#2a3f5f\",\"gridcolor\":\"white\",\"linecolor\":\"white\",\"minorgridcolor\":\"white\",\"startlinecolor\":\"#2a3f5f\"},\"type\":\"carpet\"}],\"table\":[{\"cells\":{\"fill\":{\"color\":\"#EBF0F8\"},\"line\":{\"color\":\"white\"}},\"header\":{\"fill\":{\"color\":\"#C8D4E3\"},\"line\":{\"color\":\"white\"}},\"type\":\"table\"}],\"barpolar\":[{\"marker\":{\"line\":{\"color\":\"#E5ECF6\",\"width\":0.5},\"pattern\":{\"fillmode\":\"overlay\",\"size\":10,\"solidity\":0.2}},\"type\":\"barpolar\"}],\"pie\":[{\"automargin\":true,\"type\":\"pie\"}]},\"layout\":{\"autotypenumbers\":\"strict\",\"colorway\":[\"#636efa\",\"#EF553B\",\"#00cc96\",\"#ab63fa\",\"#FFA15A\",\"#19d3f3\",\"#FF6692\",\"#B6E880\",\"#FF97FF\",\"#FECB52\"],\"font\":{\"color\":\"#2a3f5f\"},\"hovermode\":\"closest\",\"hoverlabel\":{\"align\":\"left\"},\"paper_bgcolor\":\"white\",\"plot_bgcolor\":\"#E5ECF6\",\"polar\":{\"bgcolor\":\"#E5ECF6\",\"angularaxis\":{\"gridcolor\":\"white\",\"linecolor\":\"white\",\"ticks\":\"\"},\"radialaxis\":{\"gridcolor\":\"white\",\"linecolor\":\"white\",\"ticks\":\"\"}},\"ternary\":{\"bgcolor\":\"#E5ECF6\",\"aaxis\":{\"gridcolor\":\"white\",\"linecolor\":\"white\",\"ticks\":\"\"},\"baxis\":{\"gridcolor\":\"white\",\"linecolor\":\"white\",\"ticks\":\"\"},\"caxis\":{\"gridcolor\":\"white\",\"linecolor\":\"white\",\"ticks\":\"\"}},\"coloraxis\":{\"colorbar\":{\"outlinewidth\":0,\"ticks\":\"\"}},\"colorscale\":{\"sequential\":[[0.0,\"#0d0887\"],[0.1111111111111111,\"#46039f\"],[0.2222222222222222,\"#7201a8\"],[0.3333333333333333,\"#9c179e\"],[0.4444444444444444,\"#bd3786\"],[0.5555555555555556,\"#d8576b\"],[0.6666666666666666,\"#ed7953\"],[0.7777777777777778,\"#fb9f3a\"],[0.8888888888888888,\"#fdca26\"],[1.0,\"#f0f921\"]],\"sequentialminus\":[[0.0,\"#0d0887\"],[0.1111111111111111,\"#46039f\"],[0.2222222222222222,\"#7201a8\"],[0.3333333333333333,\"#9c179e\"],[0.4444444444444444,\"#bd3786\"],[0.5555555555555556,\"#d8576b\"],[0.6666666666666666,\"#ed7953\"],[0.7777777777777778,\"#fb9f3a\"],[0.8888888888888888,\"#fdca26\"],[1.0,\"#f0f921\"]],\"diverging\":[[0,\"#8e0152\"],[0.1,\"#c51b7d\"],[0.2,\"#de77ae\"],[0.3,\"#f1b6da\"],[0.4,\"#fde0ef\"],[0.5,\"#f7f7f7\"],[0.6,\"#e6f5d0\"],[0.7,\"#b8e186\"],[0.8,\"#7fbc41\"],[0.9,\"#4d9221\"],[1,\"#276419\"]]},\"xaxis\":{\"gridcolor\":\"white\",\"linecolor\":\"white\",\"ticks\":\"\",\"title\":{\"standoff\":15},\"zerolinecolor\":\"white\",\"automargin\":true,\"zerolinewidth\":2},\"yaxis\":{\"gridcolor\":\"white\",\"linecolor\":\"white\",\"ticks\":\"\",\"title\":{\"standoff\":15},\"zerolinecolor\":\"white\",\"automargin\":true,\"zerolinewidth\":2},\"scene\":{\"xaxis\":{\"backgroundcolor\":\"#E5ECF6\",\"gridcolor\":\"white\",\"linecolor\":\"white\",\"showbackground\":true,\"ticks\":\"\",\"zerolinecolor\":\"white\",\"gridwidth\":2},\"yaxis\":{\"backgroundcolor\":\"#E5ECF6\",\"gridcolor\":\"white\",\"linecolor\":\"white\",\"showbackground\":true,\"ticks\":\"\",\"zerolinecolor\":\"white\",\"gridwidth\":2},\"zaxis\":{\"backgroundcolor\":\"#E5ECF6\",\"gridcolor\":\"white\",\"linecolor\":\"white\",\"showbackground\":true,\"ticks\":\"\",\"zerolinecolor\":\"white\",\"gridwidth\":2}},\"shapedefaults\":{\"line\":{\"color\":\"#2a3f5f\"}},\"annotationdefaults\":{\"arrowcolor\":\"#2a3f5f\",\"arrowhead\":0,\"arrowwidth\":1},\"geo\":{\"bgcolor\":\"white\",\"landcolor\":\"#E5ECF6\",\"subunitcolor\":\"white\",\"showland\":true,\"showlakes\":true,\"lakecolor\":\"white\"},\"title\":{\"x\":0.05},\"mapbox\":{\"style\":\"light\"}}},\"xaxis\":{\"anchor\":\"y\",\"domain\":[0.0,1.0],\"title\":{\"text\":\"Week\"},\"showgrid\":true,\"gridwidth\":1,\"gridcolor\":\"LightGray\"},\"yaxis\":{\"anchor\":\"x\",\"domain\":[0.0,1.0],\"title\":{\"text\":\"Connections\"},\"type\":\"log\",\"showgrid\":true,\"gridwidth\":1,\"gridcolor\":\"LightGray\",\"tickvals\":[200,500,1000,2000,5000,10000,20000,50000,100000,200000]},\"legend\":{\"title\":{\"text\":\"SourceOrgs\"},\"tracegroupgap\":0},\"margin\":{\"t\":60},\"height\":900,\"font\":{\"size\":30},\"plot_bgcolor\":\"white\",\"showlegend\":false},                        {\"responsive\": true}                    ).then(function(){\n",
       "                            \n",
       "var gd = document.getElementById('5e6a3efb-5a84-405b-94b6-462ca496753b');\n",
       "var x = new MutationObserver(function (mutations, observer) {{\n",
       "        var display = window.getComputedStyle(gd).display;\n",
       "        if (!display || display === 'none') {{\n",
       "            console.log([gd, 'removed!']);\n",
       "            Plotly.purge(gd);\n",
       "            observer.disconnect();\n",
       "        }}\n",
       "}});\n",
       "\n",
       "// Listen for the removal of the full notebook cells\n",
       "var notebookContainer = gd.closest('#notebook-container');\n",
       "if (notebookContainer) {{\n",
       "    x.observe(notebookContainer, {childList: true});\n",
       "}}\n",
       "\n",
       "// Listen for the clearing of the current output cell\n",
       "var outputEl = gd.closest('.output');\n",
       "if (outputEl) {{\n",
       "    x.observe(outputEl, {childList: true});\n",
       "}}\n",
       "\n",
       "                        })                };                });            </script>        </div>"
      ]
     },
     "metadata": {},
     "output_type": "display_data"
    }
   ],
   "source": [
    "import plotly.express as px\n",
    "import pandas as pd\n",
    "\n",
    "df_orgs_in = pd.read_csv('/Volumes/GoogleDrive/My Drive/Thesis/Plotly/category_Medical_in_sources.csv')\n",
    "\n",
    "fig_orgs_in_conns = px.line(df_orgs_in, x='Week', y='Connections', log_y=True, color='SourceOrgs',\n",
    "                            color_discrete_map={'APPLE': '#7f7f7f', 'NETFLIX': '#dc3912', 'AKAMAI': '#ff9900',\n",
    "                                                'CANARIE': '#fb00d1', 'FACEBOOK': '#3366cc', 'GOOGLE': '#109618',\n",
    "                                                'AMAZON': '#212E3C', 'FASTLY': '#8c564b', 'LEVEL3': '#17becf',\n",
    "                                                'MICROSOFT': '#990099', 'EDGECAST': '#316395',\n",
    "                                                'VALVE-CORPORATION': '#bcbd22', 'TELUS': '#db1f48',\n",
    "                                                'SHAW': '#613659', 'BACOM': '#01949a', 'ROGERS': '#81b622',\n",
    "                                                'Chinanet': '#d3b1c2', 'AHS': '#eeb5eb', 'YANDEXLLC': '#fad02c',\n",
    "                                                'NLM-GW': '#055c9d', 'JiscServicesLimited': '#870a30',\n",
    "                                                'BROADINSTITUTE-AS': '#e57f84', 'OoredooQ.S.C.': '#90adc6',\n",
    "                                                'RelianceJioInfocommLimited': '#a16ae8', 'O-NET': '#ffa384',\n",
    "                                                'Vetenskapsradet/SUNET': '#74bdcb', 'VELOCITYNET-01': '#3d5b59',\n",
    "                                                'CHINAUNICOMChina169Backbone': '#ff4500', 'CIPHERKEY': '#b7ac44',\n",
    "                                                'TEKSAVVY': '#52688f', 'BARR-XPLR-ASN': '#d4f1f4',\n",
    "                                                'PRIMUS-AS6407': '#b9b7bd', 'CIKTELECOM-CABLE': '#fb4570',\n",
    "                                                'TWC-11426-CAROLINAS': '#7cf3a0', 'PEGTECHINC': '#f9eac2',\n",
    "                                                'UniversityofQueensland': '#bfd7ed'},\n",
    "                             markers=True, line_dash='SourceOrgs', symbol='SourceOrgs', height=900)\n",
    "fig_orgs_in_conns.update_layout(plot_bgcolor='white', font_size=30, showlegend=False)\n",
    "fig_orgs_in_conns.update_xaxes(showgrid=True, gridwidth=1, gridcolor='LightGray')\n",
    "fig_orgs_in_conns.update_yaxes(showgrid=True, gridwidth=1, gridcolor='LightGray',\n",
    "                                tickvals=[200, 500, 1000, 2000, 5000, 10000, 20000, 50000, 100000, 200000])\n",
    "fig_orgs_in_conns.update_traces(line_width=8, marker_size=18)\n",
    "\n",
    "fig_orgs_in_conns.show()"
   ]
  },
  {
   "cell_type": "code",
   "execution_count": 22,
   "id": "84e923c7",
   "metadata": {},
   "outputs": [
    {
     "data": {
      "application/vnd.plotly.v1+json": {
       "config": {
        "plotlyServerURL": "https://plot.ly"
       },
       "data": [
        {
         "hovertemplate": "SourceOrgs=Chinanet<br>Week=%{x}<br>TotalBytes=%{y}<extra></extra>",
         "legendgroup": "Chinanet",
         "line": {
          "color": "#d3b1c2",
          "dash": "solid",
          "width": 8
         },
         "marker": {
          "size": 18,
          "symbol": "circle"
         },
         "mode": "lines+markers",
         "name": "Chinanet",
         "orientation": "v",
         "showlegend": true,
         "type": "scatter",
         "x": [
          "Feb 2020"
         ],
         "xaxis": "x",
         "y": [
          176360979099
         ],
         "yaxis": "y"
        },
        {
         "hovertemplate": "SourceOrgs=OVHSAS<br>Week=%{x}<br>TotalBytes=%{y}<extra></extra>",
         "legendgroup": "OVHSAS",
         "line": {
          "color": "#FF6692",
          "dash": "dot",
          "width": 8
         },
         "marker": {
          "size": 18,
          "symbol": "diamond"
         },
         "mode": "lines+markers",
         "name": "OVHSAS",
         "orientation": "v",
         "showlegend": true,
         "type": "scatter",
         "x": [
          "Feb 2020",
          "Apr 2020",
          "Sept 2020",
          "Sept 2021"
         ],
         "xaxis": "x",
         "y": [
          77433863674,
          57206195107,
          109900484144,
          56820350914
         ],
         "yaxis": "y"
        },
        {
         "hovertemplate": "SourceOrgs=K2TelecomeLtd<br>Week=%{x}<br>TotalBytes=%{y}<extra></extra>",
         "legendgroup": "K2TelecomeLtd",
         "line": {
          "color": "#B6E880",
          "dash": "dash",
          "width": 8
         },
         "marker": {
          "size": 18,
          "symbol": "square"
         },
         "mode": "lines+markers",
         "name": "K2TelecomeLtd",
         "orientation": "v",
         "showlegend": true,
         "type": "scatter",
         "x": [
          "Feb 2020"
         ],
         "xaxis": "x",
         "y": [
          57887690322
         ],
         "yaxis": "y"
        },
        {
         "hovertemplate": "SourceOrgs=TWIDCLimited<br>Week=%{x}<br>TotalBytes=%{y}<extra></extra>",
         "legendgroup": "TWIDCLimited",
         "line": {
          "color": "#FF97FF",
          "dash": "longdash",
          "width": 8
         },
         "marker": {
          "size": 18,
          "symbol": "x"
         },
         "mode": "lines+markers",
         "name": "TWIDCLimited",
         "orientation": "v",
         "showlegend": true,
         "type": "scatter",
         "x": [
          "Feb 2020"
         ],
         "xaxis": "x",
         "y": [
          48575402942
         ],
         "yaxis": "y"
        },
        {
         "hovertemplate": "SourceOrgs=GlobeTelecoms<br>Week=%{x}<br>TotalBytes=%{y}<extra></extra>",
         "legendgroup": "GlobeTelecoms",
         "line": {
          "color": "#FECB52",
          "dash": "dashdot",
          "width": 8
         },
         "marker": {
          "size": 18,
          "symbol": "cross"
         },
         "mode": "lines+markers",
         "name": "GlobeTelecoms",
         "orientation": "v",
         "showlegend": true,
         "type": "scatter",
         "x": [
          "Feb 2020"
         ],
         "xaxis": "x",
         "y": [
          36521506985
         ],
         "yaxis": "y"
        },
        {
         "hovertemplate": "SourceOrgs=Africa-on-Cloud-AS<br>Week=%{x}<br>TotalBytes=%{y}<extra></extra>",
         "legendgroup": "Africa-on-Cloud-AS",
         "line": {
          "color": "#636efa",
          "dash": "longdashdot",
          "width": 8
         },
         "marker": {
          "size": 18,
          "symbol": "circle"
         },
         "mode": "lines+markers",
         "name": "Africa-on-Cloud-AS",
         "orientation": "v",
         "showlegend": true,
         "type": "scatter",
         "x": [
          "Feb 2020"
         ],
         "xaxis": "x",
         "y": [
          35580502991
         ],
         "yaxis": "y"
        },
        {
         "hovertemplate": "SourceOrgs=APPLE<br>Week=%{x}<br>TotalBytes=%{y}<extra></extra>",
         "legendgroup": "APPLE",
         "line": {
          "color": "#7f7f7f",
          "dash": "solid",
          "width": 8
         },
         "marker": {
          "size": 18,
          "symbol": "diamond"
         },
         "mode": "lines+markers",
         "name": "APPLE",
         "orientation": "v",
         "showlegend": true,
         "type": "scatter",
         "x": [
          "Feb 2020",
          "Apr 2020"
         ],
         "xaxis": "x",
         "y": [
          31436784806,
          17456139111
         ],
         "yaxis": "y"
        },
        {
         "hovertemplate": "SourceOrgs=SmartBroadband,Inc.<br>Week=%{x}<br>TotalBytes=%{y}<extra></extra>",
         "legendgroup": "SmartBroadband,Inc.",
         "line": {
          "color": "#EF553B",
          "dash": "dot",
          "width": 8
         },
         "marker": {
          "size": 18,
          "symbol": "square"
         },
         "mode": "lines+markers",
         "name": "SmartBroadband,Inc.",
         "orientation": "v",
         "showlegend": true,
         "type": "scatter",
         "x": [
          "Feb 2020"
         ],
         "xaxis": "x",
         "y": [
          22026783238
         ],
         "yaxis": "y"
        },
        {
         "hovertemplate": "SourceOrgs=HURRICANE<br>Week=%{x}<br>TotalBytes=%{y}<extra></extra>",
         "legendgroup": "HURRICANE",
         "line": {
          "color": "#00cc96",
          "dash": "dash",
          "width": 8
         },
         "marker": {
          "size": 18,
          "symbol": "x"
         },
         "mode": "lines+markers",
         "name": "HURRICANE",
         "orientation": "v",
         "showlegend": true,
         "type": "scatter",
         "x": [
          "Feb 2020",
          "Apr 2020",
          "Sept 2020",
          "Sept 2021"
         ],
         "xaxis": "x",
         "y": [
          16256291152,
          30287929511,
          24819174207,
          52959522830
         ],
         "yaxis": "y"
        },
        {
         "hovertemplate": "SourceOrgs=WorkBandaLarga<br>Week=%{x}<br>TotalBytes=%{y}<extra></extra>",
         "legendgroup": "WorkBandaLarga",
         "line": {
          "color": "#ab63fa",
          "dash": "longdash",
          "width": 8
         },
         "marker": {
          "size": 18,
          "symbol": "cross"
         },
         "mode": "lines+markers",
         "name": "WorkBandaLarga",
         "orientation": "v",
         "showlegend": true,
         "type": "scatter",
         "x": [
          "Feb 2020"
         ],
         "xaxis": "x",
         "y": [
          15581602795
         ],
         "yaxis": "y"
        },
        {
         "hovertemplate": "SourceOrgs=SHAW<br>Week=%{x}<br>TotalBytes=%{y}<extra></extra>",
         "legendgroup": "SHAW",
         "line": {
          "color": "#613659",
          "dash": "dashdot",
          "width": 8
         },
         "marker": {
          "size": 18,
          "symbol": "circle"
         },
         "mode": "lines+markers",
         "name": "SHAW",
         "orientation": "v",
         "showlegend": true,
         "type": "scatter",
         "x": [
          "Apr 2020",
          "Sept 2020",
          "Sept 2021"
         ],
         "xaxis": "x",
         "y": [
          35358225285,
          137109994946,
          53846359384
         ],
         "yaxis": "y"
        },
        {
         "hovertemplate": "SourceOrgs=DataWebGlobal.<br>Week=%{x}<br>TotalBytes=%{y}<extra></extra>",
         "legendgroup": "DataWebGlobal.",
         "line": {
          "color": "#FFA15A",
          "dash": "longdashdot",
          "width": 8
         },
         "marker": {
          "size": 18,
          "symbol": "diamond"
         },
         "mode": "lines+markers",
         "name": "DataWebGlobal.",
         "orientation": "v",
         "showlegend": true,
         "type": "scatter",
         "x": [
          "Apr 2020"
         ],
         "xaxis": "x",
         "y": [
          21818068244
         ],
         "yaxis": "y"
        },
        {
         "hovertemplate": "SourceOrgs=COMCAST-7922<br>Week=%{x}<br>TotalBytes=%{y}<extra></extra>",
         "legendgroup": "COMCAST-7922",
         "line": {
          "color": "#19d3f3",
          "dash": "solid",
          "width": 8
         },
         "marker": {
          "size": 18,
          "symbol": "square"
         },
         "mode": "lines+markers",
         "name": "COMCAST-7922",
         "orientation": "v",
         "showlegend": true,
         "type": "scatter",
         "x": [
          "Apr 2020",
          "Sept 2020"
         ],
         "xaxis": "x",
         "y": [
          20934424412,
          20246454536
         ],
         "yaxis": "y"
        },
        {
         "hovertemplate": "SourceOrgs=TELUS<br>Week=%{x}<br>TotalBytes=%{y}<extra></extra>",
         "legendgroup": "TELUS",
         "line": {
          "color": "#db1f48",
          "dash": "dot",
          "width": 8
         },
         "marker": {
          "size": 18,
          "symbol": "x"
         },
         "mode": "lines+markers",
         "name": "TELUS",
         "orientation": "v",
         "showlegend": true,
         "type": "scatter",
         "x": [
          "Apr 2020",
          "Sept 2020"
         ],
         "xaxis": "x",
         "y": [
          18691937677,
          100041422522
         ],
         "yaxis": "y"
        },
        {
         "hovertemplate": "SourceOrgs=AMAZON<br>Week=%{x}<br>TotalBytes=%{y}<extra></extra>",
         "legendgroup": "AMAZON",
         "line": {
          "color": "#212E3C",
          "dash": "dash",
          "width": 8
         },
         "marker": {
          "size": 18,
          "symbol": "cross"
         },
         "mode": "lines+markers",
         "name": "AMAZON",
         "orientation": "v",
         "showlegend": true,
         "type": "scatter",
         "x": [
          "Apr 2020",
          "Sept 2020",
          "Sept 2021"
         ],
         "xaxis": "x",
         "y": [
          14458417431,
          21289717319,
          31112343800
         ],
         "yaxis": "y"
        },
        {
         "hovertemplate": "SourceOrgs=HetznerOnlineGmbH<br>Week=%{x}<br>TotalBytes=%{y}<extra></extra>",
         "legendgroup": "HetznerOnlineGmbH",
         "line": {
          "color": "#FF6692",
          "dash": "longdash",
          "width": 8
         },
         "marker": {
          "size": 18,
          "symbol": "circle"
         },
         "mode": "lines+markers",
         "name": "HetznerOnlineGmbH",
         "orientation": "v",
         "showlegend": true,
         "type": "scatter",
         "x": [
          "Apr 2020"
         ],
         "xaxis": "x",
         "y": [
          9866288856
         ],
         "yaxis": "y"
        },
        {
         "hovertemplate": "SourceOrgs=WOW<br>Week=%{x}<br>TotalBytes=%{y}<extra></extra>",
         "legendgroup": "WOW",
         "line": {
          "color": "#B6E880",
          "dash": "dashdot",
          "width": 8
         },
         "marker": {
          "size": 18,
          "symbol": "diamond"
         },
         "mode": "lines+markers",
         "name": "WOW",
         "orientation": "v",
         "showlegend": true,
         "type": "scatter",
         "x": [
          "Apr 2020"
         ],
         "xaxis": "x",
         "y": [
          9702833143
         ],
         "yaxis": "y"
        },
        {
         "hovertemplate": "SourceOrgs=SEMrushCYLTD<br>Week=%{x}<br>TotalBytes=%{y}<extra></extra>",
         "legendgroup": "SEMrushCYLTD",
         "line": {
          "color": "#FF97FF",
          "dash": "longdashdot",
          "width": 8
         },
         "marker": {
          "size": 18,
          "symbol": "square"
         },
         "mode": "lines+markers",
         "name": "SEMrushCYLTD",
         "orientation": "v",
         "showlegend": true,
         "type": "scatter",
         "x": [
          "Sept 2020",
          "Sept 2021"
         ],
         "xaxis": "x",
         "y": [
          39928408989,
          48548416485
         ],
         "yaxis": "y"
        },
        {
         "hovertemplate": "SourceOrgs=HUAWEICLOUDS<br>Week=%{x}<br>TotalBytes=%{y}<extra></extra>",
         "legendgroup": "HUAWEICLOUDS",
         "line": {
          "color": "#FECB52",
          "dash": "solid",
          "width": 8
         },
         "marker": {
          "size": 18,
          "symbol": "x"
         },
         "mode": "lines+markers",
         "name": "HUAWEICLOUDS",
         "orientation": "v",
         "showlegend": true,
         "type": "scatter",
         "x": [
          "Sept 2020"
         ],
         "xaxis": "x",
         "y": [
          32892104836
         ],
         "yaxis": "y"
        },
        {
         "hovertemplate": "SourceOrgs=ChinaMobileCo.<br>Week=%{x}<br>TotalBytes=%{y}<extra></extra>",
         "legendgroup": "ChinaMobileCo.",
         "line": {
          "color": "#636efa",
          "dash": "dot",
          "width": 8
         },
         "marker": {
          "size": 18,
          "symbol": "cross"
         },
         "mode": "lines+markers",
         "name": "ChinaMobileCo.",
         "orientation": "v",
         "showlegend": true,
         "type": "scatter",
         "x": [
          "Sept 2020"
         ],
         "xaxis": "x",
         "y": [
          18131572657
         ],
         "yaxis": "y"
        },
        {
         "hovertemplate": "SourceOrgs=VFDFV.Deutschen<br>Week=%{x}<br>TotalBytes=%{y}<extra></extra>",
         "legendgroup": "VFDFV.Deutschen",
         "line": {
          "color": "#EF553B",
          "dash": "dash",
          "width": 8
         },
         "marker": {
          "size": 18,
          "symbol": "circle"
         },
         "mode": "lines+markers",
         "name": "VFDFV.Deutschen",
         "orientation": "v",
         "showlegend": true,
         "type": "scatter",
         "x": [
          "Sept 2020"
         ],
         "xaxis": "x",
         "y": [
          14399337315
         ],
         "yaxis": "y"
        },
        {
         "hovertemplate": "SourceOrgs=STEADFAST<br>Week=%{x}<br>TotalBytes=%{y}<extra></extra>",
         "legendgroup": "STEADFAST",
         "line": {
          "color": "#00cc96",
          "dash": "longdash",
          "width": 8
         },
         "marker": {
          "size": 18,
          "symbol": "diamond"
         },
         "mode": "lines+markers",
         "name": "STEADFAST",
         "orientation": "v",
         "showlegend": true,
         "type": "scatter",
         "x": [
          "Sept 2021"
         ],
         "xaxis": "x",
         "y": [
          41638865697
         ],
         "yaxis": "y"
        },
        {
         "hovertemplate": "SourceOrgs=SOFTLAYER<br>Week=%{x}<br>TotalBytes=%{y}<extra></extra>",
         "legendgroup": "SOFTLAYER",
         "line": {
          "color": "#ab63fa",
          "dash": "dashdot",
          "width": 8
         },
         "marker": {
          "size": 18,
          "symbol": "square"
         },
         "mode": "lines+markers",
         "name": "SOFTLAYER",
         "orientation": "v",
         "showlegend": true,
         "type": "scatter",
         "x": [
          "Sept 2021"
         ],
         "xaxis": "x",
         "y": [
          26994979921
         ],
         "yaxis": "y"
        },
        {
         "hovertemplate": "SourceOrgs=QUADRANET-GLOBAL<br>Week=%{x}<br>TotalBytes=%{y}<extra></extra>",
         "legendgroup": "QUADRANET-GLOBAL",
         "line": {
          "color": "#FFA15A",
          "dash": "longdashdot",
          "width": 8
         },
         "marker": {
          "size": 18,
          "symbol": "x"
         },
         "mode": "lines+markers",
         "name": "QUADRANET-GLOBAL",
         "orientation": "v",
         "showlegend": true,
         "type": "scatter",
         "x": [
          "Sept 2021"
         ],
         "xaxis": "x",
         "y": [
          26395001131
         ],
         "yaxis": "y"
        },
        {
         "hovertemplate": "SourceOrgs=IWEB-AS<br>Week=%{x}<br>TotalBytes=%{y}<extra></extra>",
         "legendgroup": "IWEB-AS",
         "line": {
          "color": "#19d3f3",
          "dash": "solid",
          "width": 8
         },
         "marker": {
          "size": 18,
          "symbol": "cross"
         },
         "mode": "lines+markers",
         "name": "IWEB-AS",
         "orientation": "v",
         "showlegend": true,
         "type": "scatter",
         "x": [
          "Sept 2021"
         ],
         "xaxis": "x",
         "y": [
          19699162560
         ],
         "yaxis": "y"
        },
        {
         "hovertemplate": "SourceOrgs=HVC-AS<br>Week=%{x}<br>TotalBytes=%{y}<extra></extra>",
         "legendgroup": "HVC-AS",
         "line": {
          "color": "#FF6692",
          "dash": "dot",
          "width": 8
         },
         "marker": {
          "size": 18,
          "symbol": "circle"
         },
         "mode": "lines+markers",
         "name": "HVC-AS",
         "orientation": "v",
         "showlegend": true,
         "type": "scatter",
         "x": [
          "Sept 2021"
         ],
         "xaxis": "x",
         "y": [
          16763832811
         ],
         "yaxis": "y"
        }
       ],
       "layout": {
        "font": {
         "size": 30
        },
        "height": 900,
        "legend": {
         "font": {
          "size": 18.9
         },
         "itemwidth": 80,
         "title": {
          "text": "SourceOrgs"
         },
         "tracegroupgap": 0
        },
        "margin": {
         "t": 60
        },
        "plot_bgcolor": "white",
        "template": {
         "data": {
          "bar": [
           {
            "error_x": {
             "color": "#2a3f5f"
            },
            "error_y": {
             "color": "#2a3f5f"
            },
            "marker": {
             "line": {
              "color": "#E5ECF6",
              "width": 0.5
             },
             "pattern": {
              "fillmode": "overlay",
              "size": 10,
              "solidity": 0.2
             }
            },
            "type": "bar"
           }
          ],
          "barpolar": [
           {
            "marker": {
             "line": {
              "color": "#E5ECF6",
              "width": 0.5
             },
             "pattern": {
              "fillmode": "overlay",
              "size": 10,
              "solidity": 0.2
             }
            },
            "type": "barpolar"
           }
          ],
          "carpet": [
           {
            "aaxis": {
             "endlinecolor": "#2a3f5f",
             "gridcolor": "white",
             "linecolor": "white",
             "minorgridcolor": "white",
             "startlinecolor": "#2a3f5f"
            },
            "baxis": {
             "endlinecolor": "#2a3f5f",
             "gridcolor": "white",
             "linecolor": "white",
             "minorgridcolor": "white",
             "startlinecolor": "#2a3f5f"
            },
            "type": "carpet"
           }
          ],
          "choropleth": [
           {
            "colorbar": {
             "outlinewidth": 0,
             "ticks": ""
            },
            "type": "choropleth"
           }
          ],
          "contour": [
           {
            "colorbar": {
             "outlinewidth": 0,
             "ticks": ""
            },
            "colorscale": [
             [
              0,
              "#0d0887"
             ],
             [
              0.1111111111111111,
              "#46039f"
             ],
             [
              0.2222222222222222,
              "#7201a8"
             ],
             [
              0.3333333333333333,
              "#9c179e"
             ],
             [
              0.4444444444444444,
              "#bd3786"
             ],
             [
              0.5555555555555556,
              "#d8576b"
             ],
             [
              0.6666666666666666,
              "#ed7953"
             ],
             [
              0.7777777777777778,
              "#fb9f3a"
             ],
             [
              0.8888888888888888,
              "#fdca26"
             ],
             [
              1,
              "#f0f921"
             ]
            ],
            "type": "contour"
           }
          ],
          "contourcarpet": [
           {
            "colorbar": {
             "outlinewidth": 0,
             "ticks": ""
            },
            "type": "contourcarpet"
           }
          ],
          "heatmap": [
           {
            "colorbar": {
             "outlinewidth": 0,
             "ticks": ""
            },
            "colorscale": [
             [
              0,
              "#0d0887"
             ],
             [
              0.1111111111111111,
              "#46039f"
             ],
             [
              0.2222222222222222,
              "#7201a8"
             ],
             [
              0.3333333333333333,
              "#9c179e"
             ],
             [
              0.4444444444444444,
              "#bd3786"
             ],
             [
              0.5555555555555556,
              "#d8576b"
             ],
             [
              0.6666666666666666,
              "#ed7953"
             ],
             [
              0.7777777777777778,
              "#fb9f3a"
             ],
             [
              0.8888888888888888,
              "#fdca26"
             ],
             [
              1,
              "#f0f921"
             ]
            ],
            "type": "heatmap"
           }
          ],
          "heatmapgl": [
           {
            "colorbar": {
             "outlinewidth": 0,
             "ticks": ""
            },
            "colorscale": [
             [
              0,
              "#0d0887"
             ],
             [
              0.1111111111111111,
              "#46039f"
             ],
             [
              0.2222222222222222,
              "#7201a8"
             ],
             [
              0.3333333333333333,
              "#9c179e"
             ],
             [
              0.4444444444444444,
              "#bd3786"
             ],
             [
              0.5555555555555556,
              "#d8576b"
             ],
             [
              0.6666666666666666,
              "#ed7953"
             ],
             [
              0.7777777777777778,
              "#fb9f3a"
             ],
             [
              0.8888888888888888,
              "#fdca26"
             ],
             [
              1,
              "#f0f921"
             ]
            ],
            "type": "heatmapgl"
           }
          ],
          "histogram": [
           {
            "marker": {
             "pattern": {
              "fillmode": "overlay",
              "size": 10,
              "solidity": 0.2
             }
            },
            "type": "histogram"
           }
          ],
          "histogram2d": [
           {
            "colorbar": {
             "outlinewidth": 0,
             "ticks": ""
            },
            "colorscale": [
             [
              0,
              "#0d0887"
             ],
             [
              0.1111111111111111,
              "#46039f"
             ],
             [
              0.2222222222222222,
              "#7201a8"
             ],
             [
              0.3333333333333333,
              "#9c179e"
             ],
             [
              0.4444444444444444,
              "#bd3786"
             ],
             [
              0.5555555555555556,
              "#d8576b"
             ],
             [
              0.6666666666666666,
              "#ed7953"
             ],
             [
              0.7777777777777778,
              "#fb9f3a"
             ],
             [
              0.8888888888888888,
              "#fdca26"
             ],
             [
              1,
              "#f0f921"
             ]
            ],
            "type": "histogram2d"
           }
          ],
          "histogram2dcontour": [
           {
            "colorbar": {
             "outlinewidth": 0,
             "ticks": ""
            },
            "colorscale": [
             [
              0,
              "#0d0887"
             ],
             [
              0.1111111111111111,
              "#46039f"
             ],
             [
              0.2222222222222222,
              "#7201a8"
             ],
             [
              0.3333333333333333,
              "#9c179e"
             ],
             [
              0.4444444444444444,
              "#bd3786"
             ],
             [
              0.5555555555555556,
              "#d8576b"
             ],
             [
              0.6666666666666666,
              "#ed7953"
             ],
             [
              0.7777777777777778,
              "#fb9f3a"
             ],
             [
              0.8888888888888888,
              "#fdca26"
             ],
             [
              1,
              "#f0f921"
             ]
            ],
            "type": "histogram2dcontour"
           }
          ],
          "mesh3d": [
           {
            "colorbar": {
             "outlinewidth": 0,
             "ticks": ""
            },
            "type": "mesh3d"
           }
          ],
          "parcoords": [
           {
            "line": {
             "colorbar": {
              "outlinewidth": 0,
              "ticks": ""
             }
            },
            "type": "parcoords"
           }
          ],
          "pie": [
           {
            "automargin": true,
            "type": "pie"
           }
          ],
          "scatter": [
           {
            "fillpattern": {
             "fillmode": "overlay",
             "size": 10,
             "solidity": 0.2
            },
            "type": "scatter"
           }
          ],
          "scatter3d": [
           {
            "line": {
             "colorbar": {
              "outlinewidth": 0,
              "ticks": ""
             }
            },
            "marker": {
             "colorbar": {
              "outlinewidth": 0,
              "ticks": ""
             }
            },
            "type": "scatter3d"
           }
          ],
          "scattercarpet": [
           {
            "marker": {
             "colorbar": {
              "outlinewidth": 0,
              "ticks": ""
             }
            },
            "type": "scattercarpet"
           }
          ],
          "scattergeo": [
           {
            "marker": {
             "colorbar": {
              "outlinewidth": 0,
              "ticks": ""
             }
            },
            "type": "scattergeo"
           }
          ],
          "scattergl": [
           {
            "marker": {
             "colorbar": {
              "outlinewidth": 0,
              "ticks": ""
             }
            },
            "type": "scattergl"
           }
          ],
          "scattermapbox": [
           {
            "marker": {
             "colorbar": {
              "outlinewidth": 0,
              "ticks": ""
             }
            },
            "type": "scattermapbox"
           }
          ],
          "scatterpolar": [
           {
            "marker": {
             "colorbar": {
              "outlinewidth": 0,
              "ticks": ""
             }
            },
            "type": "scatterpolar"
           }
          ],
          "scatterpolargl": [
           {
            "marker": {
             "colorbar": {
              "outlinewidth": 0,
              "ticks": ""
             }
            },
            "type": "scatterpolargl"
           }
          ],
          "scatterternary": [
           {
            "marker": {
             "colorbar": {
              "outlinewidth": 0,
              "ticks": ""
             }
            },
            "type": "scatterternary"
           }
          ],
          "surface": [
           {
            "colorbar": {
             "outlinewidth": 0,
             "ticks": ""
            },
            "colorscale": [
             [
              0,
              "#0d0887"
             ],
             [
              0.1111111111111111,
              "#46039f"
             ],
             [
              0.2222222222222222,
              "#7201a8"
             ],
             [
              0.3333333333333333,
              "#9c179e"
             ],
             [
              0.4444444444444444,
              "#bd3786"
             ],
             [
              0.5555555555555556,
              "#d8576b"
             ],
             [
              0.6666666666666666,
              "#ed7953"
             ],
             [
              0.7777777777777778,
              "#fb9f3a"
             ],
             [
              0.8888888888888888,
              "#fdca26"
             ],
             [
              1,
              "#f0f921"
             ]
            ],
            "type": "surface"
           }
          ],
          "table": [
           {
            "cells": {
             "fill": {
              "color": "#EBF0F8"
             },
             "line": {
              "color": "white"
             }
            },
            "header": {
             "fill": {
              "color": "#C8D4E3"
             },
             "line": {
              "color": "white"
             }
            },
            "type": "table"
           }
          ]
         },
         "layout": {
          "annotationdefaults": {
           "arrowcolor": "#2a3f5f",
           "arrowhead": 0,
           "arrowwidth": 1
          },
          "autotypenumbers": "strict",
          "coloraxis": {
           "colorbar": {
            "outlinewidth": 0,
            "ticks": ""
           }
          },
          "colorscale": {
           "diverging": [
            [
             0,
             "#8e0152"
            ],
            [
             0.1,
             "#c51b7d"
            ],
            [
             0.2,
             "#de77ae"
            ],
            [
             0.3,
             "#f1b6da"
            ],
            [
             0.4,
             "#fde0ef"
            ],
            [
             0.5,
             "#f7f7f7"
            ],
            [
             0.6,
             "#e6f5d0"
            ],
            [
             0.7,
             "#b8e186"
            ],
            [
             0.8,
             "#7fbc41"
            ],
            [
             0.9,
             "#4d9221"
            ],
            [
             1,
             "#276419"
            ]
           ],
           "sequential": [
            [
             0,
             "#0d0887"
            ],
            [
             0.1111111111111111,
             "#46039f"
            ],
            [
             0.2222222222222222,
             "#7201a8"
            ],
            [
             0.3333333333333333,
             "#9c179e"
            ],
            [
             0.4444444444444444,
             "#bd3786"
            ],
            [
             0.5555555555555556,
             "#d8576b"
            ],
            [
             0.6666666666666666,
             "#ed7953"
            ],
            [
             0.7777777777777778,
             "#fb9f3a"
            ],
            [
             0.8888888888888888,
             "#fdca26"
            ],
            [
             1,
             "#f0f921"
            ]
           ],
           "sequentialminus": [
            [
             0,
             "#0d0887"
            ],
            [
             0.1111111111111111,
             "#46039f"
            ],
            [
             0.2222222222222222,
             "#7201a8"
            ],
            [
             0.3333333333333333,
             "#9c179e"
            ],
            [
             0.4444444444444444,
             "#bd3786"
            ],
            [
             0.5555555555555556,
             "#d8576b"
            ],
            [
             0.6666666666666666,
             "#ed7953"
            ],
            [
             0.7777777777777778,
             "#fb9f3a"
            ],
            [
             0.8888888888888888,
             "#fdca26"
            ],
            [
             1,
             "#f0f921"
            ]
           ]
          },
          "colorway": [
           "#636efa",
           "#EF553B",
           "#00cc96",
           "#ab63fa",
           "#FFA15A",
           "#19d3f3",
           "#FF6692",
           "#B6E880",
           "#FF97FF",
           "#FECB52"
          ],
          "font": {
           "color": "#2a3f5f"
          },
          "geo": {
           "bgcolor": "white",
           "lakecolor": "white",
           "landcolor": "#E5ECF6",
           "showlakes": true,
           "showland": true,
           "subunitcolor": "white"
          },
          "hoverlabel": {
           "align": "left"
          },
          "hovermode": "closest",
          "mapbox": {
           "style": "light"
          },
          "paper_bgcolor": "white",
          "plot_bgcolor": "#E5ECF6",
          "polar": {
           "angularaxis": {
            "gridcolor": "white",
            "linecolor": "white",
            "ticks": ""
           },
           "bgcolor": "#E5ECF6",
           "radialaxis": {
            "gridcolor": "white",
            "linecolor": "white",
            "ticks": ""
           }
          },
          "scene": {
           "xaxis": {
            "backgroundcolor": "#E5ECF6",
            "gridcolor": "white",
            "gridwidth": 2,
            "linecolor": "white",
            "showbackground": true,
            "ticks": "",
            "zerolinecolor": "white"
           },
           "yaxis": {
            "backgroundcolor": "#E5ECF6",
            "gridcolor": "white",
            "gridwidth": 2,
            "linecolor": "white",
            "showbackground": true,
            "ticks": "",
            "zerolinecolor": "white"
           },
           "zaxis": {
            "backgroundcolor": "#E5ECF6",
            "gridcolor": "white",
            "gridwidth": 2,
            "linecolor": "white",
            "showbackground": true,
            "ticks": "",
            "zerolinecolor": "white"
           }
          },
          "shapedefaults": {
           "line": {
            "color": "#2a3f5f"
           }
          },
          "ternary": {
           "aaxis": {
            "gridcolor": "white",
            "linecolor": "white",
            "ticks": ""
           },
           "baxis": {
            "gridcolor": "white",
            "linecolor": "white",
            "ticks": ""
           },
           "bgcolor": "#E5ECF6",
           "caxis": {
            "gridcolor": "white",
            "linecolor": "white",
            "ticks": ""
           }
          },
          "title": {
           "x": 0.05
          },
          "xaxis": {
           "automargin": true,
           "gridcolor": "white",
           "linecolor": "white",
           "ticks": "",
           "title": {
            "standoff": 15
           },
           "zerolinecolor": "white",
           "zerolinewidth": 2
          },
          "yaxis": {
           "automargin": true,
           "gridcolor": "white",
           "linecolor": "white",
           "ticks": "",
           "title": {
            "standoff": 15
           },
           "zerolinecolor": "white",
           "zerolinewidth": 2
          }
         }
        },
        "width": 1300,
        "xaxis": {
         "anchor": "y",
         "domain": [
          0,
          1
         ],
         "gridcolor": "LightGray",
         "gridwidth": 1,
         "showgrid": true,
         "title": {
          "text": "Week"
         }
        },
        "yaxis": {
         "anchor": "x",
         "domain": [
          0,
          1
         ],
         "gridcolor": "LightGray",
         "gridwidth": 1,
         "showgrid": true,
         "ticktext": [
          "8 GB",
          "10 GB",
          "20 GB",
          "40 GB",
          "60 GB",
          "80 GB",
          "100 GB",
          "200 GB"
         ],
         "tickvals": [
          8589934592,
          10737418240,
          21474836480,
          42949672960,
          64424509440,
          85899345920,
          107374182400,
          214748364800
         ],
         "title": {
          "text": "TotalBytes"
         },
         "type": "log"
        }
       }
      },
      "text/html": [
       "<div>                            <div id=\"170ac6a0-2b18-49b0-a236-0cbb9d062329\" class=\"plotly-graph-div\" style=\"height:900px; width:1300px;\"></div>            <script type=\"text/javascript\">                require([\"plotly\"], function(Plotly) {                    window.PLOTLYENV=window.PLOTLYENV || {};                                    if (document.getElementById(\"170ac6a0-2b18-49b0-a236-0cbb9d062329\")) {                    Plotly.newPlot(                        \"170ac6a0-2b18-49b0-a236-0cbb9d062329\",                        [{\"hovertemplate\":\"SourceOrgs=Chinanet<br>Week=%{x}<br>TotalBytes=%{y}<extra></extra>\",\"legendgroup\":\"Chinanet\",\"line\":{\"color\":\"#d3b1c2\",\"dash\":\"solid\",\"width\":8},\"marker\":{\"symbol\":\"circle\",\"size\":18},\"mode\":\"lines+markers\",\"name\":\"Chinanet\",\"orientation\":\"v\",\"showlegend\":true,\"x\":[\"Feb 2020\"],\"xaxis\":\"x\",\"y\":[176360979099],\"yaxis\":\"y\",\"type\":\"scatter\"},{\"hovertemplate\":\"SourceOrgs=OVHSAS<br>Week=%{x}<br>TotalBytes=%{y}<extra></extra>\",\"legendgroup\":\"OVHSAS\",\"line\":{\"color\":\"#FF6692\",\"dash\":\"dot\",\"width\":8},\"marker\":{\"symbol\":\"diamond\",\"size\":18},\"mode\":\"lines+markers\",\"name\":\"OVHSAS\",\"orientation\":\"v\",\"showlegend\":true,\"x\":[\"Feb 2020\",\"Apr 2020\",\"Sept 2020\",\"Sept 2021\"],\"xaxis\":\"x\",\"y\":[77433863674,57206195107,109900484144,56820350914],\"yaxis\":\"y\",\"type\":\"scatter\"},{\"hovertemplate\":\"SourceOrgs=K2TelecomeLtd<br>Week=%{x}<br>TotalBytes=%{y}<extra></extra>\",\"legendgroup\":\"K2TelecomeLtd\",\"line\":{\"color\":\"#B6E880\",\"dash\":\"dash\",\"width\":8},\"marker\":{\"symbol\":\"square\",\"size\":18},\"mode\":\"lines+markers\",\"name\":\"K2TelecomeLtd\",\"orientation\":\"v\",\"showlegend\":true,\"x\":[\"Feb 2020\"],\"xaxis\":\"x\",\"y\":[57887690322],\"yaxis\":\"y\",\"type\":\"scatter\"},{\"hovertemplate\":\"SourceOrgs=TWIDCLimited<br>Week=%{x}<br>TotalBytes=%{y}<extra></extra>\",\"legendgroup\":\"TWIDCLimited\",\"line\":{\"color\":\"#FF97FF\",\"dash\":\"longdash\",\"width\":8},\"marker\":{\"symbol\":\"x\",\"size\":18},\"mode\":\"lines+markers\",\"name\":\"TWIDCLimited\",\"orientation\":\"v\",\"showlegend\":true,\"x\":[\"Feb 2020\"],\"xaxis\":\"x\",\"y\":[48575402942],\"yaxis\":\"y\",\"type\":\"scatter\"},{\"hovertemplate\":\"SourceOrgs=GlobeTelecoms<br>Week=%{x}<br>TotalBytes=%{y}<extra></extra>\",\"legendgroup\":\"GlobeTelecoms\",\"line\":{\"color\":\"#FECB52\",\"dash\":\"dashdot\",\"width\":8},\"marker\":{\"symbol\":\"cross\",\"size\":18},\"mode\":\"lines+markers\",\"name\":\"GlobeTelecoms\",\"orientation\":\"v\",\"showlegend\":true,\"x\":[\"Feb 2020\"],\"xaxis\":\"x\",\"y\":[36521506985],\"yaxis\":\"y\",\"type\":\"scatter\"},{\"hovertemplate\":\"SourceOrgs=Africa-on-Cloud-AS<br>Week=%{x}<br>TotalBytes=%{y}<extra></extra>\",\"legendgroup\":\"Africa-on-Cloud-AS\",\"line\":{\"color\":\"#636efa\",\"dash\":\"longdashdot\",\"width\":8},\"marker\":{\"symbol\":\"circle\",\"size\":18},\"mode\":\"lines+markers\",\"name\":\"Africa-on-Cloud-AS\",\"orientation\":\"v\",\"showlegend\":true,\"x\":[\"Feb 2020\"],\"xaxis\":\"x\",\"y\":[35580502991],\"yaxis\":\"y\",\"type\":\"scatter\"},{\"hovertemplate\":\"SourceOrgs=APPLE<br>Week=%{x}<br>TotalBytes=%{y}<extra></extra>\",\"legendgroup\":\"APPLE\",\"line\":{\"color\":\"#7f7f7f\",\"dash\":\"solid\",\"width\":8},\"marker\":{\"symbol\":\"diamond\",\"size\":18},\"mode\":\"lines+markers\",\"name\":\"APPLE\",\"orientation\":\"v\",\"showlegend\":true,\"x\":[\"Feb 2020\",\"Apr 2020\"],\"xaxis\":\"x\",\"y\":[31436784806,17456139111],\"yaxis\":\"y\",\"type\":\"scatter\"},{\"hovertemplate\":\"SourceOrgs=SmartBroadband,Inc.<br>Week=%{x}<br>TotalBytes=%{y}<extra></extra>\",\"legendgroup\":\"SmartBroadband,Inc.\",\"line\":{\"color\":\"#EF553B\",\"dash\":\"dot\",\"width\":8},\"marker\":{\"symbol\":\"square\",\"size\":18},\"mode\":\"lines+markers\",\"name\":\"SmartBroadband,Inc.\",\"orientation\":\"v\",\"showlegend\":true,\"x\":[\"Feb 2020\"],\"xaxis\":\"x\",\"y\":[22026783238],\"yaxis\":\"y\",\"type\":\"scatter\"},{\"hovertemplate\":\"SourceOrgs=HURRICANE<br>Week=%{x}<br>TotalBytes=%{y}<extra></extra>\",\"legendgroup\":\"HURRICANE\",\"line\":{\"color\":\"#00cc96\",\"dash\":\"dash\",\"width\":8},\"marker\":{\"symbol\":\"x\",\"size\":18},\"mode\":\"lines+markers\",\"name\":\"HURRICANE\",\"orientation\":\"v\",\"showlegend\":true,\"x\":[\"Feb 2020\",\"Apr 2020\",\"Sept 2020\",\"Sept 2021\"],\"xaxis\":\"x\",\"y\":[16256291152,30287929511,24819174207,52959522830],\"yaxis\":\"y\",\"type\":\"scatter\"},{\"hovertemplate\":\"SourceOrgs=WorkBandaLarga<br>Week=%{x}<br>TotalBytes=%{y}<extra></extra>\",\"legendgroup\":\"WorkBandaLarga\",\"line\":{\"color\":\"#ab63fa\",\"dash\":\"longdash\",\"width\":8},\"marker\":{\"symbol\":\"cross\",\"size\":18},\"mode\":\"lines+markers\",\"name\":\"WorkBandaLarga\",\"orientation\":\"v\",\"showlegend\":true,\"x\":[\"Feb 2020\"],\"xaxis\":\"x\",\"y\":[15581602795],\"yaxis\":\"y\",\"type\":\"scatter\"},{\"hovertemplate\":\"SourceOrgs=SHAW<br>Week=%{x}<br>TotalBytes=%{y}<extra></extra>\",\"legendgroup\":\"SHAW\",\"line\":{\"color\":\"#613659\",\"dash\":\"dashdot\",\"width\":8},\"marker\":{\"symbol\":\"circle\",\"size\":18},\"mode\":\"lines+markers\",\"name\":\"SHAW\",\"orientation\":\"v\",\"showlegend\":true,\"x\":[\"Apr 2020\",\"Sept 2020\",\"Sept 2021\"],\"xaxis\":\"x\",\"y\":[35358225285,137109994946,53846359384],\"yaxis\":\"y\",\"type\":\"scatter\"},{\"hovertemplate\":\"SourceOrgs=DataWebGlobal.<br>Week=%{x}<br>TotalBytes=%{y}<extra></extra>\",\"legendgroup\":\"DataWebGlobal.\",\"line\":{\"color\":\"#FFA15A\",\"dash\":\"longdashdot\",\"width\":8},\"marker\":{\"symbol\":\"diamond\",\"size\":18},\"mode\":\"lines+markers\",\"name\":\"DataWebGlobal.\",\"orientation\":\"v\",\"showlegend\":true,\"x\":[\"Apr 2020\"],\"xaxis\":\"x\",\"y\":[21818068244],\"yaxis\":\"y\",\"type\":\"scatter\"},{\"hovertemplate\":\"SourceOrgs=COMCAST-7922<br>Week=%{x}<br>TotalBytes=%{y}<extra></extra>\",\"legendgroup\":\"COMCAST-7922\",\"line\":{\"color\":\"#19d3f3\",\"dash\":\"solid\",\"width\":8},\"marker\":{\"symbol\":\"square\",\"size\":18},\"mode\":\"lines+markers\",\"name\":\"COMCAST-7922\",\"orientation\":\"v\",\"showlegend\":true,\"x\":[\"Apr 2020\",\"Sept 2020\"],\"xaxis\":\"x\",\"y\":[20934424412,20246454536],\"yaxis\":\"y\",\"type\":\"scatter\"},{\"hovertemplate\":\"SourceOrgs=TELUS<br>Week=%{x}<br>TotalBytes=%{y}<extra></extra>\",\"legendgroup\":\"TELUS\",\"line\":{\"color\":\"#db1f48\",\"dash\":\"dot\",\"width\":8},\"marker\":{\"symbol\":\"x\",\"size\":18},\"mode\":\"lines+markers\",\"name\":\"TELUS\",\"orientation\":\"v\",\"showlegend\":true,\"x\":[\"Apr 2020\",\"Sept 2020\"],\"xaxis\":\"x\",\"y\":[18691937677,100041422522],\"yaxis\":\"y\",\"type\":\"scatter\"},{\"hovertemplate\":\"SourceOrgs=AMAZON<br>Week=%{x}<br>TotalBytes=%{y}<extra></extra>\",\"legendgroup\":\"AMAZON\",\"line\":{\"color\":\"#212E3C\",\"dash\":\"dash\",\"width\":8},\"marker\":{\"symbol\":\"cross\",\"size\":18},\"mode\":\"lines+markers\",\"name\":\"AMAZON\",\"orientation\":\"v\",\"showlegend\":true,\"x\":[\"Apr 2020\",\"Sept 2020\",\"Sept 2021\"],\"xaxis\":\"x\",\"y\":[14458417431,21289717319,31112343800],\"yaxis\":\"y\",\"type\":\"scatter\"},{\"hovertemplate\":\"SourceOrgs=HetznerOnlineGmbH<br>Week=%{x}<br>TotalBytes=%{y}<extra></extra>\",\"legendgroup\":\"HetznerOnlineGmbH\",\"line\":{\"color\":\"#FF6692\",\"dash\":\"longdash\",\"width\":8},\"marker\":{\"symbol\":\"circle\",\"size\":18},\"mode\":\"lines+markers\",\"name\":\"HetznerOnlineGmbH\",\"orientation\":\"v\",\"showlegend\":true,\"x\":[\"Apr 2020\"],\"xaxis\":\"x\",\"y\":[9866288856],\"yaxis\":\"y\",\"type\":\"scatter\"},{\"hovertemplate\":\"SourceOrgs=WOW<br>Week=%{x}<br>TotalBytes=%{y}<extra></extra>\",\"legendgroup\":\"WOW\",\"line\":{\"color\":\"#B6E880\",\"dash\":\"dashdot\",\"width\":8},\"marker\":{\"symbol\":\"diamond\",\"size\":18},\"mode\":\"lines+markers\",\"name\":\"WOW\",\"orientation\":\"v\",\"showlegend\":true,\"x\":[\"Apr 2020\"],\"xaxis\":\"x\",\"y\":[9702833143],\"yaxis\":\"y\",\"type\":\"scatter\"},{\"hovertemplate\":\"SourceOrgs=SEMrushCYLTD<br>Week=%{x}<br>TotalBytes=%{y}<extra></extra>\",\"legendgroup\":\"SEMrushCYLTD\",\"line\":{\"color\":\"#FF97FF\",\"dash\":\"longdashdot\",\"width\":8},\"marker\":{\"symbol\":\"square\",\"size\":18},\"mode\":\"lines+markers\",\"name\":\"SEMrushCYLTD\",\"orientation\":\"v\",\"showlegend\":true,\"x\":[\"Sept 2020\",\"Sept 2021\"],\"xaxis\":\"x\",\"y\":[39928408989,48548416485],\"yaxis\":\"y\",\"type\":\"scatter\"},{\"hovertemplate\":\"SourceOrgs=HUAWEICLOUDS<br>Week=%{x}<br>TotalBytes=%{y}<extra></extra>\",\"legendgroup\":\"HUAWEICLOUDS\",\"line\":{\"color\":\"#FECB52\",\"dash\":\"solid\",\"width\":8},\"marker\":{\"symbol\":\"x\",\"size\":18},\"mode\":\"lines+markers\",\"name\":\"HUAWEICLOUDS\",\"orientation\":\"v\",\"showlegend\":true,\"x\":[\"Sept 2020\"],\"xaxis\":\"x\",\"y\":[32892104836],\"yaxis\":\"y\",\"type\":\"scatter\"},{\"hovertemplate\":\"SourceOrgs=ChinaMobileCo.<br>Week=%{x}<br>TotalBytes=%{y}<extra></extra>\",\"legendgroup\":\"ChinaMobileCo.\",\"line\":{\"color\":\"#636efa\",\"dash\":\"dot\",\"width\":8},\"marker\":{\"symbol\":\"cross\",\"size\":18},\"mode\":\"lines+markers\",\"name\":\"ChinaMobileCo.\",\"orientation\":\"v\",\"showlegend\":true,\"x\":[\"Sept 2020\"],\"xaxis\":\"x\",\"y\":[18131572657],\"yaxis\":\"y\",\"type\":\"scatter\"},{\"hovertemplate\":\"SourceOrgs=VFDFV.Deutschen<br>Week=%{x}<br>TotalBytes=%{y}<extra></extra>\",\"legendgroup\":\"VFDFV.Deutschen\",\"line\":{\"color\":\"#EF553B\",\"dash\":\"dash\",\"width\":8},\"marker\":{\"symbol\":\"circle\",\"size\":18},\"mode\":\"lines+markers\",\"name\":\"VFDFV.Deutschen\",\"orientation\":\"v\",\"showlegend\":true,\"x\":[\"Sept 2020\"],\"xaxis\":\"x\",\"y\":[14399337315],\"yaxis\":\"y\",\"type\":\"scatter\"},{\"hovertemplate\":\"SourceOrgs=STEADFAST<br>Week=%{x}<br>TotalBytes=%{y}<extra></extra>\",\"legendgroup\":\"STEADFAST\",\"line\":{\"color\":\"#00cc96\",\"dash\":\"longdash\",\"width\":8},\"marker\":{\"symbol\":\"diamond\",\"size\":18},\"mode\":\"lines+markers\",\"name\":\"STEADFAST\",\"orientation\":\"v\",\"showlegend\":true,\"x\":[\"Sept 2021\"],\"xaxis\":\"x\",\"y\":[41638865697],\"yaxis\":\"y\",\"type\":\"scatter\"},{\"hovertemplate\":\"SourceOrgs=SOFTLAYER<br>Week=%{x}<br>TotalBytes=%{y}<extra></extra>\",\"legendgroup\":\"SOFTLAYER\",\"line\":{\"color\":\"#ab63fa\",\"dash\":\"dashdot\",\"width\":8},\"marker\":{\"symbol\":\"square\",\"size\":18},\"mode\":\"lines+markers\",\"name\":\"SOFTLAYER\",\"orientation\":\"v\",\"showlegend\":true,\"x\":[\"Sept 2021\"],\"xaxis\":\"x\",\"y\":[26994979921],\"yaxis\":\"y\",\"type\":\"scatter\"},{\"hovertemplate\":\"SourceOrgs=QUADRANET-GLOBAL<br>Week=%{x}<br>TotalBytes=%{y}<extra></extra>\",\"legendgroup\":\"QUADRANET-GLOBAL\",\"line\":{\"color\":\"#FFA15A\",\"dash\":\"longdashdot\",\"width\":8},\"marker\":{\"symbol\":\"x\",\"size\":18},\"mode\":\"lines+markers\",\"name\":\"QUADRANET-GLOBAL\",\"orientation\":\"v\",\"showlegend\":true,\"x\":[\"Sept 2021\"],\"xaxis\":\"x\",\"y\":[26395001131],\"yaxis\":\"y\",\"type\":\"scatter\"},{\"hovertemplate\":\"SourceOrgs=IWEB-AS<br>Week=%{x}<br>TotalBytes=%{y}<extra></extra>\",\"legendgroup\":\"IWEB-AS\",\"line\":{\"color\":\"#19d3f3\",\"dash\":\"solid\",\"width\":8},\"marker\":{\"symbol\":\"cross\",\"size\":18},\"mode\":\"lines+markers\",\"name\":\"IWEB-AS\",\"orientation\":\"v\",\"showlegend\":true,\"x\":[\"Sept 2021\"],\"xaxis\":\"x\",\"y\":[19699162560],\"yaxis\":\"y\",\"type\":\"scatter\"},{\"hovertemplate\":\"SourceOrgs=HVC-AS<br>Week=%{x}<br>TotalBytes=%{y}<extra></extra>\",\"legendgroup\":\"HVC-AS\",\"line\":{\"color\":\"#FF6692\",\"dash\":\"dot\",\"width\":8},\"marker\":{\"symbol\":\"circle\",\"size\":18},\"mode\":\"lines+markers\",\"name\":\"HVC-AS\",\"orientation\":\"v\",\"showlegend\":true,\"x\":[\"Sept 2021\"],\"xaxis\":\"x\",\"y\":[16763832811],\"yaxis\":\"y\",\"type\":\"scatter\"}],                        {\"template\":{\"data\":{\"histogram2dcontour\":[{\"type\":\"histogram2dcontour\",\"colorbar\":{\"outlinewidth\":0,\"ticks\":\"\"},\"colorscale\":[[0.0,\"#0d0887\"],[0.1111111111111111,\"#46039f\"],[0.2222222222222222,\"#7201a8\"],[0.3333333333333333,\"#9c179e\"],[0.4444444444444444,\"#bd3786\"],[0.5555555555555556,\"#d8576b\"],[0.6666666666666666,\"#ed7953\"],[0.7777777777777778,\"#fb9f3a\"],[0.8888888888888888,\"#fdca26\"],[1.0,\"#f0f921\"]]}],\"choropleth\":[{\"type\":\"choropleth\",\"colorbar\":{\"outlinewidth\":0,\"ticks\":\"\"}}],\"histogram2d\":[{\"type\":\"histogram2d\",\"colorbar\":{\"outlinewidth\":0,\"ticks\":\"\"},\"colorscale\":[[0.0,\"#0d0887\"],[0.1111111111111111,\"#46039f\"],[0.2222222222222222,\"#7201a8\"],[0.3333333333333333,\"#9c179e\"],[0.4444444444444444,\"#bd3786\"],[0.5555555555555556,\"#d8576b\"],[0.6666666666666666,\"#ed7953\"],[0.7777777777777778,\"#fb9f3a\"],[0.8888888888888888,\"#fdca26\"],[1.0,\"#f0f921\"]]}],\"heatmap\":[{\"type\":\"heatmap\",\"colorbar\":{\"outlinewidth\":0,\"ticks\":\"\"},\"colorscale\":[[0.0,\"#0d0887\"],[0.1111111111111111,\"#46039f\"],[0.2222222222222222,\"#7201a8\"],[0.3333333333333333,\"#9c179e\"],[0.4444444444444444,\"#bd3786\"],[0.5555555555555556,\"#d8576b\"],[0.6666666666666666,\"#ed7953\"],[0.7777777777777778,\"#fb9f3a\"],[0.8888888888888888,\"#fdca26\"],[1.0,\"#f0f921\"]]}],\"heatmapgl\":[{\"type\":\"heatmapgl\",\"colorbar\":{\"outlinewidth\":0,\"ticks\":\"\"},\"colorscale\":[[0.0,\"#0d0887\"],[0.1111111111111111,\"#46039f\"],[0.2222222222222222,\"#7201a8\"],[0.3333333333333333,\"#9c179e\"],[0.4444444444444444,\"#bd3786\"],[0.5555555555555556,\"#d8576b\"],[0.6666666666666666,\"#ed7953\"],[0.7777777777777778,\"#fb9f3a\"],[0.8888888888888888,\"#fdca26\"],[1.0,\"#f0f921\"]]}],\"contourcarpet\":[{\"type\":\"contourcarpet\",\"colorbar\":{\"outlinewidth\":0,\"ticks\":\"\"}}],\"contour\":[{\"type\":\"contour\",\"colorbar\":{\"outlinewidth\":0,\"ticks\":\"\"},\"colorscale\":[[0.0,\"#0d0887\"],[0.1111111111111111,\"#46039f\"],[0.2222222222222222,\"#7201a8\"],[0.3333333333333333,\"#9c179e\"],[0.4444444444444444,\"#bd3786\"],[0.5555555555555556,\"#d8576b\"],[0.6666666666666666,\"#ed7953\"],[0.7777777777777778,\"#fb9f3a\"],[0.8888888888888888,\"#fdca26\"],[1.0,\"#f0f921\"]]}],\"surface\":[{\"type\":\"surface\",\"colorbar\":{\"outlinewidth\":0,\"ticks\":\"\"},\"colorscale\":[[0.0,\"#0d0887\"],[0.1111111111111111,\"#46039f\"],[0.2222222222222222,\"#7201a8\"],[0.3333333333333333,\"#9c179e\"],[0.4444444444444444,\"#bd3786\"],[0.5555555555555556,\"#d8576b\"],[0.6666666666666666,\"#ed7953\"],[0.7777777777777778,\"#fb9f3a\"],[0.8888888888888888,\"#fdca26\"],[1.0,\"#f0f921\"]]}],\"mesh3d\":[{\"type\":\"mesh3d\",\"colorbar\":{\"outlinewidth\":0,\"ticks\":\"\"}}],\"scatter\":[{\"fillpattern\":{\"fillmode\":\"overlay\",\"size\":10,\"solidity\":0.2},\"type\":\"scatter\"}],\"parcoords\":[{\"type\":\"parcoords\",\"line\":{\"colorbar\":{\"outlinewidth\":0,\"ticks\":\"\"}}}],\"scatterpolargl\":[{\"type\":\"scatterpolargl\",\"marker\":{\"colorbar\":{\"outlinewidth\":0,\"ticks\":\"\"}}}],\"bar\":[{\"error_x\":{\"color\":\"#2a3f5f\"},\"error_y\":{\"color\":\"#2a3f5f\"},\"marker\":{\"line\":{\"color\":\"#E5ECF6\",\"width\":0.5},\"pattern\":{\"fillmode\":\"overlay\",\"size\":10,\"solidity\":0.2}},\"type\":\"bar\"}],\"scattergeo\":[{\"type\":\"scattergeo\",\"marker\":{\"colorbar\":{\"outlinewidth\":0,\"ticks\":\"\"}}}],\"scatterpolar\":[{\"type\":\"scatterpolar\",\"marker\":{\"colorbar\":{\"outlinewidth\":0,\"ticks\":\"\"}}}],\"histogram\":[{\"marker\":{\"pattern\":{\"fillmode\":\"overlay\",\"size\":10,\"solidity\":0.2}},\"type\":\"histogram\"}],\"scattergl\":[{\"type\":\"scattergl\",\"marker\":{\"colorbar\":{\"outlinewidth\":0,\"ticks\":\"\"}}}],\"scatter3d\":[{\"type\":\"scatter3d\",\"line\":{\"colorbar\":{\"outlinewidth\":0,\"ticks\":\"\"}},\"marker\":{\"colorbar\":{\"outlinewidth\":0,\"ticks\":\"\"}}}],\"scattermapbox\":[{\"type\":\"scattermapbox\",\"marker\":{\"colorbar\":{\"outlinewidth\":0,\"ticks\":\"\"}}}],\"scatterternary\":[{\"type\":\"scatterternary\",\"marker\":{\"colorbar\":{\"outlinewidth\":0,\"ticks\":\"\"}}}],\"scattercarpet\":[{\"type\":\"scattercarpet\",\"marker\":{\"colorbar\":{\"outlinewidth\":0,\"ticks\":\"\"}}}],\"carpet\":[{\"aaxis\":{\"endlinecolor\":\"#2a3f5f\",\"gridcolor\":\"white\",\"linecolor\":\"white\",\"minorgridcolor\":\"white\",\"startlinecolor\":\"#2a3f5f\"},\"baxis\":{\"endlinecolor\":\"#2a3f5f\",\"gridcolor\":\"white\",\"linecolor\":\"white\",\"minorgridcolor\":\"white\",\"startlinecolor\":\"#2a3f5f\"},\"type\":\"carpet\"}],\"table\":[{\"cells\":{\"fill\":{\"color\":\"#EBF0F8\"},\"line\":{\"color\":\"white\"}},\"header\":{\"fill\":{\"color\":\"#C8D4E3\"},\"line\":{\"color\":\"white\"}},\"type\":\"table\"}],\"barpolar\":[{\"marker\":{\"line\":{\"color\":\"#E5ECF6\",\"width\":0.5},\"pattern\":{\"fillmode\":\"overlay\",\"size\":10,\"solidity\":0.2}},\"type\":\"barpolar\"}],\"pie\":[{\"automargin\":true,\"type\":\"pie\"}]},\"layout\":{\"autotypenumbers\":\"strict\",\"colorway\":[\"#636efa\",\"#EF553B\",\"#00cc96\",\"#ab63fa\",\"#FFA15A\",\"#19d3f3\",\"#FF6692\",\"#B6E880\",\"#FF97FF\",\"#FECB52\"],\"font\":{\"color\":\"#2a3f5f\"},\"hovermode\":\"closest\",\"hoverlabel\":{\"align\":\"left\"},\"paper_bgcolor\":\"white\",\"plot_bgcolor\":\"#E5ECF6\",\"polar\":{\"bgcolor\":\"#E5ECF6\",\"angularaxis\":{\"gridcolor\":\"white\",\"linecolor\":\"white\",\"ticks\":\"\"},\"radialaxis\":{\"gridcolor\":\"white\",\"linecolor\":\"white\",\"ticks\":\"\"}},\"ternary\":{\"bgcolor\":\"#E5ECF6\",\"aaxis\":{\"gridcolor\":\"white\",\"linecolor\":\"white\",\"ticks\":\"\"},\"baxis\":{\"gridcolor\":\"white\",\"linecolor\":\"white\",\"ticks\":\"\"},\"caxis\":{\"gridcolor\":\"white\",\"linecolor\":\"white\",\"ticks\":\"\"}},\"coloraxis\":{\"colorbar\":{\"outlinewidth\":0,\"ticks\":\"\"}},\"colorscale\":{\"sequential\":[[0.0,\"#0d0887\"],[0.1111111111111111,\"#46039f\"],[0.2222222222222222,\"#7201a8\"],[0.3333333333333333,\"#9c179e\"],[0.4444444444444444,\"#bd3786\"],[0.5555555555555556,\"#d8576b\"],[0.6666666666666666,\"#ed7953\"],[0.7777777777777778,\"#fb9f3a\"],[0.8888888888888888,\"#fdca26\"],[1.0,\"#f0f921\"]],\"sequentialminus\":[[0.0,\"#0d0887\"],[0.1111111111111111,\"#46039f\"],[0.2222222222222222,\"#7201a8\"],[0.3333333333333333,\"#9c179e\"],[0.4444444444444444,\"#bd3786\"],[0.5555555555555556,\"#d8576b\"],[0.6666666666666666,\"#ed7953\"],[0.7777777777777778,\"#fb9f3a\"],[0.8888888888888888,\"#fdca26\"],[1.0,\"#f0f921\"]],\"diverging\":[[0,\"#8e0152\"],[0.1,\"#c51b7d\"],[0.2,\"#de77ae\"],[0.3,\"#f1b6da\"],[0.4,\"#fde0ef\"],[0.5,\"#f7f7f7\"],[0.6,\"#e6f5d0\"],[0.7,\"#b8e186\"],[0.8,\"#7fbc41\"],[0.9,\"#4d9221\"],[1,\"#276419\"]]},\"xaxis\":{\"gridcolor\":\"white\",\"linecolor\":\"white\",\"ticks\":\"\",\"title\":{\"standoff\":15},\"zerolinecolor\":\"white\",\"automargin\":true,\"zerolinewidth\":2},\"yaxis\":{\"gridcolor\":\"white\",\"linecolor\":\"white\",\"ticks\":\"\",\"title\":{\"standoff\":15},\"zerolinecolor\":\"white\",\"automargin\":true,\"zerolinewidth\":2},\"scene\":{\"xaxis\":{\"backgroundcolor\":\"#E5ECF6\",\"gridcolor\":\"white\",\"linecolor\":\"white\",\"showbackground\":true,\"ticks\":\"\",\"zerolinecolor\":\"white\",\"gridwidth\":2},\"yaxis\":{\"backgroundcolor\":\"#E5ECF6\",\"gridcolor\":\"white\",\"linecolor\":\"white\",\"showbackground\":true,\"ticks\":\"\",\"zerolinecolor\":\"white\",\"gridwidth\":2},\"zaxis\":{\"backgroundcolor\":\"#E5ECF6\",\"gridcolor\":\"white\",\"linecolor\":\"white\",\"showbackground\":true,\"ticks\":\"\",\"zerolinecolor\":\"white\",\"gridwidth\":2}},\"shapedefaults\":{\"line\":{\"color\":\"#2a3f5f\"}},\"annotationdefaults\":{\"arrowcolor\":\"#2a3f5f\",\"arrowhead\":0,\"arrowwidth\":1},\"geo\":{\"bgcolor\":\"white\",\"landcolor\":\"#E5ECF6\",\"subunitcolor\":\"white\",\"showland\":true,\"showlakes\":true,\"lakecolor\":\"white\"},\"title\":{\"x\":0.05},\"mapbox\":{\"style\":\"light\"}}},\"xaxis\":{\"anchor\":\"y\",\"domain\":[0.0,1.0],\"title\":{\"text\":\"Week\"},\"showgrid\":true,\"gridwidth\":1,\"gridcolor\":\"LightGray\"},\"yaxis\":{\"anchor\":\"x\",\"domain\":[0.0,1.0],\"title\":{\"text\":\"TotalBytes\"},\"type\":\"log\",\"showgrid\":true,\"gridwidth\":1,\"gridcolor\":\"LightGray\",\"tickvals\":[8589934592,10737418240,21474836480,42949672960,64424509440,85899345920,107374182400,214748364800],\"ticktext\":[\"8 GB\",\"10 GB\",\"20 GB\",\"40 GB\",\"60 GB\",\"80 GB\",\"100 GB\",\"200 GB\"]},\"legend\":{\"title\":{\"text\":\"SourceOrgs\"},\"tracegroupgap\":0,\"font\":{\"size\":18.9},\"itemwidth\":80},\"margin\":{\"t\":60},\"height\":900,\"width\":1300,\"font\":{\"size\":30},\"plot_bgcolor\":\"white\"},                        {\"responsive\": true}                    ).then(function(){\n",
       "                            \n",
       "var gd = document.getElementById('170ac6a0-2b18-49b0-a236-0cbb9d062329');\n",
       "var x = new MutationObserver(function (mutations, observer) {{\n",
       "        var display = window.getComputedStyle(gd).display;\n",
       "        if (!display || display === 'none') {{\n",
       "            console.log([gd, 'removed!']);\n",
       "            Plotly.purge(gd);\n",
       "            observer.disconnect();\n",
       "        }}\n",
       "}});\n",
       "\n",
       "// Listen for the removal of the full notebook cells\n",
       "var notebookContainer = gd.closest('#notebook-container');\n",
       "if (notebookContainer) {{\n",
       "    x.observe(notebookContainer, {childList: true});\n",
       "}}\n",
       "\n",
       "// Listen for the clearing of the current output cell\n",
       "var outputEl = gd.closest('.output');\n",
       "if (outputEl) {{\n",
       "    x.observe(outputEl, {childList: true});\n",
       "}}\n",
       "\n",
       "                        })                };                });            </script>        </div>"
      ]
     },
     "metadata": {},
     "output_type": "display_data"
    }
   ],
   "source": [
    "import plotly.express as px\n",
    "import pandas as pd\n",
    "\n",
    "df_orgs_in = pd.read_csv('/Volumes/GoogleDrive/My Drive/Thesis/Plotly/category_Medical_in_sources.csv')\n",
    "\n",
    "fig_orgs_in_bytes = px.line(df_orgs_in, x='Week', y='TotalBytes', log_y=True, color='SourceOrgs',\n",
    "                            color_discrete_map={'APPLE': '#7f7f7f', 'NETFLIX': '#dc3912', 'AKAMAI': '#ff9900',\n",
    "                                                'CANARIE': '#fb00d1', 'FACEBOOK': '#3366cc', 'GOOGLE': '#109618',\n",
    "                                                'AMAZON': '#212E3C', 'FASTLY': '#8c564b', 'LEVEL3': '#17becf',\n",
    "                                                'MICROSOFT': '#990099', 'EDGECAST': '#316395',\n",
    "                                                'VALVE-CORPORATION': '#bcbd22', 'TELUS': '#db1f48',\n",
    "                                                'SHAW': '#613659', 'BACOM': '#01949a', 'ROGERS': '#81b622',\n",
    "                                                'Chinanet': '#d3b1c2', 'AHS': '#eeb5eb', 'YANDEXLLC': '#fad02c',\n",
    "                                                'NLM-GW': '#055c9d', 'JiscServicesLimited': '#870a30',\n",
    "                                                'BROADINSTITUTE-AS': '#e57f84', 'OoredooQ.S.C.': '#90adc6',\n",
    "                                                'RelianceJioInfocommLimited': '#a16ae8', 'O-NET': '#ffa384',\n",
    "                                                'Vetenskapsradet/SUNET': '#74bdcb', 'VELOCITYNET-01': '#3d5b59',\n",
    "                                                'CHINAUNICOMChina169Backbone': '#ff4500', 'CIPHERKEY': '#b7ac44',\n",
    "                                                'TEKSAVVY': '#52688f', 'BARR-XPLR-ASN': '#d4f1f4',\n",
    "                                                'PRIMUS-AS6407': '#b9b7bd', 'CIKTELECOM-CABLE': '#fb4570',\n",
    "                                                'TWC-11426-CAROLINAS': '#7cf3a0', 'PEGTECHINC': '#f9eac2',\n",
    "                                                'UniversityofQueensland': '#bfd7ed'},\n",
    "                             markers=True, line_dash='SourceOrgs', symbol='SourceOrgs', height=900, width=1300)\n",
    "fig_orgs_in_bytes.update_layout(plot_bgcolor='white', font_size=30, legend_font_size=18.9, legend_itemwidth=80)\n",
    "fig_orgs_in_bytes.update_xaxes(showgrid=True, gridwidth=1, gridcolor='LightGray')\n",
    "fig_orgs_in_bytes.update_yaxes(showgrid=True, gridwidth=1, gridcolor='LightGray',\n",
    "                               tickvals=[8589934592, 10737418240, 21474836480, 42949672960, 64424509440, \n",
    "                                         85899345920, 107374182400, 214748364800],\n",
    "                               ticktext=[\"8 GB\", \"10 GB\", \"20 GB\", \"40 GB\", \"60 GB\", \n",
    "                                         \"80 GB\", \"100 GB\", \"200 GB\"])\n",
    "fig_orgs_in_bytes.update_traces(line_width=8, marker_size=18)\n",
    "\n",
    "fig_orgs_in_bytes.show()"
   ]
  },
  {
   "cell_type": "code",
   "execution_count": null,
   "id": "08481a03",
   "metadata": {},
   "outputs": [],
   "source": []
  }
 ],
 "metadata": {
  "kernelspec": {
   "display_name": "Python 3 (ipykernel)",
   "language": "python",
   "name": "python3"
  },
  "language_info": {
   "codemirror_mode": {
    "name": "ipython",
    "version": 3
   },
   "file_extension": ".py",
   "mimetype": "text/x-python",
   "name": "python",
   "nbconvert_exporter": "python",
   "pygments_lexer": "ipython3",
   "version": "3.9.7"
  }
 },
 "nbformat": 4,
 "nbformat_minor": 5
}
