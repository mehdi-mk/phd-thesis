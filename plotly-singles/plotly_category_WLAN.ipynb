{
 "cells": [
  {
   "cell_type": "code",
   "execution_count": 26,
   "id": "504be422",
   "metadata": {},
   "outputs": [
    {
     "data": {
      "application/vnd.plotly.v1+json": {
       "config": {
        "plotlyServerURL": "https://plot.ly"
       },
       "data": [
        {
         "hovertemplate": "TargetOrgs=NETFLIX<br>Week=%{x}<br>SourceIPs=%{y}<extra></extra>",
         "legendgroup": "NETFLIX",
         "line": {
          "color": "#dc3912",
          "dash": "solid",
          "width": 8
         },
         "marker": {
          "size": 16,
          "symbol": "circle"
         },
         "mode": "markers+lines",
         "name": "NETFLIX",
         "orientation": "v",
         "showlegend": true,
         "type": "scatter",
         "x": [
          "Feb 2020",
          "Apr 2020",
          "Sept 2020",
          "Sept 2021"
         ],
         "xaxis": "x",
         "y": [
          697,
          260,
          377,
          416
         ],
         "yaxis": "y"
        },
        {
         "hovertemplate": "TargetOrgs=AKAMAI<br>Week=%{x}<br>SourceIPs=%{y}<extra></extra>",
         "legendgroup": "AKAMAI",
         "line": {
          "color": "#ff9900",
          "dash": "dot",
          "width": 8
         },
         "marker": {
          "size": 16,
          "symbol": "diamond"
         },
         "mode": "markers+lines",
         "name": "AKAMAI",
         "orientation": "v",
         "showlegend": true,
         "type": "scatter",
         "x": [
          "Feb 2020",
          "Apr 2020",
          "Sept 2020",
          "Sept 2021"
         ],
         "xaxis": "x",
         "y": [
          1141,
          953,
          1047,
          1006
         ],
         "yaxis": "y"
        },
        {
         "hovertemplate": "TargetOrgs=CANARIE<br>Week=%{x}<br>SourceIPs=%{y}<extra></extra>",
         "legendgroup": "CANARIE",
         "line": {
          "color": "#fb00d1",
          "dash": "dash",
          "width": 8
         },
         "marker": {
          "size": 16,
          "symbol": "square"
         },
         "mode": "markers+lines",
         "name": "CANARIE",
         "orientation": "v",
         "showlegend": true,
         "type": "scatter",
         "x": [
          "Feb 2020",
          "Apr 2020",
          "Sept 2020",
          "Sept 2021"
         ],
         "xaxis": "x",
         "y": [
          951,
          525,
          691,
          765
         ],
         "yaxis": "y"
        },
        {
         "hovertemplate": "TargetOrgs=APPLE<br>Week=%{x}<br>SourceIPs=%{y}<extra></extra>",
         "legendgroup": "APPLE",
         "line": {
          "color": "#7f7f7f",
          "dash": "longdash",
          "width": 8
         },
         "marker": {
          "size": 16,
          "symbol": "x"
         },
         "mode": "markers+lines",
         "name": "APPLE",
         "orientation": "v",
         "showlegend": true,
         "type": "scatter",
         "x": [
          "Feb 2020",
          "Apr 2020",
          "Sept 2020",
          "Sept 2021"
         ],
         "xaxis": "x",
         "y": [
          1095,
          660,
          960,
          962
         ],
         "yaxis": "y"
        },
        {
         "hovertemplate": "TargetOrgs=GOOGLE<br>Week=%{x}<br>SourceIPs=%{y}<extra></extra>",
         "legendgroup": "GOOGLE",
         "line": {
          "color": "#109618",
          "dash": "dashdot",
          "width": 8
         },
         "marker": {
          "size": 16,
          "symbol": "cross"
         },
         "mode": "markers+lines",
         "name": "GOOGLE",
         "orientation": "v",
         "showlegend": true,
         "type": "scatter",
         "x": [
          "Feb 2020",
          "Apr 2020",
          "Sept 2020",
          "Sept 2021"
         ],
         "xaxis": "x",
         "y": [
          1131,
          939,
          1045,
          1007
         ],
         "yaxis": "y"
        },
        {
         "hovertemplate": "TargetOrgs=FACEBOOK<br>Week=%{x}<br>SourceIPs=%{y}<extra></extra>",
         "legendgroup": "FACEBOOK",
         "line": {
          "color": "#3366cc",
          "dash": "longdashdot",
          "width": 8
         },
         "marker": {
          "size": 16,
          "symbol": "circle"
         },
         "mode": "markers+lines",
         "name": "FACEBOOK",
         "orientation": "v",
         "showlegend": true,
         "type": "scatter",
         "x": [
          "Feb 2020",
          "Apr 2020",
          "Sept 2020",
          "Sept 2021"
         ],
         "xaxis": "x",
         "y": [
          1105,
          764,
          955,
          971
         ],
         "yaxis": "y"
        },
        {
         "hovertemplate": "TargetOrgs=CHINAUNICOMChina169Backbone<br>Week=%{x}<br>SourceIPs=%{y}<extra></extra>",
         "legendgroup": "CHINAUNICOMChina169Backbone",
         "line": {
          "color": "#ff4500",
          "dash": "solid",
          "width": 8
         },
         "marker": {
          "size": 16,
          "symbol": "diamond"
         },
         "mode": "markers+lines",
         "name": "CHINAUNICOMChina169Backbone",
         "orientation": "v",
         "showlegend": true,
         "type": "scatter",
         "x": [
          "Feb 2020"
         ],
         "xaxis": "x",
         "y": [
          229
         ],
         "yaxis": "y"
        },
        {
         "hovertemplate": "TargetOrgs=AMAZON<br>Week=%{x}<br>SourceIPs=%{y}<extra></extra>",
         "legendgroup": "AMAZON",
         "line": {
          "color": "#212E3C",
          "dash": "dot",
          "width": 8
         },
         "marker": {
          "size": 16,
          "symbol": "square"
         },
         "mode": "markers+lines",
         "name": "AMAZON",
         "orientation": "v",
         "showlegend": true,
         "type": "scatter",
         "x": [
          "Feb 2020",
          "Apr 2020",
          "Sept 2020",
          "Sept 2021"
         ],
         "xaxis": "x",
         "y": [
          1151,
          889,
          1051,
          1010
         ],
         "yaxis": "y"
        },
        {
         "hovertemplate": "TargetOrgs=Africa-on-Cloud-AS<br>Week=%{x}<br>SourceIPs=%{y}<extra></extra>",
         "legendgroup": "Africa-on-Cloud-AS",
         "line": {
          "color": "#FF6692",
          "dash": "dash",
          "width": 8
         },
         "marker": {
          "size": 16,
          "symbol": "x"
         },
         "mode": "markers+lines",
         "name": "Africa-on-Cloud-AS",
         "orientation": "v",
         "showlegend": true,
         "type": "scatter",
         "x": [
          "Feb 2020"
         ],
         "xaxis": "x",
         "y": [
          2
         ],
         "yaxis": "y"
        },
        {
         "hovertemplate": "TargetOrgs=FASTLY<br>Week=%{x}<br>SourceIPs=%{y}<extra></extra>",
         "legendgroup": "FASTLY",
         "line": {
          "color": "#8c564b",
          "dash": "longdash",
          "width": 8
         },
         "marker": {
          "size": 16,
          "symbol": "cross"
         },
         "mode": "markers+lines",
         "name": "FASTLY",
         "orientation": "v",
         "showlegend": true,
         "type": "scatter",
         "x": [
          "Feb 2020",
          "Sept 2020",
          "Sept 2021"
         ],
         "xaxis": "x",
         "y": [
          1031,
          870,
          944
         ],
         "yaxis": "y"
        },
        {
         "hovertemplate": "TargetOrgs=VALVE-CORPORATION<br>Week=%{x}<br>SourceIPs=%{y}<extra></extra>",
         "legendgroup": "VALVE-CORPORATION",
         "line": {
          "color": "#bcbd22",
          "dash": "dashdot",
          "width": 8
         },
         "marker": {
          "size": 16,
          "symbol": "circle"
         },
         "mode": "markers+lines",
         "name": "VALVE-CORPORATION",
         "orientation": "v",
         "showlegend": true,
         "type": "scatter",
         "x": [
          "Apr 2020"
         ],
         "xaxis": "x",
         "y": [
          71
         ],
         "yaxis": "y"
        },
        {
         "hovertemplate": "TargetOrgs=TWITCH<br>Week=%{x}<br>SourceIPs=%{y}<extra></extra>",
         "legendgroup": "TWITCH",
         "line": {
          "color": "#B6E880",
          "dash": "longdashdot",
          "width": 8
         },
         "marker": {
          "size": 16,
          "symbol": "diamond"
         },
         "mode": "markers+lines",
         "name": "TWITCH",
         "orientation": "v",
         "showlegend": true,
         "type": "scatter",
         "x": [
          "Apr 2020",
          "Sept 2020"
         ],
         "xaxis": "x",
         "y": [
          26,
          45
         ],
         "yaxis": "y"
        },
        {
         "hovertemplate": "TargetOrgs=HIGHWINDS<br>Week=%{x}<br>SourceIPs=%{y}<extra></extra>",
         "legendgroup": "HIGHWINDS",
         "line": {
          "color": "#FF97FF",
          "dash": "solid",
          "width": 8
         },
         "marker": {
          "size": 16,
          "symbol": "square"
         },
         "mode": "markers+lines",
         "name": "HIGHWINDS",
         "orientation": "v",
         "showlegend": true,
         "type": "scatter",
         "x": [
          "Apr 2020"
         ],
         "xaxis": "x",
         "y": [
          439
         ],
         "yaxis": "y"
        },
        {
         "hovertemplate": "TargetOrgs=DatacampLimited<br>Week=%{x}<br>SourceIPs=%{y}<extra></extra>",
         "legendgroup": "DatacampLimited",
         "line": {
          "color": "#FECB52",
          "dash": "dot",
          "width": 8
         },
         "marker": {
          "size": 16,
          "symbol": "x"
         },
         "mode": "markers+lines",
         "name": "DatacampLimited",
         "orientation": "v",
         "showlegend": true,
         "type": "scatter",
         "x": [
          "Sept 2020"
         ],
         "xaxis": "x",
         "y": [
          474
         ],
         "yaxis": "y"
        },
        {
         "hovertemplate": "TargetOrgs=SHARCNET<br>Week=%{x}<br>SourceIPs=%{y}<extra></extra>",
         "legendgroup": "SHARCNET",
         "line": {
          "color": "#636efa",
          "dash": "dash",
          "width": 8
         },
         "marker": {
          "size": 16,
          "symbol": "cross"
         },
         "mode": "markers+lines",
         "name": "SHARCNET",
         "orientation": "v",
         "showlegend": true,
         "type": "scatter",
         "x": [
          "Sept 2021"
         ],
         "xaxis": "x",
         "y": [
          3
         ],
         "yaxis": "y"
        },
        {
         "hovertemplate": "TargetOrgs=LEVEL3<br>Week=%{x}<br>SourceIPs=%{y}<extra></extra>",
         "legendgroup": "LEVEL3",
         "line": {
          "color": "#17becf",
          "dash": "longdash",
          "width": 8
         },
         "marker": {
          "size": 16,
          "symbol": "circle"
         },
         "mode": "markers+lines",
         "name": "LEVEL3",
         "orientation": "v",
         "showlegend": true,
         "type": "scatter",
         "x": [
          "Sept 2021"
         ],
         "xaxis": "x",
         "y": [
          436
         ],
         "yaxis": "y"
        }
       ],
       "layout": {
        "font": {
         "size": 30
        },
        "height": 900,
        "legend": {
         "itemwidth": 80,
         "title": {
          "text": "TargetOrgs"
         },
         "tracegroupgap": 0
        },
        "margin": {
         "t": 60
        },
        "plot_bgcolor": "white",
        "showlegend": false,
        "template": {
         "data": {
          "bar": [
           {
            "error_x": {
             "color": "#2a3f5f"
            },
            "error_y": {
             "color": "#2a3f5f"
            },
            "marker": {
             "line": {
              "color": "#E5ECF6",
              "width": 0.5
             },
             "pattern": {
              "fillmode": "overlay",
              "size": 10,
              "solidity": 0.2
             }
            },
            "type": "bar"
           }
          ],
          "barpolar": [
           {
            "marker": {
             "line": {
              "color": "#E5ECF6",
              "width": 0.5
             },
             "pattern": {
              "fillmode": "overlay",
              "size": 10,
              "solidity": 0.2
             }
            },
            "type": "barpolar"
           }
          ],
          "carpet": [
           {
            "aaxis": {
             "endlinecolor": "#2a3f5f",
             "gridcolor": "white",
             "linecolor": "white",
             "minorgridcolor": "white",
             "startlinecolor": "#2a3f5f"
            },
            "baxis": {
             "endlinecolor": "#2a3f5f",
             "gridcolor": "white",
             "linecolor": "white",
             "minorgridcolor": "white",
             "startlinecolor": "#2a3f5f"
            },
            "type": "carpet"
           }
          ],
          "choropleth": [
           {
            "colorbar": {
             "outlinewidth": 0,
             "ticks": ""
            },
            "type": "choropleth"
           }
          ],
          "contour": [
           {
            "colorbar": {
             "outlinewidth": 0,
             "ticks": ""
            },
            "colorscale": [
             [
              0,
              "#0d0887"
             ],
             [
              0.1111111111111111,
              "#46039f"
             ],
             [
              0.2222222222222222,
              "#7201a8"
             ],
             [
              0.3333333333333333,
              "#9c179e"
             ],
             [
              0.4444444444444444,
              "#bd3786"
             ],
             [
              0.5555555555555556,
              "#d8576b"
             ],
             [
              0.6666666666666666,
              "#ed7953"
             ],
             [
              0.7777777777777778,
              "#fb9f3a"
             ],
             [
              0.8888888888888888,
              "#fdca26"
             ],
             [
              1,
              "#f0f921"
             ]
            ],
            "type": "contour"
           }
          ],
          "contourcarpet": [
           {
            "colorbar": {
             "outlinewidth": 0,
             "ticks": ""
            },
            "type": "contourcarpet"
           }
          ],
          "heatmap": [
           {
            "colorbar": {
             "outlinewidth": 0,
             "ticks": ""
            },
            "colorscale": [
             [
              0,
              "#0d0887"
             ],
             [
              0.1111111111111111,
              "#46039f"
             ],
             [
              0.2222222222222222,
              "#7201a8"
             ],
             [
              0.3333333333333333,
              "#9c179e"
             ],
             [
              0.4444444444444444,
              "#bd3786"
             ],
             [
              0.5555555555555556,
              "#d8576b"
             ],
             [
              0.6666666666666666,
              "#ed7953"
             ],
             [
              0.7777777777777778,
              "#fb9f3a"
             ],
             [
              0.8888888888888888,
              "#fdca26"
             ],
             [
              1,
              "#f0f921"
             ]
            ],
            "type": "heatmap"
           }
          ],
          "heatmapgl": [
           {
            "colorbar": {
             "outlinewidth": 0,
             "ticks": ""
            },
            "colorscale": [
             [
              0,
              "#0d0887"
             ],
             [
              0.1111111111111111,
              "#46039f"
             ],
             [
              0.2222222222222222,
              "#7201a8"
             ],
             [
              0.3333333333333333,
              "#9c179e"
             ],
             [
              0.4444444444444444,
              "#bd3786"
             ],
             [
              0.5555555555555556,
              "#d8576b"
             ],
             [
              0.6666666666666666,
              "#ed7953"
             ],
             [
              0.7777777777777778,
              "#fb9f3a"
             ],
             [
              0.8888888888888888,
              "#fdca26"
             ],
             [
              1,
              "#f0f921"
             ]
            ],
            "type": "heatmapgl"
           }
          ],
          "histogram": [
           {
            "marker": {
             "pattern": {
              "fillmode": "overlay",
              "size": 10,
              "solidity": 0.2
             }
            },
            "type": "histogram"
           }
          ],
          "histogram2d": [
           {
            "colorbar": {
             "outlinewidth": 0,
             "ticks": ""
            },
            "colorscale": [
             [
              0,
              "#0d0887"
             ],
             [
              0.1111111111111111,
              "#46039f"
             ],
             [
              0.2222222222222222,
              "#7201a8"
             ],
             [
              0.3333333333333333,
              "#9c179e"
             ],
             [
              0.4444444444444444,
              "#bd3786"
             ],
             [
              0.5555555555555556,
              "#d8576b"
             ],
             [
              0.6666666666666666,
              "#ed7953"
             ],
             [
              0.7777777777777778,
              "#fb9f3a"
             ],
             [
              0.8888888888888888,
              "#fdca26"
             ],
             [
              1,
              "#f0f921"
             ]
            ],
            "type": "histogram2d"
           }
          ],
          "histogram2dcontour": [
           {
            "colorbar": {
             "outlinewidth": 0,
             "ticks": ""
            },
            "colorscale": [
             [
              0,
              "#0d0887"
             ],
             [
              0.1111111111111111,
              "#46039f"
             ],
             [
              0.2222222222222222,
              "#7201a8"
             ],
             [
              0.3333333333333333,
              "#9c179e"
             ],
             [
              0.4444444444444444,
              "#bd3786"
             ],
             [
              0.5555555555555556,
              "#d8576b"
             ],
             [
              0.6666666666666666,
              "#ed7953"
             ],
             [
              0.7777777777777778,
              "#fb9f3a"
             ],
             [
              0.8888888888888888,
              "#fdca26"
             ],
             [
              1,
              "#f0f921"
             ]
            ],
            "type": "histogram2dcontour"
           }
          ],
          "mesh3d": [
           {
            "colorbar": {
             "outlinewidth": 0,
             "ticks": ""
            },
            "type": "mesh3d"
           }
          ],
          "parcoords": [
           {
            "line": {
             "colorbar": {
              "outlinewidth": 0,
              "ticks": ""
             }
            },
            "type": "parcoords"
           }
          ],
          "pie": [
           {
            "automargin": true,
            "type": "pie"
           }
          ],
          "scatter": [
           {
            "fillpattern": {
             "fillmode": "overlay",
             "size": 10,
             "solidity": 0.2
            },
            "type": "scatter"
           }
          ],
          "scatter3d": [
           {
            "line": {
             "colorbar": {
              "outlinewidth": 0,
              "ticks": ""
             }
            },
            "marker": {
             "colorbar": {
              "outlinewidth": 0,
              "ticks": ""
             }
            },
            "type": "scatter3d"
           }
          ],
          "scattercarpet": [
           {
            "marker": {
             "colorbar": {
              "outlinewidth": 0,
              "ticks": ""
             }
            },
            "type": "scattercarpet"
           }
          ],
          "scattergeo": [
           {
            "marker": {
             "colorbar": {
              "outlinewidth": 0,
              "ticks": ""
             }
            },
            "type": "scattergeo"
           }
          ],
          "scattergl": [
           {
            "marker": {
             "colorbar": {
              "outlinewidth": 0,
              "ticks": ""
             }
            },
            "type": "scattergl"
           }
          ],
          "scattermapbox": [
           {
            "marker": {
             "colorbar": {
              "outlinewidth": 0,
              "ticks": ""
             }
            },
            "type": "scattermapbox"
           }
          ],
          "scatterpolar": [
           {
            "marker": {
             "colorbar": {
              "outlinewidth": 0,
              "ticks": ""
             }
            },
            "type": "scatterpolar"
           }
          ],
          "scatterpolargl": [
           {
            "marker": {
             "colorbar": {
              "outlinewidth": 0,
              "ticks": ""
             }
            },
            "type": "scatterpolargl"
           }
          ],
          "scatterternary": [
           {
            "marker": {
             "colorbar": {
              "outlinewidth": 0,
              "ticks": ""
             }
            },
            "type": "scatterternary"
           }
          ],
          "surface": [
           {
            "colorbar": {
             "outlinewidth": 0,
             "ticks": ""
            },
            "colorscale": [
             [
              0,
              "#0d0887"
             ],
             [
              0.1111111111111111,
              "#46039f"
             ],
             [
              0.2222222222222222,
              "#7201a8"
             ],
             [
              0.3333333333333333,
              "#9c179e"
             ],
             [
              0.4444444444444444,
              "#bd3786"
             ],
             [
              0.5555555555555556,
              "#d8576b"
             ],
             [
              0.6666666666666666,
              "#ed7953"
             ],
             [
              0.7777777777777778,
              "#fb9f3a"
             ],
             [
              0.8888888888888888,
              "#fdca26"
             ],
             [
              1,
              "#f0f921"
             ]
            ],
            "type": "surface"
           }
          ],
          "table": [
           {
            "cells": {
             "fill": {
              "color": "#EBF0F8"
             },
             "line": {
              "color": "white"
             }
            },
            "header": {
             "fill": {
              "color": "#C8D4E3"
             },
             "line": {
              "color": "white"
             }
            },
            "type": "table"
           }
          ]
         },
         "layout": {
          "annotationdefaults": {
           "arrowcolor": "#2a3f5f",
           "arrowhead": 0,
           "arrowwidth": 1
          },
          "autotypenumbers": "strict",
          "coloraxis": {
           "colorbar": {
            "outlinewidth": 0,
            "ticks": ""
           }
          },
          "colorscale": {
           "diverging": [
            [
             0,
             "#8e0152"
            ],
            [
             0.1,
             "#c51b7d"
            ],
            [
             0.2,
             "#de77ae"
            ],
            [
             0.3,
             "#f1b6da"
            ],
            [
             0.4,
             "#fde0ef"
            ],
            [
             0.5,
             "#f7f7f7"
            ],
            [
             0.6,
             "#e6f5d0"
            ],
            [
             0.7,
             "#b8e186"
            ],
            [
             0.8,
             "#7fbc41"
            ],
            [
             0.9,
             "#4d9221"
            ],
            [
             1,
             "#276419"
            ]
           ],
           "sequential": [
            [
             0,
             "#0d0887"
            ],
            [
             0.1111111111111111,
             "#46039f"
            ],
            [
             0.2222222222222222,
             "#7201a8"
            ],
            [
             0.3333333333333333,
             "#9c179e"
            ],
            [
             0.4444444444444444,
             "#bd3786"
            ],
            [
             0.5555555555555556,
             "#d8576b"
            ],
            [
             0.6666666666666666,
             "#ed7953"
            ],
            [
             0.7777777777777778,
             "#fb9f3a"
            ],
            [
             0.8888888888888888,
             "#fdca26"
            ],
            [
             1,
             "#f0f921"
            ]
           ],
           "sequentialminus": [
            [
             0,
             "#0d0887"
            ],
            [
             0.1111111111111111,
             "#46039f"
            ],
            [
             0.2222222222222222,
             "#7201a8"
            ],
            [
             0.3333333333333333,
             "#9c179e"
            ],
            [
             0.4444444444444444,
             "#bd3786"
            ],
            [
             0.5555555555555556,
             "#d8576b"
            ],
            [
             0.6666666666666666,
             "#ed7953"
            ],
            [
             0.7777777777777778,
             "#fb9f3a"
            ],
            [
             0.8888888888888888,
             "#fdca26"
            ],
            [
             1,
             "#f0f921"
            ]
           ]
          },
          "colorway": [
           "#636efa",
           "#EF553B",
           "#00cc96",
           "#ab63fa",
           "#FFA15A",
           "#19d3f3",
           "#FF6692",
           "#B6E880",
           "#FF97FF",
           "#FECB52"
          ],
          "font": {
           "color": "#2a3f5f"
          },
          "geo": {
           "bgcolor": "white",
           "lakecolor": "white",
           "landcolor": "#E5ECF6",
           "showlakes": true,
           "showland": true,
           "subunitcolor": "white"
          },
          "hoverlabel": {
           "align": "left"
          },
          "hovermode": "closest",
          "mapbox": {
           "style": "light"
          },
          "paper_bgcolor": "white",
          "plot_bgcolor": "#E5ECF6",
          "polar": {
           "angularaxis": {
            "gridcolor": "white",
            "linecolor": "white",
            "ticks": ""
           },
           "bgcolor": "#E5ECF6",
           "radialaxis": {
            "gridcolor": "white",
            "linecolor": "white",
            "ticks": ""
           }
          },
          "scene": {
           "xaxis": {
            "backgroundcolor": "#E5ECF6",
            "gridcolor": "white",
            "gridwidth": 2,
            "linecolor": "white",
            "showbackground": true,
            "ticks": "",
            "zerolinecolor": "white"
           },
           "yaxis": {
            "backgroundcolor": "#E5ECF6",
            "gridcolor": "white",
            "gridwidth": 2,
            "linecolor": "white",
            "showbackground": true,
            "ticks": "",
            "zerolinecolor": "white"
           },
           "zaxis": {
            "backgroundcolor": "#E5ECF6",
            "gridcolor": "white",
            "gridwidth": 2,
            "linecolor": "white",
            "showbackground": true,
            "ticks": "",
            "zerolinecolor": "white"
           }
          },
          "shapedefaults": {
           "line": {
            "color": "#2a3f5f"
           }
          },
          "ternary": {
           "aaxis": {
            "gridcolor": "white",
            "linecolor": "white",
            "ticks": ""
           },
           "baxis": {
            "gridcolor": "white",
            "linecolor": "white",
            "ticks": ""
           },
           "bgcolor": "#E5ECF6",
           "caxis": {
            "gridcolor": "white",
            "linecolor": "white",
            "ticks": ""
           }
          },
          "title": {
           "x": 0.05
          },
          "xaxis": {
           "automargin": true,
           "gridcolor": "white",
           "linecolor": "white",
           "ticks": "",
           "title": {
            "standoff": 15
           },
           "zerolinecolor": "white",
           "zerolinewidth": 2
          },
          "yaxis": {
           "automargin": true,
           "gridcolor": "white",
           "linecolor": "white",
           "ticks": "",
           "title": {
            "standoff": 15
           },
           "zerolinecolor": "white",
           "zerolinewidth": 2
          }
         }
        },
        "width": 900,
        "xaxis": {
         "anchor": "y",
         "domain": [
          0,
          1
         ],
         "gridcolor": "LightGray",
         "gridwidth": 1,
         "showgrid": true,
         "title": {
          "text": "Week"
         }
        },
        "yaxis": {
         "anchor": "x",
         "domain": [
          0,
          1
         ],
         "gridcolor": "LightGray",
         "gridwidth": 1,
         "showgrid": true,
         "title": {
          "text": "SourceIPs"
         }
        }
       }
      },
      "text/html": [
       "<div>                            <div id=\"5dec7f2f-cb76-44e0-a6af-469e38faf8d5\" class=\"plotly-graph-div\" style=\"height:900px; width:900px;\"></div>            <script type=\"text/javascript\">                require([\"plotly\"], function(Plotly) {                    window.PLOTLYENV=window.PLOTLYENV || {};                                    if (document.getElementById(\"5dec7f2f-cb76-44e0-a6af-469e38faf8d5\")) {                    Plotly.newPlot(                        \"5dec7f2f-cb76-44e0-a6af-469e38faf8d5\",                        [{\"hovertemplate\":\"TargetOrgs=NETFLIX<br>Week=%{x}<br>SourceIPs=%{y}<extra></extra>\",\"legendgroup\":\"NETFLIX\",\"line\":{\"color\":\"#dc3912\",\"dash\":\"solid\",\"width\":8},\"marker\":{\"symbol\":\"circle\",\"size\":16},\"mode\":\"markers+lines\",\"name\":\"NETFLIX\",\"orientation\":\"v\",\"showlegend\":true,\"x\":[\"Feb 2020\",\"Apr 2020\",\"Sept 2020\",\"Sept 2021\"],\"xaxis\":\"x\",\"y\":[697,260,377,416],\"yaxis\":\"y\",\"type\":\"scatter\"},{\"hovertemplate\":\"TargetOrgs=AKAMAI<br>Week=%{x}<br>SourceIPs=%{y}<extra></extra>\",\"legendgroup\":\"AKAMAI\",\"line\":{\"color\":\"#ff9900\",\"dash\":\"dot\",\"width\":8},\"marker\":{\"symbol\":\"diamond\",\"size\":16},\"mode\":\"markers+lines\",\"name\":\"AKAMAI\",\"orientation\":\"v\",\"showlegend\":true,\"x\":[\"Feb 2020\",\"Apr 2020\",\"Sept 2020\",\"Sept 2021\"],\"xaxis\":\"x\",\"y\":[1141,953,1047,1006],\"yaxis\":\"y\",\"type\":\"scatter\"},{\"hovertemplate\":\"TargetOrgs=CANARIE<br>Week=%{x}<br>SourceIPs=%{y}<extra></extra>\",\"legendgroup\":\"CANARIE\",\"line\":{\"color\":\"#fb00d1\",\"dash\":\"dash\",\"width\":8},\"marker\":{\"symbol\":\"square\",\"size\":16},\"mode\":\"markers+lines\",\"name\":\"CANARIE\",\"orientation\":\"v\",\"showlegend\":true,\"x\":[\"Feb 2020\",\"Apr 2020\",\"Sept 2020\",\"Sept 2021\"],\"xaxis\":\"x\",\"y\":[951,525,691,765],\"yaxis\":\"y\",\"type\":\"scatter\"},{\"hovertemplate\":\"TargetOrgs=APPLE<br>Week=%{x}<br>SourceIPs=%{y}<extra></extra>\",\"legendgroup\":\"APPLE\",\"line\":{\"color\":\"#7f7f7f\",\"dash\":\"longdash\",\"width\":8},\"marker\":{\"symbol\":\"x\",\"size\":16},\"mode\":\"markers+lines\",\"name\":\"APPLE\",\"orientation\":\"v\",\"showlegend\":true,\"x\":[\"Feb 2020\",\"Apr 2020\",\"Sept 2020\",\"Sept 2021\"],\"xaxis\":\"x\",\"y\":[1095,660,960,962],\"yaxis\":\"y\",\"type\":\"scatter\"},{\"hovertemplate\":\"TargetOrgs=GOOGLE<br>Week=%{x}<br>SourceIPs=%{y}<extra></extra>\",\"legendgroup\":\"GOOGLE\",\"line\":{\"color\":\"#109618\",\"dash\":\"dashdot\",\"width\":8},\"marker\":{\"symbol\":\"cross\",\"size\":16},\"mode\":\"markers+lines\",\"name\":\"GOOGLE\",\"orientation\":\"v\",\"showlegend\":true,\"x\":[\"Feb 2020\",\"Apr 2020\",\"Sept 2020\",\"Sept 2021\"],\"xaxis\":\"x\",\"y\":[1131,939,1045,1007],\"yaxis\":\"y\",\"type\":\"scatter\"},{\"hovertemplate\":\"TargetOrgs=FACEBOOK<br>Week=%{x}<br>SourceIPs=%{y}<extra></extra>\",\"legendgroup\":\"FACEBOOK\",\"line\":{\"color\":\"#3366cc\",\"dash\":\"longdashdot\",\"width\":8},\"marker\":{\"symbol\":\"circle\",\"size\":16},\"mode\":\"markers+lines\",\"name\":\"FACEBOOK\",\"orientation\":\"v\",\"showlegend\":true,\"x\":[\"Feb 2020\",\"Apr 2020\",\"Sept 2020\",\"Sept 2021\"],\"xaxis\":\"x\",\"y\":[1105,764,955,971],\"yaxis\":\"y\",\"type\":\"scatter\"},{\"hovertemplate\":\"TargetOrgs=CHINAUNICOMChina169Backbone<br>Week=%{x}<br>SourceIPs=%{y}<extra></extra>\",\"legendgroup\":\"CHINAUNICOMChina169Backbone\",\"line\":{\"color\":\"#ff4500\",\"dash\":\"solid\",\"width\":8},\"marker\":{\"symbol\":\"diamond\",\"size\":16},\"mode\":\"markers+lines\",\"name\":\"CHINAUNICOMChina169Backbone\",\"orientation\":\"v\",\"showlegend\":true,\"x\":[\"Feb 2020\"],\"xaxis\":\"x\",\"y\":[229],\"yaxis\":\"y\",\"type\":\"scatter\"},{\"hovertemplate\":\"TargetOrgs=AMAZON<br>Week=%{x}<br>SourceIPs=%{y}<extra></extra>\",\"legendgroup\":\"AMAZON\",\"line\":{\"color\":\"#212E3C\",\"dash\":\"dot\",\"width\":8},\"marker\":{\"symbol\":\"square\",\"size\":16},\"mode\":\"markers+lines\",\"name\":\"AMAZON\",\"orientation\":\"v\",\"showlegend\":true,\"x\":[\"Feb 2020\",\"Apr 2020\",\"Sept 2020\",\"Sept 2021\"],\"xaxis\":\"x\",\"y\":[1151,889,1051,1010],\"yaxis\":\"y\",\"type\":\"scatter\"},{\"hovertemplate\":\"TargetOrgs=Africa-on-Cloud-AS<br>Week=%{x}<br>SourceIPs=%{y}<extra></extra>\",\"legendgroup\":\"Africa-on-Cloud-AS\",\"line\":{\"color\":\"#FF6692\",\"dash\":\"dash\",\"width\":8},\"marker\":{\"symbol\":\"x\",\"size\":16},\"mode\":\"markers+lines\",\"name\":\"Africa-on-Cloud-AS\",\"orientation\":\"v\",\"showlegend\":true,\"x\":[\"Feb 2020\"],\"xaxis\":\"x\",\"y\":[2],\"yaxis\":\"y\",\"type\":\"scatter\"},{\"hovertemplate\":\"TargetOrgs=FASTLY<br>Week=%{x}<br>SourceIPs=%{y}<extra></extra>\",\"legendgroup\":\"FASTLY\",\"line\":{\"color\":\"#8c564b\",\"dash\":\"longdash\",\"width\":8},\"marker\":{\"symbol\":\"cross\",\"size\":16},\"mode\":\"markers+lines\",\"name\":\"FASTLY\",\"orientation\":\"v\",\"showlegend\":true,\"x\":[\"Feb 2020\",\"Sept 2020\",\"Sept 2021\"],\"xaxis\":\"x\",\"y\":[1031,870,944],\"yaxis\":\"y\",\"type\":\"scatter\"},{\"hovertemplate\":\"TargetOrgs=VALVE-CORPORATION<br>Week=%{x}<br>SourceIPs=%{y}<extra></extra>\",\"legendgroup\":\"VALVE-CORPORATION\",\"line\":{\"color\":\"#bcbd22\",\"dash\":\"dashdot\",\"width\":8},\"marker\":{\"symbol\":\"circle\",\"size\":16},\"mode\":\"markers+lines\",\"name\":\"VALVE-CORPORATION\",\"orientation\":\"v\",\"showlegend\":true,\"x\":[\"Apr 2020\"],\"xaxis\":\"x\",\"y\":[71],\"yaxis\":\"y\",\"type\":\"scatter\"},{\"hovertemplate\":\"TargetOrgs=TWITCH<br>Week=%{x}<br>SourceIPs=%{y}<extra></extra>\",\"legendgroup\":\"TWITCH\",\"line\":{\"color\":\"#B6E880\",\"dash\":\"longdashdot\",\"width\":8},\"marker\":{\"symbol\":\"diamond\",\"size\":16},\"mode\":\"markers+lines\",\"name\":\"TWITCH\",\"orientation\":\"v\",\"showlegend\":true,\"x\":[\"Apr 2020\",\"Sept 2020\"],\"xaxis\":\"x\",\"y\":[26,45],\"yaxis\":\"y\",\"type\":\"scatter\"},{\"hovertemplate\":\"TargetOrgs=HIGHWINDS<br>Week=%{x}<br>SourceIPs=%{y}<extra></extra>\",\"legendgroup\":\"HIGHWINDS\",\"line\":{\"color\":\"#FF97FF\",\"dash\":\"solid\",\"width\":8},\"marker\":{\"symbol\":\"square\",\"size\":16},\"mode\":\"markers+lines\",\"name\":\"HIGHWINDS\",\"orientation\":\"v\",\"showlegend\":true,\"x\":[\"Apr 2020\"],\"xaxis\":\"x\",\"y\":[439],\"yaxis\":\"y\",\"type\":\"scatter\"},{\"hovertemplate\":\"TargetOrgs=DatacampLimited<br>Week=%{x}<br>SourceIPs=%{y}<extra></extra>\",\"legendgroup\":\"DatacampLimited\",\"line\":{\"color\":\"#FECB52\",\"dash\":\"dot\",\"width\":8},\"marker\":{\"symbol\":\"x\",\"size\":16},\"mode\":\"markers+lines\",\"name\":\"DatacampLimited\",\"orientation\":\"v\",\"showlegend\":true,\"x\":[\"Sept 2020\"],\"xaxis\":\"x\",\"y\":[474],\"yaxis\":\"y\",\"type\":\"scatter\"},{\"hovertemplate\":\"TargetOrgs=SHARCNET<br>Week=%{x}<br>SourceIPs=%{y}<extra></extra>\",\"legendgroup\":\"SHARCNET\",\"line\":{\"color\":\"#636efa\",\"dash\":\"dash\",\"width\":8},\"marker\":{\"symbol\":\"cross\",\"size\":16},\"mode\":\"markers+lines\",\"name\":\"SHARCNET\",\"orientation\":\"v\",\"showlegend\":true,\"x\":[\"Sept 2021\"],\"xaxis\":\"x\",\"y\":[3],\"yaxis\":\"y\",\"type\":\"scatter\"},{\"hovertemplate\":\"TargetOrgs=LEVEL3<br>Week=%{x}<br>SourceIPs=%{y}<extra></extra>\",\"legendgroup\":\"LEVEL3\",\"line\":{\"color\":\"#17becf\",\"dash\":\"longdash\",\"width\":8},\"marker\":{\"symbol\":\"circle\",\"size\":16},\"mode\":\"markers+lines\",\"name\":\"LEVEL3\",\"orientation\":\"v\",\"showlegend\":true,\"x\":[\"Sept 2021\"],\"xaxis\":\"x\",\"y\":[436],\"yaxis\":\"y\",\"type\":\"scatter\"}],                        {\"template\":{\"data\":{\"histogram2dcontour\":[{\"type\":\"histogram2dcontour\",\"colorbar\":{\"outlinewidth\":0,\"ticks\":\"\"},\"colorscale\":[[0.0,\"#0d0887\"],[0.1111111111111111,\"#46039f\"],[0.2222222222222222,\"#7201a8\"],[0.3333333333333333,\"#9c179e\"],[0.4444444444444444,\"#bd3786\"],[0.5555555555555556,\"#d8576b\"],[0.6666666666666666,\"#ed7953\"],[0.7777777777777778,\"#fb9f3a\"],[0.8888888888888888,\"#fdca26\"],[1.0,\"#f0f921\"]]}],\"choropleth\":[{\"type\":\"choropleth\",\"colorbar\":{\"outlinewidth\":0,\"ticks\":\"\"}}],\"histogram2d\":[{\"type\":\"histogram2d\",\"colorbar\":{\"outlinewidth\":0,\"ticks\":\"\"},\"colorscale\":[[0.0,\"#0d0887\"],[0.1111111111111111,\"#46039f\"],[0.2222222222222222,\"#7201a8\"],[0.3333333333333333,\"#9c179e\"],[0.4444444444444444,\"#bd3786\"],[0.5555555555555556,\"#d8576b\"],[0.6666666666666666,\"#ed7953\"],[0.7777777777777778,\"#fb9f3a\"],[0.8888888888888888,\"#fdca26\"],[1.0,\"#f0f921\"]]}],\"heatmap\":[{\"type\":\"heatmap\",\"colorbar\":{\"outlinewidth\":0,\"ticks\":\"\"},\"colorscale\":[[0.0,\"#0d0887\"],[0.1111111111111111,\"#46039f\"],[0.2222222222222222,\"#7201a8\"],[0.3333333333333333,\"#9c179e\"],[0.4444444444444444,\"#bd3786\"],[0.5555555555555556,\"#d8576b\"],[0.6666666666666666,\"#ed7953\"],[0.7777777777777778,\"#fb9f3a\"],[0.8888888888888888,\"#fdca26\"],[1.0,\"#f0f921\"]]}],\"heatmapgl\":[{\"type\":\"heatmapgl\",\"colorbar\":{\"outlinewidth\":0,\"ticks\":\"\"},\"colorscale\":[[0.0,\"#0d0887\"],[0.1111111111111111,\"#46039f\"],[0.2222222222222222,\"#7201a8\"],[0.3333333333333333,\"#9c179e\"],[0.4444444444444444,\"#bd3786\"],[0.5555555555555556,\"#d8576b\"],[0.6666666666666666,\"#ed7953\"],[0.7777777777777778,\"#fb9f3a\"],[0.8888888888888888,\"#fdca26\"],[1.0,\"#f0f921\"]]}],\"contourcarpet\":[{\"type\":\"contourcarpet\",\"colorbar\":{\"outlinewidth\":0,\"ticks\":\"\"}}],\"contour\":[{\"type\":\"contour\",\"colorbar\":{\"outlinewidth\":0,\"ticks\":\"\"},\"colorscale\":[[0.0,\"#0d0887\"],[0.1111111111111111,\"#46039f\"],[0.2222222222222222,\"#7201a8\"],[0.3333333333333333,\"#9c179e\"],[0.4444444444444444,\"#bd3786\"],[0.5555555555555556,\"#d8576b\"],[0.6666666666666666,\"#ed7953\"],[0.7777777777777778,\"#fb9f3a\"],[0.8888888888888888,\"#fdca26\"],[1.0,\"#f0f921\"]]}],\"surface\":[{\"type\":\"surface\",\"colorbar\":{\"outlinewidth\":0,\"ticks\":\"\"},\"colorscale\":[[0.0,\"#0d0887\"],[0.1111111111111111,\"#46039f\"],[0.2222222222222222,\"#7201a8\"],[0.3333333333333333,\"#9c179e\"],[0.4444444444444444,\"#bd3786\"],[0.5555555555555556,\"#d8576b\"],[0.6666666666666666,\"#ed7953\"],[0.7777777777777778,\"#fb9f3a\"],[0.8888888888888888,\"#fdca26\"],[1.0,\"#f0f921\"]]}],\"mesh3d\":[{\"type\":\"mesh3d\",\"colorbar\":{\"outlinewidth\":0,\"ticks\":\"\"}}],\"scatter\":[{\"fillpattern\":{\"fillmode\":\"overlay\",\"size\":10,\"solidity\":0.2},\"type\":\"scatter\"}],\"parcoords\":[{\"type\":\"parcoords\",\"line\":{\"colorbar\":{\"outlinewidth\":0,\"ticks\":\"\"}}}],\"scatterpolargl\":[{\"type\":\"scatterpolargl\",\"marker\":{\"colorbar\":{\"outlinewidth\":0,\"ticks\":\"\"}}}],\"bar\":[{\"error_x\":{\"color\":\"#2a3f5f\"},\"error_y\":{\"color\":\"#2a3f5f\"},\"marker\":{\"line\":{\"color\":\"#E5ECF6\",\"width\":0.5},\"pattern\":{\"fillmode\":\"overlay\",\"size\":10,\"solidity\":0.2}},\"type\":\"bar\"}],\"scattergeo\":[{\"type\":\"scattergeo\",\"marker\":{\"colorbar\":{\"outlinewidth\":0,\"ticks\":\"\"}}}],\"scatterpolar\":[{\"type\":\"scatterpolar\",\"marker\":{\"colorbar\":{\"outlinewidth\":0,\"ticks\":\"\"}}}],\"histogram\":[{\"marker\":{\"pattern\":{\"fillmode\":\"overlay\",\"size\":10,\"solidity\":0.2}},\"type\":\"histogram\"}],\"scattergl\":[{\"type\":\"scattergl\",\"marker\":{\"colorbar\":{\"outlinewidth\":0,\"ticks\":\"\"}}}],\"scatter3d\":[{\"type\":\"scatter3d\",\"line\":{\"colorbar\":{\"outlinewidth\":0,\"ticks\":\"\"}},\"marker\":{\"colorbar\":{\"outlinewidth\":0,\"ticks\":\"\"}}}],\"scattermapbox\":[{\"type\":\"scattermapbox\",\"marker\":{\"colorbar\":{\"outlinewidth\":0,\"ticks\":\"\"}}}],\"scatterternary\":[{\"type\":\"scatterternary\",\"marker\":{\"colorbar\":{\"outlinewidth\":0,\"ticks\":\"\"}}}],\"scattercarpet\":[{\"type\":\"scattercarpet\",\"marker\":{\"colorbar\":{\"outlinewidth\":0,\"ticks\":\"\"}}}],\"carpet\":[{\"aaxis\":{\"endlinecolor\":\"#2a3f5f\",\"gridcolor\":\"white\",\"linecolor\":\"white\",\"minorgridcolor\":\"white\",\"startlinecolor\":\"#2a3f5f\"},\"baxis\":{\"endlinecolor\":\"#2a3f5f\",\"gridcolor\":\"white\",\"linecolor\":\"white\",\"minorgridcolor\":\"white\",\"startlinecolor\":\"#2a3f5f\"},\"type\":\"carpet\"}],\"table\":[{\"cells\":{\"fill\":{\"color\":\"#EBF0F8\"},\"line\":{\"color\":\"white\"}},\"header\":{\"fill\":{\"color\":\"#C8D4E3\"},\"line\":{\"color\":\"white\"}},\"type\":\"table\"}],\"barpolar\":[{\"marker\":{\"line\":{\"color\":\"#E5ECF6\",\"width\":0.5},\"pattern\":{\"fillmode\":\"overlay\",\"size\":10,\"solidity\":0.2}},\"type\":\"barpolar\"}],\"pie\":[{\"automargin\":true,\"type\":\"pie\"}]},\"layout\":{\"autotypenumbers\":\"strict\",\"colorway\":[\"#636efa\",\"#EF553B\",\"#00cc96\",\"#ab63fa\",\"#FFA15A\",\"#19d3f3\",\"#FF6692\",\"#B6E880\",\"#FF97FF\",\"#FECB52\"],\"font\":{\"color\":\"#2a3f5f\"},\"hovermode\":\"closest\",\"hoverlabel\":{\"align\":\"left\"},\"paper_bgcolor\":\"white\",\"plot_bgcolor\":\"#E5ECF6\",\"polar\":{\"bgcolor\":\"#E5ECF6\",\"angularaxis\":{\"gridcolor\":\"white\",\"linecolor\":\"white\",\"ticks\":\"\"},\"radialaxis\":{\"gridcolor\":\"white\",\"linecolor\":\"white\",\"ticks\":\"\"}},\"ternary\":{\"bgcolor\":\"#E5ECF6\",\"aaxis\":{\"gridcolor\":\"white\",\"linecolor\":\"white\",\"ticks\":\"\"},\"baxis\":{\"gridcolor\":\"white\",\"linecolor\":\"white\",\"ticks\":\"\"},\"caxis\":{\"gridcolor\":\"white\",\"linecolor\":\"white\",\"ticks\":\"\"}},\"coloraxis\":{\"colorbar\":{\"outlinewidth\":0,\"ticks\":\"\"}},\"colorscale\":{\"sequential\":[[0.0,\"#0d0887\"],[0.1111111111111111,\"#46039f\"],[0.2222222222222222,\"#7201a8\"],[0.3333333333333333,\"#9c179e\"],[0.4444444444444444,\"#bd3786\"],[0.5555555555555556,\"#d8576b\"],[0.6666666666666666,\"#ed7953\"],[0.7777777777777778,\"#fb9f3a\"],[0.8888888888888888,\"#fdca26\"],[1.0,\"#f0f921\"]],\"sequentialminus\":[[0.0,\"#0d0887\"],[0.1111111111111111,\"#46039f\"],[0.2222222222222222,\"#7201a8\"],[0.3333333333333333,\"#9c179e\"],[0.4444444444444444,\"#bd3786\"],[0.5555555555555556,\"#d8576b\"],[0.6666666666666666,\"#ed7953\"],[0.7777777777777778,\"#fb9f3a\"],[0.8888888888888888,\"#fdca26\"],[1.0,\"#f0f921\"]],\"diverging\":[[0,\"#8e0152\"],[0.1,\"#c51b7d\"],[0.2,\"#de77ae\"],[0.3,\"#f1b6da\"],[0.4,\"#fde0ef\"],[0.5,\"#f7f7f7\"],[0.6,\"#e6f5d0\"],[0.7,\"#b8e186\"],[0.8,\"#7fbc41\"],[0.9,\"#4d9221\"],[1,\"#276419\"]]},\"xaxis\":{\"gridcolor\":\"white\",\"linecolor\":\"white\",\"ticks\":\"\",\"title\":{\"standoff\":15},\"zerolinecolor\":\"white\",\"automargin\":true,\"zerolinewidth\":2},\"yaxis\":{\"gridcolor\":\"white\",\"linecolor\":\"white\",\"ticks\":\"\",\"title\":{\"standoff\":15},\"zerolinecolor\":\"white\",\"automargin\":true,\"zerolinewidth\":2},\"scene\":{\"xaxis\":{\"backgroundcolor\":\"#E5ECF6\",\"gridcolor\":\"white\",\"linecolor\":\"white\",\"showbackground\":true,\"ticks\":\"\",\"zerolinecolor\":\"white\",\"gridwidth\":2},\"yaxis\":{\"backgroundcolor\":\"#E5ECF6\",\"gridcolor\":\"white\",\"linecolor\":\"white\",\"showbackground\":true,\"ticks\":\"\",\"zerolinecolor\":\"white\",\"gridwidth\":2},\"zaxis\":{\"backgroundcolor\":\"#E5ECF6\",\"gridcolor\":\"white\",\"linecolor\":\"white\",\"showbackground\":true,\"ticks\":\"\",\"zerolinecolor\":\"white\",\"gridwidth\":2}},\"shapedefaults\":{\"line\":{\"color\":\"#2a3f5f\"}},\"annotationdefaults\":{\"arrowcolor\":\"#2a3f5f\",\"arrowhead\":0,\"arrowwidth\":1},\"geo\":{\"bgcolor\":\"white\",\"landcolor\":\"#E5ECF6\",\"subunitcolor\":\"white\",\"showland\":true,\"showlakes\":true,\"lakecolor\":\"white\"},\"title\":{\"x\":0.05},\"mapbox\":{\"style\":\"light\"}}},\"xaxis\":{\"anchor\":\"y\",\"domain\":[0.0,1.0],\"title\":{\"text\":\"Week\"},\"showgrid\":true,\"gridwidth\":1,\"gridcolor\":\"LightGray\"},\"yaxis\":{\"anchor\":\"x\",\"domain\":[0.0,1.0],\"title\":{\"text\":\"SourceIPs\"},\"showgrid\":true,\"gridwidth\":1,\"gridcolor\":\"LightGray\"},\"legend\":{\"title\":{\"text\":\"TargetOrgs\"},\"tracegroupgap\":0,\"itemwidth\":80},\"margin\":{\"t\":60},\"font\":{\"size\":30},\"plot_bgcolor\":\"white\",\"showlegend\":false,\"width\":900,\"height\":900},                        {\"responsive\": true}                    ).then(function(){\n",
       "                            \n",
       "var gd = document.getElementById('5dec7f2f-cb76-44e0-a6af-469e38faf8d5');\n",
       "var x = new MutationObserver(function (mutations, observer) {{\n",
       "        var display = window.getComputedStyle(gd).display;\n",
       "        if (!display || display === 'none') {{\n",
       "            console.log([gd, 'removed!']);\n",
       "            Plotly.purge(gd);\n",
       "            observer.disconnect();\n",
       "        }}\n",
       "}});\n",
       "\n",
       "// Listen for the removal of the full notebook cells\n",
       "var notebookContainer = gd.closest('#notebook-container');\n",
       "if (notebookContainer) {{\n",
       "    x.observe(notebookContainer, {childList: true});\n",
       "}}\n",
       "\n",
       "// Listen for the clearing of the current output cell\n",
       "var outputEl = gd.closest('.output');\n",
       "if (outputEl) {{\n",
       "    x.observe(outputEl, {childList: true});\n",
       "}}\n",
       "\n",
       "                        })                };                });            </script>        </div>"
      ]
     },
     "metadata": {},
     "output_type": "display_data"
    }
   ],
   "source": [
    "import plotly.express as px\n",
    "import pandas as pd\n",
    "\n",
    "df = pd.read_csv('/Volumes/GoogleDrive/My Drive/Thesis/Plotly/category_WLAN_out_targets.csv')\n",
    "\n",
    "fig = px.line(df, x='Week', y='SourceIPs', color='TargetOrgs',\n",
    "                            color_discrete_map={'APPLE': '#7f7f7f', 'NETFLIX': '#dc3912', 'AKAMAI': '#ff9900',\n",
    "                                                'CANARIE': '#fb00d1', 'FACEBOOK': '#3366cc', 'GOOGLE': '#109618',\n",
    "                                                'AMAZON': '#212E3C', 'FASTLY': '#8c564b', 'LEVEL3': '#17becf',\n",
    "                                                'MICROSOFT': '#990099', 'EDGECAST': '#316395',\n",
    "                                                'VALVE-CORPORATION': '#bcbd22', 'TELUS': '#db1f48',\n",
    "                                                'SHAW': '#613659', 'BACOM': '#01949a', 'ROGERS': '#81b622',\n",
    "                                                'Chinanet': '#d3b1c2', 'AHS': '#eeb5eb', 'YANDEXLLC': '#fad02c',\n",
    "                                                'NLM-GW': '#055c9d', 'JiscServicesLimited': '#870a30',\n",
    "                                                'BROADINSTITUTE-AS': '#e57f84', 'OoredooQ.S.C.': '#90adc6',\n",
    "                                                'RelianceJioInfocommLimited': '#a16ae8', 'O-NET': '#ffa384',\n",
    "                                                'Vetenskapsradet/SUNET': '#74bdcb', 'VELOCITYNET-01': '#3d5b59',\n",
    "                                                'CHINAUNICOMChina169Backbone': '#ff4500', 'CIPHERKEY': '#b7ac44',\n",
    "                                                'TEKSAVVY': '#52688f', 'BARR-XPLR-ASN': '#d4f1f4',\n",
    "                                                'PRIMUS-AS6407': '#b9b7bd', 'CIKTELECOM-CABLE': '#fb4570',\n",
    "                                                'TWC-11426-CAROLINAS': '#7cf3a0', 'PEGTECHINC': '#f9eac2',\n",
    "                                                'UniversityofQueensland': '#bfd7ed'},\n",
    "                             markers=True, line_dash='TargetOrgs', symbol='TargetOrgs')\n",
    "fig.update_layout(plot_bgcolor='white', font_size=30, legend_itemwidth=80, showlegend=False, width=900, height=900)\n",
    "fig.update_xaxes(showgrid=True, gridwidth=1, gridcolor='LightGray')\n",
    "fig.update_yaxes(showgrid=True, gridwidth=1, gridcolor='LightGray')\n",
    "#                                ,\n",
    "#                                tickvals=[21474836480, 42949672960, 64424509440, 85899345920, \n",
    "#                                         107374182400, 214748364800, 429496729600, 644245094400, 858993459200, \n",
    "#                                         1099511627776, 2199023255552, 3298534883328],\n",
    "#                                ticktext=[\"20 GB\", \"40 GB\", \"60 GB\", \"80 GB\", \n",
    "#                                          \"100 GB\", \"200 GB\", \"400 GB\", \"600 GB\", \"800 GB\", \n",
    "#                                          \"1 TB\", \"2 TB\", \"3 TB\"])\n",
    "fig.update_traces(line_width=8, marker_size=16)\n",
    "\n",
    "fig.show()"
   ]
  },
  {
   "cell_type": "code",
   "execution_count": 25,
   "id": "08481a03",
   "metadata": {},
   "outputs": [
    {
     "data": {
      "application/vnd.plotly.v1+json": {
       "config": {
        "plotlyServerURL": "https://plot.ly"
       },
       "data": [
        {
         "hovertemplate": "TargetOrgs=NETFLIX<br>Week=%{x}<br>TotalBytes=%{y}<extra></extra>",
         "legendgroup": "NETFLIX",
         "line": {
          "color": "#dc3912",
          "dash": "solid",
          "width": 8
         },
         "marker": {
          "size": 16,
          "symbol": "circle"
         },
         "mode": "markers+lines",
         "name": "NETFLIX",
         "orientation": "v",
         "showlegend": true,
         "type": "scatter",
         "x": [
          "Feb 2020",
          "Apr 2020",
          "Sept 2020",
          "Sept 2021"
         ],
         "xaxis": "x",
         "y": [
          1104779787670,
          500952880858,
          1544687394027,
          1138029597123
         ],
         "yaxis": "y"
        },
        {
         "hovertemplate": "TargetOrgs=AKAMAI<br>Week=%{x}<br>TotalBytes=%{y}<extra></extra>",
         "legendgroup": "AKAMAI",
         "line": {
          "color": "#ff9900",
          "dash": "dot",
          "width": 8
         },
         "marker": {
          "size": 16,
          "symbol": "diamond"
         },
         "mode": "markers+lines",
         "name": "AKAMAI",
         "orientation": "v",
         "showlegend": true,
         "type": "scatter",
         "x": [
          "Feb 2020",
          "Apr 2020",
          "Sept 2020",
          "Sept 2021"
         ],
         "xaxis": "x",
         "y": [
          501224547509,
          302317692459,
          674022880631,
          864067670346
         ],
         "yaxis": "y"
        },
        {
         "hovertemplate": "TargetOrgs=CANARIE<br>Week=%{x}<br>TotalBytes=%{y}<extra></extra>",
         "legendgroup": "CANARIE",
         "line": {
          "color": "#fb00d1",
          "dash": "dash",
          "width": 8
         },
         "marker": {
          "size": 16,
          "symbol": "square"
         },
         "mode": "markers+lines",
         "name": "CANARIE",
         "orientation": "v",
         "showlegend": true,
         "type": "scatter",
         "x": [
          "Feb 2020",
          "Apr 2020",
          "Sept 2020",
          "Sept 2021"
         ],
         "xaxis": "x",
         "y": [
          468445754504,
          290474460354,
          531662459300,
          640248536912
         ],
         "yaxis": "y"
        },
        {
         "hovertemplate": "TargetOrgs=APPLE<br>Week=%{x}<br>TotalBytes=%{y}<extra></extra>",
         "legendgroup": "APPLE",
         "line": {
          "color": "#7f7f7f",
          "dash": "longdash",
          "width": 8
         },
         "marker": {
          "size": 16,
          "symbol": "x"
         },
         "mode": "markers+lines",
         "name": "APPLE",
         "orientation": "v",
         "showlegend": true,
         "type": "scatter",
         "x": [
          "Feb 2020",
          "Apr 2020",
          "Sept 2020",
          "Sept 2021"
         ],
         "xaxis": "x",
         "y": [
          453186757006,
          240270682552,
          813072476875,
          976345553729
         ],
         "yaxis": "y"
        },
        {
         "hovertemplate": "TargetOrgs=GOOGLE<br>Week=%{x}<br>TotalBytes=%{y}<extra></extra>",
         "legendgroup": "GOOGLE",
         "line": {
          "color": "#109618",
          "dash": "dashdot",
          "width": 8
         },
         "marker": {
          "size": 16,
          "symbol": "cross"
         },
         "mode": "markers+lines",
         "name": "GOOGLE",
         "orientation": "v",
         "showlegend": true,
         "type": "scatter",
         "x": [
          "Feb 2020",
          "Apr 2020",
          "Sept 2020",
          "Sept 2021"
         ],
         "xaxis": "x",
         "y": [
          376894372105,
          299620192111,
          650826310036,
          827265286761
         ],
         "yaxis": "y"
        },
        {
         "hovertemplate": "TargetOrgs=FACEBOOK<br>Week=%{x}<br>TotalBytes=%{y}<extra></extra>",
         "legendgroup": "FACEBOOK",
         "line": {
          "color": "#3366cc",
          "dash": "longdashdot",
          "width": 8
         },
         "marker": {
          "size": 16,
          "symbol": "circle"
         },
         "mode": "markers+lines",
         "name": "FACEBOOK",
         "orientation": "v",
         "showlegend": true,
         "type": "scatter",
         "x": [
          "Feb 2020",
          "Apr 2020",
          "Sept 2020",
          "Sept 2021"
         ],
         "xaxis": "x",
         "y": [
          282755430548,
          197427671118,
          371533221635,
          477309965006
         ],
         "yaxis": "y"
        },
        {
         "hovertemplate": "TargetOrgs=CHINAUNICOMChina169Backbone<br>Week=%{x}<br>TotalBytes=%{y}<extra></extra>",
         "legendgroup": "CHINAUNICOMChina169Backbone",
         "line": {
          "color": "#ff4500",
          "dash": "solid",
          "width": 8
         },
         "marker": {
          "size": 16,
          "symbol": "diamond"
         },
         "mode": "markers+lines",
         "name": "CHINAUNICOMChina169Backbone",
         "orientation": "v",
         "showlegend": true,
         "type": "scatter",
         "x": [
          "Feb 2020"
         ],
         "xaxis": "x",
         "y": [
          235829151365
         ],
         "yaxis": "y"
        },
        {
         "hovertemplate": "TargetOrgs=AMAZON<br>Week=%{x}<br>TotalBytes=%{y}<extra></extra>",
         "legendgroup": "AMAZON",
         "line": {
          "color": "#212E3C",
          "dash": "dot",
          "width": 8
         },
         "marker": {
          "size": 16,
          "symbol": "square"
         },
         "mode": "markers+lines",
         "name": "AMAZON",
         "orientation": "v",
         "showlegend": true,
         "type": "scatter",
         "x": [
          "Feb 2020",
          "Apr 2020",
          "Sept 2020",
          "Sept 2021"
         ],
         "xaxis": "x",
         "y": [
          230380238952,
          161006416665,
          1529623610782,
          706680255968
         ],
         "yaxis": "y"
        },
        {
         "hovertemplate": "TargetOrgs=Africa-on-Cloud-AS<br>Week=%{x}<br>TotalBytes=%{y}<extra></extra>",
         "legendgroup": "Africa-on-Cloud-AS",
         "line": {
          "color": "#FF6692",
          "dash": "dash",
          "width": 8
         },
         "marker": {
          "size": 16,
          "symbol": "x"
         },
         "mode": "markers+lines",
         "name": "Africa-on-Cloud-AS",
         "orientation": "v",
         "showlegend": true,
         "type": "scatter",
         "x": [
          "Feb 2020"
         ],
         "xaxis": "x",
         "y": [
          168026740387
         ],
         "yaxis": "y"
        },
        {
         "hovertemplate": "TargetOrgs=FASTLY<br>Week=%{x}<br>TotalBytes=%{y}<extra></extra>",
         "legendgroup": "FASTLY",
         "line": {
          "color": "#8c564b",
          "dash": "longdash",
          "width": 8
         },
         "marker": {
          "size": 16,
          "symbol": "cross"
         },
         "mode": "markers+lines",
         "name": "FASTLY",
         "orientation": "v",
         "showlegend": true,
         "type": "scatter",
         "x": [
          "Feb 2020",
          "Sept 2020",
          "Sept 2021"
         ],
         "xaxis": "x",
         "y": [
          106075843732,
          196411088654,
          396118076139
         ],
         "yaxis": "y"
        },
        {
         "hovertemplate": "TargetOrgs=VALVE-CORPORATION<br>Week=%{x}<br>TotalBytes=%{y}<extra></extra>",
         "legendgroup": "VALVE-CORPORATION",
         "line": {
          "color": "#bcbd22",
          "dash": "dashdot",
          "width": 8
         },
         "marker": {
          "size": 16,
          "symbol": "circle"
         },
         "mode": "markers+lines",
         "name": "VALVE-CORPORATION",
         "orientation": "v",
         "showlegend": true,
         "type": "scatter",
         "x": [
          "Apr 2020"
         ],
         "xaxis": "x",
         "y": [
          145350331955
         ],
         "yaxis": "y"
        },
        {
         "hovertemplate": "TargetOrgs=TWITCH<br>Week=%{x}<br>TotalBytes=%{y}<extra></extra>",
         "legendgroup": "TWITCH",
         "line": {
          "color": "#B6E880",
          "dash": "longdashdot",
          "width": 8
         },
         "marker": {
          "size": 16,
          "symbol": "diamond"
         },
         "mode": "markers+lines",
         "name": "TWITCH",
         "orientation": "v",
         "showlegend": true,
         "type": "scatter",
         "x": [
          "Apr 2020",
          "Sept 2020"
         ],
         "xaxis": "x",
         "y": [
          78595920956,
          152407420227
         ],
         "yaxis": "y"
        },
        {
         "hovertemplate": "TargetOrgs=HIGHWINDS<br>Week=%{x}<br>TotalBytes=%{y}<extra></extra>",
         "legendgroup": "HIGHWINDS",
         "line": {
          "color": "#FF97FF",
          "dash": "solid",
          "width": 8
         },
         "marker": {
          "size": 16,
          "symbol": "square"
         },
         "mode": "markers+lines",
         "name": "HIGHWINDS",
         "orientation": "v",
         "showlegend": true,
         "type": "scatter",
         "x": [
          "Apr 2020"
         ],
         "xaxis": "x",
         "y": [
          76245392562
         ],
         "yaxis": "y"
        },
        {
         "hovertemplate": "TargetOrgs=DatacampLimited<br>Week=%{x}<br>TotalBytes=%{y}<extra></extra>",
         "legendgroup": "DatacampLimited",
         "line": {
          "color": "#FECB52",
          "dash": "dot",
          "width": 8
         },
         "marker": {
          "size": 16,
          "symbol": "x"
         },
         "mode": "markers+lines",
         "name": "DatacampLimited",
         "orientation": "v",
         "showlegend": true,
         "type": "scatter",
         "x": [
          "Sept 2020"
         ],
         "xaxis": "x",
         "y": [
          147392091366
         ],
         "yaxis": "y"
        },
        {
         "hovertemplate": "TargetOrgs=SHARCNET<br>Week=%{x}<br>TotalBytes=%{y}<extra></extra>",
         "legendgroup": "SHARCNET",
         "line": {
          "color": "#636efa",
          "dash": "dash",
          "width": 8
         },
         "marker": {
          "size": 16,
          "symbol": "cross"
         },
         "mode": "markers+lines",
         "name": "SHARCNET",
         "orientation": "v",
         "showlegend": true,
         "type": "scatter",
         "x": [
          "Sept 2021"
         ],
         "xaxis": "x",
         "y": [
          6737222383658
         ],
         "yaxis": "y"
        },
        {
         "hovertemplate": "TargetOrgs=LEVEL3<br>Week=%{x}<br>TotalBytes=%{y}<extra></extra>",
         "legendgroup": "LEVEL3",
         "line": {
          "color": "#17becf",
          "dash": "longdash",
          "width": 8
         },
         "marker": {
          "size": 16,
          "symbol": "circle"
         },
         "mode": "markers+lines",
         "name": "LEVEL3",
         "orientation": "v",
         "showlegend": true,
         "type": "scatter",
         "x": [
          "Sept 2021"
         ],
         "xaxis": "x",
         "y": [
          416082806627
         ],
         "yaxis": "y"
        }
       ],
       "layout": {
        "font": {
         "size": 30
        },
        "height": 900,
        "legend": {
         "itemwidth": 80,
         "title": {
          "text": "TargetOrgs"
         },
         "tracegroupgap": 0
        },
        "margin": {
         "t": 60
        },
        "plot_bgcolor": "white",
        "template": {
         "data": {
          "bar": [
           {
            "error_x": {
             "color": "#2a3f5f"
            },
            "error_y": {
             "color": "#2a3f5f"
            },
            "marker": {
             "line": {
              "color": "#E5ECF6",
              "width": 0.5
             },
             "pattern": {
              "fillmode": "overlay",
              "size": 10,
              "solidity": 0.2
             }
            },
            "type": "bar"
           }
          ],
          "barpolar": [
           {
            "marker": {
             "line": {
              "color": "#E5ECF6",
              "width": 0.5
             },
             "pattern": {
              "fillmode": "overlay",
              "size": 10,
              "solidity": 0.2
             }
            },
            "type": "barpolar"
           }
          ],
          "carpet": [
           {
            "aaxis": {
             "endlinecolor": "#2a3f5f",
             "gridcolor": "white",
             "linecolor": "white",
             "minorgridcolor": "white",
             "startlinecolor": "#2a3f5f"
            },
            "baxis": {
             "endlinecolor": "#2a3f5f",
             "gridcolor": "white",
             "linecolor": "white",
             "minorgridcolor": "white",
             "startlinecolor": "#2a3f5f"
            },
            "type": "carpet"
           }
          ],
          "choropleth": [
           {
            "colorbar": {
             "outlinewidth": 0,
             "ticks": ""
            },
            "type": "choropleth"
           }
          ],
          "contour": [
           {
            "colorbar": {
             "outlinewidth": 0,
             "ticks": ""
            },
            "colorscale": [
             [
              0,
              "#0d0887"
             ],
             [
              0.1111111111111111,
              "#46039f"
             ],
             [
              0.2222222222222222,
              "#7201a8"
             ],
             [
              0.3333333333333333,
              "#9c179e"
             ],
             [
              0.4444444444444444,
              "#bd3786"
             ],
             [
              0.5555555555555556,
              "#d8576b"
             ],
             [
              0.6666666666666666,
              "#ed7953"
             ],
             [
              0.7777777777777778,
              "#fb9f3a"
             ],
             [
              0.8888888888888888,
              "#fdca26"
             ],
             [
              1,
              "#f0f921"
             ]
            ],
            "type": "contour"
           }
          ],
          "contourcarpet": [
           {
            "colorbar": {
             "outlinewidth": 0,
             "ticks": ""
            },
            "type": "contourcarpet"
           }
          ],
          "heatmap": [
           {
            "colorbar": {
             "outlinewidth": 0,
             "ticks": ""
            },
            "colorscale": [
             [
              0,
              "#0d0887"
             ],
             [
              0.1111111111111111,
              "#46039f"
             ],
             [
              0.2222222222222222,
              "#7201a8"
             ],
             [
              0.3333333333333333,
              "#9c179e"
             ],
             [
              0.4444444444444444,
              "#bd3786"
             ],
             [
              0.5555555555555556,
              "#d8576b"
             ],
             [
              0.6666666666666666,
              "#ed7953"
             ],
             [
              0.7777777777777778,
              "#fb9f3a"
             ],
             [
              0.8888888888888888,
              "#fdca26"
             ],
             [
              1,
              "#f0f921"
             ]
            ],
            "type": "heatmap"
           }
          ],
          "heatmapgl": [
           {
            "colorbar": {
             "outlinewidth": 0,
             "ticks": ""
            },
            "colorscale": [
             [
              0,
              "#0d0887"
             ],
             [
              0.1111111111111111,
              "#46039f"
             ],
             [
              0.2222222222222222,
              "#7201a8"
             ],
             [
              0.3333333333333333,
              "#9c179e"
             ],
             [
              0.4444444444444444,
              "#bd3786"
             ],
             [
              0.5555555555555556,
              "#d8576b"
             ],
             [
              0.6666666666666666,
              "#ed7953"
             ],
             [
              0.7777777777777778,
              "#fb9f3a"
             ],
             [
              0.8888888888888888,
              "#fdca26"
             ],
             [
              1,
              "#f0f921"
             ]
            ],
            "type": "heatmapgl"
           }
          ],
          "histogram": [
           {
            "marker": {
             "pattern": {
              "fillmode": "overlay",
              "size": 10,
              "solidity": 0.2
             }
            },
            "type": "histogram"
           }
          ],
          "histogram2d": [
           {
            "colorbar": {
             "outlinewidth": 0,
             "ticks": ""
            },
            "colorscale": [
             [
              0,
              "#0d0887"
             ],
             [
              0.1111111111111111,
              "#46039f"
             ],
             [
              0.2222222222222222,
              "#7201a8"
             ],
             [
              0.3333333333333333,
              "#9c179e"
             ],
             [
              0.4444444444444444,
              "#bd3786"
             ],
             [
              0.5555555555555556,
              "#d8576b"
             ],
             [
              0.6666666666666666,
              "#ed7953"
             ],
             [
              0.7777777777777778,
              "#fb9f3a"
             ],
             [
              0.8888888888888888,
              "#fdca26"
             ],
             [
              1,
              "#f0f921"
             ]
            ],
            "type": "histogram2d"
           }
          ],
          "histogram2dcontour": [
           {
            "colorbar": {
             "outlinewidth": 0,
             "ticks": ""
            },
            "colorscale": [
             [
              0,
              "#0d0887"
             ],
             [
              0.1111111111111111,
              "#46039f"
             ],
             [
              0.2222222222222222,
              "#7201a8"
             ],
             [
              0.3333333333333333,
              "#9c179e"
             ],
             [
              0.4444444444444444,
              "#bd3786"
             ],
             [
              0.5555555555555556,
              "#d8576b"
             ],
             [
              0.6666666666666666,
              "#ed7953"
             ],
             [
              0.7777777777777778,
              "#fb9f3a"
             ],
             [
              0.8888888888888888,
              "#fdca26"
             ],
             [
              1,
              "#f0f921"
             ]
            ],
            "type": "histogram2dcontour"
           }
          ],
          "mesh3d": [
           {
            "colorbar": {
             "outlinewidth": 0,
             "ticks": ""
            },
            "type": "mesh3d"
           }
          ],
          "parcoords": [
           {
            "line": {
             "colorbar": {
              "outlinewidth": 0,
              "ticks": ""
             }
            },
            "type": "parcoords"
           }
          ],
          "pie": [
           {
            "automargin": true,
            "type": "pie"
           }
          ],
          "scatter": [
           {
            "fillpattern": {
             "fillmode": "overlay",
             "size": 10,
             "solidity": 0.2
            },
            "type": "scatter"
           }
          ],
          "scatter3d": [
           {
            "line": {
             "colorbar": {
              "outlinewidth": 0,
              "ticks": ""
             }
            },
            "marker": {
             "colorbar": {
              "outlinewidth": 0,
              "ticks": ""
             }
            },
            "type": "scatter3d"
           }
          ],
          "scattercarpet": [
           {
            "marker": {
             "colorbar": {
              "outlinewidth": 0,
              "ticks": ""
             }
            },
            "type": "scattercarpet"
           }
          ],
          "scattergeo": [
           {
            "marker": {
             "colorbar": {
              "outlinewidth": 0,
              "ticks": ""
             }
            },
            "type": "scattergeo"
           }
          ],
          "scattergl": [
           {
            "marker": {
             "colorbar": {
              "outlinewidth": 0,
              "ticks": ""
             }
            },
            "type": "scattergl"
           }
          ],
          "scattermapbox": [
           {
            "marker": {
             "colorbar": {
              "outlinewidth": 0,
              "ticks": ""
             }
            },
            "type": "scattermapbox"
           }
          ],
          "scatterpolar": [
           {
            "marker": {
             "colorbar": {
              "outlinewidth": 0,
              "ticks": ""
             }
            },
            "type": "scatterpolar"
           }
          ],
          "scatterpolargl": [
           {
            "marker": {
             "colorbar": {
              "outlinewidth": 0,
              "ticks": ""
             }
            },
            "type": "scatterpolargl"
           }
          ],
          "scatterternary": [
           {
            "marker": {
             "colorbar": {
              "outlinewidth": 0,
              "ticks": ""
             }
            },
            "type": "scatterternary"
           }
          ],
          "surface": [
           {
            "colorbar": {
             "outlinewidth": 0,
             "ticks": ""
            },
            "colorscale": [
             [
              0,
              "#0d0887"
             ],
             [
              0.1111111111111111,
              "#46039f"
             ],
             [
              0.2222222222222222,
              "#7201a8"
             ],
             [
              0.3333333333333333,
              "#9c179e"
             ],
             [
              0.4444444444444444,
              "#bd3786"
             ],
             [
              0.5555555555555556,
              "#d8576b"
             ],
             [
              0.6666666666666666,
              "#ed7953"
             ],
             [
              0.7777777777777778,
              "#fb9f3a"
             ],
             [
              0.8888888888888888,
              "#fdca26"
             ],
             [
              1,
              "#f0f921"
             ]
            ],
            "type": "surface"
           }
          ],
          "table": [
           {
            "cells": {
             "fill": {
              "color": "#EBF0F8"
             },
             "line": {
              "color": "white"
             }
            },
            "header": {
             "fill": {
              "color": "#C8D4E3"
             },
             "line": {
              "color": "white"
             }
            },
            "type": "table"
           }
          ]
         },
         "layout": {
          "annotationdefaults": {
           "arrowcolor": "#2a3f5f",
           "arrowhead": 0,
           "arrowwidth": 1
          },
          "autotypenumbers": "strict",
          "coloraxis": {
           "colorbar": {
            "outlinewidth": 0,
            "ticks": ""
           }
          },
          "colorscale": {
           "diverging": [
            [
             0,
             "#8e0152"
            ],
            [
             0.1,
             "#c51b7d"
            ],
            [
             0.2,
             "#de77ae"
            ],
            [
             0.3,
             "#f1b6da"
            ],
            [
             0.4,
             "#fde0ef"
            ],
            [
             0.5,
             "#f7f7f7"
            ],
            [
             0.6,
             "#e6f5d0"
            ],
            [
             0.7,
             "#b8e186"
            ],
            [
             0.8,
             "#7fbc41"
            ],
            [
             0.9,
             "#4d9221"
            ],
            [
             1,
             "#276419"
            ]
           ],
           "sequential": [
            [
             0,
             "#0d0887"
            ],
            [
             0.1111111111111111,
             "#46039f"
            ],
            [
             0.2222222222222222,
             "#7201a8"
            ],
            [
             0.3333333333333333,
             "#9c179e"
            ],
            [
             0.4444444444444444,
             "#bd3786"
            ],
            [
             0.5555555555555556,
             "#d8576b"
            ],
            [
             0.6666666666666666,
             "#ed7953"
            ],
            [
             0.7777777777777778,
             "#fb9f3a"
            ],
            [
             0.8888888888888888,
             "#fdca26"
            ],
            [
             1,
             "#f0f921"
            ]
           ],
           "sequentialminus": [
            [
             0,
             "#0d0887"
            ],
            [
             0.1111111111111111,
             "#46039f"
            ],
            [
             0.2222222222222222,
             "#7201a8"
            ],
            [
             0.3333333333333333,
             "#9c179e"
            ],
            [
             0.4444444444444444,
             "#bd3786"
            ],
            [
             0.5555555555555556,
             "#d8576b"
            ],
            [
             0.6666666666666666,
             "#ed7953"
            ],
            [
             0.7777777777777778,
             "#fb9f3a"
            ],
            [
             0.8888888888888888,
             "#fdca26"
            ],
            [
             1,
             "#f0f921"
            ]
           ]
          },
          "colorway": [
           "#636efa",
           "#EF553B",
           "#00cc96",
           "#ab63fa",
           "#FFA15A",
           "#19d3f3",
           "#FF6692",
           "#B6E880",
           "#FF97FF",
           "#FECB52"
          ],
          "font": {
           "color": "#2a3f5f"
          },
          "geo": {
           "bgcolor": "white",
           "lakecolor": "white",
           "landcolor": "#E5ECF6",
           "showlakes": true,
           "showland": true,
           "subunitcolor": "white"
          },
          "hoverlabel": {
           "align": "left"
          },
          "hovermode": "closest",
          "mapbox": {
           "style": "light"
          },
          "paper_bgcolor": "white",
          "plot_bgcolor": "#E5ECF6",
          "polar": {
           "angularaxis": {
            "gridcolor": "white",
            "linecolor": "white",
            "ticks": ""
           },
           "bgcolor": "#E5ECF6",
           "radialaxis": {
            "gridcolor": "white",
            "linecolor": "white",
            "ticks": ""
           }
          },
          "scene": {
           "xaxis": {
            "backgroundcolor": "#E5ECF6",
            "gridcolor": "white",
            "gridwidth": 2,
            "linecolor": "white",
            "showbackground": true,
            "ticks": "",
            "zerolinecolor": "white"
           },
           "yaxis": {
            "backgroundcolor": "#E5ECF6",
            "gridcolor": "white",
            "gridwidth": 2,
            "linecolor": "white",
            "showbackground": true,
            "ticks": "",
            "zerolinecolor": "white"
           },
           "zaxis": {
            "backgroundcolor": "#E5ECF6",
            "gridcolor": "white",
            "gridwidth": 2,
            "linecolor": "white",
            "showbackground": true,
            "ticks": "",
            "zerolinecolor": "white"
           }
          },
          "shapedefaults": {
           "line": {
            "color": "#2a3f5f"
           }
          },
          "ternary": {
           "aaxis": {
            "gridcolor": "white",
            "linecolor": "white",
            "ticks": ""
           },
           "baxis": {
            "gridcolor": "white",
            "linecolor": "white",
            "ticks": ""
           },
           "bgcolor": "#E5ECF6",
           "caxis": {
            "gridcolor": "white",
            "linecolor": "white",
            "ticks": ""
           }
          },
          "title": {
           "x": 0.05
          },
          "xaxis": {
           "automargin": true,
           "gridcolor": "white",
           "linecolor": "white",
           "ticks": "",
           "title": {
            "standoff": 15
           },
           "zerolinecolor": "white",
           "zerolinewidth": 2
          },
          "yaxis": {
           "automargin": true,
           "gridcolor": "white",
           "linecolor": "white",
           "ticks": "",
           "title": {
            "standoff": 15
           },
           "zerolinecolor": "white",
           "zerolinewidth": 2
          }
         }
        },
        "width": 1400,
        "xaxis": {
         "anchor": "y",
         "domain": [
          0,
          1
         ],
         "gridcolor": "LightGray",
         "gridwidth": 1,
         "showgrid": true,
         "title": {
          "text": "Week"
         }
        },
        "yaxis": {
         "anchor": "x",
         "domain": [
          0,
          1
         ],
         "gridcolor": "LightGray",
         "gridwidth": 1,
         "showgrid": true,
         "ticktext": [
          "20 GB",
          "40 GB",
          "60 GB",
          "80 GB",
          "100 GB",
          "200 GB",
          "400 GB",
          "600 GB",
          "800 GB",
          "1 TB",
          "2 TB",
          "4 TB",
          "6 TB",
          "8 TB"
         ],
         "tickvals": [
          21474836480,
          42949672960,
          64424509440,
          85899345920,
          107374182400,
          214748364800,
          429496729600,
          644245094400,
          858993459200,
          1099511627776,
          2199023255552,
          4398046511104,
          6597069766656,
          8796093022208
         ],
         "title": {
          "text": "TotalBytes"
         },
         "type": "log"
        }
       }
      },
      "text/html": [
       "<div>                            <div id=\"3c663911-e225-44d7-8004-4398589ac4c8\" class=\"plotly-graph-div\" style=\"height:900px; width:1400px;\"></div>            <script type=\"text/javascript\">                require([\"plotly\"], function(Plotly) {                    window.PLOTLYENV=window.PLOTLYENV || {};                                    if (document.getElementById(\"3c663911-e225-44d7-8004-4398589ac4c8\")) {                    Plotly.newPlot(                        \"3c663911-e225-44d7-8004-4398589ac4c8\",                        [{\"hovertemplate\":\"TargetOrgs=NETFLIX<br>Week=%{x}<br>TotalBytes=%{y}<extra></extra>\",\"legendgroup\":\"NETFLIX\",\"line\":{\"color\":\"#dc3912\",\"dash\":\"solid\",\"width\":8},\"marker\":{\"symbol\":\"circle\",\"size\":16},\"mode\":\"markers+lines\",\"name\":\"NETFLIX\",\"orientation\":\"v\",\"showlegend\":true,\"x\":[\"Feb 2020\",\"Apr 2020\",\"Sept 2020\",\"Sept 2021\"],\"xaxis\":\"x\",\"y\":[1104779787670,500952880858,1544687394027,1138029597123],\"yaxis\":\"y\",\"type\":\"scatter\"},{\"hovertemplate\":\"TargetOrgs=AKAMAI<br>Week=%{x}<br>TotalBytes=%{y}<extra></extra>\",\"legendgroup\":\"AKAMAI\",\"line\":{\"color\":\"#ff9900\",\"dash\":\"dot\",\"width\":8},\"marker\":{\"symbol\":\"diamond\",\"size\":16},\"mode\":\"markers+lines\",\"name\":\"AKAMAI\",\"orientation\":\"v\",\"showlegend\":true,\"x\":[\"Feb 2020\",\"Apr 2020\",\"Sept 2020\",\"Sept 2021\"],\"xaxis\":\"x\",\"y\":[501224547509,302317692459,674022880631,864067670346],\"yaxis\":\"y\",\"type\":\"scatter\"},{\"hovertemplate\":\"TargetOrgs=CANARIE<br>Week=%{x}<br>TotalBytes=%{y}<extra></extra>\",\"legendgroup\":\"CANARIE\",\"line\":{\"color\":\"#fb00d1\",\"dash\":\"dash\",\"width\":8},\"marker\":{\"symbol\":\"square\",\"size\":16},\"mode\":\"markers+lines\",\"name\":\"CANARIE\",\"orientation\":\"v\",\"showlegend\":true,\"x\":[\"Feb 2020\",\"Apr 2020\",\"Sept 2020\",\"Sept 2021\"],\"xaxis\":\"x\",\"y\":[468445754504,290474460354,531662459300,640248536912],\"yaxis\":\"y\",\"type\":\"scatter\"},{\"hovertemplate\":\"TargetOrgs=APPLE<br>Week=%{x}<br>TotalBytes=%{y}<extra></extra>\",\"legendgroup\":\"APPLE\",\"line\":{\"color\":\"#7f7f7f\",\"dash\":\"longdash\",\"width\":8},\"marker\":{\"symbol\":\"x\",\"size\":16},\"mode\":\"markers+lines\",\"name\":\"APPLE\",\"orientation\":\"v\",\"showlegend\":true,\"x\":[\"Feb 2020\",\"Apr 2020\",\"Sept 2020\",\"Sept 2021\"],\"xaxis\":\"x\",\"y\":[453186757006,240270682552,813072476875,976345553729],\"yaxis\":\"y\",\"type\":\"scatter\"},{\"hovertemplate\":\"TargetOrgs=GOOGLE<br>Week=%{x}<br>TotalBytes=%{y}<extra></extra>\",\"legendgroup\":\"GOOGLE\",\"line\":{\"color\":\"#109618\",\"dash\":\"dashdot\",\"width\":8},\"marker\":{\"symbol\":\"cross\",\"size\":16},\"mode\":\"markers+lines\",\"name\":\"GOOGLE\",\"orientation\":\"v\",\"showlegend\":true,\"x\":[\"Feb 2020\",\"Apr 2020\",\"Sept 2020\",\"Sept 2021\"],\"xaxis\":\"x\",\"y\":[376894372105,299620192111,650826310036,827265286761],\"yaxis\":\"y\",\"type\":\"scatter\"},{\"hovertemplate\":\"TargetOrgs=FACEBOOK<br>Week=%{x}<br>TotalBytes=%{y}<extra></extra>\",\"legendgroup\":\"FACEBOOK\",\"line\":{\"color\":\"#3366cc\",\"dash\":\"longdashdot\",\"width\":8},\"marker\":{\"symbol\":\"circle\",\"size\":16},\"mode\":\"markers+lines\",\"name\":\"FACEBOOK\",\"orientation\":\"v\",\"showlegend\":true,\"x\":[\"Feb 2020\",\"Apr 2020\",\"Sept 2020\",\"Sept 2021\"],\"xaxis\":\"x\",\"y\":[282755430548,197427671118,371533221635,477309965006],\"yaxis\":\"y\",\"type\":\"scatter\"},{\"hovertemplate\":\"TargetOrgs=CHINAUNICOMChina169Backbone<br>Week=%{x}<br>TotalBytes=%{y}<extra></extra>\",\"legendgroup\":\"CHINAUNICOMChina169Backbone\",\"line\":{\"color\":\"#ff4500\",\"dash\":\"solid\",\"width\":8},\"marker\":{\"symbol\":\"diamond\",\"size\":16},\"mode\":\"markers+lines\",\"name\":\"CHINAUNICOMChina169Backbone\",\"orientation\":\"v\",\"showlegend\":true,\"x\":[\"Feb 2020\"],\"xaxis\":\"x\",\"y\":[235829151365],\"yaxis\":\"y\",\"type\":\"scatter\"},{\"hovertemplate\":\"TargetOrgs=AMAZON<br>Week=%{x}<br>TotalBytes=%{y}<extra></extra>\",\"legendgroup\":\"AMAZON\",\"line\":{\"color\":\"#212E3C\",\"dash\":\"dot\",\"width\":8},\"marker\":{\"symbol\":\"square\",\"size\":16},\"mode\":\"markers+lines\",\"name\":\"AMAZON\",\"orientation\":\"v\",\"showlegend\":true,\"x\":[\"Feb 2020\",\"Apr 2020\",\"Sept 2020\",\"Sept 2021\"],\"xaxis\":\"x\",\"y\":[230380238952,161006416665,1529623610782,706680255968],\"yaxis\":\"y\",\"type\":\"scatter\"},{\"hovertemplate\":\"TargetOrgs=Africa-on-Cloud-AS<br>Week=%{x}<br>TotalBytes=%{y}<extra></extra>\",\"legendgroup\":\"Africa-on-Cloud-AS\",\"line\":{\"color\":\"#FF6692\",\"dash\":\"dash\",\"width\":8},\"marker\":{\"symbol\":\"x\",\"size\":16},\"mode\":\"markers+lines\",\"name\":\"Africa-on-Cloud-AS\",\"orientation\":\"v\",\"showlegend\":true,\"x\":[\"Feb 2020\"],\"xaxis\":\"x\",\"y\":[168026740387],\"yaxis\":\"y\",\"type\":\"scatter\"},{\"hovertemplate\":\"TargetOrgs=FASTLY<br>Week=%{x}<br>TotalBytes=%{y}<extra></extra>\",\"legendgroup\":\"FASTLY\",\"line\":{\"color\":\"#8c564b\",\"dash\":\"longdash\",\"width\":8},\"marker\":{\"symbol\":\"cross\",\"size\":16},\"mode\":\"markers+lines\",\"name\":\"FASTLY\",\"orientation\":\"v\",\"showlegend\":true,\"x\":[\"Feb 2020\",\"Sept 2020\",\"Sept 2021\"],\"xaxis\":\"x\",\"y\":[106075843732,196411088654,396118076139],\"yaxis\":\"y\",\"type\":\"scatter\"},{\"hovertemplate\":\"TargetOrgs=VALVE-CORPORATION<br>Week=%{x}<br>TotalBytes=%{y}<extra></extra>\",\"legendgroup\":\"VALVE-CORPORATION\",\"line\":{\"color\":\"#bcbd22\",\"dash\":\"dashdot\",\"width\":8},\"marker\":{\"symbol\":\"circle\",\"size\":16},\"mode\":\"markers+lines\",\"name\":\"VALVE-CORPORATION\",\"orientation\":\"v\",\"showlegend\":true,\"x\":[\"Apr 2020\"],\"xaxis\":\"x\",\"y\":[145350331955],\"yaxis\":\"y\",\"type\":\"scatter\"},{\"hovertemplate\":\"TargetOrgs=TWITCH<br>Week=%{x}<br>TotalBytes=%{y}<extra></extra>\",\"legendgroup\":\"TWITCH\",\"line\":{\"color\":\"#B6E880\",\"dash\":\"longdashdot\",\"width\":8},\"marker\":{\"symbol\":\"diamond\",\"size\":16},\"mode\":\"markers+lines\",\"name\":\"TWITCH\",\"orientation\":\"v\",\"showlegend\":true,\"x\":[\"Apr 2020\",\"Sept 2020\"],\"xaxis\":\"x\",\"y\":[78595920956,152407420227],\"yaxis\":\"y\",\"type\":\"scatter\"},{\"hovertemplate\":\"TargetOrgs=HIGHWINDS<br>Week=%{x}<br>TotalBytes=%{y}<extra></extra>\",\"legendgroup\":\"HIGHWINDS\",\"line\":{\"color\":\"#FF97FF\",\"dash\":\"solid\",\"width\":8},\"marker\":{\"symbol\":\"square\",\"size\":16},\"mode\":\"markers+lines\",\"name\":\"HIGHWINDS\",\"orientation\":\"v\",\"showlegend\":true,\"x\":[\"Apr 2020\"],\"xaxis\":\"x\",\"y\":[76245392562],\"yaxis\":\"y\",\"type\":\"scatter\"},{\"hovertemplate\":\"TargetOrgs=DatacampLimited<br>Week=%{x}<br>TotalBytes=%{y}<extra></extra>\",\"legendgroup\":\"DatacampLimited\",\"line\":{\"color\":\"#FECB52\",\"dash\":\"dot\",\"width\":8},\"marker\":{\"symbol\":\"x\",\"size\":16},\"mode\":\"markers+lines\",\"name\":\"DatacampLimited\",\"orientation\":\"v\",\"showlegend\":true,\"x\":[\"Sept 2020\"],\"xaxis\":\"x\",\"y\":[147392091366],\"yaxis\":\"y\",\"type\":\"scatter\"},{\"hovertemplate\":\"TargetOrgs=SHARCNET<br>Week=%{x}<br>TotalBytes=%{y}<extra></extra>\",\"legendgroup\":\"SHARCNET\",\"line\":{\"color\":\"#636efa\",\"dash\":\"dash\",\"width\":8},\"marker\":{\"symbol\":\"cross\",\"size\":16},\"mode\":\"markers+lines\",\"name\":\"SHARCNET\",\"orientation\":\"v\",\"showlegend\":true,\"x\":[\"Sept 2021\"],\"xaxis\":\"x\",\"y\":[6737222383658],\"yaxis\":\"y\",\"type\":\"scatter\"},{\"hovertemplate\":\"TargetOrgs=LEVEL3<br>Week=%{x}<br>TotalBytes=%{y}<extra></extra>\",\"legendgroup\":\"LEVEL3\",\"line\":{\"color\":\"#17becf\",\"dash\":\"longdash\",\"width\":8},\"marker\":{\"symbol\":\"circle\",\"size\":16},\"mode\":\"markers+lines\",\"name\":\"LEVEL3\",\"orientation\":\"v\",\"showlegend\":true,\"x\":[\"Sept 2021\"],\"xaxis\":\"x\",\"y\":[416082806627],\"yaxis\":\"y\",\"type\":\"scatter\"}],                        {\"template\":{\"data\":{\"histogram2dcontour\":[{\"type\":\"histogram2dcontour\",\"colorbar\":{\"outlinewidth\":0,\"ticks\":\"\"},\"colorscale\":[[0.0,\"#0d0887\"],[0.1111111111111111,\"#46039f\"],[0.2222222222222222,\"#7201a8\"],[0.3333333333333333,\"#9c179e\"],[0.4444444444444444,\"#bd3786\"],[0.5555555555555556,\"#d8576b\"],[0.6666666666666666,\"#ed7953\"],[0.7777777777777778,\"#fb9f3a\"],[0.8888888888888888,\"#fdca26\"],[1.0,\"#f0f921\"]]}],\"choropleth\":[{\"type\":\"choropleth\",\"colorbar\":{\"outlinewidth\":0,\"ticks\":\"\"}}],\"histogram2d\":[{\"type\":\"histogram2d\",\"colorbar\":{\"outlinewidth\":0,\"ticks\":\"\"},\"colorscale\":[[0.0,\"#0d0887\"],[0.1111111111111111,\"#46039f\"],[0.2222222222222222,\"#7201a8\"],[0.3333333333333333,\"#9c179e\"],[0.4444444444444444,\"#bd3786\"],[0.5555555555555556,\"#d8576b\"],[0.6666666666666666,\"#ed7953\"],[0.7777777777777778,\"#fb9f3a\"],[0.8888888888888888,\"#fdca26\"],[1.0,\"#f0f921\"]]}],\"heatmap\":[{\"type\":\"heatmap\",\"colorbar\":{\"outlinewidth\":0,\"ticks\":\"\"},\"colorscale\":[[0.0,\"#0d0887\"],[0.1111111111111111,\"#46039f\"],[0.2222222222222222,\"#7201a8\"],[0.3333333333333333,\"#9c179e\"],[0.4444444444444444,\"#bd3786\"],[0.5555555555555556,\"#d8576b\"],[0.6666666666666666,\"#ed7953\"],[0.7777777777777778,\"#fb9f3a\"],[0.8888888888888888,\"#fdca26\"],[1.0,\"#f0f921\"]]}],\"heatmapgl\":[{\"type\":\"heatmapgl\",\"colorbar\":{\"outlinewidth\":0,\"ticks\":\"\"},\"colorscale\":[[0.0,\"#0d0887\"],[0.1111111111111111,\"#46039f\"],[0.2222222222222222,\"#7201a8\"],[0.3333333333333333,\"#9c179e\"],[0.4444444444444444,\"#bd3786\"],[0.5555555555555556,\"#d8576b\"],[0.6666666666666666,\"#ed7953\"],[0.7777777777777778,\"#fb9f3a\"],[0.8888888888888888,\"#fdca26\"],[1.0,\"#f0f921\"]]}],\"contourcarpet\":[{\"type\":\"contourcarpet\",\"colorbar\":{\"outlinewidth\":0,\"ticks\":\"\"}}],\"contour\":[{\"type\":\"contour\",\"colorbar\":{\"outlinewidth\":0,\"ticks\":\"\"},\"colorscale\":[[0.0,\"#0d0887\"],[0.1111111111111111,\"#46039f\"],[0.2222222222222222,\"#7201a8\"],[0.3333333333333333,\"#9c179e\"],[0.4444444444444444,\"#bd3786\"],[0.5555555555555556,\"#d8576b\"],[0.6666666666666666,\"#ed7953\"],[0.7777777777777778,\"#fb9f3a\"],[0.8888888888888888,\"#fdca26\"],[1.0,\"#f0f921\"]]}],\"surface\":[{\"type\":\"surface\",\"colorbar\":{\"outlinewidth\":0,\"ticks\":\"\"},\"colorscale\":[[0.0,\"#0d0887\"],[0.1111111111111111,\"#46039f\"],[0.2222222222222222,\"#7201a8\"],[0.3333333333333333,\"#9c179e\"],[0.4444444444444444,\"#bd3786\"],[0.5555555555555556,\"#d8576b\"],[0.6666666666666666,\"#ed7953\"],[0.7777777777777778,\"#fb9f3a\"],[0.8888888888888888,\"#fdca26\"],[1.0,\"#f0f921\"]]}],\"mesh3d\":[{\"type\":\"mesh3d\",\"colorbar\":{\"outlinewidth\":0,\"ticks\":\"\"}}],\"scatter\":[{\"fillpattern\":{\"fillmode\":\"overlay\",\"size\":10,\"solidity\":0.2},\"type\":\"scatter\"}],\"parcoords\":[{\"type\":\"parcoords\",\"line\":{\"colorbar\":{\"outlinewidth\":0,\"ticks\":\"\"}}}],\"scatterpolargl\":[{\"type\":\"scatterpolargl\",\"marker\":{\"colorbar\":{\"outlinewidth\":0,\"ticks\":\"\"}}}],\"bar\":[{\"error_x\":{\"color\":\"#2a3f5f\"},\"error_y\":{\"color\":\"#2a3f5f\"},\"marker\":{\"line\":{\"color\":\"#E5ECF6\",\"width\":0.5},\"pattern\":{\"fillmode\":\"overlay\",\"size\":10,\"solidity\":0.2}},\"type\":\"bar\"}],\"scattergeo\":[{\"type\":\"scattergeo\",\"marker\":{\"colorbar\":{\"outlinewidth\":0,\"ticks\":\"\"}}}],\"scatterpolar\":[{\"type\":\"scatterpolar\",\"marker\":{\"colorbar\":{\"outlinewidth\":0,\"ticks\":\"\"}}}],\"histogram\":[{\"marker\":{\"pattern\":{\"fillmode\":\"overlay\",\"size\":10,\"solidity\":0.2}},\"type\":\"histogram\"}],\"scattergl\":[{\"type\":\"scattergl\",\"marker\":{\"colorbar\":{\"outlinewidth\":0,\"ticks\":\"\"}}}],\"scatter3d\":[{\"type\":\"scatter3d\",\"line\":{\"colorbar\":{\"outlinewidth\":0,\"ticks\":\"\"}},\"marker\":{\"colorbar\":{\"outlinewidth\":0,\"ticks\":\"\"}}}],\"scattermapbox\":[{\"type\":\"scattermapbox\",\"marker\":{\"colorbar\":{\"outlinewidth\":0,\"ticks\":\"\"}}}],\"scatterternary\":[{\"type\":\"scatterternary\",\"marker\":{\"colorbar\":{\"outlinewidth\":0,\"ticks\":\"\"}}}],\"scattercarpet\":[{\"type\":\"scattercarpet\",\"marker\":{\"colorbar\":{\"outlinewidth\":0,\"ticks\":\"\"}}}],\"carpet\":[{\"aaxis\":{\"endlinecolor\":\"#2a3f5f\",\"gridcolor\":\"white\",\"linecolor\":\"white\",\"minorgridcolor\":\"white\",\"startlinecolor\":\"#2a3f5f\"},\"baxis\":{\"endlinecolor\":\"#2a3f5f\",\"gridcolor\":\"white\",\"linecolor\":\"white\",\"minorgridcolor\":\"white\",\"startlinecolor\":\"#2a3f5f\"},\"type\":\"carpet\"}],\"table\":[{\"cells\":{\"fill\":{\"color\":\"#EBF0F8\"},\"line\":{\"color\":\"white\"}},\"header\":{\"fill\":{\"color\":\"#C8D4E3\"},\"line\":{\"color\":\"white\"}},\"type\":\"table\"}],\"barpolar\":[{\"marker\":{\"line\":{\"color\":\"#E5ECF6\",\"width\":0.5},\"pattern\":{\"fillmode\":\"overlay\",\"size\":10,\"solidity\":0.2}},\"type\":\"barpolar\"}],\"pie\":[{\"automargin\":true,\"type\":\"pie\"}]},\"layout\":{\"autotypenumbers\":\"strict\",\"colorway\":[\"#636efa\",\"#EF553B\",\"#00cc96\",\"#ab63fa\",\"#FFA15A\",\"#19d3f3\",\"#FF6692\",\"#B6E880\",\"#FF97FF\",\"#FECB52\"],\"font\":{\"color\":\"#2a3f5f\"},\"hovermode\":\"closest\",\"hoverlabel\":{\"align\":\"left\"},\"paper_bgcolor\":\"white\",\"plot_bgcolor\":\"#E5ECF6\",\"polar\":{\"bgcolor\":\"#E5ECF6\",\"angularaxis\":{\"gridcolor\":\"white\",\"linecolor\":\"white\",\"ticks\":\"\"},\"radialaxis\":{\"gridcolor\":\"white\",\"linecolor\":\"white\",\"ticks\":\"\"}},\"ternary\":{\"bgcolor\":\"#E5ECF6\",\"aaxis\":{\"gridcolor\":\"white\",\"linecolor\":\"white\",\"ticks\":\"\"},\"baxis\":{\"gridcolor\":\"white\",\"linecolor\":\"white\",\"ticks\":\"\"},\"caxis\":{\"gridcolor\":\"white\",\"linecolor\":\"white\",\"ticks\":\"\"}},\"coloraxis\":{\"colorbar\":{\"outlinewidth\":0,\"ticks\":\"\"}},\"colorscale\":{\"sequential\":[[0.0,\"#0d0887\"],[0.1111111111111111,\"#46039f\"],[0.2222222222222222,\"#7201a8\"],[0.3333333333333333,\"#9c179e\"],[0.4444444444444444,\"#bd3786\"],[0.5555555555555556,\"#d8576b\"],[0.6666666666666666,\"#ed7953\"],[0.7777777777777778,\"#fb9f3a\"],[0.8888888888888888,\"#fdca26\"],[1.0,\"#f0f921\"]],\"sequentialminus\":[[0.0,\"#0d0887\"],[0.1111111111111111,\"#46039f\"],[0.2222222222222222,\"#7201a8\"],[0.3333333333333333,\"#9c179e\"],[0.4444444444444444,\"#bd3786\"],[0.5555555555555556,\"#d8576b\"],[0.6666666666666666,\"#ed7953\"],[0.7777777777777778,\"#fb9f3a\"],[0.8888888888888888,\"#fdca26\"],[1.0,\"#f0f921\"]],\"diverging\":[[0,\"#8e0152\"],[0.1,\"#c51b7d\"],[0.2,\"#de77ae\"],[0.3,\"#f1b6da\"],[0.4,\"#fde0ef\"],[0.5,\"#f7f7f7\"],[0.6,\"#e6f5d0\"],[0.7,\"#b8e186\"],[0.8,\"#7fbc41\"],[0.9,\"#4d9221\"],[1,\"#276419\"]]},\"xaxis\":{\"gridcolor\":\"white\",\"linecolor\":\"white\",\"ticks\":\"\",\"title\":{\"standoff\":15},\"zerolinecolor\":\"white\",\"automargin\":true,\"zerolinewidth\":2},\"yaxis\":{\"gridcolor\":\"white\",\"linecolor\":\"white\",\"ticks\":\"\",\"title\":{\"standoff\":15},\"zerolinecolor\":\"white\",\"automargin\":true,\"zerolinewidth\":2},\"scene\":{\"xaxis\":{\"backgroundcolor\":\"#E5ECF6\",\"gridcolor\":\"white\",\"linecolor\":\"white\",\"showbackground\":true,\"ticks\":\"\",\"zerolinecolor\":\"white\",\"gridwidth\":2},\"yaxis\":{\"backgroundcolor\":\"#E5ECF6\",\"gridcolor\":\"white\",\"linecolor\":\"white\",\"showbackground\":true,\"ticks\":\"\",\"zerolinecolor\":\"white\",\"gridwidth\":2},\"zaxis\":{\"backgroundcolor\":\"#E5ECF6\",\"gridcolor\":\"white\",\"linecolor\":\"white\",\"showbackground\":true,\"ticks\":\"\",\"zerolinecolor\":\"white\",\"gridwidth\":2}},\"shapedefaults\":{\"line\":{\"color\":\"#2a3f5f\"}},\"annotationdefaults\":{\"arrowcolor\":\"#2a3f5f\",\"arrowhead\":0,\"arrowwidth\":1},\"geo\":{\"bgcolor\":\"white\",\"landcolor\":\"#E5ECF6\",\"subunitcolor\":\"white\",\"showland\":true,\"showlakes\":true,\"lakecolor\":\"white\"},\"title\":{\"x\":0.05},\"mapbox\":{\"style\":\"light\"}}},\"xaxis\":{\"anchor\":\"y\",\"domain\":[0.0,1.0],\"title\":{\"text\":\"Week\"},\"showgrid\":true,\"gridwidth\":1,\"gridcolor\":\"LightGray\"},\"yaxis\":{\"anchor\":\"x\",\"domain\":[0.0,1.0],\"title\":{\"text\":\"TotalBytes\"},\"type\":\"log\",\"showgrid\":true,\"gridwidth\":1,\"gridcolor\":\"LightGray\",\"tickvals\":[21474836480,42949672960,64424509440,85899345920,107374182400,214748364800,429496729600,644245094400,858993459200,1099511627776,2199023255552,4398046511104,6597069766656,8796093022208],\"ticktext\":[\"20 GB\",\"40 GB\",\"60 GB\",\"80 GB\",\"100 GB\",\"200 GB\",\"400 GB\",\"600 GB\",\"800 GB\",\"1 TB\",\"2 TB\",\"4 TB\",\"6 TB\",\"8 TB\"]},\"legend\":{\"title\":{\"text\":\"TargetOrgs\"},\"tracegroupgap\":0,\"itemwidth\":80},\"margin\":{\"t\":60},\"font\":{\"size\":30},\"plot_bgcolor\":\"white\",\"width\":1400,\"height\":900},                        {\"responsive\": true}                    ).then(function(){\n",
       "                            \n",
       "var gd = document.getElementById('3c663911-e225-44d7-8004-4398589ac4c8');\n",
       "var x = new MutationObserver(function (mutations, observer) {{\n",
       "        var display = window.getComputedStyle(gd).display;\n",
       "        if (!display || display === 'none') {{\n",
       "            console.log([gd, 'removed!']);\n",
       "            Plotly.purge(gd);\n",
       "            observer.disconnect();\n",
       "        }}\n",
       "}});\n",
       "\n",
       "// Listen for the removal of the full notebook cells\n",
       "var notebookContainer = gd.closest('#notebook-container');\n",
       "if (notebookContainer) {{\n",
       "    x.observe(notebookContainer, {childList: true});\n",
       "}}\n",
       "\n",
       "// Listen for the clearing of the current output cell\n",
       "var outputEl = gd.closest('.output');\n",
       "if (outputEl) {{\n",
       "    x.observe(outputEl, {childList: true});\n",
       "}}\n",
       "\n",
       "                        })                };                });            </script>        </div>"
      ]
     },
     "metadata": {},
     "output_type": "display_data"
    }
   ],
   "source": [
    "fig = px.line(df, x='Week', y='TotalBytes', color='TargetOrgs', log_y=True,\n",
    "                            color_discrete_map={'APPLE': '#7f7f7f', 'NETFLIX': '#dc3912', 'AKAMAI': '#ff9900',\n",
    "                                                'CANARIE': '#fb00d1', 'FACEBOOK': '#3366cc', 'GOOGLE': '#109618',\n",
    "                                                'AMAZON': '#212E3C', 'FASTLY': '#8c564b', 'LEVEL3': '#17becf',\n",
    "                                                'MICROSOFT': '#990099', 'EDGECAST': '#316395',\n",
    "                                                'VALVE-CORPORATION': '#bcbd22', 'TELUS': '#db1f48',\n",
    "                                                'SHAW': '#613659', 'BACOM': '#01949a', 'ROGERS': '#81b622',\n",
    "                                                'Chinanet': '#d3b1c2', 'AHS': '#eeb5eb', 'YANDEXLLC': '#fad02c',\n",
    "                                                'NLM-GW': '#055c9d', 'JiscServicesLimited': '#870a30',\n",
    "                                                'BROADINSTITUTE-AS': '#e57f84', 'OoredooQ.S.C.': '#90adc6',\n",
    "                                                'RelianceJioInfocommLimited': '#a16ae8', 'O-NET': '#ffa384',\n",
    "                                                'Vetenskapsradet/SUNET': '#74bdcb', 'VELOCITYNET-01': '#3d5b59',\n",
    "                                                'CHINAUNICOMChina169Backbone': '#ff4500', 'CIPHERKEY': '#b7ac44',\n",
    "                                                'TEKSAVVY': '#52688f', 'BARR-XPLR-ASN': '#d4f1f4',\n",
    "                                                'PRIMUS-AS6407': '#b9b7bd', 'CIKTELECOM-CABLE': '#fb4570',\n",
    "                                                'TWC-11426-CAROLINAS': '#7cf3a0', 'PEGTECHINC': '#f9eac2',\n",
    "                                                'UniversityofQueensland': '#bfd7ed'},\n",
    "                             markers=True, line_dash='TargetOrgs', symbol='TargetOrgs')\n",
    "fig.update_layout(plot_bgcolor='white', font_size=30, legend_itemwidth=80, width=1400, height=900)\n",
    "fig.update_xaxes(showgrid=True, gridwidth=1, gridcolor='LightGray')\n",
    "fig.update_yaxes(showgrid=True, gridwidth=1, gridcolor='LightGray',\n",
    "                               tickvals=[21474836480, 42949672960, 64424509440, 85899345920, \n",
    "                                        107374182400, 214748364800, 429496729600, 644245094400, 858993459200, \n",
    "                                        1099511627776, 2199023255552, 4398046511104, 6597069766656, 8796093022208],\n",
    "                               ticktext=[\"20 GB\", \"40 GB\", \"60 GB\", \"80 GB\", \n",
    "                                         \"100 GB\", \"200 GB\", \"400 GB\", \"600 GB\", \"800 GB\", \n",
    "                                         \"1 TB\", \"2 TB\", \"4 TB\", \"6 TB\", \"8 TB\"])\n",
    "fig.update_traces(line_width=8, marker_size=16)\n",
    "\n",
    "fig.show()"
   ]
  },
  {
   "cell_type": "code",
   "execution_count": null,
   "id": "4cb6ea74",
   "metadata": {},
   "outputs": [],
   "source": []
  }
 ],
 "metadata": {
  "kernelspec": {
   "display_name": "Python 3 (ipykernel)",
   "language": "python",
   "name": "python3"
  },
  "language_info": {
   "codemirror_mode": {
    "name": "ipython",
    "version": 3
   },
   "file_extension": ".py",
   "mimetype": "text/x-python",
   "name": "python",
   "nbconvert_exporter": "python",
   "pygments_lexer": "ipython3",
   "version": "3.9.7"
  }
 },
 "nbformat": 4,
 "nbformat_minor": 5
}
