{
 "cells": [
  {
   "cell_type": "code",
   "execution_count": 20,
   "id": "504be422",
   "metadata": {},
   "outputs": [
    {
     "data": {
      "application/vnd.plotly.v1+json": {
       "config": {
        "plotlyServerURL": "https://plot.ly"
       },
       "data": [
        {
         "hovertemplate": "SourceOrgs=SHAW<br>Week=%{x}<br>TotalBytes=%{y}<extra></extra>",
         "legendgroup": "SHAW",
         "line": {
          "color": "#613659",
          "dash": "solid",
          "width": 8
         },
         "marker": {
          "size": 18,
          "symbol": "circle"
         },
         "mode": "markers+lines",
         "name": "SHAW",
         "orientation": "v",
         "showlegend": true,
         "type": "scatter",
         "x": [
          "Feb 2020",
          "Apr 2020",
          "Sept 2020",
          "Sept 2021"
         ],
         "xaxis": "x",
         "y": [
          426879459722,
          237156631760,
          689877071874,
          2250606085830
         ],
         "yaxis": "y"
        },
        {
         "hovertemplate": "SourceOrgs=TELUS<br>Week=%{x}<br>TotalBytes=%{y}<extra></extra>",
         "legendgroup": "TELUS",
         "line": {
          "color": "#db1f48",
          "dash": "dot",
          "width": 8
         },
         "marker": {
          "size": 18,
          "symbol": "diamond"
         },
         "mode": "markers+lines",
         "name": "TELUS",
         "orientation": "v",
         "showlegend": true,
         "type": "scatter",
         "x": [
          "Feb 2020",
          "Apr 2020",
          "Sept 2020",
          "Sept 2021"
         ],
         "xaxis": "x",
         "y": [
          294297863512,
          145505560060,
          423012866820,
          1804115261976
         ],
         "yaxis": "y"
        },
        {
         "hovertemplate": "SourceOrgs=PERFORMIVE<br>Week=%{x}<br>TotalBytes=%{y}<extra></extra>",
         "legendgroup": "PERFORMIVE",
         "line": {
          "color": "#FF6692",
          "dash": "dash",
          "width": 8
         },
         "marker": {
          "size": 18,
          "symbol": "square"
         },
         "mode": "markers+lines",
         "name": "PERFORMIVE",
         "orientation": "v",
         "showlegend": true,
         "type": "scatter",
         "x": [
          "Feb 2020",
          "Apr 2020",
          "Sept 2020",
          "Sept 2021"
         ],
         "xaxis": "x",
         "y": [
          115894341702,
          61125667869,
          110119869545,
          206162285167
         ],
         "yaxis": "y"
        },
        {
         "hovertemplate": "SourceOrgs=BACOM<br>Week=%{x}<br>TotalBytes=%{y}<extra></extra>",
         "legendgroup": "BACOM",
         "line": {
          "color": "#01949a",
          "dash": "longdash",
          "width": 8
         },
         "marker": {
          "size": 18,
          "symbol": "x"
         },
         "mode": "markers+lines",
         "name": "BACOM",
         "orientation": "v",
         "showlegend": true,
         "type": "scatter",
         "x": [
          "Feb 2020",
          "Sept 2020",
          "Sept 2021"
         ],
         "xaxis": "x",
         "y": [
          97439974286,
          55464508456,
          238668641805
         ],
         "yaxis": "y"
        },
        {
         "hovertemplate": "SourceOrgs=ROGERS<br>Week=%{x}<br>TotalBytes=%{y}<extra></extra>",
         "legendgroup": "ROGERS",
         "line": {
          "color": "#81b622",
          "dash": "dashdot",
          "width": 8
         },
         "marker": {
          "size": 18,
          "symbol": "cross"
         },
         "mode": "markers+lines",
         "name": "ROGERS",
         "orientation": "v",
         "showlegend": true,
         "type": "scatter",
         "x": [
          "Feb 2020",
          "Sept 2020",
          "Sept 2021"
         ],
         "xaxis": "x",
         "y": [
          86628611440,
          85337352032,
          266403607408
         ],
         "yaxis": "y"
        },
        {
         "hovertemplate": "SourceOrgs=FACEBOOK<br>Week=%{x}<br>TotalBytes=%{y}<extra></extra>",
         "legendgroup": "FACEBOOK",
         "line": {
          "color": "#3366cc",
          "dash": "longdashdot",
          "width": 8
         },
         "marker": {
          "size": 18,
          "symbol": "circle"
         },
         "mode": "markers+lines",
         "name": "FACEBOOK",
         "orientation": "v",
         "showlegend": true,
         "type": "scatter",
         "x": [
          "Feb 2020",
          "Apr 2020"
         ],
         "xaxis": "x",
         "y": [
          84601759835,
          86289095296
         ],
         "yaxis": "y"
        },
        {
         "hovertemplate": "SourceOrgs=APPLE<br>Week=%{x}<br>TotalBytes=%{y}<extra></extra>",
         "legendgroup": "APPLE",
         "line": {
          "color": "#7f7f7f",
          "dash": "solid",
          "width": 8
         },
         "marker": {
          "size": 18,
          "symbol": "diamond"
         },
         "mode": "markers+lines",
         "name": "APPLE",
         "orientation": "v",
         "showlegend": true,
         "type": "scatter",
         "x": [
          "Feb 2020",
          "Sept 2021"
         ],
         "xaxis": "x",
         "y": [
          83482963362,
          215742905203
         ],
         "yaxis": "y"
        },
        {
         "hovertemplate": "SourceOrgs=Chinanet<br>Week=%{x}<br>TotalBytes=%{y}<extra></extra>",
         "legendgroup": "Chinanet",
         "line": {
          "color": "#d3b1c2",
          "dash": "dot",
          "width": 8
         },
         "marker": {
          "size": 18,
          "symbol": "square"
         },
         "mode": "markers+lines",
         "name": "Chinanet",
         "orientation": "v",
         "showlegend": true,
         "type": "scatter",
         "x": [
          "Feb 2020",
          "Apr 2020"
         ],
         "xaxis": "x",
         "y": [
          62242057894,
          118714593809
         ],
         "yaxis": "y"
        },
        {
         "hovertemplate": "SourceOrgs=COMCAST-7922<br>Week=%{x}<br>TotalBytes=%{y}<extra></extra>",
         "legendgroup": "COMCAST-7922",
         "line": {
          "color": "#B6E880",
          "dash": "dash",
          "width": 8
         },
         "marker": {
          "size": 18,
          "symbol": "x"
         },
         "mode": "markers+lines",
         "name": "COMCAST-7922",
         "orientation": "v",
         "showlegend": true,
         "type": "scatter",
         "x": [
          "Feb 2020",
          "Sept 2020",
          "Sept 2021"
         ],
         "xaxis": "x",
         "y": [
          54153399561,
          45261547011,
          186834844445
         ],
         "yaxis": "y"
        },
        {
         "hovertemplate": "SourceOrgs=M247Ltd<br>Week=%{x}<br>TotalBytes=%{y}<extra></extra>",
         "legendgroup": "M247Ltd",
         "line": {
          "color": "#FF97FF",
          "dash": "longdash",
          "width": 8
         },
         "marker": {
          "size": 18,
          "symbol": "cross"
         },
         "mode": "markers+lines",
         "name": "M247Ltd",
         "orientation": "v",
         "showlegend": true,
         "type": "scatter",
         "x": [
          "Feb 2020"
         ],
         "xaxis": "x",
         "y": [
          52557923433
         ],
         "yaxis": "y"
        },
        {
         "hovertemplate": "SourceOrgs=NVIDIA<br>Week=%{x}<br>TotalBytes=%{y}<extra></extra>",
         "legendgroup": "NVIDIA",
         "line": {
          "color": "#FECB52",
          "dash": "dashdot",
          "width": 8
         },
         "marker": {
          "size": 18,
          "symbol": "circle"
         },
         "mode": "markers+lines",
         "name": "NVIDIA",
         "orientation": "v",
         "showlegend": true,
         "type": "scatter",
         "x": [
          "Apr 2020"
         ],
         "xaxis": "x",
         "y": [
          228499718451
         ],
         "yaxis": "y"
        },
        {
         "hovertemplate": "SourceOrgs=AMAZON<br>Week=%{x}<br>TotalBytes=%{y}<extra></extra>",
         "legendgroup": "AMAZON",
         "line": {
          "color": "#212E3C",
          "dash": "longdashdot",
          "width": 8
         },
         "marker": {
          "size": 18,
          "symbol": "diamond"
         },
         "mode": "markers+lines",
         "name": "AMAZON",
         "orientation": "v",
         "showlegend": true,
         "type": "scatter",
         "x": [
          "Apr 2020",
          "Sept 2020",
          "Sept 2021"
         ],
         "xaxis": "x",
         "y": [
          201380635611,
          469280318088,
          2377601307363
         ],
         "yaxis": "y"
        },
        {
         "hovertemplate": "SourceOrgs=DIGITALOCEAN<br>Week=%{x}<br>TotalBytes=%{y}<extra></extra>",
         "legendgroup": "DIGITALOCEAN",
         "line": {
          "color": "#636efa",
          "dash": "solid",
          "width": 8
         },
         "marker": {
          "size": 18,
          "symbol": "square"
         },
         "mode": "markers+lines",
         "name": "DIGITALOCEAN",
         "orientation": "v",
         "showlegend": true,
         "type": "scatter",
         "x": [
          "Apr 2020"
         ],
         "xaxis": "x",
         "y": [
          95164146072
         ],
         "yaxis": "y"
        },
        {
         "hovertemplate": "SourceOrgs=AS40676<br>Week=%{x}<br>TotalBytes=%{y}<extra></extra>",
         "legendgroup": "AS40676",
         "line": {
          "color": "#EF553B",
          "dash": "dot",
          "width": 8
         },
         "marker": {
          "size": 18,
          "symbol": "x"
         },
         "mode": "markers+lines",
         "name": "AS40676",
         "orientation": "v",
         "showlegend": true,
         "type": "scatter",
         "x": [
          "Apr 2020"
         ],
         "xaxis": "x",
         "y": [
          50477797268
         ],
         "yaxis": "y"
        },
        {
         "hovertemplate": "SourceOrgs=Tencent<br>Week=%{x}<br>TotalBytes=%{y}<extra></extra>",
         "legendgroup": "Tencent",
         "line": {
          "color": "#00cc96",
          "dash": "dash",
          "width": 8
         },
         "marker": {
          "size": 18,
          "symbol": "cross"
         },
         "mode": "markers+lines",
         "name": "Tencent",
         "orientation": "v",
         "showlegend": true,
         "type": "scatter",
         "x": [
          "Apr 2020"
         ],
         "xaxis": "x",
         "y": [
          46584640437
         ],
         "yaxis": "y"
        },
        {
         "hovertemplate": "SourceOrgs=ORACLE-BMC<br>Week=%{x}<br>TotalBytes=%{y}<extra></extra>",
         "legendgroup": "ORACLE-BMC",
         "line": {
          "color": "#ab63fa",
          "dash": "longdash",
          "width": 8
         },
         "marker": {
          "size": 18,
          "symbol": "circle"
         },
         "mode": "markers+lines",
         "name": "ORACLE-BMC",
         "orientation": "v",
         "showlegend": true,
         "type": "scatter",
         "x": [
          "Sept 2020"
         ],
         "xaxis": "x",
         "y": [
          222100330880
         ],
         "yaxis": "y"
        },
        {
         "hovertemplate": "SourceOrgs=i3D.netB.V<br>Week=%{x}<br>TotalBytes=%{y}<extra></extra>",
         "legendgroup": "i3D.netB.V",
         "line": {
          "color": "#FFA15A",
          "dash": "dashdot",
          "width": 8
         },
         "marker": {
          "size": 18,
          "symbol": "diamond"
         },
         "mode": "markers+lines",
         "name": "i3D.netB.V",
         "orientation": "v",
         "showlegend": true,
         "type": "scatter",
         "x": [
          "Sept 2020"
         ],
         "xaxis": "x",
         "y": [
          133860576048
         ],
         "yaxis": "y"
        },
        {
         "hovertemplate": "SourceOrgs=Xs4allInternetBV<br>Week=%{x}<br>TotalBytes=%{y}<extra></extra>",
         "legendgroup": "Xs4allInternetBV",
         "line": {
          "color": "#19d3f3",
          "dash": "longdashdot",
          "width": 8
         },
         "marker": {
          "size": 18,
          "symbol": "square"
         },
         "mode": "markers+lines",
         "name": "Xs4allInternetBV",
         "orientation": "v",
         "showlegend": true,
         "type": "scatter",
         "x": [
          "Sept 2020"
         ],
         "xaxis": "x",
         "y": [
          41321658357
         ],
         "yaxis": "y"
        },
        {
         "hovertemplate": "SourceOrgs=MICROSOFT<br>Week=%{x}<br>TotalBytes=%{y}<extra></extra>",
         "legendgroup": "MICROSOFT",
         "line": {
          "color": "#990099",
          "dash": "solid",
          "width": 8
         },
         "marker": {
          "size": 18,
          "symbol": "x"
         },
         "mode": "markers+lines",
         "name": "MICROSOFT",
         "orientation": "v",
         "showlegend": true,
         "type": "scatter",
         "x": [
          "Sept 2021"
         ],
         "xaxis": "x",
         "y": [
          535964105414
         ],
         "yaxis": "y"
        },
        {
         "hovertemplate": "SourceOrgs=SASKTEL<br>Week=%{x}<br>TotalBytes=%{y}<extra></extra>",
         "legendgroup": "SASKTEL",
         "line": {
          "color": "#FF6692",
          "dash": "dot",
          "width": 8
         },
         "marker": {
          "size": 18,
          "symbol": "cross"
         },
         "mode": "markers+lines",
         "name": "SASKTEL",
         "orientation": "v",
         "showlegend": true,
         "type": "scatter",
         "x": [
          "Sept 2021"
         ],
         "xaxis": "x",
         "y": [
          135653685405
         ],
         "yaxis": "y"
        }
       ],
       "layout": {
        "font": {
         "size": 20
        },
        "height": 800,
        "legend": {
         "itemwidth": 80,
         "title": {
          "text": "SourceOrgs"
         },
         "tracegroupgap": 0
        },
        "margin": {
         "t": 60
        },
        "plot_bgcolor": "white",
        "template": {
         "data": {
          "bar": [
           {
            "error_x": {
             "color": "#2a3f5f"
            },
            "error_y": {
             "color": "#2a3f5f"
            },
            "marker": {
             "line": {
              "color": "#E5ECF6",
              "width": 0.5
             },
             "pattern": {
              "fillmode": "overlay",
              "size": 10,
              "solidity": 0.2
             }
            },
            "type": "bar"
           }
          ],
          "barpolar": [
           {
            "marker": {
             "line": {
              "color": "#E5ECF6",
              "width": 0.5
             },
             "pattern": {
              "fillmode": "overlay",
              "size": 10,
              "solidity": 0.2
             }
            },
            "type": "barpolar"
           }
          ],
          "carpet": [
           {
            "aaxis": {
             "endlinecolor": "#2a3f5f",
             "gridcolor": "white",
             "linecolor": "white",
             "minorgridcolor": "white",
             "startlinecolor": "#2a3f5f"
            },
            "baxis": {
             "endlinecolor": "#2a3f5f",
             "gridcolor": "white",
             "linecolor": "white",
             "minorgridcolor": "white",
             "startlinecolor": "#2a3f5f"
            },
            "type": "carpet"
           }
          ],
          "choropleth": [
           {
            "colorbar": {
             "outlinewidth": 0,
             "ticks": ""
            },
            "type": "choropleth"
           }
          ],
          "contour": [
           {
            "colorbar": {
             "outlinewidth": 0,
             "ticks": ""
            },
            "colorscale": [
             [
              0,
              "#0d0887"
             ],
             [
              0.1111111111111111,
              "#46039f"
             ],
             [
              0.2222222222222222,
              "#7201a8"
             ],
             [
              0.3333333333333333,
              "#9c179e"
             ],
             [
              0.4444444444444444,
              "#bd3786"
             ],
             [
              0.5555555555555556,
              "#d8576b"
             ],
             [
              0.6666666666666666,
              "#ed7953"
             ],
             [
              0.7777777777777778,
              "#fb9f3a"
             ],
             [
              0.8888888888888888,
              "#fdca26"
             ],
             [
              1,
              "#f0f921"
             ]
            ],
            "type": "contour"
           }
          ],
          "contourcarpet": [
           {
            "colorbar": {
             "outlinewidth": 0,
             "ticks": ""
            },
            "type": "contourcarpet"
           }
          ],
          "heatmap": [
           {
            "colorbar": {
             "outlinewidth": 0,
             "ticks": ""
            },
            "colorscale": [
             [
              0,
              "#0d0887"
             ],
             [
              0.1111111111111111,
              "#46039f"
             ],
             [
              0.2222222222222222,
              "#7201a8"
             ],
             [
              0.3333333333333333,
              "#9c179e"
             ],
             [
              0.4444444444444444,
              "#bd3786"
             ],
             [
              0.5555555555555556,
              "#d8576b"
             ],
             [
              0.6666666666666666,
              "#ed7953"
             ],
             [
              0.7777777777777778,
              "#fb9f3a"
             ],
             [
              0.8888888888888888,
              "#fdca26"
             ],
             [
              1,
              "#f0f921"
             ]
            ],
            "type": "heatmap"
           }
          ],
          "heatmapgl": [
           {
            "colorbar": {
             "outlinewidth": 0,
             "ticks": ""
            },
            "colorscale": [
             [
              0,
              "#0d0887"
             ],
             [
              0.1111111111111111,
              "#46039f"
             ],
             [
              0.2222222222222222,
              "#7201a8"
             ],
             [
              0.3333333333333333,
              "#9c179e"
             ],
             [
              0.4444444444444444,
              "#bd3786"
             ],
             [
              0.5555555555555556,
              "#d8576b"
             ],
             [
              0.6666666666666666,
              "#ed7953"
             ],
             [
              0.7777777777777778,
              "#fb9f3a"
             ],
             [
              0.8888888888888888,
              "#fdca26"
             ],
             [
              1,
              "#f0f921"
             ]
            ],
            "type": "heatmapgl"
           }
          ],
          "histogram": [
           {
            "marker": {
             "pattern": {
              "fillmode": "overlay",
              "size": 10,
              "solidity": 0.2
             }
            },
            "type": "histogram"
           }
          ],
          "histogram2d": [
           {
            "colorbar": {
             "outlinewidth": 0,
             "ticks": ""
            },
            "colorscale": [
             [
              0,
              "#0d0887"
             ],
             [
              0.1111111111111111,
              "#46039f"
             ],
             [
              0.2222222222222222,
              "#7201a8"
             ],
             [
              0.3333333333333333,
              "#9c179e"
             ],
             [
              0.4444444444444444,
              "#bd3786"
             ],
             [
              0.5555555555555556,
              "#d8576b"
             ],
             [
              0.6666666666666666,
              "#ed7953"
             ],
             [
              0.7777777777777778,
              "#fb9f3a"
             ],
             [
              0.8888888888888888,
              "#fdca26"
             ],
             [
              1,
              "#f0f921"
             ]
            ],
            "type": "histogram2d"
           }
          ],
          "histogram2dcontour": [
           {
            "colorbar": {
             "outlinewidth": 0,
             "ticks": ""
            },
            "colorscale": [
             [
              0,
              "#0d0887"
             ],
             [
              0.1111111111111111,
              "#46039f"
             ],
             [
              0.2222222222222222,
              "#7201a8"
             ],
             [
              0.3333333333333333,
              "#9c179e"
             ],
             [
              0.4444444444444444,
              "#bd3786"
             ],
             [
              0.5555555555555556,
              "#d8576b"
             ],
             [
              0.6666666666666666,
              "#ed7953"
             ],
             [
              0.7777777777777778,
              "#fb9f3a"
             ],
             [
              0.8888888888888888,
              "#fdca26"
             ],
             [
              1,
              "#f0f921"
             ]
            ],
            "type": "histogram2dcontour"
           }
          ],
          "mesh3d": [
           {
            "colorbar": {
             "outlinewidth": 0,
             "ticks": ""
            },
            "type": "mesh3d"
           }
          ],
          "parcoords": [
           {
            "line": {
             "colorbar": {
              "outlinewidth": 0,
              "ticks": ""
             }
            },
            "type": "parcoords"
           }
          ],
          "pie": [
           {
            "automargin": true,
            "type": "pie"
           }
          ],
          "scatter": [
           {
            "fillpattern": {
             "fillmode": "overlay",
             "size": 10,
             "solidity": 0.2
            },
            "type": "scatter"
           }
          ],
          "scatter3d": [
           {
            "line": {
             "colorbar": {
              "outlinewidth": 0,
              "ticks": ""
             }
            },
            "marker": {
             "colorbar": {
              "outlinewidth": 0,
              "ticks": ""
             }
            },
            "type": "scatter3d"
           }
          ],
          "scattercarpet": [
           {
            "marker": {
             "colorbar": {
              "outlinewidth": 0,
              "ticks": ""
             }
            },
            "type": "scattercarpet"
           }
          ],
          "scattergeo": [
           {
            "marker": {
             "colorbar": {
              "outlinewidth": 0,
              "ticks": ""
             }
            },
            "type": "scattergeo"
           }
          ],
          "scattergl": [
           {
            "marker": {
             "colorbar": {
              "outlinewidth": 0,
              "ticks": ""
             }
            },
            "type": "scattergl"
           }
          ],
          "scattermapbox": [
           {
            "marker": {
             "colorbar": {
              "outlinewidth": 0,
              "ticks": ""
             }
            },
            "type": "scattermapbox"
           }
          ],
          "scatterpolar": [
           {
            "marker": {
             "colorbar": {
              "outlinewidth": 0,
              "ticks": ""
             }
            },
            "type": "scatterpolar"
           }
          ],
          "scatterpolargl": [
           {
            "marker": {
             "colorbar": {
              "outlinewidth": 0,
              "ticks": ""
             }
            },
            "type": "scatterpolargl"
           }
          ],
          "scatterternary": [
           {
            "marker": {
             "colorbar": {
              "outlinewidth": 0,
              "ticks": ""
             }
            },
            "type": "scatterternary"
           }
          ],
          "surface": [
           {
            "colorbar": {
             "outlinewidth": 0,
             "ticks": ""
            },
            "colorscale": [
             [
              0,
              "#0d0887"
             ],
             [
              0.1111111111111111,
              "#46039f"
             ],
             [
              0.2222222222222222,
              "#7201a8"
             ],
             [
              0.3333333333333333,
              "#9c179e"
             ],
             [
              0.4444444444444444,
              "#bd3786"
             ],
             [
              0.5555555555555556,
              "#d8576b"
             ],
             [
              0.6666666666666666,
              "#ed7953"
             ],
             [
              0.7777777777777778,
              "#fb9f3a"
             ],
             [
              0.8888888888888888,
              "#fdca26"
             ],
             [
              1,
              "#f0f921"
             ]
            ],
            "type": "surface"
           }
          ],
          "table": [
           {
            "cells": {
             "fill": {
              "color": "#EBF0F8"
             },
             "line": {
              "color": "white"
             }
            },
            "header": {
             "fill": {
              "color": "#C8D4E3"
             },
             "line": {
              "color": "white"
             }
            },
            "type": "table"
           }
          ]
         },
         "layout": {
          "annotationdefaults": {
           "arrowcolor": "#2a3f5f",
           "arrowhead": 0,
           "arrowwidth": 1
          },
          "autotypenumbers": "strict",
          "coloraxis": {
           "colorbar": {
            "outlinewidth": 0,
            "ticks": ""
           }
          },
          "colorscale": {
           "diverging": [
            [
             0,
             "#8e0152"
            ],
            [
             0.1,
             "#c51b7d"
            ],
            [
             0.2,
             "#de77ae"
            ],
            [
             0.3,
             "#f1b6da"
            ],
            [
             0.4,
             "#fde0ef"
            ],
            [
             0.5,
             "#f7f7f7"
            ],
            [
             0.6,
             "#e6f5d0"
            ],
            [
             0.7,
             "#b8e186"
            ],
            [
             0.8,
             "#7fbc41"
            ],
            [
             0.9,
             "#4d9221"
            ],
            [
             1,
             "#276419"
            ]
           ],
           "sequential": [
            [
             0,
             "#0d0887"
            ],
            [
             0.1111111111111111,
             "#46039f"
            ],
            [
             0.2222222222222222,
             "#7201a8"
            ],
            [
             0.3333333333333333,
             "#9c179e"
            ],
            [
             0.4444444444444444,
             "#bd3786"
            ],
            [
             0.5555555555555556,
             "#d8576b"
            ],
            [
             0.6666666666666666,
             "#ed7953"
            ],
            [
             0.7777777777777778,
             "#fb9f3a"
            ],
            [
             0.8888888888888888,
             "#fdca26"
            ],
            [
             1,
             "#f0f921"
            ]
           ],
           "sequentialminus": [
            [
             0,
             "#0d0887"
            ],
            [
             0.1111111111111111,
             "#46039f"
            ],
            [
             0.2222222222222222,
             "#7201a8"
            ],
            [
             0.3333333333333333,
             "#9c179e"
            ],
            [
             0.4444444444444444,
             "#bd3786"
            ],
            [
             0.5555555555555556,
             "#d8576b"
            ],
            [
             0.6666666666666666,
             "#ed7953"
            ],
            [
             0.7777777777777778,
             "#fb9f3a"
            ],
            [
             0.8888888888888888,
             "#fdca26"
            ],
            [
             1,
             "#f0f921"
            ]
           ]
          },
          "colorway": [
           "#636efa",
           "#EF553B",
           "#00cc96",
           "#ab63fa",
           "#FFA15A",
           "#19d3f3",
           "#FF6692",
           "#B6E880",
           "#FF97FF",
           "#FECB52"
          ],
          "font": {
           "color": "#2a3f5f"
          },
          "geo": {
           "bgcolor": "white",
           "lakecolor": "white",
           "landcolor": "#E5ECF6",
           "showlakes": true,
           "showland": true,
           "subunitcolor": "white"
          },
          "hoverlabel": {
           "align": "left"
          },
          "hovermode": "closest",
          "mapbox": {
           "style": "light"
          },
          "paper_bgcolor": "white",
          "plot_bgcolor": "#E5ECF6",
          "polar": {
           "angularaxis": {
            "gridcolor": "white",
            "linecolor": "white",
            "ticks": ""
           },
           "bgcolor": "#E5ECF6",
           "radialaxis": {
            "gridcolor": "white",
            "linecolor": "white",
            "ticks": ""
           }
          },
          "scene": {
           "xaxis": {
            "backgroundcolor": "#E5ECF6",
            "gridcolor": "white",
            "gridwidth": 2,
            "linecolor": "white",
            "showbackground": true,
            "ticks": "",
            "zerolinecolor": "white"
           },
           "yaxis": {
            "backgroundcolor": "#E5ECF6",
            "gridcolor": "white",
            "gridwidth": 2,
            "linecolor": "white",
            "showbackground": true,
            "ticks": "",
            "zerolinecolor": "white"
           },
           "zaxis": {
            "backgroundcolor": "#E5ECF6",
            "gridcolor": "white",
            "gridwidth": 2,
            "linecolor": "white",
            "showbackground": true,
            "ticks": "",
            "zerolinecolor": "white"
           }
          },
          "shapedefaults": {
           "line": {
            "color": "#2a3f5f"
           }
          },
          "ternary": {
           "aaxis": {
            "gridcolor": "white",
            "linecolor": "white",
            "ticks": ""
           },
           "baxis": {
            "gridcolor": "white",
            "linecolor": "white",
            "ticks": ""
           },
           "bgcolor": "#E5ECF6",
           "caxis": {
            "gridcolor": "white",
            "linecolor": "white",
            "ticks": ""
           }
          },
          "title": {
           "x": 0.05
          },
          "xaxis": {
           "automargin": true,
           "gridcolor": "white",
           "linecolor": "white",
           "ticks": "",
           "title": {
            "standoff": 15
           },
           "zerolinecolor": "white",
           "zerolinewidth": 2
          },
          "yaxis": {
           "automargin": true,
           "gridcolor": "white",
           "linecolor": "white",
           "ticks": "",
           "title": {
            "standoff": 15
           },
           "zerolinecolor": "white",
           "zerolinewidth": 2
          }
         }
        },
        "width": 1000,
        "xaxis": {
         "anchor": "y",
         "domain": [
          0,
          1
         ],
         "gridcolor": "LightGray",
         "gridwidth": 1,
         "showgrid": true,
         "title": {
          "text": "Week"
         }
        },
        "yaxis": {
         "anchor": "x",
         "domain": [
          0,
          1
         ],
         "gridcolor": "LightGray",
         "gridwidth": 1,
         "showgrid": true,
         "ticktext": [
          "20 GB",
          "40 GB",
          "60 GB",
          "80 GB",
          "100 GB",
          "200 GB",
          "400 GB",
          "600 GB",
          "800 GB",
          "1 TB",
          "2 TB",
          "3 TB"
         ],
         "tickvals": [
          21474836480,
          42949672960,
          64424509440,
          85899345920,
          107374182400,
          214748364800,
          429496729600,
          644245094400,
          858993459200,
          1099511627776,
          2199023255552,
          3298534883328
         ],
         "title": {
          "text": "TotalBytes"
         },
         "type": "log"
        }
       }
      },
      "text/html": [
       "<div>                            <div id=\"6def6bd3-ea3e-4013-84f7-22a5918013e6\" class=\"plotly-graph-div\" style=\"height:800px; width:1000px;\"></div>            <script type=\"text/javascript\">                require([\"plotly\"], function(Plotly) {                    window.PLOTLYENV=window.PLOTLYENV || {};                                    if (document.getElementById(\"6def6bd3-ea3e-4013-84f7-22a5918013e6\")) {                    Plotly.newPlot(                        \"6def6bd3-ea3e-4013-84f7-22a5918013e6\",                        [{\"hovertemplate\":\"SourceOrgs=SHAW<br>Week=%{x}<br>TotalBytes=%{y}<extra></extra>\",\"legendgroup\":\"SHAW\",\"line\":{\"color\":\"#613659\",\"dash\":\"solid\",\"width\":8},\"marker\":{\"symbol\":\"circle\",\"size\":18},\"mode\":\"markers+lines\",\"name\":\"SHAW\",\"orientation\":\"v\",\"showlegend\":true,\"x\":[\"Feb 2020\",\"Apr 2020\",\"Sept 2020\",\"Sept 2021\"],\"xaxis\":\"x\",\"y\":[426879459722,237156631760,689877071874,2250606085830],\"yaxis\":\"y\",\"type\":\"scatter\"},{\"hovertemplate\":\"SourceOrgs=TELUS<br>Week=%{x}<br>TotalBytes=%{y}<extra></extra>\",\"legendgroup\":\"TELUS\",\"line\":{\"color\":\"#db1f48\",\"dash\":\"dot\",\"width\":8},\"marker\":{\"symbol\":\"diamond\",\"size\":18},\"mode\":\"markers+lines\",\"name\":\"TELUS\",\"orientation\":\"v\",\"showlegend\":true,\"x\":[\"Feb 2020\",\"Apr 2020\",\"Sept 2020\",\"Sept 2021\"],\"xaxis\":\"x\",\"y\":[294297863512,145505560060,423012866820,1804115261976],\"yaxis\":\"y\",\"type\":\"scatter\"},{\"hovertemplate\":\"SourceOrgs=PERFORMIVE<br>Week=%{x}<br>TotalBytes=%{y}<extra></extra>\",\"legendgroup\":\"PERFORMIVE\",\"line\":{\"color\":\"#FF6692\",\"dash\":\"dash\",\"width\":8},\"marker\":{\"symbol\":\"square\",\"size\":18},\"mode\":\"markers+lines\",\"name\":\"PERFORMIVE\",\"orientation\":\"v\",\"showlegend\":true,\"x\":[\"Feb 2020\",\"Apr 2020\",\"Sept 2020\",\"Sept 2021\"],\"xaxis\":\"x\",\"y\":[115894341702,61125667869,110119869545,206162285167],\"yaxis\":\"y\",\"type\":\"scatter\"},{\"hovertemplate\":\"SourceOrgs=BACOM<br>Week=%{x}<br>TotalBytes=%{y}<extra></extra>\",\"legendgroup\":\"BACOM\",\"line\":{\"color\":\"#01949a\",\"dash\":\"longdash\",\"width\":8},\"marker\":{\"symbol\":\"x\",\"size\":18},\"mode\":\"markers+lines\",\"name\":\"BACOM\",\"orientation\":\"v\",\"showlegend\":true,\"x\":[\"Feb 2020\",\"Sept 2020\",\"Sept 2021\"],\"xaxis\":\"x\",\"y\":[97439974286,55464508456,238668641805],\"yaxis\":\"y\",\"type\":\"scatter\"},{\"hovertemplate\":\"SourceOrgs=ROGERS<br>Week=%{x}<br>TotalBytes=%{y}<extra></extra>\",\"legendgroup\":\"ROGERS\",\"line\":{\"color\":\"#81b622\",\"dash\":\"dashdot\",\"width\":8},\"marker\":{\"symbol\":\"cross\",\"size\":18},\"mode\":\"markers+lines\",\"name\":\"ROGERS\",\"orientation\":\"v\",\"showlegend\":true,\"x\":[\"Feb 2020\",\"Sept 2020\",\"Sept 2021\"],\"xaxis\":\"x\",\"y\":[86628611440,85337352032,266403607408],\"yaxis\":\"y\",\"type\":\"scatter\"},{\"hovertemplate\":\"SourceOrgs=FACEBOOK<br>Week=%{x}<br>TotalBytes=%{y}<extra></extra>\",\"legendgroup\":\"FACEBOOK\",\"line\":{\"color\":\"#3366cc\",\"dash\":\"longdashdot\",\"width\":8},\"marker\":{\"symbol\":\"circle\",\"size\":18},\"mode\":\"markers+lines\",\"name\":\"FACEBOOK\",\"orientation\":\"v\",\"showlegend\":true,\"x\":[\"Feb 2020\",\"Apr 2020\"],\"xaxis\":\"x\",\"y\":[84601759835,86289095296],\"yaxis\":\"y\",\"type\":\"scatter\"},{\"hovertemplate\":\"SourceOrgs=APPLE<br>Week=%{x}<br>TotalBytes=%{y}<extra></extra>\",\"legendgroup\":\"APPLE\",\"line\":{\"color\":\"#7f7f7f\",\"dash\":\"solid\",\"width\":8},\"marker\":{\"symbol\":\"diamond\",\"size\":18},\"mode\":\"markers+lines\",\"name\":\"APPLE\",\"orientation\":\"v\",\"showlegend\":true,\"x\":[\"Feb 2020\",\"Sept 2021\"],\"xaxis\":\"x\",\"y\":[83482963362,215742905203],\"yaxis\":\"y\",\"type\":\"scatter\"},{\"hovertemplate\":\"SourceOrgs=Chinanet<br>Week=%{x}<br>TotalBytes=%{y}<extra></extra>\",\"legendgroup\":\"Chinanet\",\"line\":{\"color\":\"#d3b1c2\",\"dash\":\"dot\",\"width\":8},\"marker\":{\"symbol\":\"square\",\"size\":18},\"mode\":\"markers+lines\",\"name\":\"Chinanet\",\"orientation\":\"v\",\"showlegend\":true,\"x\":[\"Feb 2020\",\"Apr 2020\"],\"xaxis\":\"x\",\"y\":[62242057894,118714593809],\"yaxis\":\"y\",\"type\":\"scatter\"},{\"hovertemplate\":\"SourceOrgs=COMCAST-7922<br>Week=%{x}<br>TotalBytes=%{y}<extra></extra>\",\"legendgroup\":\"COMCAST-7922\",\"line\":{\"color\":\"#B6E880\",\"dash\":\"dash\",\"width\":8},\"marker\":{\"symbol\":\"x\",\"size\":18},\"mode\":\"markers+lines\",\"name\":\"COMCAST-7922\",\"orientation\":\"v\",\"showlegend\":true,\"x\":[\"Feb 2020\",\"Sept 2020\",\"Sept 2021\"],\"xaxis\":\"x\",\"y\":[54153399561,45261547011,186834844445],\"yaxis\":\"y\",\"type\":\"scatter\"},{\"hovertemplate\":\"SourceOrgs=M247Ltd<br>Week=%{x}<br>TotalBytes=%{y}<extra></extra>\",\"legendgroup\":\"M247Ltd\",\"line\":{\"color\":\"#FF97FF\",\"dash\":\"longdash\",\"width\":8},\"marker\":{\"symbol\":\"cross\",\"size\":18},\"mode\":\"markers+lines\",\"name\":\"M247Ltd\",\"orientation\":\"v\",\"showlegend\":true,\"x\":[\"Feb 2020\"],\"xaxis\":\"x\",\"y\":[52557923433],\"yaxis\":\"y\",\"type\":\"scatter\"},{\"hovertemplate\":\"SourceOrgs=NVIDIA<br>Week=%{x}<br>TotalBytes=%{y}<extra></extra>\",\"legendgroup\":\"NVIDIA\",\"line\":{\"color\":\"#FECB52\",\"dash\":\"dashdot\",\"width\":8},\"marker\":{\"symbol\":\"circle\",\"size\":18},\"mode\":\"markers+lines\",\"name\":\"NVIDIA\",\"orientation\":\"v\",\"showlegend\":true,\"x\":[\"Apr 2020\"],\"xaxis\":\"x\",\"y\":[228499718451],\"yaxis\":\"y\",\"type\":\"scatter\"},{\"hovertemplate\":\"SourceOrgs=AMAZON<br>Week=%{x}<br>TotalBytes=%{y}<extra></extra>\",\"legendgroup\":\"AMAZON\",\"line\":{\"color\":\"#212E3C\",\"dash\":\"longdashdot\",\"width\":8},\"marker\":{\"symbol\":\"diamond\",\"size\":18},\"mode\":\"markers+lines\",\"name\":\"AMAZON\",\"orientation\":\"v\",\"showlegend\":true,\"x\":[\"Apr 2020\",\"Sept 2020\",\"Sept 2021\"],\"xaxis\":\"x\",\"y\":[201380635611,469280318088,2377601307363],\"yaxis\":\"y\",\"type\":\"scatter\"},{\"hovertemplate\":\"SourceOrgs=DIGITALOCEAN<br>Week=%{x}<br>TotalBytes=%{y}<extra></extra>\",\"legendgroup\":\"DIGITALOCEAN\",\"line\":{\"color\":\"#636efa\",\"dash\":\"solid\",\"width\":8},\"marker\":{\"symbol\":\"square\",\"size\":18},\"mode\":\"markers+lines\",\"name\":\"DIGITALOCEAN\",\"orientation\":\"v\",\"showlegend\":true,\"x\":[\"Apr 2020\"],\"xaxis\":\"x\",\"y\":[95164146072],\"yaxis\":\"y\",\"type\":\"scatter\"},{\"hovertemplate\":\"SourceOrgs=AS40676<br>Week=%{x}<br>TotalBytes=%{y}<extra></extra>\",\"legendgroup\":\"AS40676\",\"line\":{\"color\":\"#EF553B\",\"dash\":\"dot\",\"width\":8},\"marker\":{\"symbol\":\"x\",\"size\":18},\"mode\":\"markers+lines\",\"name\":\"AS40676\",\"orientation\":\"v\",\"showlegend\":true,\"x\":[\"Apr 2020\"],\"xaxis\":\"x\",\"y\":[50477797268],\"yaxis\":\"y\",\"type\":\"scatter\"},{\"hovertemplate\":\"SourceOrgs=Tencent<br>Week=%{x}<br>TotalBytes=%{y}<extra></extra>\",\"legendgroup\":\"Tencent\",\"line\":{\"color\":\"#00cc96\",\"dash\":\"dash\",\"width\":8},\"marker\":{\"symbol\":\"cross\",\"size\":18},\"mode\":\"markers+lines\",\"name\":\"Tencent\",\"orientation\":\"v\",\"showlegend\":true,\"x\":[\"Apr 2020\"],\"xaxis\":\"x\",\"y\":[46584640437],\"yaxis\":\"y\",\"type\":\"scatter\"},{\"hovertemplate\":\"SourceOrgs=ORACLE-BMC<br>Week=%{x}<br>TotalBytes=%{y}<extra></extra>\",\"legendgroup\":\"ORACLE-BMC\",\"line\":{\"color\":\"#ab63fa\",\"dash\":\"longdash\",\"width\":8},\"marker\":{\"symbol\":\"circle\",\"size\":18},\"mode\":\"markers+lines\",\"name\":\"ORACLE-BMC\",\"orientation\":\"v\",\"showlegend\":true,\"x\":[\"Sept 2020\"],\"xaxis\":\"x\",\"y\":[222100330880],\"yaxis\":\"y\",\"type\":\"scatter\"},{\"hovertemplate\":\"SourceOrgs=i3D.netB.V<br>Week=%{x}<br>TotalBytes=%{y}<extra></extra>\",\"legendgroup\":\"i3D.netB.V\",\"line\":{\"color\":\"#FFA15A\",\"dash\":\"dashdot\",\"width\":8},\"marker\":{\"symbol\":\"diamond\",\"size\":18},\"mode\":\"markers+lines\",\"name\":\"i3D.netB.V\",\"orientation\":\"v\",\"showlegend\":true,\"x\":[\"Sept 2020\"],\"xaxis\":\"x\",\"y\":[133860576048],\"yaxis\":\"y\",\"type\":\"scatter\"},{\"hovertemplate\":\"SourceOrgs=Xs4allInternetBV<br>Week=%{x}<br>TotalBytes=%{y}<extra></extra>\",\"legendgroup\":\"Xs4allInternetBV\",\"line\":{\"color\":\"#19d3f3\",\"dash\":\"longdashdot\",\"width\":8},\"marker\":{\"symbol\":\"square\",\"size\":18},\"mode\":\"markers+lines\",\"name\":\"Xs4allInternetBV\",\"orientation\":\"v\",\"showlegend\":true,\"x\":[\"Sept 2020\"],\"xaxis\":\"x\",\"y\":[41321658357],\"yaxis\":\"y\",\"type\":\"scatter\"},{\"hovertemplate\":\"SourceOrgs=MICROSOFT<br>Week=%{x}<br>TotalBytes=%{y}<extra></extra>\",\"legendgroup\":\"MICROSOFT\",\"line\":{\"color\":\"#990099\",\"dash\":\"solid\",\"width\":8},\"marker\":{\"symbol\":\"x\",\"size\":18},\"mode\":\"markers+lines\",\"name\":\"MICROSOFT\",\"orientation\":\"v\",\"showlegend\":true,\"x\":[\"Sept 2021\"],\"xaxis\":\"x\",\"y\":[535964105414],\"yaxis\":\"y\",\"type\":\"scatter\"},{\"hovertemplate\":\"SourceOrgs=SASKTEL<br>Week=%{x}<br>TotalBytes=%{y}<extra></extra>\",\"legendgroup\":\"SASKTEL\",\"line\":{\"color\":\"#FF6692\",\"dash\":\"dot\",\"width\":8},\"marker\":{\"symbol\":\"cross\",\"size\":18},\"mode\":\"markers+lines\",\"name\":\"SASKTEL\",\"orientation\":\"v\",\"showlegend\":true,\"x\":[\"Sept 2021\"],\"xaxis\":\"x\",\"y\":[135653685405],\"yaxis\":\"y\",\"type\":\"scatter\"}],                        {\"template\":{\"data\":{\"histogram2dcontour\":[{\"type\":\"histogram2dcontour\",\"colorbar\":{\"outlinewidth\":0,\"ticks\":\"\"},\"colorscale\":[[0.0,\"#0d0887\"],[0.1111111111111111,\"#46039f\"],[0.2222222222222222,\"#7201a8\"],[0.3333333333333333,\"#9c179e\"],[0.4444444444444444,\"#bd3786\"],[0.5555555555555556,\"#d8576b\"],[0.6666666666666666,\"#ed7953\"],[0.7777777777777778,\"#fb9f3a\"],[0.8888888888888888,\"#fdca26\"],[1.0,\"#f0f921\"]]}],\"choropleth\":[{\"type\":\"choropleth\",\"colorbar\":{\"outlinewidth\":0,\"ticks\":\"\"}}],\"histogram2d\":[{\"type\":\"histogram2d\",\"colorbar\":{\"outlinewidth\":0,\"ticks\":\"\"},\"colorscale\":[[0.0,\"#0d0887\"],[0.1111111111111111,\"#46039f\"],[0.2222222222222222,\"#7201a8\"],[0.3333333333333333,\"#9c179e\"],[0.4444444444444444,\"#bd3786\"],[0.5555555555555556,\"#d8576b\"],[0.6666666666666666,\"#ed7953\"],[0.7777777777777778,\"#fb9f3a\"],[0.8888888888888888,\"#fdca26\"],[1.0,\"#f0f921\"]]}],\"heatmap\":[{\"type\":\"heatmap\",\"colorbar\":{\"outlinewidth\":0,\"ticks\":\"\"},\"colorscale\":[[0.0,\"#0d0887\"],[0.1111111111111111,\"#46039f\"],[0.2222222222222222,\"#7201a8\"],[0.3333333333333333,\"#9c179e\"],[0.4444444444444444,\"#bd3786\"],[0.5555555555555556,\"#d8576b\"],[0.6666666666666666,\"#ed7953\"],[0.7777777777777778,\"#fb9f3a\"],[0.8888888888888888,\"#fdca26\"],[1.0,\"#f0f921\"]]}],\"heatmapgl\":[{\"type\":\"heatmapgl\",\"colorbar\":{\"outlinewidth\":0,\"ticks\":\"\"},\"colorscale\":[[0.0,\"#0d0887\"],[0.1111111111111111,\"#46039f\"],[0.2222222222222222,\"#7201a8\"],[0.3333333333333333,\"#9c179e\"],[0.4444444444444444,\"#bd3786\"],[0.5555555555555556,\"#d8576b\"],[0.6666666666666666,\"#ed7953\"],[0.7777777777777778,\"#fb9f3a\"],[0.8888888888888888,\"#fdca26\"],[1.0,\"#f0f921\"]]}],\"contourcarpet\":[{\"type\":\"contourcarpet\",\"colorbar\":{\"outlinewidth\":0,\"ticks\":\"\"}}],\"contour\":[{\"type\":\"contour\",\"colorbar\":{\"outlinewidth\":0,\"ticks\":\"\"},\"colorscale\":[[0.0,\"#0d0887\"],[0.1111111111111111,\"#46039f\"],[0.2222222222222222,\"#7201a8\"],[0.3333333333333333,\"#9c179e\"],[0.4444444444444444,\"#bd3786\"],[0.5555555555555556,\"#d8576b\"],[0.6666666666666666,\"#ed7953\"],[0.7777777777777778,\"#fb9f3a\"],[0.8888888888888888,\"#fdca26\"],[1.0,\"#f0f921\"]]}],\"surface\":[{\"type\":\"surface\",\"colorbar\":{\"outlinewidth\":0,\"ticks\":\"\"},\"colorscale\":[[0.0,\"#0d0887\"],[0.1111111111111111,\"#46039f\"],[0.2222222222222222,\"#7201a8\"],[0.3333333333333333,\"#9c179e\"],[0.4444444444444444,\"#bd3786\"],[0.5555555555555556,\"#d8576b\"],[0.6666666666666666,\"#ed7953\"],[0.7777777777777778,\"#fb9f3a\"],[0.8888888888888888,\"#fdca26\"],[1.0,\"#f0f921\"]]}],\"mesh3d\":[{\"type\":\"mesh3d\",\"colorbar\":{\"outlinewidth\":0,\"ticks\":\"\"}}],\"scatter\":[{\"fillpattern\":{\"fillmode\":\"overlay\",\"size\":10,\"solidity\":0.2},\"type\":\"scatter\"}],\"parcoords\":[{\"type\":\"parcoords\",\"line\":{\"colorbar\":{\"outlinewidth\":0,\"ticks\":\"\"}}}],\"scatterpolargl\":[{\"type\":\"scatterpolargl\",\"marker\":{\"colorbar\":{\"outlinewidth\":0,\"ticks\":\"\"}}}],\"bar\":[{\"error_x\":{\"color\":\"#2a3f5f\"},\"error_y\":{\"color\":\"#2a3f5f\"},\"marker\":{\"line\":{\"color\":\"#E5ECF6\",\"width\":0.5},\"pattern\":{\"fillmode\":\"overlay\",\"size\":10,\"solidity\":0.2}},\"type\":\"bar\"}],\"scattergeo\":[{\"type\":\"scattergeo\",\"marker\":{\"colorbar\":{\"outlinewidth\":0,\"ticks\":\"\"}}}],\"scatterpolar\":[{\"type\":\"scatterpolar\",\"marker\":{\"colorbar\":{\"outlinewidth\":0,\"ticks\":\"\"}}}],\"histogram\":[{\"marker\":{\"pattern\":{\"fillmode\":\"overlay\",\"size\":10,\"solidity\":0.2}},\"type\":\"histogram\"}],\"scattergl\":[{\"type\":\"scattergl\",\"marker\":{\"colorbar\":{\"outlinewidth\":0,\"ticks\":\"\"}}}],\"scatter3d\":[{\"type\":\"scatter3d\",\"line\":{\"colorbar\":{\"outlinewidth\":0,\"ticks\":\"\"}},\"marker\":{\"colorbar\":{\"outlinewidth\":0,\"ticks\":\"\"}}}],\"scattermapbox\":[{\"type\":\"scattermapbox\",\"marker\":{\"colorbar\":{\"outlinewidth\":0,\"ticks\":\"\"}}}],\"scatterternary\":[{\"type\":\"scatterternary\",\"marker\":{\"colorbar\":{\"outlinewidth\":0,\"ticks\":\"\"}}}],\"scattercarpet\":[{\"type\":\"scattercarpet\",\"marker\":{\"colorbar\":{\"outlinewidth\":0,\"ticks\":\"\"}}}],\"carpet\":[{\"aaxis\":{\"endlinecolor\":\"#2a3f5f\",\"gridcolor\":\"white\",\"linecolor\":\"white\",\"minorgridcolor\":\"white\",\"startlinecolor\":\"#2a3f5f\"},\"baxis\":{\"endlinecolor\":\"#2a3f5f\",\"gridcolor\":\"white\",\"linecolor\":\"white\",\"minorgridcolor\":\"white\",\"startlinecolor\":\"#2a3f5f\"},\"type\":\"carpet\"}],\"table\":[{\"cells\":{\"fill\":{\"color\":\"#EBF0F8\"},\"line\":{\"color\":\"white\"}},\"header\":{\"fill\":{\"color\":\"#C8D4E3\"},\"line\":{\"color\":\"white\"}},\"type\":\"table\"}],\"barpolar\":[{\"marker\":{\"line\":{\"color\":\"#E5ECF6\",\"width\":0.5},\"pattern\":{\"fillmode\":\"overlay\",\"size\":10,\"solidity\":0.2}},\"type\":\"barpolar\"}],\"pie\":[{\"automargin\":true,\"type\":\"pie\"}]},\"layout\":{\"autotypenumbers\":\"strict\",\"colorway\":[\"#636efa\",\"#EF553B\",\"#00cc96\",\"#ab63fa\",\"#FFA15A\",\"#19d3f3\",\"#FF6692\",\"#B6E880\",\"#FF97FF\",\"#FECB52\"],\"font\":{\"color\":\"#2a3f5f\"},\"hovermode\":\"closest\",\"hoverlabel\":{\"align\":\"left\"},\"paper_bgcolor\":\"white\",\"plot_bgcolor\":\"#E5ECF6\",\"polar\":{\"bgcolor\":\"#E5ECF6\",\"angularaxis\":{\"gridcolor\":\"white\",\"linecolor\":\"white\",\"ticks\":\"\"},\"radialaxis\":{\"gridcolor\":\"white\",\"linecolor\":\"white\",\"ticks\":\"\"}},\"ternary\":{\"bgcolor\":\"#E5ECF6\",\"aaxis\":{\"gridcolor\":\"white\",\"linecolor\":\"white\",\"ticks\":\"\"},\"baxis\":{\"gridcolor\":\"white\",\"linecolor\":\"white\",\"ticks\":\"\"},\"caxis\":{\"gridcolor\":\"white\",\"linecolor\":\"white\",\"ticks\":\"\"}},\"coloraxis\":{\"colorbar\":{\"outlinewidth\":0,\"ticks\":\"\"}},\"colorscale\":{\"sequential\":[[0.0,\"#0d0887\"],[0.1111111111111111,\"#46039f\"],[0.2222222222222222,\"#7201a8\"],[0.3333333333333333,\"#9c179e\"],[0.4444444444444444,\"#bd3786\"],[0.5555555555555556,\"#d8576b\"],[0.6666666666666666,\"#ed7953\"],[0.7777777777777778,\"#fb9f3a\"],[0.8888888888888888,\"#fdca26\"],[1.0,\"#f0f921\"]],\"sequentialminus\":[[0.0,\"#0d0887\"],[0.1111111111111111,\"#46039f\"],[0.2222222222222222,\"#7201a8\"],[0.3333333333333333,\"#9c179e\"],[0.4444444444444444,\"#bd3786\"],[0.5555555555555556,\"#d8576b\"],[0.6666666666666666,\"#ed7953\"],[0.7777777777777778,\"#fb9f3a\"],[0.8888888888888888,\"#fdca26\"],[1.0,\"#f0f921\"]],\"diverging\":[[0,\"#8e0152\"],[0.1,\"#c51b7d\"],[0.2,\"#de77ae\"],[0.3,\"#f1b6da\"],[0.4,\"#fde0ef\"],[0.5,\"#f7f7f7\"],[0.6,\"#e6f5d0\"],[0.7,\"#b8e186\"],[0.8,\"#7fbc41\"],[0.9,\"#4d9221\"],[1,\"#276419\"]]},\"xaxis\":{\"gridcolor\":\"white\",\"linecolor\":\"white\",\"ticks\":\"\",\"title\":{\"standoff\":15},\"zerolinecolor\":\"white\",\"automargin\":true,\"zerolinewidth\":2},\"yaxis\":{\"gridcolor\":\"white\",\"linecolor\":\"white\",\"ticks\":\"\",\"title\":{\"standoff\":15},\"zerolinecolor\":\"white\",\"automargin\":true,\"zerolinewidth\":2},\"scene\":{\"xaxis\":{\"backgroundcolor\":\"#E5ECF6\",\"gridcolor\":\"white\",\"linecolor\":\"white\",\"showbackground\":true,\"ticks\":\"\",\"zerolinecolor\":\"white\",\"gridwidth\":2},\"yaxis\":{\"backgroundcolor\":\"#E5ECF6\",\"gridcolor\":\"white\",\"linecolor\":\"white\",\"showbackground\":true,\"ticks\":\"\",\"zerolinecolor\":\"white\",\"gridwidth\":2},\"zaxis\":{\"backgroundcolor\":\"#E5ECF6\",\"gridcolor\":\"white\",\"linecolor\":\"white\",\"showbackground\":true,\"ticks\":\"\",\"zerolinecolor\":\"white\",\"gridwidth\":2}},\"shapedefaults\":{\"line\":{\"color\":\"#2a3f5f\"}},\"annotationdefaults\":{\"arrowcolor\":\"#2a3f5f\",\"arrowhead\":0,\"arrowwidth\":1},\"geo\":{\"bgcolor\":\"white\",\"landcolor\":\"#E5ECF6\",\"subunitcolor\":\"white\",\"showland\":true,\"showlakes\":true,\"lakecolor\":\"white\"},\"title\":{\"x\":0.05},\"mapbox\":{\"style\":\"light\"}}},\"xaxis\":{\"anchor\":\"y\",\"domain\":[0.0,1.0],\"title\":{\"text\":\"Week\"},\"showgrid\":true,\"gridwidth\":1,\"gridcolor\":\"LightGray\"},\"yaxis\":{\"anchor\":\"x\",\"domain\":[0.0,1.0],\"title\":{\"text\":\"TotalBytes\"},\"type\":\"log\",\"showgrid\":true,\"gridwidth\":1,\"gridcolor\":\"LightGray\",\"tickvals\":[21474836480,42949672960,64424509440,85899345920,107374182400,214748364800,429496729600,644245094400,858993459200,1099511627776,2199023255552,3298534883328],\"ticktext\":[\"20 GB\",\"40 GB\",\"60 GB\",\"80 GB\",\"100 GB\",\"200 GB\",\"400 GB\",\"600 GB\",\"800 GB\",\"1 TB\",\"2 TB\",\"3 TB\"]},\"legend\":{\"title\":{\"text\":\"SourceOrgs\"},\"tracegroupgap\":0,\"itemwidth\":80},\"margin\":{\"t\":60},\"height\":800,\"width\":1000,\"font\":{\"size\":20},\"plot_bgcolor\":\"white\"},                        {\"responsive\": true}                    ).then(function(){\n",
       "                            \n",
       "var gd = document.getElementById('6def6bd3-ea3e-4013-84f7-22a5918013e6');\n",
       "var x = new MutationObserver(function (mutations, observer) {{\n",
       "        var display = window.getComputedStyle(gd).display;\n",
       "        if (!display || display === 'none') {{\n",
       "            console.log([gd, 'removed!']);\n",
       "            Plotly.purge(gd);\n",
       "            observer.disconnect();\n",
       "        }}\n",
       "}});\n",
       "\n",
       "// Listen for the removal of the full notebook cells\n",
       "var notebookContainer = gd.closest('#notebook-container');\n",
       "if (notebookContainer) {{\n",
       "    x.observe(notebookContainer, {childList: true});\n",
       "}}\n",
       "\n",
       "// Listen for the clearing of the current output cell\n",
       "var outputEl = gd.closest('.output');\n",
       "if (outputEl) {{\n",
       "    x.observe(outputEl, {childList: true});\n",
       "}}\n",
       "\n",
       "                        })                };                });            </script>        </div>"
      ]
     },
     "metadata": {},
     "output_type": "display_data"
    }
   ],
   "source": [
    "import plotly.express as px\n",
    "import pandas as pd\n",
    "\n",
    "df_orgs_in = pd.read_csv('/Volumes/GoogleDrive/My Drive/Thesis/Plotly/category_WiFi_in_sources.csv')\n",
    "\n",
    "fig_orgs_in_bytes = px.line(df_orgs_in, x='Week', y='TotalBytes', log_y=True, color='SourceOrgs',\n",
    "                            color_discrete_map={'APPLE': '#7f7f7f', 'NETFLIX': '#dc3912', 'AKAMAI': '#ff9900',\n",
    "                                                'CANARIE': '#fb00d1', 'FACEBOOK': '#3366cc', 'GOOGLE': '#109618',\n",
    "                                                'AMAZON': '#212E3C', 'FASTLY': '#8c564b', 'LEVEL3': '#17becf',\n",
    "                                                'MICROSOFT': '#990099', 'EDGECAST': '#316395',\n",
    "                                                'VALVE-CORPORATION': '#bcbd22', 'TELUS': '#db1f48',\n",
    "                                                'SHAW': '#613659', 'BACOM': '#01949a', 'ROGERS': '#81b622',\n",
    "                                                'Chinanet': '#d3b1c2', 'AHS': '#eeb5eb', 'YANDEXLLC': '#fad02c',\n",
    "                                                'NLM-GW': '#055c9d', 'JiscServicesLimited': '#870a30',\n",
    "                                                'BROADINSTITUTE-AS': '#e57f84', 'OoredooQ.S.C.': '#90adc6',\n",
    "                                                'RelianceJioInfocommLimited': '#a16ae8', 'O-NET': '#ffa384',\n",
    "                                                'Vetenskapsradet/SUNET': '#74bdcb', 'VELOCITYNET-01': '#3d5b59',\n",
    "                                                'CHINAUNICOMChina169Backbone': '#ff4500', 'CIPHERKEY': '#b7ac44',\n",
    "                                                'TEKSAVVY': '#52688f', 'BARR-XPLR-ASN': '#d4f1f4',\n",
    "                                                'PRIMUS-AS6407': '#b9b7bd', 'CIKTELECOM-CABLE': '#fb4570',\n",
    "                                                'TWC-11426-CAROLINAS': '#7cf3a0', 'PEGTECHINC': '#f9eac2',\n",
    "                                                'UniversityofQueensland': '#bfd7ed'},\n",
    "                             markers=True, line_dash='SourceOrgs', symbol='SourceOrgs', width=1000, height=800)\n",
    "fig_orgs_in_bytes.update_layout(plot_bgcolor='white', font_size=20, legend_itemwidth=80)\n",
    "fig_orgs_in_bytes.update_xaxes(showgrid=True, gridwidth=1, gridcolor='LightGray')\n",
    "fig_orgs_in_bytes.update_yaxes(showgrid=True, gridwidth=1, gridcolor='LightGray',\n",
    "                               tickvals=[21474836480, 42949672960, 64424509440, 85899345920, \n",
    "                                        107374182400, 214748364800, 429496729600, 644245094400, 858993459200, \n",
    "                                        1099511627776, 2199023255552, 3298534883328],\n",
    "                               ticktext=[\"20 GB\", \"40 GB\", \"60 GB\", \"80 GB\", \n",
    "                                         \"100 GB\", \"200 GB\", \"400 GB\", \"600 GB\", \"800 GB\", \n",
    "                                         \"1 TB\", \"2 TB\", \"3 TB\"])\n",
    "fig_orgs_in_bytes.update_traces(line_width=8, marker_size=18)\n",
    "\n",
    "fig_orgs_in_bytes.show()"
   ]
  },
  {
   "cell_type": "code",
   "execution_count": 3,
   "id": "08481a03",
   "metadata": {},
   "outputs": [
    {
     "ename": "NameError",
     "evalue": "name 'fig' is not defined",
     "output_type": "error",
     "traceback": [
      "\u001b[0;31m---------------------------------------------------------------------------\u001b[0m",
      "\u001b[0;31mNameError\u001b[0m                                 Traceback (most recent call last)",
      "\u001b[0;32m/var/folders/dv/6h9_jkds4d55_wkw585hy4400000gn/T/ipykernel_9967/1927993882.py\u001b[0m in \u001b[0;36m<module>\u001b[0;34m\u001b[0m\n\u001b[0;32m----> 1\u001b[0;31m \u001b[0mfig\u001b[0m\u001b[0;34m.\u001b[0m\u001b[0mwrite_html\u001b[0m\u001b[0;34m(\u001b[0m\u001b[0;34m'/Volumes/GoogleDrive/My Drive/Thesis/Plotly/wifi_in_bytes.html'\u001b[0m\u001b[0;34m)\u001b[0m\u001b[0;34m\u001b[0m\u001b[0;34m\u001b[0m\u001b[0m\n\u001b[0m",
      "\u001b[0;31mNameError\u001b[0m: name 'fig' is not defined"
     ]
    }
   ],
   "source": [
    "fig.write_html('/Volumes/GoogleDrive/My Drive/Thesis/Plotly/wifi_in_bytes.html')"
   ]
  },
  {
   "cell_type": "code",
   "execution_count": null,
   "id": "4cb6ea74",
   "metadata": {},
   "outputs": [],
   "source": []
  }
 ],
 "metadata": {
  "kernelspec": {
   "display_name": "Python 3 (ipykernel)",
   "language": "python",
   "name": "python3"
  },
  "language_info": {
   "codemirror_mode": {
    "name": "ipython",
    "version": 3
   },
   "file_extension": ".py",
   "mimetype": "text/x-python",
   "name": "python",
   "nbconvert_exporter": "python",
   "pygments_lexer": "ipython3",
   "version": "3.9.7"
  }
 },
 "nbformat": 4,
 "nbformat_minor": 5
}
